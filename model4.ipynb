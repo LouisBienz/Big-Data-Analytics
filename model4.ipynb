{
 "cells": [
  {
   "cell_type": "code",
   "execution_count": 1,
   "outputs": [],
   "source": [
    "import pandas as pd\n",
    "from mlxtend.frequent_patterns import apriori\n",
    "from mlxtend.preprocessing import TransactionEncoder\n",
    "\n",
    "import matplotlib.pyplot as plot\n",
    "\n",
    "import numpy as np"
   ],
   "metadata": {
    "collapsed": false,
    "pycharm": {
     "name": "#%%\n",
     "is_executing": false
    }
   }
  },
  {
   "cell_type": "markdown",
   "source": [
    "# Reading the Dataset"
   ],
   "metadata": {
    "collapsed": false
   }
  },
  {
   "cell_type": "code",
   "execution_count": 6,
   "outputs": [
    {
     "name": "stdout",
     "text": [
      "(1146, 20)\n"
     ],
     "output_type": "stream"
    }
   ],
   "source": [
    "df = pd.read_csv(\"rawdata.csv\")\n",
    "print(df.shape)"
   ],
   "metadata": {
    "collapsed": false,
    "pycharm": {
     "name": "#%%\n",
     "is_executing": false
    }
   }
  },
  {
   "cell_type": "code",
   "execution_count": 6,
   "outputs": [],
   "source": [],
   "metadata": {
    "collapsed": false,
    "pycharm": {
     "name": "#%%\n",
     "is_executing": false
    }
   }
  },
  {
   "cell_type": "markdown",
   "source": [
    "# Fix Map most used Map\n",
    "###### We want to analyze the different combinations of brawler types. As the combinations depend on the map, we fix our data frame to th most used map.\n",
    "- first check which map is used the most"
   ],
   "metadata": {
    "collapsed": false,
    "pycharm": {
     "name": "#%% md\n"
    }
   }
  },
  {
   "cell_type": "code",
   "execution_count": 7,
   "outputs": [
    {
     "data": {
      "text/plain": "Backyard Bowl     903\nPost Haste        119\nWarped Arena       25\nTriple Dribble     22\nSuper Stadium      17\nBeach Ball         16\nField Goal         11\nPinhole Punt        9\nWell Cut            7\nPinball Dreams      6\nPenalty Kick        4\nGalaxy Arena        4\nCenter Field        2\nShoulder Bash       1\nName: map, dtype: int64"
     },
     "metadata": {},
     "output_type": "execute_result",
     "execution_count": 7
    }
   ],
   "source": [
    "pd.value_counts(df['map'])"
   ],
   "metadata": {
    "collapsed": false,
    "pycharm": {
     "name": "#%%\n",
     "is_executing": false
    }
   }
  },
  {
   "cell_type": "markdown",
   "source": [
    "- copy initial data frame and remove all games that are played on other maps"
   ],
   "metadata": {
    "collapsed": false,
    "pycharm": {
     "name": "#%% md\n"
    }
   }
  },
  {
   "cell_type": "code",
   "execution_count": 8,
   "outputs": [],
   "source": [
    "df_fixed_map = df.copy()\n",
    "df_fixed_map = df_fixed_map[df_fixed_map['map'] == 'Backyard Bowl'] "
   ],
   "metadata": {
    "collapsed": false,
    "pycharm": {
     "name": "#%%\n",
     "is_executing": false
    }
   }
  },
  {
   "cell_type": "markdown",
   "source": [
    "# Define Brawler Type Lists\n",
    "###### We need to define the type for each brawler. The information is obtained from the game itself."
   ],
   "metadata": {
    "collapsed": false,
    "pycharm": {
     "name": "#%% md\n"
    }
   }
  },
  {
   "cell_type": "code",
   "execution_count": 9,
   "outputs": [],
   "source": [
    "\n",
    "sniper_brawlers = ['COLT','RICO','8-BIT','PIPER','BROCK','BEA','PENNY','MR. P','SPIKE']\n",
    "thrower_brawlers = ['DYNAMIKE','TICK','BARLEY']\n",
    "heavyweight_brawlers = ['DARRYL','EL PRIMO','ROSA','BULL','FRANK','JACKY','BIBI']\n",
    "fighter_brawlers = ['CARL','EMZ','BO','TARA','JESSIE','NITA','SHELLY']\n",
    "support_brawlers = ['POCO','PAM','GENE','MAX','SPROUT','SANDY','GALE',]\n",
    "assassin_brawlers = ['MORTIS','CROW','LEON']\n"
   ],
   "metadata": {
    "collapsed": false,
    "pycharm": {
     "name": "#%%\n",
     "is_executing": false
    }
   }
  },
  {
   "cell_type": "markdown",
   "source": [
    "# Add Brawler Types to the DataFrame\n",
    "### Function to Assign Brawler Type"
   ],
   "metadata": {
    "collapsed": false
   }
  },
  {
   "cell_type": "code",
   "execution_count": 10,
   "outputs": [],
   "source": [
    "def assign_brawler_type(brawler):\n",
    "    if brawler in sniper_brawlers:\n",
    "        return 'SNIPER'\n",
    "    elif brawler in thrower_brawlers:\n",
    "        return 'THROWER'\n",
    "    elif brawler in heavyweight_brawlers:\n",
    "        return 'HEAVYWEIGHT'\n",
    "    elif brawler in fighter_brawlers:\n",
    "        return 'FIGHTER'\n",
    "    elif brawler in support_brawlers:\n",
    "        return 'SUPPORTER'\n",
    "    elif brawler in assassin_brawlers:\n",
    "        return 'ASSASSIN'\n",
    "    else:\n",
    "        return ''\n",
    "    "
   ],
   "metadata": {
    "collapsed": false,
    "pycharm": {
     "name": "#%%\n",
     "is_executing": false
    }
   }
  },
  {
   "cell_type": "markdown",
   "source": [
    "### Add Brawler Types to DataFrame"
   ],
   "metadata": {
    "collapsed": false,
    "pycharm": {
     "name": "#%% md\n"
    }
   }
  },
  {
   "cell_type": "code",
   "execution_count": 11,
   "outputs": [],
   "source": [
    "df_fixed_map['Brawler1Type'] = df_fixed_map['Brawler1Name'].apply(assign_brawler_type)\n",
    "df_fixed_map['Brawler2Type'] = df_fixed_map['Brawler2Name'].apply(assign_brawler_type)\n",
    "df_fixed_map['Brawler3Type'] = df_fixed_map['Brawler3Name'].apply(assign_brawler_type)\n",
    "df_fixed_map['Brawler4Type'] = df_fixed_map['Brawler4Name'].apply(assign_brawler_type)\n",
    "df_fixed_map['Brawler5Type'] = df_fixed_map['Brawler5Name'].apply(assign_brawler_type)\n",
    "df_fixed_map['Brawler6Type'] = df_fixed_map['Brawler6Name'].apply(assign_brawler_type)\n"
   ],
   "metadata": {
    "collapsed": false,
    "pycharm": {
     "name": "#%%\n",
     "is_executing": false
    }
   }
  },
  {
   "cell_type": "markdown",
   "source": [
    "# Check if same Type is used by multiple Players\n",
    "###### If used by multiple players we add _<<number>> to the type to be able to compute the frequent itemsets"
   ],
   "metadata": {
    "collapsed": false,
    "pycharm": {
     "name": "#%% md\n"
    }
   }
  },
  {
   "cell_type": "code",
   "execution_count": 12,
   "outputs": [
    {
     "data": {
      "text/plain": "    WinningTeam            BattleTime  playerTag       mode            map  \\\n0             1  20200530T122433.000Z   #9U2QJ0P  brawlBall  Backyard Bowl   \n1             1  20200530T121808.000Z   #9U2QJ0P  brawlBall  Backyard Bowl   \n2             1  20200530T121207.000Z   #9U2QJ0P  brawlBall  Backyard Bowl   \n3             1  20200530T120359.000Z   #9U2QJ0P  brawlBall  Backyard Bowl   \n4             1  20200530T120028.000Z   #9U2QJ0P  brawlBall  Backyard Bowl   \n5             1  20200530T115600.000Z   #9U2QJ0P  brawlBall  Backyard Bowl   \n6             2  20200530T115304.000Z   #9U2QJ0P  brawlBall  Backyard Bowl   \n7             2  20200530T115056.000Z   #9U2QJ0P  brawlBall  Backyard Bowl   \n8             2  20200530T114747.000Z   #9U2QJ0P  brawlBall  Backyard Bowl   \n11            2  20200530T143201.000Z  #8P80J8RC  brawlBall  Backyard Bowl   \n12            1  20200530T142911.000Z  #8P80J8RC  brawlBall  Backyard Bowl   \n13            2  20200530T142430.000Z  #8P80J8RC  brawlBall  Backyard Bowl   \n14            1  20200530T142017.000Z  #8P80J8RC  brawlBall  Backyard Bowl   \n15            2  20200530T141625.000Z  #8P80J8RC  brawlBall  Backyard Bowl   \n16            2  20200530T140826.000Z  #8P80J8RC  brawlBall  Backyard Bowl   \n17            2  20200530T140427.000Z  #8P80J8RC  brawlBall  Backyard Bowl   \n18            2  20200530T140031.000Z  #8P80J8RC  brawlBall  Backyard Bowl   \n19            1  20200530T135358.000Z  #8P80J8RC  brawlBall  Backyard Bowl   \n20            1  20200530T135012.000Z  #8P80J8RC  brawlBall  Backyard Bowl   \n21            2  20200530T134504.000Z  #8P80J8RC  brawlBall  Backyard Bowl   \n\n    result StarPlayerTag StarPlayerBrawler Brawler1Name Brawler1Tag  ...  \\\n0        1      #9U2QJ0P               BEA        PIPER   #VGR0CJ29  ...   \n1        1      #9U2QJ0P               BEA        PIPER   #VGR0CJ29  ...   \n2        1      #9U2QJ0P               BEA        PIPER   #VGR0CJ29  ...   \n3        1     #VGR0CJ29             PIPER        PIPER   #VGR0CJ29  ...   \n4        1     #VGR0CJ29             PIPER        PIPER   #VGR0CJ29  ...   \n5        1    #9UR09Q80Y              GENE         GENE  #9UR09Q80Y  ...   \n6        1     #VGR0CJ29             PIPER          PAM  #20JRL29PY  ...   \n7        1     #VGR0CJ29             PIPER        PIPER  #20JLGV0QL  ...   \n8        1    #9UR09Q80Y              GENE          BEA   #PJJ9P890  ...   \n11      -1     #YCC8VGRU               PAM        MR. P   #8P80J8RC  ...   \n12       1     #UQY8PCGP               BEA        BROCK     #PQRVCC  ...   \n13      -1     #8LC2CJY2             MR. P        MR. P   #8P80J8RC  ...   \n14       1     #8P80J8RC             MR. P        BROCK     #PQRVCC  ...   \n15       1     #8P80J8RC             MR. P          BEA   #UUUL2PLY  ...   \n16       1       #PQRVCC             BROCK        SANDY  #8V8QYV0P0  ...   \n17       1     #8P80J8RC             MR. P        JACKY  #8LUY9PPRL  ...   \n18       1     #8P80J8RC             MR. P          PAM    #R28VYC9  ...   \n19       1       #PQRVCC             BROCK        BROCK     #PQRVCC  ...   \n20       1       #PQRVCC             BROCK        BROCK     #PQRVCC  ...   \n21       1       #PQRVCC             BROCK          BEA   #2VL2CCCG  ...   \n\n   Brawler5Name Brawler5Tag Brawler6Name Brawler6Tag Brawler1Type  \\\n0         BROCK  #20C2RRRGY          EMZ   #Y220JJJ9       SNIPER   \n1           MAX  #22L8CLYQU        PENNY  #28U009JPY       SNIPER   \n2         BROCK    #9QJP9LP        SPIKE  #98VJCL2PQ       SNIPER   \n3         FRANK  #2UCV2R0LV         POCO  #22RURYRV0       SNIPER   \n4         BROCK  #98JQVGLP9        JACKY  #8822ULJ9Q       SNIPER   \n5         PIPER  #298R28UG2        BROCK   #QRVCCPPR    SUPPORTER   \n6          GENE  #9UR09Q80Y          BEA    #9U2QJ0P    SUPPORTER   \n7           BEA    #9U2QJ0P         GENE  #9UR09Q80Y       SNIPER   \n8           BEA    #9U2QJ0P         GENE  #9UR09Q80Y       SNIPER   \n11          PAM   #YCC8VGRU        PIPER   #9JY82J8U       SNIPER   \n12         POCO  #2YLUQLL92       MORTIS   #VRL8JURC       SNIPER   \n13        SPIKE   #2UR0PL9Q          BEA   #PL02GJ0U       SNIPER   \n14        BROCK  #P0L9GG9L0          EMZ  #2LCVQ0UY2       SNIPER   \n15          BEA   #UQY8PCGP        MR. P   #8P80J8RC       SNIPER   \n16          BEA   #UQY8PCGP        MR. P   #8P80J8RC    SUPPORTER   \n17        MR. P   #8P80J8RC        BROCK     #PQRVCC  HEAVYWEIGHT   \n18        MR. P   #8P80J8RC        BROCK     #PQRVCC    SUPPORTER   \n19        PIPER   #GRQ9CGQG          PAM   #9P08YPV9       SNIPER   \n20          EMZ  #2UG9PQP0J       MORTIS   #VLCLPRPU       SNIPER   \n21          BEA   #UQY8PCGP        MR. P   #8P80J8RC       SNIPER   \n\n   Brawler2Type Brawler3Type Brawler4Type Brawler5Type Brawler6Type  \n0      SNIPER_2    SUPPORTER       SNIPER       SNIPER      FIGHTER  \n1      SNIPER_2    SUPPORTER    SUPPORTER    SUPPORTER       SNIPER  \n2      SNIPER_2    SUPPORTER    SUPPORTER       SNIPER       SNIPER  \n3      SNIPER_2    SUPPORTER  HEAVYWEIGHT  HEAVYWEIGHT    SUPPORTER  \n4      SNIPER_2    SUPPORTER       SNIPER       SNIPER  HEAVYWEIGHT  \n5        SNIPER     SNIPER_2    SUPPORTER       SNIPER       SNIPER  \n6        SNIPER     SNIPER_2       SNIPER    SUPPORTER       SNIPER  \n7     SUPPORTER  SUPPORTER_2       SNIPER       SNIPER    SUPPORTER  \n8       FIGHTER    SUPPORTER       SNIPER       SNIPER    SUPPORTER  \n11     SNIPER_2     SNIPER_3    SUPPORTER    SUPPORTER       SNIPER  \n12     SNIPER_2     SNIPER_3       SNIPER    SUPPORTER     ASSASSIN  \n13     SNIPER_2     SNIPER_3       SNIPER       SNIPER       SNIPER  \n14     SNIPER_2     SNIPER_3       SNIPER       SNIPER      FIGHTER  \n15     SNIPER_2    SUPPORTER       SNIPER       SNIPER       SNIPER  \n16      FIGHTER     ASSASSIN       SNIPER       SNIPER       SNIPER  \n17     ASSASSIN      FIGHTER       SNIPER       SNIPER       SNIPER  \n18       SNIPER     ASSASSIN       SNIPER       SNIPER       SNIPER  \n19     SNIPER_2     SNIPER_3       SNIPER       SNIPER    SUPPORTER  \n20     SNIPER_2     SNIPER_3       SNIPER      FIGHTER     ASSASSIN  \n21    SUPPORTER     SNIPER_2       SNIPER       SNIPER       SNIPER  \n\n[20 rows x 26 columns]",
      "text/html": "<div>\n<style scoped>\n    .dataframe tbody tr th:only-of-type {\n        vertical-align: middle;\n    }\n\n    .dataframe tbody tr th {\n        vertical-align: top;\n    }\n\n    .dataframe thead th {\n        text-align: right;\n    }\n</style>\n<table border=\"1\" class=\"dataframe\">\n  <thead>\n    <tr style=\"text-align: right;\">\n      <th></th>\n      <th>WinningTeam</th>\n      <th>BattleTime</th>\n      <th>playerTag</th>\n      <th>mode</th>\n      <th>map</th>\n      <th>result</th>\n      <th>StarPlayerTag</th>\n      <th>StarPlayerBrawler</th>\n      <th>Brawler1Name</th>\n      <th>Brawler1Tag</th>\n      <th>...</th>\n      <th>Brawler5Name</th>\n      <th>Brawler5Tag</th>\n      <th>Brawler6Name</th>\n      <th>Brawler6Tag</th>\n      <th>Brawler1Type</th>\n      <th>Brawler2Type</th>\n      <th>Brawler3Type</th>\n      <th>Brawler4Type</th>\n      <th>Brawler5Type</th>\n      <th>Brawler6Type</th>\n    </tr>\n  </thead>\n  <tbody>\n    <tr>\n      <th>0</th>\n      <td>1</td>\n      <td>20200530T122433.000Z</td>\n      <td>#9U2QJ0P</td>\n      <td>brawlBall</td>\n      <td>Backyard Bowl</td>\n      <td>1</td>\n      <td>#9U2QJ0P</td>\n      <td>BEA</td>\n      <td>PIPER</td>\n      <td>#VGR0CJ29</td>\n      <td>...</td>\n      <td>BROCK</td>\n      <td>#20C2RRRGY</td>\n      <td>EMZ</td>\n      <td>#Y220JJJ9</td>\n      <td>SNIPER</td>\n      <td>SNIPER_2</td>\n      <td>SUPPORTER</td>\n      <td>SNIPER</td>\n      <td>SNIPER</td>\n      <td>FIGHTER</td>\n    </tr>\n    <tr>\n      <th>1</th>\n      <td>1</td>\n      <td>20200530T121808.000Z</td>\n      <td>#9U2QJ0P</td>\n      <td>brawlBall</td>\n      <td>Backyard Bowl</td>\n      <td>1</td>\n      <td>#9U2QJ0P</td>\n      <td>BEA</td>\n      <td>PIPER</td>\n      <td>#VGR0CJ29</td>\n      <td>...</td>\n      <td>MAX</td>\n      <td>#22L8CLYQU</td>\n      <td>PENNY</td>\n      <td>#28U009JPY</td>\n      <td>SNIPER</td>\n      <td>SNIPER_2</td>\n      <td>SUPPORTER</td>\n      <td>SUPPORTER</td>\n      <td>SUPPORTER</td>\n      <td>SNIPER</td>\n    </tr>\n    <tr>\n      <th>2</th>\n      <td>1</td>\n      <td>20200530T121207.000Z</td>\n      <td>#9U2QJ0P</td>\n      <td>brawlBall</td>\n      <td>Backyard Bowl</td>\n      <td>1</td>\n      <td>#9U2QJ0P</td>\n      <td>BEA</td>\n      <td>PIPER</td>\n      <td>#VGR0CJ29</td>\n      <td>...</td>\n      <td>BROCK</td>\n      <td>#9QJP9LP</td>\n      <td>SPIKE</td>\n      <td>#98VJCL2PQ</td>\n      <td>SNIPER</td>\n      <td>SNIPER_2</td>\n      <td>SUPPORTER</td>\n      <td>SUPPORTER</td>\n      <td>SNIPER</td>\n      <td>SNIPER</td>\n    </tr>\n    <tr>\n      <th>3</th>\n      <td>1</td>\n      <td>20200530T120359.000Z</td>\n      <td>#9U2QJ0P</td>\n      <td>brawlBall</td>\n      <td>Backyard Bowl</td>\n      <td>1</td>\n      <td>#VGR0CJ29</td>\n      <td>PIPER</td>\n      <td>PIPER</td>\n      <td>#VGR0CJ29</td>\n      <td>...</td>\n      <td>FRANK</td>\n      <td>#2UCV2R0LV</td>\n      <td>POCO</td>\n      <td>#22RURYRV0</td>\n      <td>SNIPER</td>\n      <td>SNIPER_2</td>\n      <td>SUPPORTER</td>\n      <td>HEAVYWEIGHT</td>\n      <td>HEAVYWEIGHT</td>\n      <td>SUPPORTER</td>\n    </tr>\n    <tr>\n      <th>4</th>\n      <td>1</td>\n      <td>20200530T120028.000Z</td>\n      <td>#9U2QJ0P</td>\n      <td>brawlBall</td>\n      <td>Backyard Bowl</td>\n      <td>1</td>\n      <td>#VGR0CJ29</td>\n      <td>PIPER</td>\n      <td>PIPER</td>\n      <td>#VGR0CJ29</td>\n      <td>...</td>\n      <td>BROCK</td>\n      <td>#98JQVGLP9</td>\n      <td>JACKY</td>\n      <td>#8822ULJ9Q</td>\n      <td>SNIPER</td>\n      <td>SNIPER_2</td>\n      <td>SUPPORTER</td>\n      <td>SNIPER</td>\n      <td>SNIPER</td>\n      <td>HEAVYWEIGHT</td>\n    </tr>\n    <tr>\n      <th>5</th>\n      <td>1</td>\n      <td>20200530T115600.000Z</td>\n      <td>#9U2QJ0P</td>\n      <td>brawlBall</td>\n      <td>Backyard Bowl</td>\n      <td>1</td>\n      <td>#9UR09Q80Y</td>\n      <td>GENE</td>\n      <td>GENE</td>\n      <td>#9UR09Q80Y</td>\n      <td>...</td>\n      <td>PIPER</td>\n      <td>#298R28UG2</td>\n      <td>BROCK</td>\n      <td>#QRVCCPPR</td>\n      <td>SUPPORTER</td>\n      <td>SNIPER</td>\n      <td>SNIPER_2</td>\n      <td>SUPPORTER</td>\n      <td>SNIPER</td>\n      <td>SNIPER</td>\n    </tr>\n    <tr>\n      <th>6</th>\n      <td>2</td>\n      <td>20200530T115304.000Z</td>\n      <td>#9U2QJ0P</td>\n      <td>brawlBall</td>\n      <td>Backyard Bowl</td>\n      <td>1</td>\n      <td>#VGR0CJ29</td>\n      <td>PIPER</td>\n      <td>PAM</td>\n      <td>#20JRL29PY</td>\n      <td>...</td>\n      <td>GENE</td>\n      <td>#9UR09Q80Y</td>\n      <td>BEA</td>\n      <td>#9U2QJ0P</td>\n      <td>SUPPORTER</td>\n      <td>SNIPER</td>\n      <td>SNIPER_2</td>\n      <td>SNIPER</td>\n      <td>SUPPORTER</td>\n      <td>SNIPER</td>\n    </tr>\n    <tr>\n      <th>7</th>\n      <td>2</td>\n      <td>20200530T115056.000Z</td>\n      <td>#9U2QJ0P</td>\n      <td>brawlBall</td>\n      <td>Backyard Bowl</td>\n      <td>1</td>\n      <td>#VGR0CJ29</td>\n      <td>PIPER</td>\n      <td>PIPER</td>\n      <td>#20JLGV0QL</td>\n      <td>...</td>\n      <td>BEA</td>\n      <td>#9U2QJ0P</td>\n      <td>GENE</td>\n      <td>#9UR09Q80Y</td>\n      <td>SNIPER</td>\n      <td>SUPPORTER</td>\n      <td>SUPPORTER_2</td>\n      <td>SNIPER</td>\n      <td>SNIPER</td>\n      <td>SUPPORTER</td>\n    </tr>\n    <tr>\n      <th>8</th>\n      <td>2</td>\n      <td>20200530T114747.000Z</td>\n      <td>#9U2QJ0P</td>\n      <td>brawlBall</td>\n      <td>Backyard Bowl</td>\n      <td>1</td>\n      <td>#9UR09Q80Y</td>\n      <td>GENE</td>\n      <td>BEA</td>\n      <td>#PJJ9P890</td>\n      <td>...</td>\n      <td>BEA</td>\n      <td>#9U2QJ0P</td>\n      <td>GENE</td>\n      <td>#9UR09Q80Y</td>\n      <td>SNIPER</td>\n      <td>FIGHTER</td>\n      <td>SUPPORTER</td>\n      <td>SNIPER</td>\n      <td>SNIPER</td>\n      <td>SUPPORTER</td>\n    </tr>\n    <tr>\n      <th>11</th>\n      <td>2</td>\n      <td>20200530T143201.000Z</td>\n      <td>#8P80J8RC</td>\n      <td>brawlBall</td>\n      <td>Backyard Bowl</td>\n      <td>-1</td>\n      <td>#YCC8VGRU</td>\n      <td>PAM</td>\n      <td>MR. P</td>\n      <td>#8P80J8RC</td>\n      <td>...</td>\n      <td>PAM</td>\n      <td>#YCC8VGRU</td>\n      <td>PIPER</td>\n      <td>#9JY82J8U</td>\n      <td>SNIPER</td>\n      <td>SNIPER_2</td>\n      <td>SNIPER_3</td>\n      <td>SUPPORTER</td>\n      <td>SUPPORTER</td>\n      <td>SNIPER</td>\n    </tr>\n    <tr>\n      <th>12</th>\n      <td>1</td>\n      <td>20200530T142911.000Z</td>\n      <td>#8P80J8RC</td>\n      <td>brawlBall</td>\n      <td>Backyard Bowl</td>\n      <td>1</td>\n      <td>#UQY8PCGP</td>\n      <td>BEA</td>\n      <td>BROCK</td>\n      <td>#PQRVCC</td>\n      <td>...</td>\n      <td>POCO</td>\n      <td>#2YLUQLL92</td>\n      <td>MORTIS</td>\n      <td>#VRL8JURC</td>\n      <td>SNIPER</td>\n      <td>SNIPER_2</td>\n      <td>SNIPER_3</td>\n      <td>SNIPER</td>\n      <td>SUPPORTER</td>\n      <td>ASSASSIN</td>\n    </tr>\n    <tr>\n      <th>13</th>\n      <td>2</td>\n      <td>20200530T142430.000Z</td>\n      <td>#8P80J8RC</td>\n      <td>brawlBall</td>\n      <td>Backyard Bowl</td>\n      <td>-1</td>\n      <td>#8LC2CJY2</td>\n      <td>MR. P</td>\n      <td>MR. P</td>\n      <td>#8P80J8RC</td>\n      <td>...</td>\n      <td>SPIKE</td>\n      <td>#2UR0PL9Q</td>\n      <td>BEA</td>\n      <td>#PL02GJ0U</td>\n      <td>SNIPER</td>\n      <td>SNIPER_2</td>\n      <td>SNIPER_3</td>\n      <td>SNIPER</td>\n      <td>SNIPER</td>\n      <td>SNIPER</td>\n    </tr>\n    <tr>\n      <th>14</th>\n      <td>1</td>\n      <td>20200530T142017.000Z</td>\n      <td>#8P80J8RC</td>\n      <td>brawlBall</td>\n      <td>Backyard Bowl</td>\n      <td>1</td>\n      <td>#8P80J8RC</td>\n      <td>MR. P</td>\n      <td>BROCK</td>\n      <td>#PQRVCC</td>\n      <td>...</td>\n      <td>BROCK</td>\n      <td>#P0L9GG9L0</td>\n      <td>EMZ</td>\n      <td>#2LCVQ0UY2</td>\n      <td>SNIPER</td>\n      <td>SNIPER_2</td>\n      <td>SNIPER_3</td>\n      <td>SNIPER</td>\n      <td>SNIPER</td>\n      <td>FIGHTER</td>\n    </tr>\n    <tr>\n      <th>15</th>\n      <td>2</td>\n      <td>20200530T141625.000Z</td>\n      <td>#8P80J8RC</td>\n      <td>brawlBall</td>\n      <td>Backyard Bowl</td>\n      <td>1</td>\n      <td>#8P80J8RC</td>\n      <td>MR. P</td>\n      <td>BEA</td>\n      <td>#UUUL2PLY</td>\n      <td>...</td>\n      <td>BEA</td>\n      <td>#UQY8PCGP</td>\n      <td>MR. P</td>\n      <td>#8P80J8RC</td>\n      <td>SNIPER</td>\n      <td>SNIPER_2</td>\n      <td>SUPPORTER</td>\n      <td>SNIPER</td>\n      <td>SNIPER</td>\n      <td>SNIPER</td>\n    </tr>\n    <tr>\n      <th>16</th>\n      <td>2</td>\n      <td>20200530T140826.000Z</td>\n      <td>#8P80J8RC</td>\n      <td>brawlBall</td>\n      <td>Backyard Bowl</td>\n      <td>1</td>\n      <td>#PQRVCC</td>\n      <td>BROCK</td>\n      <td>SANDY</td>\n      <td>#8V8QYV0P0</td>\n      <td>...</td>\n      <td>BEA</td>\n      <td>#UQY8PCGP</td>\n      <td>MR. P</td>\n      <td>#8P80J8RC</td>\n      <td>SUPPORTER</td>\n      <td>FIGHTER</td>\n      <td>ASSASSIN</td>\n      <td>SNIPER</td>\n      <td>SNIPER</td>\n      <td>SNIPER</td>\n    </tr>\n    <tr>\n      <th>17</th>\n      <td>2</td>\n      <td>20200530T140427.000Z</td>\n      <td>#8P80J8RC</td>\n      <td>brawlBall</td>\n      <td>Backyard Bowl</td>\n      <td>1</td>\n      <td>#8P80J8RC</td>\n      <td>MR. P</td>\n      <td>JACKY</td>\n      <td>#8LUY9PPRL</td>\n      <td>...</td>\n      <td>MR. P</td>\n      <td>#8P80J8RC</td>\n      <td>BROCK</td>\n      <td>#PQRVCC</td>\n      <td>HEAVYWEIGHT</td>\n      <td>ASSASSIN</td>\n      <td>FIGHTER</td>\n      <td>SNIPER</td>\n      <td>SNIPER</td>\n      <td>SNIPER</td>\n    </tr>\n    <tr>\n      <th>18</th>\n      <td>2</td>\n      <td>20200530T140031.000Z</td>\n      <td>#8P80J8RC</td>\n      <td>brawlBall</td>\n      <td>Backyard Bowl</td>\n      <td>1</td>\n      <td>#8P80J8RC</td>\n      <td>MR. P</td>\n      <td>PAM</td>\n      <td>#R28VYC9</td>\n      <td>...</td>\n      <td>MR. P</td>\n      <td>#8P80J8RC</td>\n      <td>BROCK</td>\n      <td>#PQRVCC</td>\n      <td>SUPPORTER</td>\n      <td>SNIPER</td>\n      <td>ASSASSIN</td>\n      <td>SNIPER</td>\n      <td>SNIPER</td>\n      <td>SNIPER</td>\n    </tr>\n    <tr>\n      <th>19</th>\n      <td>1</td>\n      <td>20200530T135358.000Z</td>\n      <td>#8P80J8RC</td>\n      <td>brawlBall</td>\n      <td>Backyard Bowl</td>\n      <td>1</td>\n      <td>#PQRVCC</td>\n      <td>BROCK</td>\n      <td>BROCK</td>\n      <td>#PQRVCC</td>\n      <td>...</td>\n      <td>PIPER</td>\n      <td>#GRQ9CGQG</td>\n      <td>PAM</td>\n      <td>#9P08YPV9</td>\n      <td>SNIPER</td>\n      <td>SNIPER_2</td>\n      <td>SNIPER_3</td>\n      <td>SNIPER</td>\n      <td>SNIPER</td>\n      <td>SUPPORTER</td>\n    </tr>\n    <tr>\n      <th>20</th>\n      <td>1</td>\n      <td>20200530T135012.000Z</td>\n      <td>#8P80J8RC</td>\n      <td>brawlBall</td>\n      <td>Backyard Bowl</td>\n      <td>1</td>\n      <td>#PQRVCC</td>\n      <td>BROCK</td>\n      <td>BROCK</td>\n      <td>#PQRVCC</td>\n      <td>...</td>\n      <td>EMZ</td>\n      <td>#2UG9PQP0J</td>\n      <td>MORTIS</td>\n      <td>#VLCLPRPU</td>\n      <td>SNIPER</td>\n      <td>SNIPER_2</td>\n      <td>SNIPER_3</td>\n      <td>SNIPER</td>\n      <td>FIGHTER</td>\n      <td>ASSASSIN</td>\n    </tr>\n    <tr>\n      <th>21</th>\n      <td>2</td>\n      <td>20200530T134504.000Z</td>\n      <td>#8P80J8RC</td>\n      <td>brawlBall</td>\n      <td>Backyard Bowl</td>\n      <td>1</td>\n      <td>#PQRVCC</td>\n      <td>BROCK</td>\n      <td>BEA</td>\n      <td>#2VL2CCCG</td>\n      <td>...</td>\n      <td>BEA</td>\n      <td>#UQY8PCGP</td>\n      <td>MR. P</td>\n      <td>#8P80J8RC</td>\n      <td>SNIPER</td>\n      <td>SUPPORTER</td>\n      <td>SNIPER_2</td>\n      <td>SNIPER</td>\n      <td>SNIPER</td>\n      <td>SNIPER</td>\n    </tr>\n  </tbody>\n</table>\n<p>20 rows × 26 columns</p>\n</div>"
     },
     "metadata": {},
     "output_type": "execute_result",
     "execution_count": 12
    }
   ],
   "source": [
    "counter = 0\n",
    "for index, row in df_fixed_map.iterrows():\n",
    "    if row['Brawler1Type'] == row['Brawler2Type'] and row['Brawler1Type'] != row['Brawler3Type']:\n",
    "        df_fixed_map.loc[index, 'Brawler2Type'] = row['Brawler2Type']+'_2'\n",
    "    elif row['Brawler1Type'] == row['Brawler2Type'] and row['Brawler1Type'] == row['Brawler3Type']:\n",
    "        df_fixed_map.loc[index,'Brawler2Type'] = row['Brawler2Type']+'_2'\n",
    "        df_fixed_map.loc[index,'Brawler3Type'] = row['Brawler3Type']+'_3'\n",
    "    elif row['Brawler1Type'] == row['Brawler3Type'] and row['Brawler1Type'] != row['Brawler2Type'] and row['Brawler2Type'] != row['Brawler3Type']:\n",
    "        df_fixed_map.loc[index,'Brawler3Type'] = row['Brawler3Type']+'_2'\n",
    "    elif row['Brawler1Type'] != row['Brawler3Type'] and row['Brawler1Type'] != row['Brawler2Type'] and row['Brawler2Type'] == row['Brawler3Type']:\n",
    "        df_fixed_map.loc[index,'Brawler3Type'] = row['Brawler3Type']+'_2'\n",
    "df_fixed_map.head(20)\n",
    "\n"
   ],
   "metadata": {
    "collapsed": false,
    "pycharm": {
     "name": "#%%\n",
     "is_executing": false
    }
   }
  },
  {
   "cell_type": "markdown",
   "source": [
    "# Find Frequent Combinations of Brawler Types\n",
    "###### First we want to find the frequent used combinations of brawler types. This is done by computing the frequent itemsets."
   ],
   "metadata": {
    "collapsed": false
   }
  },
  {
   "cell_type": "code",
   "execution_count": 13,
   "outputs": [],
   "source": [
    "combinations = []\n",
    "counter = 0\n",
    "for index, row in df_fixed_map.iterrows():\n",
    "    team1 = []\n",
    "    team2 = []\n",
    "    team1.append(row[\"Brawler1Type\"])\n",
    "    team1.append(row[\"Brawler2Type\"])\n",
    "    team1.append(row[\"Brawler3Type\"])\n",
    "    team2.append(row[\"Brawler4Type\"])\n",
    "    team2.append(row[\"Brawler5Type\"])\n",
    "    team2.append(row[\"Brawler6Type\"])\n",
    "\n",
    "    combinations.append(team1)\n",
    "    combinations.append(team2)"
   ],
   "metadata": {
    "collapsed": false,
    "pycharm": {
     "name": "#%%\n",
     "is_executing": false
    }
   }
  },
  {
   "cell_type": "code",
   "execution_count": 14,
   "outputs": [
    {
     "data": {
      "text/plain": "      ASSASSIN  ASSASSIN_2  ASSASSIN_3  FIGHTER  FIGHTER_2  FIGHTER_3  \\\n0        False       False       False    False      False      False   \n1        False       False       False     True      False      False   \n2        False       False       False    False      False      False   \n3        False       False       False    False      False      False   \n4        False       False       False    False      False      False   \n...        ...         ...         ...      ...        ...        ...   \n1801     False       False       False     True      False      False   \n1802     False       False       False     True       True      False   \n1803      True       False       False    False      False      False   \n1804     False       False       False     True       True      False   \n1805      True       False       False    False      False      False   \n\n      HEAVYWEIGHT  HEAVYWEIGHT_2  HEAVYWEIGHT_3  SNIPER  SNIPER_2  SNIPER_3  \\\n0           False          False          False    True      True     False   \n1           False          False          False    True     False     False   \n2           False          False          False    True      True     False   \n3           False          False          False    True     False     False   \n4           False          False          False    True      True     False   \n...           ...            ...            ...     ...       ...       ...   \n1801        False          False          False    True     False     False   \n1802        False          False          False    True     False     False   \n1803         True          False          False   False     False     False   \n1804        False          False          False    True     False     False   \n1805        False          False          False    True     False     False   \n\n      SUPPORTER  SUPPORTER_2  SUPPORTER_3  THROWER  \n0          True        False        False    False  \n1         False        False        False    False  \n2          True        False        False    False  \n3          True        False        False    False  \n4          True        False        False    False  \n...         ...          ...          ...      ...  \n1801       True        False        False    False  \n1802      False        False        False    False  \n1803       True        False        False    False  \n1804      False        False        False    False  \n1805       True        False        False    False  \n\n[1806 rows x 16 columns]",
      "text/html": "<div>\n<style scoped>\n    .dataframe tbody tr th:only-of-type {\n        vertical-align: middle;\n    }\n\n    .dataframe tbody tr th {\n        vertical-align: top;\n    }\n\n    .dataframe thead th {\n        text-align: right;\n    }\n</style>\n<table border=\"1\" class=\"dataframe\">\n  <thead>\n    <tr style=\"text-align: right;\">\n      <th></th>\n      <th>ASSASSIN</th>\n      <th>ASSASSIN_2</th>\n      <th>ASSASSIN_3</th>\n      <th>FIGHTER</th>\n      <th>FIGHTER_2</th>\n      <th>FIGHTER_3</th>\n      <th>HEAVYWEIGHT</th>\n      <th>HEAVYWEIGHT_2</th>\n      <th>HEAVYWEIGHT_3</th>\n      <th>SNIPER</th>\n      <th>SNIPER_2</th>\n      <th>SNIPER_3</th>\n      <th>SUPPORTER</th>\n      <th>SUPPORTER_2</th>\n      <th>SUPPORTER_3</th>\n      <th>THROWER</th>\n    </tr>\n  </thead>\n  <tbody>\n    <tr>\n      <th>0</th>\n      <td>False</td>\n      <td>False</td>\n      <td>False</td>\n      <td>False</td>\n      <td>False</td>\n      <td>False</td>\n      <td>False</td>\n      <td>False</td>\n      <td>False</td>\n      <td>True</td>\n      <td>True</td>\n      <td>False</td>\n      <td>True</td>\n      <td>False</td>\n      <td>False</td>\n      <td>False</td>\n    </tr>\n    <tr>\n      <th>1</th>\n      <td>False</td>\n      <td>False</td>\n      <td>False</td>\n      <td>True</td>\n      <td>False</td>\n      <td>False</td>\n      <td>False</td>\n      <td>False</td>\n      <td>False</td>\n      <td>True</td>\n      <td>False</td>\n      <td>False</td>\n      <td>False</td>\n      <td>False</td>\n      <td>False</td>\n      <td>False</td>\n    </tr>\n    <tr>\n      <th>2</th>\n      <td>False</td>\n      <td>False</td>\n      <td>False</td>\n      <td>False</td>\n      <td>False</td>\n      <td>False</td>\n      <td>False</td>\n      <td>False</td>\n      <td>False</td>\n      <td>True</td>\n      <td>True</td>\n      <td>False</td>\n      <td>True</td>\n      <td>False</td>\n      <td>False</td>\n      <td>False</td>\n    </tr>\n    <tr>\n      <th>3</th>\n      <td>False</td>\n      <td>False</td>\n      <td>False</td>\n      <td>False</td>\n      <td>False</td>\n      <td>False</td>\n      <td>False</td>\n      <td>False</td>\n      <td>False</td>\n      <td>True</td>\n      <td>False</td>\n      <td>False</td>\n      <td>True</td>\n      <td>False</td>\n      <td>False</td>\n      <td>False</td>\n    </tr>\n    <tr>\n      <th>4</th>\n      <td>False</td>\n      <td>False</td>\n      <td>False</td>\n      <td>False</td>\n      <td>False</td>\n      <td>False</td>\n      <td>False</td>\n      <td>False</td>\n      <td>False</td>\n      <td>True</td>\n      <td>True</td>\n      <td>False</td>\n      <td>True</td>\n      <td>False</td>\n      <td>False</td>\n      <td>False</td>\n    </tr>\n    <tr>\n      <th>...</th>\n      <td>...</td>\n      <td>...</td>\n      <td>...</td>\n      <td>...</td>\n      <td>...</td>\n      <td>...</td>\n      <td>...</td>\n      <td>...</td>\n      <td>...</td>\n      <td>...</td>\n      <td>...</td>\n      <td>...</td>\n      <td>...</td>\n      <td>...</td>\n      <td>...</td>\n      <td>...</td>\n    </tr>\n    <tr>\n      <th>1801</th>\n      <td>False</td>\n      <td>False</td>\n      <td>False</td>\n      <td>True</td>\n      <td>False</td>\n      <td>False</td>\n      <td>False</td>\n      <td>False</td>\n      <td>False</td>\n      <td>True</td>\n      <td>False</td>\n      <td>False</td>\n      <td>True</td>\n      <td>False</td>\n      <td>False</td>\n      <td>False</td>\n    </tr>\n    <tr>\n      <th>1802</th>\n      <td>False</td>\n      <td>False</td>\n      <td>False</td>\n      <td>True</td>\n      <td>True</td>\n      <td>False</td>\n      <td>False</td>\n      <td>False</td>\n      <td>False</td>\n      <td>True</td>\n      <td>False</td>\n      <td>False</td>\n      <td>False</td>\n      <td>False</td>\n      <td>False</td>\n      <td>False</td>\n    </tr>\n    <tr>\n      <th>1803</th>\n      <td>True</td>\n      <td>False</td>\n      <td>False</td>\n      <td>False</td>\n      <td>False</td>\n      <td>False</td>\n      <td>True</td>\n      <td>False</td>\n      <td>False</td>\n      <td>False</td>\n      <td>False</td>\n      <td>False</td>\n      <td>True</td>\n      <td>False</td>\n      <td>False</td>\n      <td>False</td>\n    </tr>\n    <tr>\n      <th>1804</th>\n      <td>False</td>\n      <td>False</td>\n      <td>False</td>\n      <td>True</td>\n      <td>True</td>\n      <td>False</td>\n      <td>False</td>\n      <td>False</td>\n      <td>False</td>\n      <td>True</td>\n      <td>False</td>\n      <td>False</td>\n      <td>False</td>\n      <td>False</td>\n      <td>False</td>\n      <td>False</td>\n    </tr>\n    <tr>\n      <th>1805</th>\n      <td>True</td>\n      <td>False</td>\n      <td>False</td>\n      <td>False</td>\n      <td>False</td>\n      <td>False</td>\n      <td>False</td>\n      <td>False</td>\n      <td>False</td>\n      <td>True</td>\n      <td>False</td>\n      <td>False</td>\n      <td>True</td>\n      <td>False</td>\n      <td>False</td>\n      <td>False</td>\n    </tr>\n  </tbody>\n</table>\n<p>1806 rows × 16 columns</p>\n</div>"
     },
     "metadata": {},
     "output_type": "execute_result",
     "execution_count": 14
    }
   ],
   "source": [
    "te = TransactionEncoder()\n",
    "te_ary = te.fit(combinations).transform(combinations)\n",
    "df_fixed_mapFreqSetsCombinations = pd.DataFrame(te_ary, columns=te.columns_)\n",
    "df_fixed_mapFreqSetsCombinations\n"
   ],
   "metadata": {
    "collapsed": false,
    "pycharm": {
     "name": "#%%\n",
     "is_executing": false
    }
   }
  },
  {
   "cell_type": "code",
   "execution_count": 15,
   "outputs": [],
   "source": [
    "frequent_itemsets_combinations = apriori(df_fixed_mapFreqSetsCombinations, min_support=0.001, use_colnames=True)\n",
    "frequent_itemsets_combinations['length'] = frequent_itemsets_combinations['itemsets'].apply(lambda x: len(x))"
   ],
   "metadata": {
    "collapsed": false,
    "pycharm": {
     "name": "#%%\n",
     "is_executing": false
    }
   }
  },
  {
   "cell_type": "code",
   "execution_count": 16,
   "outputs": [
    {
     "data": {
      "text/plain": "      support                                 itemsets  length\n87   0.075305             (SUPPORTER, FIGHTER, SNIPER)       3\n75   0.073090            (SUPPORTER, SNIPER, ASSASSIN)       3\n97   0.059801            (SUPPORTER, SNIPER_2, SNIPER)       3\n96   0.052049             (SNIPER_2, SNIPER, SNIPER_3)       3\n93   0.047619         (SUPPORTER, HEAVYWEIGHT, SNIPER)       3\n74   0.035991             (SNIPER_2, SNIPER, ASSASSIN)       3\n67   0.035437              (FIGHTER, SNIPER, ASSASSIN)       3\n98   0.033776         (SUPPORTER, SUPPORTER_2, SNIPER)       3\n71   0.027132          (HEAVYWEIGHT, SNIPER, ASSASSIN)       3\n72   0.024917       (SUPPORTER, HEAVYWEIGHT, ASSASSIN)       3\n68   0.024917           (SUPPORTER, FIGHTER, ASSASSIN)       3\n66   0.020487         (FIGHTER, HEAVYWEIGHT, ASSASSIN)       3\n83   0.019380           (FIGHTER, HEAVYWEIGHT, SNIPER)       3\n84   0.018272        (SUPPORTER, FIGHTER, HEAVYWEIGHT)       3\n86   0.017165              (FIGHTER, SNIPER_2, SNIPER)       3\n63   0.011628           (ASSASSIN_2, SNIPER, ASSASSIN)       3\n100  0.011628    (SUPPORTER, SUPPORTER_2, SUPPORTER_3)       3\n77   0.009413       (SUPPORTER, SUPPORTER_2, ASSASSIN)       3\n89   0.009413        (SUPPORTER, FIGHTER, SUPPORTER_2)       3\n92   0.008859          (HEAVYWEIGHT, SNIPER_2, SNIPER)       3\n80   0.008306             (FIGHTER, FIGHTER_2, SNIPER)       3\n65   0.005537           (FIGHTER, FIGHTER_2, ASSASSIN)       3\n70   0.004983   (HEAVYWEIGHT_2, HEAVYWEIGHT, ASSASSIN)       3\n95   0.004983    (SUPPORTER, SUPPORTER_2, HEAVYWEIGHT)       3\n99   0.004983             (SUPPORTER, THROWER, SNIPER)       3\n64   0.004430        (SUPPORTER, ASSASSIN_2, ASSASSIN)       3\n61   0.003322          (FIGHTER, ASSASSIN_2, ASSASSIN)       3\n62   0.002769      (ASSASSIN_2, HEAVYWEIGHT, ASSASSIN)       3\n90   0.002769     (HEAVYWEIGHT_2, HEAVYWEIGHT, SNIPER)       3\n91   0.002215  (SUPPORTER, HEAVYWEIGHT, HEAVYWEIGHT_2)       3\n81   0.002215          (SUPPORTER, FIGHTER, FIGHTER_2)       3\n85   0.002215          (FIGHTER, THROWER, HEAVYWEIGHT)       3\n78   0.002215          (FIGHTER, FIGHTER_2, FIGHTER_3)       3\n88   0.001661               (FIGHTER, THROWER, SNIPER)       3\n94   0.001661           (HEAVYWEIGHT, THROWER, SNIPER)       3\n79   0.001661        (FIGHTER, FIGHTER_2, HEAVYWEIGHT)       3\n76   0.001661              (THROWER, SNIPER, ASSASSIN)       3\n101  0.001661        (SUPPORTER, SUPPORTER_2, THROWER)       3\n82   0.001107    (HEAVYWEIGHT_2, FIGHTER, HEAVYWEIGHT)       3\n73   0.001107         (THROWER, HEAVYWEIGHT, ASSASSIN)       3\n69   0.001107             (FIGHTER, THROWER, ASSASSIN)       3",
      "text/html": "<div>\n<style scoped>\n    .dataframe tbody tr th:only-of-type {\n        vertical-align: middle;\n    }\n\n    .dataframe tbody tr th {\n        vertical-align: top;\n    }\n\n    .dataframe thead th {\n        text-align: right;\n    }\n</style>\n<table border=\"1\" class=\"dataframe\">\n  <thead>\n    <tr style=\"text-align: right;\">\n      <th></th>\n      <th>support</th>\n      <th>itemsets</th>\n      <th>length</th>\n    </tr>\n  </thead>\n  <tbody>\n    <tr>\n      <th>87</th>\n      <td>0.075305</td>\n      <td>(SUPPORTER, FIGHTER, SNIPER)</td>\n      <td>3</td>\n    </tr>\n    <tr>\n      <th>75</th>\n      <td>0.073090</td>\n      <td>(SUPPORTER, SNIPER, ASSASSIN)</td>\n      <td>3</td>\n    </tr>\n    <tr>\n      <th>97</th>\n      <td>0.059801</td>\n      <td>(SUPPORTER, SNIPER_2, SNIPER)</td>\n      <td>3</td>\n    </tr>\n    <tr>\n      <th>96</th>\n      <td>0.052049</td>\n      <td>(SNIPER_2, SNIPER, SNIPER_3)</td>\n      <td>3</td>\n    </tr>\n    <tr>\n      <th>93</th>\n      <td>0.047619</td>\n      <td>(SUPPORTER, HEAVYWEIGHT, SNIPER)</td>\n      <td>3</td>\n    </tr>\n    <tr>\n      <th>74</th>\n      <td>0.035991</td>\n      <td>(SNIPER_2, SNIPER, ASSASSIN)</td>\n      <td>3</td>\n    </tr>\n    <tr>\n      <th>67</th>\n      <td>0.035437</td>\n      <td>(FIGHTER, SNIPER, ASSASSIN)</td>\n      <td>3</td>\n    </tr>\n    <tr>\n      <th>98</th>\n      <td>0.033776</td>\n      <td>(SUPPORTER, SUPPORTER_2, SNIPER)</td>\n      <td>3</td>\n    </tr>\n    <tr>\n      <th>71</th>\n      <td>0.027132</td>\n      <td>(HEAVYWEIGHT, SNIPER, ASSASSIN)</td>\n      <td>3</td>\n    </tr>\n    <tr>\n      <th>72</th>\n      <td>0.024917</td>\n      <td>(SUPPORTER, HEAVYWEIGHT, ASSASSIN)</td>\n      <td>3</td>\n    </tr>\n    <tr>\n      <th>68</th>\n      <td>0.024917</td>\n      <td>(SUPPORTER, FIGHTER, ASSASSIN)</td>\n      <td>3</td>\n    </tr>\n    <tr>\n      <th>66</th>\n      <td>0.020487</td>\n      <td>(FIGHTER, HEAVYWEIGHT, ASSASSIN)</td>\n      <td>3</td>\n    </tr>\n    <tr>\n      <th>83</th>\n      <td>0.019380</td>\n      <td>(FIGHTER, HEAVYWEIGHT, SNIPER)</td>\n      <td>3</td>\n    </tr>\n    <tr>\n      <th>84</th>\n      <td>0.018272</td>\n      <td>(SUPPORTER, FIGHTER, HEAVYWEIGHT)</td>\n      <td>3</td>\n    </tr>\n    <tr>\n      <th>86</th>\n      <td>0.017165</td>\n      <td>(FIGHTER, SNIPER_2, SNIPER)</td>\n      <td>3</td>\n    </tr>\n    <tr>\n      <th>63</th>\n      <td>0.011628</td>\n      <td>(ASSASSIN_2, SNIPER, ASSASSIN)</td>\n      <td>3</td>\n    </tr>\n    <tr>\n      <th>100</th>\n      <td>0.011628</td>\n      <td>(SUPPORTER, SUPPORTER_2, SUPPORTER_3)</td>\n      <td>3</td>\n    </tr>\n    <tr>\n      <th>77</th>\n      <td>0.009413</td>\n      <td>(SUPPORTER, SUPPORTER_2, ASSASSIN)</td>\n      <td>3</td>\n    </tr>\n    <tr>\n      <th>89</th>\n      <td>0.009413</td>\n      <td>(SUPPORTER, FIGHTER, SUPPORTER_2)</td>\n      <td>3</td>\n    </tr>\n    <tr>\n      <th>92</th>\n      <td>0.008859</td>\n      <td>(HEAVYWEIGHT, SNIPER_2, SNIPER)</td>\n      <td>3</td>\n    </tr>\n    <tr>\n      <th>80</th>\n      <td>0.008306</td>\n      <td>(FIGHTER, FIGHTER_2, SNIPER)</td>\n      <td>3</td>\n    </tr>\n    <tr>\n      <th>65</th>\n      <td>0.005537</td>\n      <td>(FIGHTER, FIGHTER_2, ASSASSIN)</td>\n      <td>3</td>\n    </tr>\n    <tr>\n      <th>70</th>\n      <td>0.004983</td>\n      <td>(HEAVYWEIGHT_2, HEAVYWEIGHT, ASSASSIN)</td>\n      <td>3</td>\n    </tr>\n    <tr>\n      <th>95</th>\n      <td>0.004983</td>\n      <td>(SUPPORTER, SUPPORTER_2, HEAVYWEIGHT)</td>\n      <td>3</td>\n    </tr>\n    <tr>\n      <th>99</th>\n      <td>0.004983</td>\n      <td>(SUPPORTER, THROWER, SNIPER)</td>\n      <td>3</td>\n    </tr>\n    <tr>\n      <th>64</th>\n      <td>0.004430</td>\n      <td>(SUPPORTER, ASSASSIN_2, ASSASSIN)</td>\n      <td>3</td>\n    </tr>\n    <tr>\n      <th>61</th>\n      <td>0.003322</td>\n      <td>(FIGHTER, ASSASSIN_2, ASSASSIN)</td>\n      <td>3</td>\n    </tr>\n    <tr>\n      <th>62</th>\n      <td>0.002769</td>\n      <td>(ASSASSIN_2, HEAVYWEIGHT, ASSASSIN)</td>\n      <td>3</td>\n    </tr>\n    <tr>\n      <th>90</th>\n      <td>0.002769</td>\n      <td>(HEAVYWEIGHT_2, HEAVYWEIGHT, SNIPER)</td>\n      <td>3</td>\n    </tr>\n    <tr>\n      <th>91</th>\n      <td>0.002215</td>\n      <td>(SUPPORTER, HEAVYWEIGHT, HEAVYWEIGHT_2)</td>\n      <td>3</td>\n    </tr>\n    <tr>\n      <th>81</th>\n      <td>0.002215</td>\n      <td>(SUPPORTER, FIGHTER, FIGHTER_2)</td>\n      <td>3</td>\n    </tr>\n    <tr>\n      <th>85</th>\n      <td>0.002215</td>\n      <td>(FIGHTER, THROWER, HEAVYWEIGHT)</td>\n      <td>3</td>\n    </tr>\n    <tr>\n      <th>78</th>\n      <td>0.002215</td>\n      <td>(FIGHTER, FIGHTER_2, FIGHTER_3)</td>\n      <td>3</td>\n    </tr>\n    <tr>\n      <th>88</th>\n      <td>0.001661</td>\n      <td>(FIGHTER, THROWER, SNIPER)</td>\n      <td>3</td>\n    </tr>\n    <tr>\n      <th>94</th>\n      <td>0.001661</td>\n      <td>(HEAVYWEIGHT, THROWER, SNIPER)</td>\n      <td>3</td>\n    </tr>\n    <tr>\n      <th>79</th>\n      <td>0.001661</td>\n      <td>(FIGHTER, FIGHTER_2, HEAVYWEIGHT)</td>\n      <td>3</td>\n    </tr>\n    <tr>\n      <th>76</th>\n      <td>0.001661</td>\n      <td>(THROWER, SNIPER, ASSASSIN)</td>\n      <td>3</td>\n    </tr>\n    <tr>\n      <th>101</th>\n      <td>0.001661</td>\n      <td>(SUPPORTER, SUPPORTER_2, THROWER)</td>\n      <td>3</td>\n    </tr>\n    <tr>\n      <th>82</th>\n      <td>0.001107</td>\n      <td>(HEAVYWEIGHT_2, FIGHTER, HEAVYWEIGHT)</td>\n      <td>3</td>\n    </tr>\n    <tr>\n      <th>73</th>\n      <td>0.001107</td>\n      <td>(THROWER, HEAVYWEIGHT, ASSASSIN)</td>\n      <td>3</td>\n    </tr>\n    <tr>\n      <th>69</th>\n      <td>0.001107</td>\n      <td>(FIGHTER, THROWER, ASSASSIN)</td>\n      <td>3</td>\n    </tr>\n  </tbody>\n</table>\n</div>"
     },
     "metadata": {},
     "output_type": "execute_result",
     "execution_count": 16
    }
   ],
   "source": [
    "frequent_itemsets_combinations[ (frequent_itemsets_combinations['length'] == 3) ].sort_values(by=[\"support\"], ascending=False)\n",
    "\n",
    "\n"
   ],
   "metadata": {
    "collapsed": false,
    "pycharm": {
     "name": "#%%\n",
     "is_executing": false
    }
   }
  },
  {
   "cell_type": "markdown",
   "source": [
    "# Find Frequent Winning Combinations of Brawler Types\n",
    "###### We want to find the frequent winning combinations of brawler types. This is done by computing the frequent itemsets."
   ],
   "metadata": {
    "collapsed": false,
    "pycharm": {
     "name": "#%% md\n"
    }
   }
  },
  {
   "cell_type": "code",
   "execution_count": 17,
   "outputs": [],
   "source": [
    "winningCombinations = []\n",
    "counter = 0\n",
    "for index, row in df_fixed_map.iterrows():\n",
    "    team = []\n",
    "    if row[\"WinningTeam\"] == 1 and row[\"result\"] != 0:\n",
    "        team.append(row[\"Brawler1Type\"])\n",
    "        team.append(row[\"Brawler2Type\"])\n",
    "        team.append(row[\"Brawler3Type\"])\n",
    "    elif row[\"result\"] != 0:\n",
    "        team.append(row[\"Brawler4Type\"])\n",
    "        team.append(row[\"Brawler5Type\"])\n",
    "        team.append(row[\"Brawler6Type\"])\n",
    "\n",
    "    if len(team) != 0:\n",
    "        winningCombinations.append(team)"
   ],
   "metadata": {
    "collapsed": false,
    "pycharm": {
     "name": "#%%\n",
     "is_executing": false
    }
   }
  },
  {
   "cell_type": "code",
   "execution_count": 18,
   "outputs": [
    {
     "data": {
      "text/plain": "     ASSASSIN  ASSASSIN_2  FIGHTER  FIGHTER_2  FIGHTER_3  HEAVYWEIGHT  \\\n0       False       False    False      False      False        False   \n1       False       False    False      False      False        False   \n2       False       False    False      False      False        False   \n3       False       False    False      False      False        False   \n4       False       False    False      False      False        False   \n..        ...         ...      ...        ...        ...          ...   \n868     False       False     True      False      False        False   \n869     False       False     True      False      False        False   \n870     False       False     True       True      False        False   \n871     False       False     True       True      False        False   \n872     False       False     True       True      False        False   \n\n     HEAVYWEIGHT_2  SNIPER  SNIPER_2  SNIPER_3  SUPPORTER  SUPPORTER_2  \\\n0            False    True      True     False       True        False   \n1            False    True      True     False       True        False   \n2            False    True      True     False       True        False   \n3            False    True      True     False       True        False   \n4            False    True      True     False       True        False   \n..             ...     ...       ...       ...        ...          ...   \n868          False    True     False     False      False        False   \n869          False    True     False     False      False        False   \n870          False    True     False     False      False        False   \n871          False    True     False     False      False        False   \n872          False    True     False     False      False        False   \n\n     SUPPORTER_3  THROWER  \n0          False    False  \n1          False    False  \n2          False    False  \n3          False    False  \n4          False    False  \n..           ...      ...  \n868        False    False  \n869        False    False  \n870        False    False  \n871        False    False  \n872        False    False  \n\n[873 rows x 14 columns]",
      "text/html": "<div>\n<style scoped>\n    .dataframe tbody tr th:only-of-type {\n        vertical-align: middle;\n    }\n\n    .dataframe tbody tr th {\n        vertical-align: top;\n    }\n\n    .dataframe thead th {\n        text-align: right;\n    }\n</style>\n<table border=\"1\" class=\"dataframe\">\n  <thead>\n    <tr style=\"text-align: right;\">\n      <th></th>\n      <th>ASSASSIN</th>\n      <th>ASSASSIN_2</th>\n      <th>FIGHTER</th>\n      <th>FIGHTER_2</th>\n      <th>FIGHTER_3</th>\n      <th>HEAVYWEIGHT</th>\n      <th>HEAVYWEIGHT_2</th>\n      <th>SNIPER</th>\n      <th>SNIPER_2</th>\n      <th>SNIPER_3</th>\n      <th>SUPPORTER</th>\n      <th>SUPPORTER_2</th>\n      <th>SUPPORTER_3</th>\n      <th>THROWER</th>\n    </tr>\n  </thead>\n  <tbody>\n    <tr>\n      <th>0</th>\n      <td>False</td>\n      <td>False</td>\n      <td>False</td>\n      <td>False</td>\n      <td>False</td>\n      <td>False</td>\n      <td>False</td>\n      <td>True</td>\n      <td>True</td>\n      <td>False</td>\n      <td>True</td>\n      <td>False</td>\n      <td>False</td>\n      <td>False</td>\n    </tr>\n    <tr>\n      <th>1</th>\n      <td>False</td>\n      <td>False</td>\n      <td>False</td>\n      <td>False</td>\n      <td>False</td>\n      <td>False</td>\n      <td>False</td>\n      <td>True</td>\n      <td>True</td>\n      <td>False</td>\n      <td>True</td>\n      <td>False</td>\n      <td>False</td>\n      <td>False</td>\n    </tr>\n    <tr>\n      <th>2</th>\n      <td>False</td>\n      <td>False</td>\n      <td>False</td>\n      <td>False</td>\n      <td>False</td>\n      <td>False</td>\n      <td>False</td>\n      <td>True</td>\n      <td>True</td>\n      <td>False</td>\n      <td>True</td>\n      <td>False</td>\n      <td>False</td>\n      <td>False</td>\n    </tr>\n    <tr>\n      <th>3</th>\n      <td>False</td>\n      <td>False</td>\n      <td>False</td>\n      <td>False</td>\n      <td>False</td>\n      <td>False</td>\n      <td>False</td>\n      <td>True</td>\n      <td>True</td>\n      <td>False</td>\n      <td>True</td>\n      <td>False</td>\n      <td>False</td>\n      <td>False</td>\n    </tr>\n    <tr>\n      <th>4</th>\n      <td>False</td>\n      <td>False</td>\n      <td>False</td>\n      <td>False</td>\n      <td>False</td>\n      <td>False</td>\n      <td>False</td>\n      <td>True</td>\n      <td>True</td>\n      <td>False</td>\n      <td>True</td>\n      <td>False</td>\n      <td>False</td>\n      <td>False</td>\n    </tr>\n    <tr>\n      <th>...</th>\n      <td>...</td>\n      <td>...</td>\n      <td>...</td>\n      <td>...</td>\n      <td>...</td>\n      <td>...</td>\n      <td>...</td>\n      <td>...</td>\n      <td>...</td>\n      <td>...</td>\n      <td>...</td>\n      <td>...</td>\n      <td>...</td>\n      <td>...</td>\n    </tr>\n    <tr>\n      <th>868</th>\n      <td>False</td>\n      <td>False</td>\n      <td>True</td>\n      <td>False</td>\n      <td>False</td>\n      <td>False</td>\n      <td>False</td>\n      <td>True</td>\n      <td>False</td>\n      <td>False</td>\n      <td>False</td>\n      <td>False</td>\n      <td>False</td>\n      <td>False</td>\n    </tr>\n    <tr>\n      <th>869</th>\n      <td>False</td>\n      <td>False</td>\n      <td>True</td>\n      <td>False</td>\n      <td>False</td>\n      <td>False</td>\n      <td>False</td>\n      <td>True</td>\n      <td>False</td>\n      <td>False</td>\n      <td>False</td>\n      <td>False</td>\n      <td>False</td>\n      <td>False</td>\n    </tr>\n    <tr>\n      <th>870</th>\n      <td>False</td>\n      <td>False</td>\n      <td>True</td>\n      <td>True</td>\n      <td>False</td>\n      <td>False</td>\n      <td>False</td>\n      <td>True</td>\n      <td>False</td>\n      <td>False</td>\n      <td>False</td>\n      <td>False</td>\n      <td>False</td>\n      <td>False</td>\n    </tr>\n    <tr>\n      <th>871</th>\n      <td>False</td>\n      <td>False</td>\n      <td>True</td>\n      <td>True</td>\n      <td>False</td>\n      <td>False</td>\n      <td>False</td>\n      <td>True</td>\n      <td>False</td>\n      <td>False</td>\n      <td>False</td>\n      <td>False</td>\n      <td>False</td>\n      <td>False</td>\n    </tr>\n    <tr>\n      <th>872</th>\n      <td>False</td>\n      <td>False</td>\n      <td>True</td>\n      <td>True</td>\n      <td>False</td>\n      <td>False</td>\n      <td>False</td>\n      <td>True</td>\n      <td>False</td>\n      <td>False</td>\n      <td>False</td>\n      <td>False</td>\n      <td>False</td>\n      <td>False</td>\n    </tr>\n  </tbody>\n</table>\n<p>873 rows × 14 columns</p>\n</div>"
     },
     "metadata": {},
     "output_type": "execute_result",
     "execution_count": 18
    }
   ],
   "source": [
    "te = TransactionEncoder()\n",
    "te_ary = te.fit(winningCombinations).transform(winningCombinations)\n",
    "df_fixed_mapFreqSetsWinner = pd.DataFrame(te_ary, columns=te.columns_)\n",
    "df_fixed_mapFreqSetsWinner"
   ],
   "metadata": {
    "collapsed": false,
    "pycharm": {
     "name": "#%%\n",
     "is_executing": false
    }
   }
  },
  {
   "cell_type": "code",
   "execution_count": 19,
   "outputs": [],
   "source": [
    "frequent_itemsets_winner = apriori(df_fixed_mapFreqSetsWinner, min_support=0.001, use_colnames=True)\n",
    "frequent_itemsets_winner['length'] = frequent_itemsets_winner['itemsets'].apply(lambda x: len(x))"
   ],
   "metadata": {
    "collapsed": false,
    "pycharm": {
     "name": "#%%\n",
     "is_executing": false
    }
   }
  },
  {
   "cell_type": "code",
   "execution_count": 20,
   "outputs": [
    {
     "data": {
      "text/plain": "     support                                 itemsets  length\n88  0.077892             (SNIPER_2, SNIPER, SNIPER_3)       3\n80  0.067583             (SUPPORTER, FIGHTER, SNIPER)       3\n68  0.058419            (SUPPORTER, SNIPER, ASSASSIN)       3\n89  0.058419            (SUPPORTER, SNIPER_2, SNIPER)       3\n86  0.046964         (SUPPORTER, HEAVYWEIGHT, SNIPER)       3\n67  0.036655             (SNIPER_2, SNIPER, ASSASSIN)       3\n90  0.035510         (SUPPORTER, SUPPORTER_2, SNIPER)       3\n63  0.029782              (FIGHTER, SNIPER, ASSASSIN)       3\n66  0.017182       (SUPPORTER, HEAVYWEIGHT, ASSASSIN)       3\n92  0.016037    (SUPPORTER, SUPPORTER_2, SUPPORTER_3)       3\n65  0.013746          (SNIPER, HEAVYWEIGHT, ASSASSIN)       3\n79  0.011455              (FIGHTER, SNIPER_2, SNIPER)       3\n85  0.011455          (SNIPER_2, HEAVYWEIGHT, SNIPER)       3\n64  0.011455           (SUPPORTER, FIGHTER, ASSASSIN)       3\n74  0.010309             (FIGHTER, FIGHTER_2, SNIPER)       3\n77  0.008018        (SUPPORTER, FIGHTER, HEAVYWEIGHT)       3\n76  0.008018           (FIGHTER, HEAVYWEIGHT, SNIPER)       3\n70  0.008018       (SUPPORTER, SUPPORTER_2, ASSASSIN)       3\n62  0.006873         (FIGHTER, HEAVYWEIGHT, ASSASSIN)       3\n82  0.005727        (SUPPORTER, FIGHTER, SUPPORTER_2)       3\n91  0.004582             (SUPPORTER, THROWER, SNIPER)       3\n60  0.003436           (ASSASSIN_2, SNIPER, ASSASSIN)       3\n87  0.002291    (SUPPORTER, SUPPORTER_2, HEAVYWEIGHT)       3\n58  0.002291          (FIGHTER, ASSASSIN_2, ASSASSIN)       3\n78  0.002291          (FIGHTER, THROWER, HEAVYWEIGHT)       3\n69  0.002291              (THROWER, SNIPER, ASSASSIN)       3\n61  0.002291        (SUPPORTER, ASSASSIN_2, ASSASSIN)       3\n93  0.002291        (SUPPORTER, SUPPORTER_2, THROWER)       3\n81  0.001145               (FIGHTER, THROWER, SNIPER)       3\n83  0.001145     (HEAVYWEIGHT_2, HEAVYWEIGHT, SNIPER)       3\n84  0.001145  (SUPPORTER, HEAVYWEIGHT, HEAVYWEIGHT_2)       3\n59  0.001145      (ASSASSIN_2, HEAVYWEIGHT, ASSASSIN)       3\n75  0.001145          (SUPPORTER, FIGHTER, FIGHTER_2)       3\n73  0.001145        (FIGHTER, FIGHTER_2, HEAVYWEIGHT)       3\n72  0.001145          (FIGHTER, FIGHTER_2, FIGHTER_3)       3\n71  0.001145           (SUPPORTER, THROWER, ASSASSIN)       3",
      "text/html": "<div>\n<style scoped>\n    .dataframe tbody tr th:only-of-type {\n        vertical-align: middle;\n    }\n\n    .dataframe tbody tr th {\n        vertical-align: top;\n    }\n\n    .dataframe thead th {\n        text-align: right;\n    }\n</style>\n<table border=\"1\" class=\"dataframe\">\n  <thead>\n    <tr style=\"text-align: right;\">\n      <th></th>\n      <th>support</th>\n      <th>itemsets</th>\n      <th>length</th>\n    </tr>\n  </thead>\n  <tbody>\n    <tr>\n      <th>88</th>\n      <td>0.077892</td>\n      <td>(SNIPER_2, SNIPER, SNIPER_3)</td>\n      <td>3</td>\n    </tr>\n    <tr>\n      <th>80</th>\n      <td>0.067583</td>\n      <td>(SUPPORTER, FIGHTER, SNIPER)</td>\n      <td>3</td>\n    </tr>\n    <tr>\n      <th>68</th>\n      <td>0.058419</td>\n      <td>(SUPPORTER, SNIPER, ASSASSIN)</td>\n      <td>3</td>\n    </tr>\n    <tr>\n      <th>89</th>\n      <td>0.058419</td>\n      <td>(SUPPORTER, SNIPER_2, SNIPER)</td>\n      <td>3</td>\n    </tr>\n    <tr>\n      <th>86</th>\n      <td>0.046964</td>\n      <td>(SUPPORTER, HEAVYWEIGHT, SNIPER)</td>\n      <td>3</td>\n    </tr>\n    <tr>\n      <th>67</th>\n      <td>0.036655</td>\n      <td>(SNIPER_2, SNIPER, ASSASSIN)</td>\n      <td>3</td>\n    </tr>\n    <tr>\n      <th>90</th>\n      <td>0.035510</td>\n      <td>(SUPPORTER, SUPPORTER_2, SNIPER)</td>\n      <td>3</td>\n    </tr>\n    <tr>\n      <th>63</th>\n      <td>0.029782</td>\n      <td>(FIGHTER, SNIPER, ASSASSIN)</td>\n      <td>3</td>\n    </tr>\n    <tr>\n      <th>66</th>\n      <td>0.017182</td>\n      <td>(SUPPORTER, HEAVYWEIGHT, ASSASSIN)</td>\n      <td>3</td>\n    </tr>\n    <tr>\n      <th>92</th>\n      <td>0.016037</td>\n      <td>(SUPPORTER, SUPPORTER_2, SUPPORTER_3)</td>\n      <td>3</td>\n    </tr>\n    <tr>\n      <th>65</th>\n      <td>0.013746</td>\n      <td>(SNIPER, HEAVYWEIGHT, ASSASSIN)</td>\n      <td>3</td>\n    </tr>\n    <tr>\n      <th>79</th>\n      <td>0.011455</td>\n      <td>(FIGHTER, SNIPER_2, SNIPER)</td>\n      <td>3</td>\n    </tr>\n    <tr>\n      <th>85</th>\n      <td>0.011455</td>\n      <td>(SNIPER_2, HEAVYWEIGHT, SNIPER)</td>\n      <td>3</td>\n    </tr>\n    <tr>\n      <th>64</th>\n      <td>0.011455</td>\n      <td>(SUPPORTER, FIGHTER, ASSASSIN)</td>\n      <td>3</td>\n    </tr>\n    <tr>\n      <th>74</th>\n      <td>0.010309</td>\n      <td>(FIGHTER, FIGHTER_2, SNIPER)</td>\n      <td>3</td>\n    </tr>\n    <tr>\n      <th>77</th>\n      <td>0.008018</td>\n      <td>(SUPPORTER, FIGHTER, HEAVYWEIGHT)</td>\n      <td>3</td>\n    </tr>\n    <tr>\n      <th>76</th>\n      <td>0.008018</td>\n      <td>(FIGHTER, HEAVYWEIGHT, SNIPER)</td>\n      <td>3</td>\n    </tr>\n    <tr>\n      <th>70</th>\n      <td>0.008018</td>\n      <td>(SUPPORTER, SUPPORTER_2, ASSASSIN)</td>\n      <td>3</td>\n    </tr>\n    <tr>\n      <th>62</th>\n      <td>0.006873</td>\n      <td>(FIGHTER, HEAVYWEIGHT, ASSASSIN)</td>\n      <td>3</td>\n    </tr>\n    <tr>\n      <th>82</th>\n      <td>0.005727</td>\n      <td>(SUPPORTER, FIGHTER, SUPPORTER_2)</td>\n      <td>3</td>\n    </tr>\n    <tr>\n      <th>91</th>\n      <td>0.004582</td>\n      <td>(SUPPORTER, THROWER, SNIPER)</td>\n      <td>3</td>\n    </tr>\n    <tr>\n      <th>60</th>\n      <td>0.003436</td>\n      <td>(ASSASSIN_2, SNIPER, ASSASSIN)</td>\n      <td>3</td>\n    </tr>\n    <tr>\n      <th>87</th>\n      <td>0.002291</td>\n      <td>(SUPPORTER, SUPPORTER_2, HEAVYWEIGHT)</td>\n      <td>3</td>\n    </tr>\n    <tr>\n      <th>58</th>\n      <td>0.002291</td>\n      <td>(FIGHTER, ASSASSIN_2, ASSASSIN)</td>\n      <td>3</td>\n    </tr>\n    <tr>\n      <th>78</th>\n      <td>0.002291</td>\n      <td>(FIGHTER, THROWER, HEAVYWEIGHT)</td>\n      <td>3</td>\n    </tr>\n    <tr>\n      <th>69</th>\n      <td>0.002291</td>\n      <td>(THROWER, SNIPER, ASSASSIN)</td>\n      <td>3</td>\n    </tr>\n    <tr>\n      <th>61</th>\n      <td>0.002291</td>\n      <td>(SUPPORTER, ASSASSIN_2, ASSASSIN)</td>\n      <td>3</td>\n    </tr>\n    <tr>\n      <th>93</th>\n      <td>0.002291</td>\n      <td>(SUPPORTER, SUPPORTER_2, THROWER)</td>\n      <td>3</td>\n    </tr>\n    <tr>\n      <th>81</th>\n      <td>0.001145</td>\n      <td>(FIGHTER, THROWER, SNIPER)</td>\n      <td>3</td>\n    </tr>\n    <tr>\n      <th>83</th>\n      <td>0.001145</td>\n      <td>(HEAVYWEIGHT_2, HEAVYWEIGHT, SNIPER)</td>\n      <td>3</td>\n    </tr>\n    <tr>\n      <th>84</th>\n      <td>0.001145</td>\n      <td>(SUPPORTER, HEAVYWEIGHT, HEAVYWEIGHT_2)</td>\n      <td>3</td>\n    </tr>\n    <tr>\n      <th>59</th>\n      <td>0.001145</td>\n      <td>(ASSASSIN_2, HEAVYWEIGHT, ASSASSIN)</td>\n      <td>3</td>\n    </tr>\n    <tr>\n      <th>75</th>\n      <td>0.001145</td>\n      <td>(SUPPORTER, FIGHTER, FIGHTER_2)</td>\n      <td>3</td>\n    </tr>\n    <tr>\n      <th>73</th>\n      <td>0.001145</td>\n      <td>(FIGHTER, FIGHTER_2, HEAVYWEIGHT)</td>\n      <td>3</td>\n    </tr>\n    <tr>\n      <th>72</th>\n      <td>0.001145</td>\n      <td>(FIGHTER, FIGHTER_2, FIGHTER_3)</td>\n      <td>3</td>\n    </tr>\n    <tr>\n      <th>71</th>\n      <td>0.001145</td>\n      <td>(SUPPORTER, THROWER, ASSASSIN)</td>\n      <td>3</td>\n    </tr>\n  </tbody>\n</table>\n</div>"
     },
     "metadata": {},
     "output_type": "execute_result",
     "execution_count": 20
    }
   ],
   "source": [
    "frequent_itemsets_winner[ (frequent_itemsets_winner['length'] == 3) ].sort_values(by=[\"support\"], ascending=False)"
   ],
   "metadata": {
    "collapsed": false,
    "pycharm": {
     "name": "#%%\n",
     "is_executing": false
    }
   }
  },
  {
   "cell_type": "markdown",
   "source": [
    "# Find Frequent Loosing Combinations of Brawler Types\n",
    "###### We want to find the frequent loosing combinations of brawler types. This is done by computing the frequent itemsets."
   ],
   "metadata": {
    "collapsed": false
   }
  },
  {
   "cell_type": "code",
   "execution_count": 21,
   "outputs": [],
   "source": [
    "loosingCombinations = []\n",
    "counter = 0\n",
    "for index, row in df_fixed_map.iterrows():\n",
    "    team = []\n",
    "    if row[\"WinningTeam\"] == 1 and row[\"result\"] != 0:\n",
    "        team.append(row[\"Brawler4Type\"])\n",
    "        team.append(row[\"Brawler5Type\"])\n",
    "        team.append(row[\"Brawler6Type\"])\n",
    "    elif row[\"result\"] != 0:\n",
    "        team.append(row[\"Brawler1Type\"])\n",
    "        team.append(row[\"Brawler2Type\"])\n",
    "        team.append(row[\"Brawler3Type\"])\n",
    "\n",
    "    if len(team) != 0:\n",
    "        loosingCombinations.append(team)"
   ],
   "metadata": {
    "collapsed": false,
    "pycharm": {
     "name": "#%%\n",
     "is_executing": false
    }
   }
  },
  {
   "cell_type": "code",
   "execution_count": 22,
   "outputs": [
    {
     "data": {
      "text/plain": "     ASSASSIN  ASSASSIN_2  ASSASSIN_3  FIGHTER  FIGHTER_2  FIGHTER_3  \\\n0       False       False       False     True      False      False   \n1       False       False       False    False      False      False   \n2       False       False       False    False      False      False   \n3       False       False       False    False      False      False   \n4       False       False       False    False      False      False   \n..        ...         ...         ...      ...        ...        ...   \n868      True       False       False    False      False      False   \n869     False       False       False     True      False      False   \n870     False       False       False     True      False      False   \n871      True       False       False    False      False      False   \n872      True       False       False    False      False      False   \n\n     HEAVYWEIGHT  HEAVYWEIGHT_2  HEAVYWEIGHT_3  SNIPER  SNIPER_2  SNIPER_3  \\\n0          False          False          False    True     False     False   \n1          False          False          False    True     False     False   \n2          False          False          False    True     False     False   \n3           True          False          False   False     False     False   \n4           True          False          False    True     False     False   \n..           ...            ...            ...     ...       ...       ...   \n868        False          False          False    True      True     False   \n869         True          False          False   False     False     False   \n870        False          False          False    True     False     False   \n871         True          False          False   False     False     False   \n872        False          False          False    True     False     False   \n\n     SUPPORTER  SUPPORTER_2  SUPPORTER_3  THROWER  \n0        False        False        False    False  \n1         True        False        False    False  \n2         True        False        False    False  \n3         True        False        False    False  \n4        False        False        False    False  \n..         ...          ...          ...      ...  \n868      False        False        False    False  \n869       True        False        False    False  \n870       True        False        False    False  \n871       True        False        False    False  \n872       True        False        False    False  \n\n[873 rows x 16 columns]",
      "text/html": "<div>\n<style scoped>\n    .dataframe tbody tr th:only-of-type {\n        vertical-align: middle;\n    }\n\n    .dataframe tbody tr th {\n        vertical-align: top;\n    }\n\n    .dataframe thead th {\n        text-align: right;\n    }\n</style>\n<table border=\"1\" class=\"dataframe\">\n  <thead>\n    <tr style=\"text-align: right;\">\n      <th></th>\n      <th>ASSASSIN</th>\n      <th>ASSASSIN_2</th>\n      <th>ASSASSIN_3</th>\n      <th>FIGHTER</th>\n      <th>FIGHTER_2</th>\n      <th>FIGHTER_3</th>\n      <th>HEAVYWEIGHT</th>\n      <th>HEAVYWEIGHT_2</th>\n      <th>HEAVYWEIGHT_3</th>\n      <th>SNIPER</th>\n      <th>SNIPER_2</th>\n      <th>SNIPER_3</th>\n      <th>SUPPORTER</th>\n      <th>SUPPORTER_2</th>\n      <th>SUPPORTER_3</th>\n      <th>THROWER</th>\n    </tr>\n  </thead>\n  <tbody>\n    <tr>\n      <th>0</th>\n      <td>False</td>\n      <td>False</td>\n      <td>False</td>\n      <td>True</td>\n      <td>False</td>\n      <td>False</td>\n      <td>False</td>\n      <td>False</td>\n      <td>False</td>\n      <td>True</td>\n      <td>False</td>\n      <td>False</td>\n      <td>False</td>\n      <td>False</td>\n      <td>False</td>\n      <td>False</td>\n    </tr>\n    <tr>\n      <th>1</th>\n      <td>False</td>\n      <td>False</td>\n      <td>False</td>\n      <td>False</td>\n      <td>False</td>\n      <td>False</td>\n      <td>False</td>\n      <td>False</td>\n      <td>False</td>\n      <td>True</td>\n      <td>False</td>\n      <td>False</td>\n      <td>True</td>\n      <td>False</td>\n      <td>False</td>\n      <td>False</td>\n    </tr>\n    <tr>\n      <th>2</th>\n      <td>False</td>\n      <td>False</td>\n      <td>False</td>\n      <td>False</td>\n      <td>False</td>\n      <td>False</td>\n      <td>False</td>\n      <td>False</td>\n      <td>False</td>\n      <td>True</td>\n      <td>False</td>\n      <td>False</td>\n      <td>True</td>\n      <td>False</td>\n      <td>False</td>\n      <td>False</td>\n    </tr>\n    <tr>\n      <th>3</th>\n      <td>False</td>\n      <td>False</td>\n      <td>False</td>\n      <td>False</td>\n      <td>False</td>\n      <td>False</td>\n      <td>True</td>\n      <td>False</td>\n      <td>False</td>\n      <td>False</td>\n      <td>False</td>\n      <td>False</td>\n      <td>True</td>\n      <td>False</td>\n      <td>False</td>\n      <td>False</td>\n    </tr>\n    <tr>\n      <th>4</th>\n      <td>False</td>\n      <td>False</td>\n      <td>False</td>\n      <td>False</td>\n      <td>False</td>\n      <td>False</td>\n      <td>True</td>\n      <td>False</td>\n      <td>False</td>\n      <td>True</td>\n      <td>False</td>\n      <td>False</td>\n      <td>False</td>\n      <td>False</td>\n      <td>False</td>\n      <td>False</td>\n    </tr>\n    <tr>\n      <th>...</th>\n      <td>...</td>\n      <td>...</td>\n      <td>...</td>\n      <td>...</td>\n      <td>...</td>\n      <td>...</td>\n      <td>...</td>\n      <td>...</td>\n      <td>...</td>\n      <td>...</td>\n      <td>...</td>\n      <td>...</td>\n      <td>...</td>\n      <td>...</td>\n      <td>...</td>\n      <td>...</td>\n    </tr>\n    <tr>\n      <th>868</th>\n      <td>True</td>\n      <td>False</td>\n      <td>False</td>\n      <td>False</td>\n      <td>False</td>\n      <td>False</td>\n      <td>False</td>\n      <td>False</td>\n      <td>False</td>\n      <td>True</td>\n      <td>True</td>\n      <td>False</td>\n      <td>False</td>\n      <td>False</td>\n      <td>False</td>\n      <td>False</td>\n    </tr>\n    <tr>\n      <th>869</th>\n      <td>False</td>\n      <td>False</td>\n      <td>False</td>\n      <td>True</td>\n      <td>False</td>\n      <td>False</td>\n      <td>True</td>\n      <td>False</td>\n      <td>False</td>\n      <td>False</td>\n      <td>False</td>\n      <td>False</td>\n      <td>True</td>\n      <td>False</td>\n      <td>False</td>\n      <td>False</td>\n    </tr>\n    <tr>\n      <th>870</th>\n      <td>False</td>\n      <td>False</td>\n      <td>False</td>\n      <td>True</td>\n      <td>False</td>\n      <td>False</td>\n      <td>False</td>\n      <td>False</td>\n      <td>False</td>\n      <td>True</td>\n      <td>False</td>\n      <td>False</td>\n      <td>True</td>\n      <td>False</td>\n      <td>False</td>\n      <td>False</td>\n    </tr>\n    <tr>\n      <th>871</th>\n      <td>True</td>\n      <td>False</td>\n      <td>False</td>\n      <td>False</td>\n      <td>False</td>\n      <td>False</td>\n      <td>True</td>\n      <td>False</td>\n      <td>False</td>\n      <td>False</td>\n      <td>False</td>\n      <td>False</td>\n      <td>True</td>\n      <td>False</td>\n      <td>False</td>\n      <td>False</td>\n    </tr>\n    <tr>\n      <th>872</th>\n      <td>True</td>\n      <td>False</td>\n      <td>False</td>\n      <td>False</td>\n      <td>False</td>\n      <td>False</td>\n      <td>False</td>\n      <td>False</td>\n      <td>False</td>\n      <td>True</td>\n      <td>False</td>\n      <td>False</td>\n      <td>True</td>\n      <td>False</td>\n      <td>False</td>\n      <td>False</td>\n    </tr>\n  </tbody>\n</table>\n<p>873 rows × 16 columns</p>\n</div>"
     },
     "metadata": {},
     "output_type": "execute_result",
     "execution_count": 22
    }
   ],
   "source": [
    "te = TransactionEncoder()\n",
    "te_ary = te.fit(loosingCombinations).transform(loosingCombinations)\n",
    "df_fixed_mapFreqSetsLooser = pd.DataFrame(te_ary, columns=te.columns_)\n",
    "df_fixed_mapFreqSetsLooser"
   ],
   "metadata": {
    "collapsed": false,
    "pycharm": {
     "name": "#%%\n",
     "is_executing": false
    }
   }
  },
  {
   "cell_type": "code",
   "execution_count": 23,
   "outputs": [],
   "source": [
    "frequent_itemsets_looser = apriori(df_fixed_mapFreqSetsLooser, min_support=0.001, use_colnames=True)\n",
    "frequent_itemsets_looser['length'] = frequent_itemsets_looser['itemsets'].apply(lambda x: len(x))"
   ],
   "metadata": {
    "collapsed": false,
    "pycharm": {
     "name": "#%%\n",
     "is_executing": false
    }
   }
  },
  {
   "cell_type": "code",
   "execution_count": 24,
   "outputs": [
    {
     "data": {
      "text/plain": "      support                                     itemsets  length\n83   0.087056                (SUPPORTER, SNIPER, ASSASSIN)       3\n95   0.080183                 (SUPPORTER, FIGHTER, SNIPER)       3\n107  0.063001                (SUPPORTER, SNIPER_2, SNIPER)       3\n102  0.049255             (SUPPORTER, HEAVYWEIGHT, SNIPER)       3\n75   0.043528                  (FIGHTER, SNIPER, ASSASSIN)       3\n79   0.042383              (HEAVYWEIGHT, SNIPER, ASSASSIN)       3\n76   0.036655               (SUPPORTER, FIGHTER, ASSASSIN)       3\n82   0.036655                 (SNIPER_2, SNIPER, ASSASSIN)       3\n74   0.035510             (FIGHTER, HEAVYWEIGHT, ASSASSIN)       3\n109  0.032073             (SUPPORTER, SUPPORTER_2, SNIPER)       3\n91   0.030928               (FIGHTER, HEAVYWEIGHT, SNIPER)       3\n80   0.030928           (SUPPORTER, HEAVYWEIGHT, ASSASSIN)       3\n92   0.029782            (SUPPORTER, FIGHTER, HEAVYWEIGHT)       3\n106  0.022910                 (SNIPER_2, SNIPER, SNIPER_3)       3\n94   0.022910                  (FIGHTER, SNIPER_2, SNIPER)       3\n71   0.020619               (ASSASSIN_2, SNIPER, ASSASSIN)       3\n97   0.012600            (SUPPORTER, FIGHTER, SUPPORTER_2)       3\n73   0.011455               (FIGHTER, FIGHTER_2, ASSASSIN)       3\n78   0.010309       (HEAVYWEIGHT_2, HEAVYWEIGHT, ASSASSIN)       3\n85   0.010309           (SUPPORTER, SUPPORTER_2, ASSASSIN)       3\n104  0.006873        (SUPPORTER, SUPPORTER_2, HEAVYWEIGHT)       3\n101  0.006873              (HEAVYWEIGHT, SNIPER_2, SNIPER)       3\n88   0.006873                 (FIGHTER, FIGHTER_2, SNIPER)       3\n72   0.006873            (SUPPORTER, ASSASSIN_2, ASSASSIN)       3\n111  0.006873        (SUPPORTER, SUPPORTER_2, SUPPORTER_3)       3\n110  0.005727                 (SUPPORTER, THROWER, SNIPER)       3\n70   0.004582          (ASSASSIN_2, HEAVYWEIGHT, ASSASSIN)       3\n69   0.003436              (FIGHTER, ASSASSIN_2, ASSASSIN)       3\n89   0.003436              (SUPPORTER, FIGHTER, FIGHTER_2)       3\n103  0.003436               (HEAVYWEIGHT, THROWER, SNIPER)       3\n100  0.003436      (SUPPORTER, HEAVYWEIGHT, HEAVYWEIGHT_2)       3\n99   0.003436         (HEAVYWEIGHT_2, HEAVYWEIGHT, SNIPER)       3\n86   0.003436              (FIGHTER, FIGHTER_2, FIGHTER_3)       3\n96   0.002291                   (FIGHTER, THROWER, SNIPER)       3\n81   0.002291             (THROWER, HEAVYWEIGHT, ASSASSIN)       3\n87   0.002291            (FIGHTER, FIGHTER_2, HEAVYWEIGHT)       3\n77   0.002291                 (FIGHTER, THROWER, ASSASSIN)       3\n93   0.002291              (FIGHTER, THROWER, HEAVYWEIGHT)       3\n90   0.002291        (HEAVYWEIGHT_2, FIGHTER, HEAVYWEIGHT)       3\n108  0.001145                  (SNIPER_2, SNIPER, THROWER)       3\n68   0.001145           (ASSASSIN_2, ASSASSIN_3, ASSASSIN)       3\n105  0.001145            (SUPPORTER, THROWER, HEAVYWEIGHT)       3\n98   0.001145  (HEAVYWEIGHT_3, HEAVYWEIGHT, HEAVYWEIGHT_2)       3\n84   0.001145                  (THROWER, SNIPER, ASSASSIN)       3\n112  0.001145            (SUPPORTER, SUPPORTER_2, THROWER)       3",
      "text/html": "<div>\n<style scoped>\n    .dataframe tbody tr th:only-of-type {\n        vertical-align: middle;\n    }\n\n    .dataframe tbody tr th {\n        vertical-align: top;\n    }\n\n    .dataframe thead th {\n        text-align: right;\n    }\n</style>\n<table border=\"1\" class=\"dataframe\">\n  <thead>\n    <tr style=\"text-align: right;\">\n      <th></th>\n      <th>support</th>\n      <th>itemsets</th>\n      <th>length</th>\n    </tr>\n  </thead>\n  <tbody>\n    <tr>\n      <th>83</th>\n      <td>0.087056</td>\n      <td>(SUPPORTER, SNIPER, ASSASSIN)</td>\n      <td>3</td>\n    </tr>\n    <tr>\n      <th>95</th>\n      <td>0.080183</td>\n      <td>(SUPPORTER, FIGHTER, SNIPER)</td>\n      <td>3</td>\n    </tr>\n    <tr>\n      <th>107</th>\n      <td>0.063001</td>\n      <td>(SUPPORTER, SNIPER_2, SNIPER)</td>\n      <td>3</td>\n    </tr>\n    <tr>\n      <th>102</th>\n      <td>0.049255</td>\n      <td>(SUPPORTER, HEAVYWEIGHT, SNIPER)</td>\n      <td>3</td>\n    </tr>\n    <tr>\n      <th>75</th>\n      <td>0.043528</td>\n      <td>(FIGHTER, SNIPER, ASSASSIN)</td>\n      <td>3</td>\n    </tr>\n    <tr>\n      <th>79</th>\n      <td>0.042383</td>\n      <td>(HEAVYWEIGHT, SNIPER, ASSASSIN)</td>\n      <td>3</td>\n    </tr>\n    <tr>\n      <th>76</th>\n      <td>0.036655</td>\n      <td>(SUPPORTER, FIGHTER, ASSASSIN)</td>\n      <td>3</td>\n    </tr>\n    <tr>\n      <th>82</th>\n      <td>0.036655</td>\n      <td>(SNIPER_2, SNIPER, ASSASSIN)</td>\n      <td>3</td>\n    </tr>\n    <tr>\n      <th>74</th>\n      <td>0.035510</td>\n      <td>(FIGHTER, HEAVYWEIGHT, ASSASSIN)</td>\n      <td>3</td>\n    </tr>\n    <tr>\n      <th>109</th>\n      <td>0.032073</td>\n      <td>(SUPPORTER, SUPPORTER_2, SNIPER)</td>\n      <td>3</td>\n    </tr>\n    <tr>\n      <th>91</th>\n      <td>0.030928</td>\n      <td>(FIGHTER, HEAVYWEIGHT, SNIPER)</td>\n      <td>3</td>\n    </tr>\n    <tr>\n      <th>80</th>\n      <td>0.030928</td>\n      <td>(SUPPORTER, HEAVYWEIGHT, ASSASSIN)</td>\n      <td>3</td>\n    </tr>\n    <tr>\n      <th>92</th>\n      <td>0.029782</td>\n      <td>(SUPPORTER, FIGHTER, HEAVYWEIGHT)</td>\n      <td>3</td>\n    </tr>\n    <tr>\n      <th>106</th>\n      <td>0.022910</td>\n      <td>(SNIPER_2, SNIPER, SNIPER_3)</td>\n      <td>3</td>\n    </tr>\n    <tr>\n      <th>94</th>\n      <td>0.022910</td>\n      <td>(FIGHTER, SNIPER_2, SNIPER)</td>\n      <td>3</td>\n    </tr>\n    <tr>\n      <th>71</th>\n      <td>0.020619</td>\n      <td>(ASSASSIN_2, SNIPER, ASSASSIN)</td>\n      <td>3</td>\n    </tr>\n    <tr>\n      <th>97</th>\n      <td>0.012600</td>\n      <td>(SUPPORTER, FIGHTER, SUPPORTER_2)</td>\n      <td>3</td>\n    </tr>\n    <tr>\n      <th>73</th>\n      <td>0.011455</td>\n      <td>(FIGHTER, FIGHTER_2, ASSASSIN)</td>\n      <td>3</td>\n    </tr>\n    <tr>\n      <th>78</th>\n      <td>0.010309</td>\n      <td>(HEAVYWEIGHT_2, HEAVYWEIGHT, ASSASSIN)</td>\n      <td>3</td>\n    </tr>\n    <tr>\n      <th>85</th>\n      <td>0.010309</td>\n      <td>(SUPPORTER, SUPPORTER_2, ASSASSIN)</td>\n      <td>3</td>\n    </tr>\n    <tr>\n      <th>104</th>\n      <td>0.006873</td>\n      <td>(SUPPORTER, SUPPORTER_2, HEAVYWEIGHT)</td>\n      <td>3</td>\n    </tr>\n    <tr>\n      <th>101</th>\n      <td>0.006873</td>\n      <td>(HEAVYWEIGHT, SNIPER_2, SNIPER)</td>\n      <td>3</td>\n    </tr>\n    <tr>\n      <th>88</th>\n      <td>0.006873</td>\n      <td>(FIGHTER, FIGHTER_2, SNIPER)</td>\n      <td>3</td>\n    </tr>\n    <tr>\n      <th>72</th>\n      <td>0.006873</td>\n      <td>(SUPPORTER, ASSASSIN_2, ASSASSIN)</td>\n      <td>3</td>\n    </tr>\n    <tr>\n      <th>111</th>\n      <td>0.006873</td>\n      <td>(SUPPORTER, SUPPORTER_2, SUPPORTER_3)</td>\n      <td>3</td>\n    </tr>\n    <tr>\n      <th>110</th>\n      <td>0.005727</td>\n      <td>(SUPPORTER, THROWER, SNIPER)</td>\n      <td>3</td>\n    </tr>\n    <tr>\n      <th>70</th>\n      <td>0.004582</td>\n      <td>(ASSASSIN_2, HEAVYWEIGHT, ASSASSIN)</td>\n      <td>3</td>\n    </tr>\n    <tr>\n      <th>69</th>\n      <td>0.003436</td>\n      <td>(FIGHTER, ASSASSIN_2, ASSASSIN)</td>\n      <td>3</td>\n    </tr>\n    <tr>\n      <th>89</th>\n      <td>0.003436</td>\n      <td>(SUPPORTER, FIGHTER, FIGHTER_2)</td>\n      <td>3</td>\n    </tr>\n    <tr>\n      <th>103</th>\n      <td>0.003436</td>\n      <td>(HEAVYWEIGHT, THROWER, SNIPER)</td>\n      <td>3</td>\n    </tr>\n    <tr>\n      <th>100</th>\n      <td>0.003436</td>\n      <td>(SUPPORTER, HEAVYWEIGHT, HEAVYWEIGHT_2)</td>\n      <td>3</td>\n    </tr>\n    <tr>\n      <th>99</th>\n      <td>0.003436</td>\n      <td>(HEAVYWEIGHT_2, HEAVYWEIGHT, SNIPER)</td>\n      <td>3</td>\n    </tr>\n    <tr>\n      <th>86</th>\n      <td>0.003436</td>\n      <td>(FIGHTER, FIGHTER_2, FIGHTER_3)</td>\n      <td>3</td>\n    </tr>\n    <tr>\n      <th>96</th>\n      <td>0.002291</td>\n      <td>(FIGHTER, THROWER, SNIPER)</td>\n      <td>3</td>\n    </tr>\n    <tr>\n      <th>81</th>\n      <td>0.002291</td>\n      <td>(THROWER, HEAVYWEIGHT, ASSASSIN)</td>\n      <td>3</td>\n    </tr>\n    <tr>\n      <th>87</th>\n      <td>0.002291</td>\n      <td>(FIGHTER, FIGHTER_2, HEAVYWEIGHT)</td>\n      <td>3</td>\n    </tr>\n    <tr>\n      <th>77</th>\n      <td>0.002291</td>\n      <td>(FIGHTER, THROWER, ASSASSIN)</td>\n      <td>3</td>\n    </tr>\n    <tr>\n      <th>93</th>\n      <td>0.002291</td>\n      <td>(FIGHTER, THROWER, HEAVYWEIGHT)</td>\n      <td>3</td>\n    </tr>\n    <tr>\n      <th>90</th>\n      <td>0.002291</td>\n      <td>(HEAVYWEIGHT_2, FIGHTER, HEAVYWEIGHT)</td>\n      <td>3</td>\n    </tr>\n    <tr>\n      <th>108</th>\n      <td>0.001145</td>\n      <td>(SNIPER_2, SNIPER, THROWER)</td>\n      <td>3</td>\n    </tr>\n    <tr>\n      <th>68</th>\n      <td>0.001145</td>\n      <td>(ASSASSIN_2, ASSASSIN_3, ASSASSIN)</td>\n      <td>3</td>\n    </tr>\n    <tr>\n      <th>105</th>\n      <td>0.001145</td>\n      <td>(SUPPORTER, THROWER, HEAVYWEIGHT)</td>\n      <td>3</td>\n    </tr>\n    <tr>\n      <th>98</th>\n      <td>0.001145</td>\n      <td>(HEAVYWEIGHT_3, HEAVYWEIGHT, HEAVYWEIGHT_2)</td>\n      <td>3</td>\n    </tr>\n    <tr>\n      <th>84</th>\n      <td>0.001145</td>\n      <td>(THROWER, SNIPER, ASSASSIN)</td>\n      <td>3</td>\n    </tr>\n    <tr>\n      <th>112</th>\n      <td>0.001145</td>\n      <td>(SUPPORTER, SUPPORTER_2, THROWER)</td>\n      <td>3</td>\n    </tr>\n  </tbody>\n</table>\n</div>"
     },
     "metadata": {},
     "output_type": "execute_result",
     "execution_count": 24
    }
   ],
   "source": [
    "frequent_itemsets_looser[ (frequent_itemsets_looser['length'] == 3) ].sort_values(by=[\"support\"], ascending=False)\n",
    "\n"
   ],
   "metadata": {
    "collapsed": false,
    "pycharm": {
     "name": "#%%\n",
     "is_executing": false
    }
   }
  },
  {
   "cell_type": "markdown",
   "source": [
    "# Check Winning Percentage for Combinations\n",
    "###### We want to analyze how often a combination wins relatively to the usage of this combination. Therefore we compute the relative winning percentage for every used combination"
   ],
   "metadata": {
    "collapsed": false,
    "pycharm": {
     "name": "#%% md\n"
    }
   }
  },
  {
   "cell_type": "code",
   "execution_count": 25,
   "outputs": [
    {
     "data": {
      "text/plain": "                                   itemsets  winning percentage  times picked\n87             (SNIPER_2, SNIPER, SNIPER_3)            0.748264          94.0\n92        (SUPPORTER, SUPPORTER_2, THROWER)            0.689576           3.0\n69              (THROWER, SNIPER, ASSASSIN)            0.689576           3.0\n91    (SUPPORTER, SUPPORTER_2, SUPPORTER_3)            0.689576          21.0\n84          (SNIPER_2, HEAVYWEIGHT, SNIPER)            0.646478          16.0\n73             (FIGHTER, FIGHTER_2, SNIPER)            0.620619          15.0\n89         (SUPPORTER, SUPPORTER_2, SNIPER)            0.525661          61.0\n77          (FIGHTER, THROWER, HEAVYWEIGHT)            0.517182           4.0\n67             (SNIPER_2, SNIPER, ASSASSIN)            0.509225          65.0\n85         (SUPPORTER, HEAVYWEIGHT, SNIPER)            0.493127          86.0\n88            (SUPPORTER, SNIPER_2, SNIPER)            0.488450         108.0\n90             (SUPPORTER, THROWER, SNIPER)            0.459717           9.0\n79             (SUPPORTER, FIGHTER, SNIPER)            0.448732         136.0\n70       (SUPPORTER, SUPPORTER_2, ASSASSIN)            0.425915          17.0\n63              (FIGHTER, SNIPER, ASSASSIN)            0.420210          64.0\n68            (SUPPORTER, SNIPER, ASSASSIN)            0.399641         132.0\n80               (FIGHTER, THROWER, SNIPER)            0.344788           3.0\n58          (FIGHTER, ASSASSIN_2, ASSASSIN)            0.344788           6.0\n72        (FIGHTER, FIGHTER_2, HEAVYWEIGHT)            0.344788           3.0\n66       (SUPPORTER, HEAVYWEIGHT, ASSASSIN)            0.344788          45.0\n78              (FIGHTER, SNIPER_2, SNIPER)            0.333666          31.0\n81        (SUPPORTER, FIGHTER, SUPPORTER_2)            0.304225          17.0\n71          (FIGHTER, FIGHTER_2, FIGHTER_3)            0.258591           4.0\n74          (SUPPORTER, FIGHTER, FIGHTER_2)            0.258591           4.0\n61        (SUPPORTER, ASSASSIN_2, ASSASSIN)            0.258591           8.0\n83  (SUPPORTER, HEAVYWEIGHT, HEAVYWEIGHT_2)            0.258591           4.0\n65          (SNIPER, HEAVYWEIGHT, ASSASSIN)            0.253314          49.0\n86    (SUPPORTER, SUPPORTER_2, HEAVYWEIGHT)            0.229859           9.0\n64           (SUPPORTER, FIGHTER, ASSASSIN)            0.229859          45.0\n76        (SUPPORTER, FIGHTER, HEAVYWEIGHT)            0.219411          33.0\n59      (ASSASSIN_2, HEAVYWEIGHT, ASSASSIN)            0.206873           5.0\n82     (HEAVYWEIGHT_2, HEAVYWEIGHT, SNIPER)            0.206873           5.0\n75           (FIGHTER, HEAVYWEIGHT, SNIPER)            0.206873          35.0\n62         (FIGHTER, HEAVYWEIGHT, ASSASSIN)            0.167735          37.0\n60           (ASSASSIN_2, SNIPER, ASSASSIN)            0.147766          21.0",
      "text/html": "<div>\n<style scoped>\n    .dataframe tbody tr th:only-of-type {\n        vertical-align: middle;\n    }\n\n    .dataframe tbody tr th {\n        vertical-align: top;\n    }\n\n    .dataframe thead th {\n        text-align: right;\n    }\n</style>\n<table border=\"1\" class=\"dataframe\">\n  <thead>\n    <tr style=\"text-align: right;\">\n      <th></th>\n      <th>itemsets</th>\n      <th>winning percentage</th>\n      <th>times picked</th>\n    </tr>\n  </thead>\n  <tbody>\n    <tr>\n      <th>87</th>\n      <td>(SNIPER_2, SNIPER, SNIPER_3)</td>\n      <td>0.748264</td>\n      <td>94.0</td>\n    </tr>\n    <tr>\n      <th>92</th>\n      <td>(SUPPORTER, SUPPORTER_2, THROWER)</td>\n      <td>0.689576</td>\n      <td>3.0</td>\n    </tr>\n    <tr>\n      <th>69</th>\n      <td>(THROWER, SNIPER, ASSASSIN)</td>\n      <td>0.689576</td>\n      <td>3.0</td>\n    </tr>\n    <tr>\n      <th>91</th>\n      <td>(SUPPORTER, SUPPORTER_2, SUPPORTER_3)</td>\n      <td>0.689576</td>\n      <td>21.0</td>\n    </tr>\n    <tr>\n      <th>84</th>\n      <td>(SNIPER_2, HEAVYWEIGHT, SNIPER)</td>\n      <td>0.646478</td>\n      <td>16.0</td>\n    </tr>\n    <tr>\n      <th>73</th>\n      <td>(FIGHTER, FIGHTER_2, SNIPER)</td>\n      <td>0.620619</td>\n      <td>15.0</td>\n    </tr>\n    <tr>\n      <th>89</th>\n      <td>(SUPPORTER, SUPPORTER_2, SNIPER)</td>\n      <td>0.525661</td>\n      <td>61.0</td>\n    </tr>\n    <tr>\n      <th>77</th>\n      <td>(FIGHTER, THROWER, HEAVYWEIGHT)</td>\n      <td>0.517182</td>\n      <td>4.0</td>\n    </tr>\n    <tr>\n      <th>67</th>\n      <td>(SNIPER_2, SNIPER, ASSASSIN)</td>\n      <td>0.509225</td>\n      <td>65.0</td>\n    </tr>\n    <tr>\n      <th>85</th>\n      <td>(SUPPORTER, HEAVYWEIGHT, SNIPER)</td>\n      <td>0.493127</td>\n      <td>86.0</td>\n    </tr>\n    <tr>\n      <th>88</th>\n      <td>(SUPPORTER, SNIPER_2, SNIPER)</td>\n      <td>0.488450</td>\n      <td>108.0</td>\n    </tr>\n    <tr>\n      <th>90</th>\n      <td>(SUPPORTER, THROWER, SNIPER)</td>\n      <td>0.459717</td>\n      <td>9.0</td>\n    </tr>\n    <tr>\n      <th>79</th>\n      <td>(SUPPORTER, FIGHTER, SNIPER)</td>\n      <td>0.448732</td>\n      <td>136.0</td>\n    </tr>\n    <tr>\n      <th>70</th>\n      <td>(SUPPORTER, SUPPORTER_2, ASSASSIN)</td>\n      <td>0.425915</td>\n      <td>17.0</td>\n    </tr>\n    <tr>\n      <th>63</th>\n      <td>(FIGHTER, SNIPER, ASSASSIN)</td>\n      <td>0.420210</td>\n      <td>64.0</td>\n    </tr>\n    <tr>\n      <th>68</th>\n      <td>(SUPPORTER, SNIPER, ASSASSIN)</td>\n      <td>0.399641</td>\n      <td>132.0</td>\n    </tr>\n    <tr>\n      <th>80</th>\n      <td>(FIGHTER, THROWER, SNIPER)</td>\n      <td>0.344788</td>\n      <td>3.0</td>\n    </tr>\n    <tr>\n      <th>58</th>\n      <td>(FIGHTER, ASSASSIN_2, ASSASSIN)</td>\n      <td>0.344788</td>\n      <td>6.0</td>\n    </tr>\n    <tr>\n      <th>72</th>\n      <td>(FIGHTER, FIGHTER_2, HEAVYWEIGHT)</td>\n      <td>0.344788</td>\n      <td>3.0</td>\n    </tr>\n    <tr>\n      <th>66</th>\n      <td>(SUPPORTER, HEAVYWEIGHT, ASSASSIN)</td>\n      <td>0.344788</td>\n      <td>45.0</td>\n    </tr>\n    <tr>\n      <th>78</th>\n      <td>(FIGHTER, SNIPER_2, SNIPER)</td>\n      <td>0.333666</td>\n      <td>31.0</td>\n    </tr>\n    <tr>\n      <th>81</th>\n      <td>(SUPPORTER, FIGHTER, SUPPORTER_2)</td>\n      <td>0.304225</td>\n      <td>17.0</td>\n    </tr>\n    <tr>\n      <th>71</th>\n      <td>(FIGHTER, FIGHTER_2, FIGHTER_3)</td>\n      <td>0.258591</td>\n      <td>4.0</td>\n    </tr>\n    <tr>\n      <th>74</th>\n      <td>(SUPPORTER, FIGHTER, FIGHTER_2)</td>\n      <td>0.258591</td>\n      <td>4.0</td>\n    </tr>\n    <tr>\n      <th>61</th>\n      <td>(SUPPORTER, ASSASSIN_2, ASSASSIN)</td>\n      <td>0.258591</td>\n      <td>8.0</td>\n    </tr>\n    <tr>\n      <th>83</th>\n      <td>(SUPPORTER, HEAVYWEIGHT, HEAVYWEIGHT_2)</td>\n      <td>0.258591</td>\n      <td>4.0</td>\n    </tr>\n    <tr>\n      <th>65</th>\n      <td>(SNIPER, HEAVYWEIGHT, ASSASSIN)</td>\n      <td>0.253314</td>\n      <td>49.0</td>\n    </tr>\n    <tr>\n      <th>86</th>\n      <td>(SUPPORTER, SUPPORTER_2, HEAVYWEIGHT)</td>\n      <td>0.229859</td>\n      <td>9.0</td>\n    </tr>\n    <tr>\n      <th>64</th>\n      <td>(SUPPORTER, FIGHTER, ASSASSIN)</td>\n      <td>0.229859</td>\n      <td>45.0</td>\n    </tr>\n    <tr>\n      <th>76</th>\n      <td>(SUPPORTER, FIGHTER, HEAVYWEIGHT)</td>\n      <td>0.219411</td>\n      <td>33.0</td>\n    </tr>\n    <tr>\n      <th>59</th>\n      <td>(ASSASSIN_2, HEAVYWEIGHT, ASSASSIN)</td>\n      <td>0.206873</td>\n      <td>5.0</td>\n    </tr>\n    <tr>\n      <th>82</th>\n      <td>(HEAVYWEIGHT_2, HEAVYWEIGHT, SNIPER)</td>\n      <td>0.206873</td>\n      <td>5.0</td>\n    </tr>\n    <tr>\n      <th>75</th>\n      <td>(FIGHTER, HEAVYWEIGHT, SNIPER)</td>\n      <td>0.206873</td>\n      <td>35.0</td>\n    </tr>\n    <tr>\n      <th>62</th>\n      <td>(FIGHTER, HEAVYWEIGHT, ASSASSIN)</td>\n      <td>0.167735</td>\n      <td>37.0</td>\n    </tr>\n    <tr>\n      <th>60</th>\n      <td>(ASSASSIN_2, SNIPER, ASSASSIN)</td>\n      <td>0.147766</td>\n      <td>21.0</td>\n    </tr>\n  </tbody>\n</table>\n</div>"
     },
     "metadata": {},
     "output_type": "execute_result",
     "execution_count": 25
    }
   ],
   "source": [
    "length = len(df_fixed_map)\n",
    "winning_percentage = []\n",
    "for index, row in frequent_itemsets_combinations.iterrows():\n",
    "    for idx, winner in frequent_itemsets_winner.iterrows():\n",
    "        new_row = []    \n",
    "        if row['itemsets'] == winner['itemsets']:\n",
    "            total_number_of_combination = length * 2 * row['support']\n",
    "            total_number_of_wins = length * winner['support']\n",
    "            win_percentage = total_number_of_wins / total_number_of_combination\n",
    "            new_row.append(winner['itemsets'])\n",
    "            new_row.append(win_percentage)\n",
    "            new_row.append(total_number_of_combination)\n",
    "            winning_percentage.append(new_row)\n",
    "winning_percentage = pd.DataFrame(winning_percentage).rename(columns={0: \"itemsets\", 1: 'winning percentage', 2: 'times picked'})\n",
    "winning_percentage = winning_percentage[winning_percentage['itemsets'].map(len) == 3].sort_values(by=['winning percentage'], ascending=False)\n",
    "winning_percentage\n",
    "            "
   ],
   "metadata": {
    "collapsed": false,
    "pycharm": {
     "name": "#%%\n",
     "is_executing": false
    }
   }
  },
  {
   "cell_type": "markdown",
   "source": [
    "# Correlation between Winning-Rate and Usage of a Combination\n",
    "###### First we want to remove outliers"
   ],
   "metadata": {
    "collapsed": false,
    "pycharm": {
     "name": "#%% md\n"
    }
   }
  },
  {
   "cell_type": "code",
   "execution_count": 26,
   "outputs": [
    {
     "name": "stdout",
     "text": [
      "110.0\n-58.0\n"
     ],
     "output_type": "stream"
    },
    {
     "data": {
      "text/plain": "                                   itemsets  winning percentage  times picked\n87             (SNIPER_2, SNIPER, SNIPER_3)            0.748264          94.0\n92        (SUPPORTER, SUPPORTER_2, THROWER)            0.689576           3.0\n69              (THROWER, SNIPER, ASSASSIN)            0.689576           3.0\n91    (SUPPORTER, SUPPORTER_2, SUPPORTER_3)            0.689576          21.0\n84          (SNIPER_2, HEAVYWEIGHT, SNIPER)            0.646478          16.0\n73             (FIGHTER, FIGHTER_2, SNIPER)            0.620619          15.0\n89         (SUPPORTER, SUPPORTER_2, SNIPER)            0.525661          61.0\n77          (FIGHTER, THROWER, HEAVYWEIGHT)            0.517182           4.0\n67             (SNIPER_2, SNIPER, ASSASSIN)            0.509225          65.0\n85         (SUPPORTER, HEAVYWEIGHT, SNIPER)            0.493127          86.0\n88            (SUPPORTER, SNIPER_2, SNIPER)            0.488450         108.0\n90             (SUPPORTER, THROWER, SNIPER)            0.459717           9.0\n70       (SUPPORTER, SUPPORTER_2, ASSASSIN)            0.425915          17.0\n63              (FIGHTER, SNIPER, ASSASSIN)            0.420210          64.0\n80               (FIGHTER, THROWER, SNIPER)            0.344788           3.0\n58          (FIGHTER, ASSASSIN_2, ASSASSIN)            0.344788           6.0\n72        (FIGHTER, FIGHTER_2, HEAVYWEIGHT)            0.344788           3.0\n66       (SUPPORTER, HEAVYWEIGHT, ASSASSIN)            0.344788          45.0\n78              (FIGHTER, SNIPER_2, SNIPER)            0.333666          31.0\n81        (SUPPORTER, FIGHTER, SUPPORTER_2)            0.304225          17.0\n71          (FIGHTER, FIGHTER_2, FIGHTER_3)            0.258591           4.0\n74          (SUPPORTER, FIGHTER, FIGHTER_2)            0.258591           4.0\n61        (SUPPORTER, ASSASSIN_2, ASSASSIN)            0.258591           8.0\n83  (SUPPORTER, HEAVYWEIGHT, HEAVYWEIGHT_2)            0.258591           4.0\n65          (SNIPER, HEAVYWEIGHT, ASSASSIN)            0.253314          49.0\n86    (SUPPORTER, SUPPORTER_2, HEAVYWEIGHT)            0.229859           9.0\n64           (SUPPORTER, FIGHTER, ASSASSIN)            0.229859          45.0\n76        (SUPPORTER, FIGHTER, HEAVYWEIGHT)            0.219411          33.0\n59      (ASSASSIN_2, HEAVYWEIGHT, ASSASSIN)            0.206873           5.0\n82     (HEAVYWEIGHT_2, HEAVYWEIGHT, SNIPER)            0.206873           5.0\n75           (FIGHTER, HEAVYWEIGHT, SNIPER)            0.206873          35.0\n62         (FIGHTER, HEAVYWEIGHT, ASSASSIN)            0.167735          37.0\n60           (ASSASSIN_2, SNIPER, ASSASSIN)            0.147766          21.0",
      "text/html": "<div>\n<style scoped>\n    .dataframe tbody tr th:only-of-type {\n        vertical-align: middle;\n    }\n\n    .dataframe tbody tr th {\n        vertical-align: top;\n    }\n\n    .dataframe thead th {\n        text-align: right;\n    }\n</style>\n<table border=\"1\" class=\"dataframe\">\n  <thead>\n    <tr style=\"text-align: right;\">\n      <th></th>\n      <th>itemsets</th>\n      <th>winning percentage</th>\n      <th>times picked</th>\n    </tr>\n  </thead>\n  <tbody>\n    <tr>\n      <th>87</th>\n      <td>(SNIPER_2, SNIPER, SNIPER_3)</td>\n      <td>0.748264</td>\n      <td>94.0</td>\n    </tr>\n    <tr>\n      <th>92</th>\n      <td>(SUPPORTER, SUPPORTER_2, THROWER)</td>\n      <td>0.689576</td>\n      <td>3.0</td>\n    </tr>\n    <tr>\n      <th>69</th>\n      <td>(THROWER, SNIPER, ASSASSIN)</td>\n      <td>0.689576</td>\n      <td>3.0</td>\n    </tr>\n    <tr>\n      <th>91</th>\n      <td>(SUPPORTER, SUPPORTER_2, SUPPORTER_3)</td>\n      <td>0.689576</td>\n      <td>21.0</td>\n    </tr>\n    <tr>\n      <th>84</th>\n      <td>(SNIPER_2, HEAVYWEIGHT, SNIPER)</td>\n      <td>0.646478</td>\n      <td>16.0</td>\n    </tr>\n    <tr>\n      <th>73</th>\n      <td>(FIGHTER, FIGHTER_2, SNIPER)</td>\n      <td>0.620619</td>\n      <td>15.0</td>\n    </tr>\n    <tr>\n      <th>89</th>\n      <td>(SUPPORTER, SUPPORTER_2, SNIPER)</td>\n      <td>0.525661</td>\n      <td>61.0</td>\n    </tr>\n    <tr>\n      <th>77</th>\n      <td>(FIGHTER, THROWER, HEAVYWEIGHT)</td>\n      <td>0.517182</td>\n      <td>4.0</td>\n    </tr>\n    <tr>\n      <th>67</th>\n      <td>(SNIPER_2, SNIPER, ASSASSIN)</td>\n      <td>0.509225</td>\n      <td>65.0</td>\n    </tr>\n    <tr>\n      <th>85</th>\n      <td>(SUPPORTER, HEAVYWEIGHT, SNIPER)</td>\n      <td>0.493127</td>\n      <td>86.0</td>\n    </tr>\n    <tr>\n      <th>88</th>\n      <td>(SUPPORTER, SNIPER_2, SNIPER)</td>\n      <td>0.488450</td>\n      <td>108.0</td>\n    </tr>\n    <tr>\n      <th>90</th>\n      <td>(SUPPORTER, THROWER, SNIPER)</td>\n      <td>0.459717</td>\n      <td>9.0</td>\n    </tr>\n    <tr>\n      <th>70</th>\n      <td>(SUPPORTER, SUPPORTER_2, ASSASSIN)</td>\n      <td>0.425915</td>\n      <td>17.0</td>\n    </tr>\n    <tr>\n      <th>63</th>\n      <td>(FIGHTER, SNIPER, ASSASSIN)</td>\n      <td>0.420210</td>\n      <td>64.0</td>\n    </tr>\n    <tr>\n      <th>80</th>\n      <td>(FIGHTER, THROWER, SNIPER)</td>\n      <td>0.344788</td>\n      <td>3.0</td>\n    </tr>\n    <tr>\n      <th>58</th>\n      <td>(FIGHTER, ASSASSIN_2, ASSASSIN)</td>\n      <td>0.344788</td>\n      <td>6.0</td>\n    </tr>\n    <tr>\n      <th>72</th>\n      <td>(FIGHTER, FIGHTER_2, HEAVYWEIGHT)</td>\n      <td>0.344788</td>\n      <td>3.0</td>\n    </tr>\n    <tr>\n      <th>66</th>\n      <td>(SUPPORTER, HEAVYWEIGHT, ASSASSIN)</td>\n      <td>0.344788</td>\n      <td>45.0</td>\n    </tr>\n    <tr>\n      <th>78</th>\n      <td>(FIGHTER, SNIPER_2, SNIPER)</td>\n      <td>0.333666</td>\n      <td>31.0</td>\n    </tr>\n    <tr>\n      <th>81</th>\n      <td>(SUPPORTER, FIGHTER, SUPPORTER_2)</td>\n      <td>0.304225</td>\n      <td>17.0</td>\n    </tr>\n    <tr>\n      <th>71</th>\n      <td>(FIGHTER, FIGHTER_2, FIGHTER_3)</td>\n      <td>0.258591</td>\n      <td>4.0</td>\n    </tr>\n    <tr>\n      <th>74</th>\n      <td>(SUPPORTER, FIGHTER, FIGHTER_2)</td>\n      <td>0.258591</td>\n      <td>4.0</td>\n    </tr>\n    <tr>\n      <th>61</th>\n      <td>(SUPPORTER, ASSASSIN_2, ASSASSIN)</td>\n      <td>0.258591</td>\n      <td>8.0</td>\n    </tr>\n    <tr>\n      <th>83</th>\n      <td>(SUPPORTER, HEAVYWEIGHT, HEAVYWEIGHT_2)</td>\n      <td>0.258591</td>\n      <td>4.0</td>\n    </tr>\n    <tr>\n      <th>65</th>\n      <td>(SNIPER, HEAVYWEIGHT, ASSASSIN)</td>\n      <td>0.253314</td>\n      <td>49.0</td>\n    </tr>\n    <tr>\n      <th>86</th>\n      <td>(SUPPORTER, SUPPORTER_2, HEAVYWEIGHT)</td>\n      <td>0.229859</td>\n      <td>9.0</td>\n    </tr>\n    <tr>\n      <th>64</th>\n      <td>(SUPPORTER, FIGHTER, ASSASSIN)</td>\n      <td>0.229859</td>\n      <td>45.0</td>\n    </tr>\n    <tr>\n      <th>76</th>\n      <td>(SUPPORTER, FIGHTER, HEAVYWEIGHT)</td>\n      <td>0.219411</td>\n      <td>33.0</td>\n    </tr>\n    <tr>\n      <th>59</th>\n      <td>(ASSASSIN_2, HEAVYWEIGHT, ASSASSIN)</td>\n      <td>0.206873</td>\n      <td>5.0</td>\n    </tr>\n    <tr>\n      <th>82</th>\n      <td>(HEAVYWEIGHT_2, HEAVYWEIGHT, SNIPER)</td>\n      <td>0.206873</td>\n      <td>5.0</td>\n    </tr>\n    <tr>\n      <th>75</th>\n      <td>(FIGHTER, HEAVYWEIGHT, SNIPER)</td>\n      <td>0.206873</td>\n      <td>35.0</td>\n    </tr>\n    <tr>\n      <th>62</th>\n      <td>(FIGHTER, HEAVYWEIGHT, ASSASSIN)</td>\n      <td>0.167735</td>\n      <td>37.0</td>\n    </tr>\n    <tr>\n      <th>60</th>\n      <td>(ASSASSIN_2, SNIPER, ASSASSIN)</td>\n      <td>0.147766</td>\n      <td>21.0</td>\n    </tr>\n  </tbody>\n</table>\n</div>"
     },
     "metadata": {},
     "output_type": "execute_result",
     "execution_count": 26
    }
   ],
   "source": [
    "cleaned_winning_percentage = winning_percentage.copy()\n",
    "def remove_outlier(df_fixed_map_in, col_name):\n",
    "    q1 = df_fixed_map_in[col_name].quantile(0.25)\n",
    "    q3 = df_fixed_map_in[col_name].quantile(0.75)\n",
    "    iqr = q3-q1 #Interquartile range\n",
    "    fence_low  = q1-1.5*iqr\n",
    "    fence_high = q3+1.5*iqr\n",
    "    print(fence_high)\n",
    "    print(fence_low)\n",
    "    df_fixed_map_out = df_fixed_map_in.loc[(df_fixed_map_in[col_name] > fence_low) & (df_fixed_map_in[col_name] < fence_high)]\n",
    "    return df_fixed_map_out\n",
    "remove_outlier(cleaned_winning_percentage, 'times picked')"
   ],
   "metadata": {
    "collapsed": false,
    "pycharm": {
     "name": "#%%\n",
     "is_executing": false
    }
   }
  },
  {
   "cell_type": "markdown",
   "source": [
    "###### As we see no entries are removed"
   ],
   "metadata": {
    "collapsed": false,
    "pycharm": {
     "name": "#%% md\n"
    }
   }
  },
  {
   "cell_type": "code",
   "execution_count": 27,
   "outputs": [
    {
     "name": "stdout",
     "text": [
      "35\n35\n"
     ],
     "output_type": "stream"
    }
   ],
   "source": [
    "print(len(winning_percentage))\n",
    "print(len(cleaned_winning_percentage))"
   ],
   "metadata": {
    "collapsed": false,
    "pycharm": {
     "name": "#%%\n",
     "is_executing": false
    }
   }
  },
  {
   "cell_type": "markdown",
   "source": [
    "###### Next we want to check whether there is a correlation between usage of a combination and the winning rate."
   ],
   "metadata": {
    "collapsed": false,
    "pycharm": {
     "name": "#%% md\n"
    }
   }
  },
  {
   "cell_type": "code",
   "execution_count": 33,
   "outputs": [
    {
     "data": {
      "text/plain": "0.20754273476114093"
     },
     "metadata": {},
     "output_type": "execute_result",
     "execution_count": 33
    }
   ],
   "source": [
    "cleaned_winning_percentage['times picked'].corr(cleaned_winning_percentage['winning percentage'])"
   ],
   "metadata": {
    "collapsed": false,
    "pycharm": {
     "name": "#%%\n",
     "is_executing": false
    }
   }
  },
  {
   "cell_type": "markdown",
   "source": [
    "As wee see the correlation is slightly positive with 0.208. Thus, there is a small correlation between the usage of a combination of brawler types and the winning rate. This indicates that it is more probable to win with a certain combination of brawler types on specific maps. it is also probable that some combinations are used very frequently and there fore team 1 and team 2 use the same combination of brawler types which then lowers our computed correlation."
   ],
   "metadata": {
    "collapsed": false,
    "pycharm": {
     "name": "#%% md\n"
    }
   }
  }
 ],
 "metadata": {
  "language_info": {
   "codemirror_mode": {
    "name": "ipython",
    "version": 2
   },
   "file_extension": ".py",
   "mimetype": "text/x-python",
   "name": "python",
   "nbconvert_exporter": "python",
   "pygments_lexer": "ipython2",
   "version": "2.7.6"
  },
  "kernelspec": {
   "name": "python3",
   "language": "python",
   "display_name": "Python 3"
  },
  "pycharm": {
   "stem_cell": {
    "cell_type": "raw",
    "source": [],
    "metadata": {
     "collapsed": false
    }
   }
  }
 },
 "nbformat": 4,
 "nbformat_minor": 0
}