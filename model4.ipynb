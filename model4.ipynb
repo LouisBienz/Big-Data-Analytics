{
 "cells": [
  {
   "cell_type": "code",
   "execution_count": 1,
   "outputs": [],
   "source": [
    "import pandas as pd\n",
    "from mlxtend.frequent_patterns import apriori\n",
    "from mlxtend.preprocessing import TransactionEncoder"
   ],
   "metadata": {
    "collapsed": false,
    "pycharm": {
     "name": "#%%\n",
     "is_executing": false
    }
   }
  },
  {
   "cell_type": "markdown",
   "source": [
    "# Reading the Dataset"
   ],
   "metadata": {
    "collapsed": false
   }
  },
  {
   "cell_type": "code",
   "execution_count": 2,
   "outputs": [
    {
     "name": "stdout",
     "text": [
      "(1146, 20)\n"
     ],
     "output_type": "stream"
    }
   ],
   "source": [
    "df = pd.read_csv(\"rawdata.csv\")\n",
    "print(df.shape)"
   ],
   "metadata": {
    "collapsed": false,
    "pycharm": {
     "name": "#%%\n",
     "is_executing": false
    }
   }
  },
  {
   "cell_type": "code",
   "execution_count": 3,
   "outputs": [
    {
     "data": {
      "text/plain": "   WinningTeam            BattleTime playerTag       mode            map  \\\n0            1  20200530T122433.000Z  #9U2QJ0P  brawlBall  Backyard Bowl   \n1            1  20200530T121808.000Z  #9U2QJ0P  brawlBall  Backyard Bowl   \n2            1  20200530T121207.000Z  #9U2QJ0P  brawlBall  Backyard Bowl   \n3            1  20200530T120359.000Z  #9U2QJ0P  brawlBall  Backyard Bowl   \n4            1  20200530T120028.000Z  #9U2QJ0P  brawlBall  Backyard Bowl   \n\n   result StarPlayerTag StarPlayerBrawler Brawler1Name Brawler1Tag  \\\n0       1      #9U2QJ0P               BEA        PIPER   #VGR0CJ29   \n1       1      #9U2QJ0P               BEA        PIPER   #VGR0CJ29   \n2       1      #9U2QJ0P               BEA        PIPER   #VGR0CJ29   \n3       1     #VGR0CJ29             PIPER        PIPER   #VGR0CJ29   \n4       1     #VGR0CJ29             PIPER        PIPER   #VGR0CJ29   \n\n  Brawler2Name Brawler2Tag Brawler3Name Brawler3Tag Brawler4Name Brawler4Tag  \\\n0          BEA    #9U2QJ0P         GENE  #9UR09Q80Y          BEA  #222VJU0CU   \n1          BEA    #9U2QJ0P         GENE  #9UR09Q80Y         GENE   #2R9YVLQY   \n2          BEA    #9U2QJ0P         GENE  #9UR09Q80Y         GENE    #8YVQRQP   \n3          BEA    #9U2QJ0P         GENE  #9UR09Q80Y        JACKY  #2UPURLUG2   \n4          BEA    #9U2QJ0P         GENE  #9UR09Q80Y        PIPER   #PUG8CR80   \n\n  Brawler5Name Brawler5Tag Brawler6Name Brawler6Tag  \n0        BROCK  #20C2RRRGY          EMZ   #Y220JJJ9  \n1          MAX  #22L8CLYQU        PENNY  #28U009JPY  \n2        BROCK    #9QJP9LP        SPIKE  #98VJCL2PQ  \n3        FRANK  #2UCV2R0LV         POCO  #22RURYRV0  \n4        BROCK  #98JQVGLP9        JACKY  #8822ULJ9Q  ",
      "text/html": "<div>\n<style scoped>\n    .dataframe tbody tr th:only-of-type {\n        vertical-align: middle;\n    }\n\n    .dataframe tbody tr th {\n        vertical-align: top;\n    }\n\n    .dataframe thead th {\n        text-align: right;\n    }\n</style>\n<table border=\"1\" class=\"dataframe\">\n  <thead>\n    <tr style=\"text-align: right;\">\n      <th></th>\n      <th>WinningTeam</th>\n      <th>BattleTime</th>\n      <th>playerTag</th>\n      <th>mode</th>\n      <th>map</th>\n      <th>result</th>\n      <th>StarPlayerTag</th>\n      <th>StarPlayerBrawler</th>\n      <th>Brawler1Name</th>\n      <th>Brawler1Tag</th>\n      <th>Brawler2Name</th>\n      <th>Brawler2Tag</th>\n      <th>Brawler3Name</th>\n      <th>Brawler3Tag</th>\n      <th>Brawler4Name</th>\n      <th>Brawler4Tag</th>\n      <th>Brawler5Name</th>\n      <th>Brawler5Tag</th>\n      <th>Brawler6Name</th>\n      <th>Brawler6Tag</th>\n    </tr>\n  </thead>\n  <tbody>\n    <tr>\n      <th>0</th>\n      <td>1</td>\n      <td>20200530T122433.000Z</td>\n      <td>#9U2QJ0P</td>\n      <td>brawlBall</td>\n      <td>Backyard Bowl</td>\n      <td>1</td>\n      <td>#9U2QJ0P</td>\n      <td>BEA</td>\n      <td>PIPER</td>\n      <td>#VGR0CJ29</td>\n      <td>BEA</td>\n      <td>#9U2QJ0P</td>\n      <td>GENE</td>\n      <td>#9UR09Q80Y</td>\n      <td>BEA</td>\n      <td>#222VJU0CU</td>\n      <td>BROCK</td>\n      <td>#20C2RRRGY</td>\n      <td>EMZ</td>\n      <td>#Y220JJJ9</td>\n    </tr>\n    <tr>\n      <th>1</th>\n      <td>1</td>\n      <td>20200530T121808.000Z</td>\n      <td>#9U2QJ0P</td>\n      <td>brawlBall</td>\n      <td>Backyard Bowl</td>\n      <td>1</td>\n      <td>#9U2QJ0P</td>\n      <td>BEA</td>\n      <td>PIPER</td>\n      <td>#VGR0CJ29</td>\n      <td>BEA</td>\n      <td>#9U2QJ0P</td>\n      <td>GENE</td>\n      <td>#9UR09Q80Y</td>\n      <td>GENE</td>\n      <td>#2R9YVLQY</td>\n      <td>MAX</td>\n      <td>#22L8CLYQU</td>\n      <td>PENNY</td>\n      <td>#28U009JPY</td>\n    </tr>\n    <tr>\n      <th>2</th>\n      <td>1</td>\n      <td>20200530T121207.000Z</td>\n      <td>#9U2QJ0P</td>\n      <td>brawlBall</td>\n      <td>Backyard Bowl</td>\n      <td>1</td>\n      <td>#9U2QJ0P</td>\n      <td>BEA</td>\n      <td>PIPER</td>\n      <td>#VGR0CJ29</td>\n      <td>BEA</td>\n      <td>#9U2QJ0P</td>\n      <td>GENE</td>\n      <td>#9UR09Q80Y</td>\n      <td>GENE</td>\n      <td>#8YVQRQP</td>\n      <td>BROCK</td>\n      <td>#9QJP9LP</td>\n      <td>SPIKE</td>\n      <td>#98VJCL2PQ</td>\n    </tr>\n    <tr>\n      <th>3</th>\n      <td>1</td>\n      <td>20200530T120359.000Z</td>\n      <td>#9U2QJ0P</td>\n      <td>brawlBall</td>\n      <td>Backyard Bowl</td>\n      <td>1</td>\n      <td>#VGR0CJ29</td>\n      <td>PIPER</td>\n      <td>PIPER</td>\n      <td>#VGR0CJ29</td>\n      <td>BEA</td>\n      <td>#9U2QJ0P</td>\n      <td>GENE</td>\n      <td>#9UR09Q80Y</td>\n      <td>JACKY</td>\n      <td>#2UPURLUG2</td>\n      <td>FRANK</td>\n      <td>#2UCV2R0LV</td>\n      <td>POCO</td>\n      <td>#22RURYRV0</td>\n    </tr>\n    <tr>\n      <th>4</th>\n      <td>1</td>\n      <td>20200530T120028.000Z</td>\n      <td>#9U2QJ0P</td>\n      <td>brawlBall</td>\n      <td>Backyard Bowl</td>\n      <td>1</td>\n      <td>#VGR0CJ29</td>\n      <td>PIPER</td>\n      <td>PIPER</td>\n      <td>#VGR0CJ29</td>\n      <td>BEA</td>\n      <td>#9U2QJ0P</td>\n      <td>GENE</td>\n      <td>#9UR09Q80Y</td>\n      <td>PIPER</td>\n      <td>#PUG8CR80</td>\n      <td>BROCK</td>\n      <td>#98JQVGLP9</td>\n      <td>JACKY</td>\n      <td>#8822ULJ9Q</td>\n    </tr>\n  </tbody>\n</table>\n</div>"
     },
     "metadata": {},
     "output_type": "execute_result",
     "execution_count": 3
    }
   ],
   "source": [
    "df.head(5)"
   ],
   "metadata": {
    "collapsed": false,
    "pycharm": {
     "name": "#%%\n",
     "is_executing": false
    }
   }
  },
  {
   "cell_type": "markdown",
   "source": [
    "# Define Brawler Type Lists"
   ],
   "metadata": {
    "collapsed": false,
    "pycharm": {
     "name": "#%% md\n"
    }
   }
  },
  {
   "cell_type": "code",
   "execution_count": 4,
   "outputs": [],
   "source": [
    "\n",
    "sniper_brawlers = ['COLT','RICOCHET','8-BIT','PIPER','BROCK','BEA','PENNY','MR. P','SPIKE']\n",
    "thrower_brawlers = ['DYNAMIKE','TICK','BARLEY']\n",
    "heavyweight_brawlers = ['DARRYL','EL PRIMO','ROSA','BULL','FRANK','JACKY','BIBI']\n",
    "fighter_brawlers = ['CARL','EMZ','BO','TARA','JESSIE','NITA','SHELLY']\n",
    "support_brawlers = ['POCO','PAM','GENE','MAX','SPROUT','SANDY','GALE',]\n",
    "assassin_brawlers = ['MORTIS','CROW','LEON']\n"
   ],
   "metadata": {
    "collapsed": false,
    "pycharm": {
     "name": "#%%\n",
     "is_executing": false
    }
   }
  },
  {
   "cell_type": "markdown",
   "source": [
    "# Add Brawler Types to the DataFrame\n",
    "### Function to Assign Brawler Type"
   ],
   "metadata": {
    "collapsed": false
   }
  },
  {
   "cell_type": "code",
   "execution_count": 5,
   "outputs": [],
   "source": [
    "def assign_brawler_type(brawler):\n",
    "    if brawler in sniper_brawlers:\n",
    "        return 'SNIPER'\n",
    "    elif brawler in thrower_brawlers:\n",
    "        return 'THROWER'\n",
    "    elif brawler in heavyweight_brawlers:\n",
    "        return 'HEAVYWEIGHT'\n",
    "    elif brawler in fighter_brawlers:\n",
    "        return 'FIGHTER'\n",
    "    elif brawler in support_brawlers:\n",
    "        return 'SUPPORTER'\n",
    "    elif brawler in assassin_brawlers:\n",
    "        return 'ASSASSIN'\n",
    "    else:\n",
    "        return ''\n",
    "    "
   ],
   "metadata": {
    "collapsed": false,
    "pycharm": {
     "name": "#%%\n",
     "is_executing": false
    }
   }
  },
  {
   "cell_type": "markdown",
   "source": [
    "### Add Brawler Types to DataFrame"
   ],
   "metadata": {
    "collapsed": false,
    "pycharm": {
     "name": "#%% md\n"
    }
   }
  },
  {
   "cell_type": "code",
   "execution_count": 6,
   "outputs": [],
   "source": [
    "df['Brawler1Type'] = df['Brawler1Name'].apply(assign_brawler_type)\n",
    "df['Brawler2Type'] = df['Brawler2Name'].apply(assign_brawler_type)\n",
    "df['Brawler3Type'] = df['Brawler3Name'].apply(assign_brawler_type)\n",
    "df['Brawler4Type'] = df['Brawler4Name'].apply(assign_brawler_type)\n",
    "df['Brawler5Type'] = df['Brawler5Name'].apply(assign_brawler_type)\n",
    "df['Brawler6Type'] = df['Brawler6Name'].apply(assign_brawler_type)\n"
   ],
   "metadata": {
    "collapsed": false,
    "pycharm": {
     "name": "#%%\n",
     "is_executing": false
    }
   }
  },
  {
   "cell_type": "markdown",
   "source": [
    "# Check if same Type is used by multiple Players"
   ],
   "metadata": {
    "collapsed": false,
    "pycharm": {
     "name": "#%% md\n"
    }
   }
  },
  {
   "cell_type": "code",
   "execution_count": 7,
   "outputs": [
    {
     "data": {
      "text/plain": "      WinningTeam            BattleTime  playerTag       mode            map  \\\n0               1  20200530T122433.000Z   #9U2QJ0P  brawlBall  Backyard Bowl   \n1               1  20200530T121808.000Z   #9U2QJ0P  brawlBall  Backyard Bowl   \n2               1  20200530T121207.000Z   #9U2QJ0P  brawlBall  Backyard Bowl   \n3               1  20200530T120359.000Z   #9U2QJ0P  brawlBall  Backyard Bowl   \n4               1  20200530T120028.000Z   #9U2QJ0P  brawlBall  Backyard Bowl   \n...           ...                   ...        ...        ...            ...   \n1141            2  20200530T035746.000Z  #8GQURUGG  brawlBall  Backyard Bowl   \n1142            2  20200530T034530.000Z  #8GQURUGG  brawlBall  Backyard Bowl   \n1143            1  20200530T034324.000Z  #8GQURUGG  brawlBall  Backyard Bowl   \n1144            1  20200530T034118.000Z  #8GQURUGG  brawlBall  Backyard Bowl   \n1145            1  20200530T033304.000Z  #8GQURUGG  brawlBall  Backyard Bowl   \n\n      result StarPlayerTag StarPlayerBrawler Brawler1Name Brawler1Tag  ...  \\\n0          1      #9U2QJ0P               BEA        PIPER   #VGR0CJ29  ...   \n1          1      #9U2QJ0P               BEA        PIPER   #VGR0CJ29  ...   \n2          1      #9U2QJ0P               BEA        PIPER   #VGR0CJ29  ...   \n3          1     #VGR0CJ29             PIPER        PIPER   #VGR0CJ29  ...   \n4          1     #VGR0CJ29             PIPER        PIPER   #VGR0CJ29  ...   \n...      ...           ...               ...          ...         ...  ...   \n1141       1     #8GQURUGG              CARL       MORTIS   #29CYUU0Y  ...   \n1142       1    #2Q0J0YJRJ             PIPER         BIBI   #CG9UG92G  ...   \n1143       1      #82JPG02                BO        PIPER  #2Q0J0YJRJ  ...   \n1144       1     #8GQURUGG              CARL        PIPER  #2Q0J0YJRJ  ...   \n1145       1     #8GQURUGG              CARL        PIPER  #2Q0J0YJRJ  ...   \n\n     Brawler5Name Brawler5Tag Brawler6Name Brawler6Tag Brawler1Type  \\\n0           BROCK  #20C2RRRGY          EMZ   #Y220JJJ9       SNIPER   \n1             MAX  #22L8CLYQU        PENNY  #28U009JPY       SNIPER   \n2           BROCK    #9QJP9LP        SPIKE  #98VJCL2PQ       SNIPER   \n3           FRANK  #2UCV2R0LV         POCO  #22RURYRV0       SNIPER   \n4           BROCK  #98JQVGLP9        JACKY  #8822ULJ9Q       SNIPER   \n...           ...         ...          ...         ...          ...   \n1141        PENNY    #82JPG02         CARL   #8GQURUGG     ASSASSIN   \n1142         CARL   #8GQURUGG           BO    #82JPG02  HEAVYWEIGHT   \n1143         TARA   #80JCU8QL       SPROUT  #20P922PJ9       SNIPER   \n1144          PAM  #2RLQU2YC2        FRANK   #LYQLPGY2       SNIPER   \n1145         POCO  #8G2QJVUR2       MORTIS  #89Q8YGY8G       SNIPER   \n\n     Brawler2Type Brawler3Type Brawler4Type Brawler5Type Brawler6Type  \n0        SNIPER_2    SUPPORTER       SNIPER       SNIPER      FIGHTER  \n1        SNIPER_2    SUPPORTER    SUPPORTER    SUPPORTER       SNIPER  \n2        SNIPER_2    SUPPORTER    SUPPORTER       SNIPER       SNIPER  \n3        SNIPER_2    SUPPORTER  HEAVYWEIGHT  HEAVYWEIGHT    SUPPORTER  \n4        SNIPER_2    SUPPORTER       SNIPER       SNIPER  HEAVYWEIGHT  \n...           ...          ...          ...          ...          ...  \n1141       SNIPER     SNIPER_2       SNIPER       SNIPER      FIGHTER  \n1142    SUPPORTER      FIGHTER       SNIPER      FIGHTER      FIGHTER  \n1143      FIGHTER    FIGHTER_2       SNIPER      FIGHTER    SUPPORTER  \n1144      FIGHTER    FIGHTER_2     ASSASSIN    SUPPORTER  HEAVYWEIGHT  \n1145      FIGHTER    FIGHTER_2       SNIPER    SUPPORTER     ASSASSIN  \n\n[1146 rows x 26 columns]",
      "text/html": "<div>\n<style scoped>\n    .dataframe tbody tr th:only-of-type {\n        vertical-align: middle;\n    }\n\n    .dataframe tbody tr th {\n        vertical-align: top;\n    }\n\n    .dataframe thead th {\n        text-align: right;\n    }\n</style>\n<table border=\"1\" class=\"dataframe\">\n  <thead>\n    <tr style=\"text-align: right;\">\n      <th></th>\n      <th>WinningTeam</th>\n      <th>BattleTime</th>\n      <th>playerTag</th>\n      <th>mode</th>\n      <th>map</th>\n      <th>result</th>\n      <th>StarPlayerTag</th>\n      <th>StarPlayerBrawler</th>\n      <th>Brawler1Name</th>\n      <th>Brawler1Tag</th>\n      <th>...</th>\n      <th>Brawler5Name</th>\n      <th>Brawler5Tag</th>\n      <th>Brawler6Name</th>\n      <th>Brawler6Tag</th>\n      <th>Brawler1Type</th>\n      <th>Brawler2Type</th>\n      <th>Brawler3Type</th>\n      <th>Brawler4Type</th>\n      <th>Brawler5Type</th>\n      <th>Brawler6Type</th>\n    </tr>\n  </thead>\n  <tbody>\n    <tr>\n      <th>0</th>\n      <td>1</td>\n      <td>20200530T122433.000Z</td>\n      <td>#9U2QJ0P</td>\n      <td>brawlBall</td>\n      <td>Backyard Bowl</td>\n      <td>1</td>\n      <td>#9U2QJ0P</td>\n      <td>BEA</td>\n      <td>PIPER</td>\n      <td>#VGR0CJ29</td>\n      <td>...</td>\n      <td>BROCK</td>\n      <td>#20C2RRRGY</td>\n      <td>EMZ</td>\n      <td>#Y220JJJ9</td>\n      <td>SNIPER</td>\n      <td>SNIPER_2</td>\n      <td>SUPPORTER</td>\n      <td>SNIPER</td>\n      <td>SNIPER</td>\n      <td>FIGHTER</td>\n    </tr>\n    <tr>\n      <th>1</th>\n      <td>1</td>\n      <td>20200530T121808.000Z</td>\n      <td>#9U2QJ0P</td>\n      <td>brawlBall</td>\n      <td>Backyard Bowl</td>\n      <td>1</td>\n      <td>#9U2QJ0P</td>\n      <td>BEA</td>\n      <td>PIPER</td>\n      <td>#VGR0CJ29</td>\n      <td>...</td>\n      <td>MAX</td>\n      <td>#22L8CLYQU</td>\n      <td>PENNY</td>\n      <td>#28U009JPY</td>\n      <td>SNIPER</td>\n      <td>SNIPER_2</td>\n      <td>SUPPORTER</td>\n      <td>SUPPORTER</td>\n      <td>SUPPORTER</td>\n      <td>SNIPER</td>\n    </tr>\n    <tr>\n      <th>2</th>\n      <td>1</td>\n      <td>20200530T121207.000Z</td>\n      <td>#9U2QJ0P</td>\n      <td>brawlBall</td>\n      <td>Backyard Bowl</td>\n      <td>1</td>\n      <td>#9U2QJ0P</td>\n      <td>BEA</td>\n      <td>PIPER</td>\n      <td>#VGR0CJ29</td>\n      <td>...</td>\n      <td>BROCK</td>\n      <td>#9QJP9LP</td>\n      <td>SPIKE</td>\n      <td>#98VJCL2PQ</td>\n      <td>SNIPER</td>\n      <td>SNIPER_2</td>\n      <td>SUPPORTER</td>\n      <td>SUPPORTER</td>\n      <td>SNIPER</td>\n      <td>SNIPER</td>\n    </tr>\n    <tr>\n      <th>3</th>\n      <td>1</td>\n      <td>20200530T120359.000Z</td>\n      <td>#9U2QJ0P</td>\n      <td>brawlBall</td>\n      <td>Backyard Bowl</td>\n      <td>1</td>\n      <td>#VGR0CJ29</td>\n      <td>PIPER</td>\n      <td>PIPER</td>\n      <td>#VGR0CJ29</td>\n      <td>...</td>\n      <td>FRANK</td>\n      <td>#2UCV2R0LV</td>\n      <td>POCO</td>\n      <td>#22RURYRV0</td>\n      <td>SNIPER</td>\n      <td>SNIPER_2</td>\n      <td>SUPPORTER</td>\n      <td>HEAVYWEIGHT</td>\n      <td>HEAVYWEIGHT</td>\n      <td>SUPPORTER</td>\n    </tr>\n    <tr>\n      <th>4</th>\n      <td>1</td>\n      <td>20200530T120028.000Z</td>\n      <td>#9U2QJ0P</td>\n      <td>brawlBall</td>\n      <td>Backyard Bowl</td>\n      <td>1</td>\n      <td>#VGR0CJ29</td>\n      <td>PIPER</td>\n      <td>PIPER</td>\n      <td>#VGR0CJ29</td>\n      <td>...</td>\n      <td>BROCK</td>\n      <td>#98JQVGLP9</td>\n      <td>JACKY</td>\n      <td>#8822ULJ9Q</td>\n      <td>SNIPER</td>\n      <td>SNIPER_2</td>\n      <td>SUPPORTER</td>\n      <td>SNIPER</td>\n      <td>SNIPER</td>\n      <td>HEAVYWEIGHT</td>\n    </tr>\n    <tr>\n      <th>...</th>\n      <td>...</td>\n      <td>...</td>\n      <td>...</td>\n      <td>...</td>\n      <td>...</td>\n      <td>...</td>\n      <td>...</td>\n      <td>...</td>\n      <td>...</td>\n      <td>...</td>\n      <td>...</td>\n      <td>...</td>\n      <td>...</td>\n      <td>...</td>\n      <td>...</td>\n      <td>...</td>\n      <td>...</td>\n      <td>...</td>\n      <td>...</td>\n      <td>...</td>\n      <td>...</td>\n    </tr>\n    <tr>\n      <th>1141</th>\n      <td>2</td>\n      <td>20200530T035746.000Z</td>\n      <td>#8GQURUGG</td>\n      <td>brawlBall</td>\n      <td>Backyard Bowl</td>\n      <td>1</td>\n      <td>#8GQURUGG</td>\n      <td>CARL</td>\n      <td>MORTIS</td>\n      <td>#29CYUU0Y</td>\n      <td>...</td>\n      <td>PENNY</td>\n      <td>#82JPG02</td>\n      <td>CARL</td>\n      <td>#8GQURUGG</td>\n      <td>ASSASSIN</td>\n      <td>SNIPER</td>\n      <td>SNIPER_2</td>\n      <td>SNIPER</td>\n      <td>SNIPER</td>\n      <td>FIGHTER</td>\n    </tr>\n    <tr>\n      <th>1142</th>\n      <td>2</td>\n      <td>20200530T034530.000Z</td>\n      <td>#8GQURUGG</td>\n      <td>brawlBall</td>\n      <td>Backyard Bowl</td>\n      <td>1</td>\n      <td>#2Q0J0YJRJ</td>\n      <td>PIPER</td>\n      <td>BIBI</td>\n      <td>#CG9UG92G</td>\n      <td>...</td>\n      <td>CARL</td>\n      <td>#8GQURUGG</td>\n      <td>BO</td>\n      <td>#82JPG02</td>\n      <td>HEAVYWEIGHT</td>\n      <td>SUPPORTER</td>\n      <td>FIGHTER</td>\n      <td>SNIPER</td>\n      <td>FIGHTER</td>\n      <td>FIGHTER</td>\n    </tr>\n    <tr>\n      <th>1143</th>\n      <td>1</td>\n      <td>20200530T034324.000Z</td>\n      <td>#8GQURUGG</td>\n      <td>brawlBall</td>\n      <td>Backyard Bowl</td>\n      <td>1</td>\n      <td>#82JPG02</td>\n      <td>BO</td>\n      <td>PIPER</td>\n      <td>#2Q0J0YJRJ</td>\n      <td>...</td>\n      <td>TARA</td>\n      <td>#80JCU8QL</td>\n      <td>SPROUT</td>\n      <td>#20P922PJ9</td>\n      <td>SNIPER</td>\n      <td>FIGHTER</td>\n      <td>FIGHTER_2</td>\n      <td>SNIPER</td>\n      <td>FIGHTER</td>\n      <td>SUPPORTER</td>\n    </tr>\n    <tr>\n      <th>1144</th>\n      <td>1</td>\n      <td>20200530T034118.000Z</td>\n      <td>#8GQURUGG</td>\n      <td>brawlBall</td>\n      <td>Backyard Bowl</td>\n      <td>1</td>\n      <td>#8GQURUGG</td>\n      <td>CARL</td>\n      <td>PIPER</td>\n      <td>#2Q0J0YJRJ</td>\n      <td>...</td>\n      <td>PAM</td>\n      <td>#2RLQU2YC2</td>\n      <td>FRANK</td>\n      <td>#LYQLPGY2</td>\n      <td>SNIPER</td>\n      <td>FIGHTER</td>\n      <td>FIGHTER_2</td>\n      <td>ASSASSIN</td>\n      <td>SUPPORTER</td>\n      <td>HEAVYWEIGHT</td>\n    </tr>\n    <tr>\n      <th>1145</th>\n      <td>1</td>\n      <td>20200530T033304.000Z</td>\n      <td>#8GQURUGG</td>\n      <td>brawlBall</td>\n      <td>Backyard Bowl</td>\n      <td>1</td>\n      <td>#8GQURUGG</td>\n      <td>CARL</td>\n      <td>PIPER</td>\n      <td>#2Q0J0YJRJ</td>\n      <td>...</td>\n      <td>POCO</td>\n      <td>#8G2QJVUR2</td>\n      <td>MORTIS</td>\n      <td>#89Q8YGY8G</td>\n      <td>SNIPER</td>\n      <td>FIGHTER</td>\n      <td>FIGHTER_2</td>\n      <td>SNIPER</td>\n      <td>SUPPORTER</td>\n      <td>ASSASSIN</td>\n    </tr>\n  </tbody>\n</table>\n<p>1146 rows × 26 columns</p>\n</div>"
     },
     "metadata": {},
     "output_type": "execute_result",
     "execution_count": 7
    }
   ],
   "source": [
    "counter = 0\n",
    "for index, row in df.iterrows():\n",
    "    if row['Brawler1Type'] == row['Brawler2Type'] and row['Brawler1Type'] != row['Brawler3Type']:\n",
    "        df.loc[index, 'Brawler2Type'] = row['Brawler2Type']+'_2'\n",
    "    elif row['Brawler1Type'] == row['Brawler2Type'] and row['Brawler1Type'] == row['Brawler3Type']:\n",
    "        df.loc[index,'Brawler2Type'] = row['Brawler2Type']+'_2'\n",
    "        df.loc[index,'Brawler3Type'] = row['Brawler3Type']+'_3'\n",
    "    elif row['Brawler1Type'] == row['Brawler3Type'] and row['Brawler1Type'] != row['Brawler2Type'] and row['Brawler2Type'] != row['Brawler3Type']:\n",
    "        df.loc[index,'Brawler3Type'] = row['Brawler3Type']+'_2'\n",
    "    elif row['Brawler1Type'] != row['Brawler3Type'] and row['Brawler1Type'] != row['Brawler2Type'] and row['Brawler2Type'] == row['Brawler3Type']:\n",
    "        df.loc[index,'Brawler3Type'] = row['Brawler3Type']+'_2'\n",
    "df\n",
    "\n"
   ],
   "metadata": {
    "collapsed": false,
    "pycharm": {
     "name": "#%%\n",
     "is_executing": false
    }
   }
  },
  {
   "cell_type": "markdown",
   "source": [
    "# Find Frequent Combinations of Brawler Types"
   ],
   "metadata": {
    "collapsed": false
   }
  },
  {
   "cell_type": "code",
   "execution_count": 16,
   "outputs": [],
   "source": [
    "combinations = []\n",
    "counter = 0\n",
    "for index, row in df.iterrows():\n",
    "    team1 = []\n",
    "    team2 = []\n",
    "    team1.append(row[\"Brawler1Type\"])\n",
    "    team1.append(row[\"Brawler2Type\"])\n",
    "    team1.append(row[\"Brawler3Type\"])\n",
    "    team2.append(row[\"Brawler4Type\"])\n",
    "    team2.append(row[\"Brawler5Type\"])\n",
    "    team2.append(row[\"Brawler6Type\"])\n",
    "\n",
    "    combinations.append(team1)\n",
    "    combinations.append(team2)"
   ],
   "metadata": {
    "collapsed": false,
    "pycharm": {
     "name": "#%%\n",
     "is_executing": false
    }
   }
  },
  {
   "cell_type": "code",
   "execution_count": 17,
   "outputs": [
    {
     "data": {
      "text/plain": "             ASSASSIN  ASSASSIN_2  ASSASSIN_3  FIGHTER  FIGHTER_2  FIGHTER_3  \\\n0     False     False       False       False    False      False      False   \n1     False     False       False       False     True      False      False   \n2     False     False       False       False    False      False      False   \n3     False     False       False       False    False      False      False   \n4     False     False       False       False    False      False      False   \n...     ...       ...         ...         ...      ...        ...        ...   \n2287  False     False       False       False     True      False      False   \n2288  False     False       False       False     True       True      False   \n2289  False      True       False       False    False      False      False   \n2290  False     False       False       False     True       True      False   \n2291  False      True       False       False    False      False      False   \n\n      HEAVYWEIGHT  HEAVYWEIGHT_2  HEAVYWEIGHT_3  SNIPER  SNIPER_2  SNIPER_3  \\\n0           False          False          False    True      True     False   \n1           False          False          False    True     False     False   \n2           False          False          False    True      True     False   \n3           False          False          False    True     False     False   \n4           False          False          False    True      True     False   \n...           ...            ...            ...     ...       ...       ...   \n2287        False          False          False    True     False     False   \n2288        False          False          False    True     False     False   \n2289         True          False          False   False     False     False   \n2290        False          False          False    True     False     False   \n2291        False          False          False    True     False     False   \n\n      SUPPORTER  SUPPORTER_2  SUPPORTER_3  THROWER  \n0          True        False        False    False  \n1         False        False        False    False  \n2          True        False        False    False  \n3          True        False        False    False  \n4          True        False        False    False  \n...         ...          ...          ...      ...  \n2287       True        False        False    False  \n2288      False        False        False    False  \n2289       True        False        False    False  \n2290      False        False        False    False  \n2291       True        False        False    False  \n\n[2292 rows x 17 columns]",
      "text/html": "<div>\n<style scoped>\n    .dataframe tbody tr th:only-of-type {\n        vertical-align: middle;\n    }\n\n    .dataframe tbody tr th {\n        vertical-align: top;\n    }\n\n    .dataframe thead th {\n        text-align: right;\n    }\n</style>\n<table border=\"1\" class=\"dataframe\">\n  <thead>\n    <tr style=\"text-align: right;\">\n      <th></th>\n      <th></th>\n      <th>ASSASSIN</th>\n      <th>ASSASSIN_2</th>\n      <th>ASSASSIN_3</th>\n      <th>FIGHTER</th>\n      <th>FIGHTER_2</th>\n      <th>FIGHTER_3</th>\n      <th>HEAVYWEIGHT</th>\n      <th>HEAVYWEIGHT_2</th>\n      <th>HEAVYWEIGHT_3</th>\n      <th>SNIPER</th>\n      <th>SNIPER_2</th>\n      <th>SNIPER_3</th>\n      <th>SUPPORTER</th>\n      <th>SUPPORTER_2</th>\n      <th>SUPPORTER_3</th>\n      <th>THROWER</th>\n    </tr>\n  </thead>\n  <tbody>\n    <tr>\n      <th>0</th>\n      <td>False</td>\n      <td>False</td>\n      <td>False</td>\n      <td>False</td>\n      <td>False</td>\n      <td>False</td>\n      <td>False</td>\n      <td>False</td>\n      <td>False</td>\n      <td>False</td>\n      <td>True</td>\n      <td>True</td>\n      <td>False</td>\n      <td>True</td>\n      <td>False</td>\n      <td>False</td>\n      <td>False</td>\n    </tr>\n    <tr>\n      <th>1</th>\n      <td>False</td>\n      <td>False</td>\n      <td>False</td>\n      <td>False</td>\n      <td>True</td>\n      <td>False</td>\n      <td>False</td>\n      <td>False</td>\n      <td>False</td>\n      <td>False</td>\n      <td>True</td>\n      <td>False</td>\n      <td>False</td>\n      <td>False</td>\n      <td>False</td>\n      <td>False</td>\n      <td>False</td>\n    </tr>\n    <tr>\n      <th>2</th>\n      <td>False</td>\n      <td>False</td>\n      <td>False</td>\n      <td>False</td>\n      <td>False</td>\n      <td>False</td>\n      <td>False</td>\n      <td>False</td>\n      <td>False</td>\n      <td>False</td>\n      <td>True</td>\n      <td>True</td>\n      <td>False</td>\n      <td>True</td>\n      <td>False</td>\n      <td>False</td>\n      <td>False</td>\n    </tr>\n    <tr>\n      <th>3</th>\n      <td>False</td>\n      <td>False</td>\n      <td>False</td>\n      <td>False</td>\n      <td>False</td>\n      <td>False</td>\n      <td>False</td>\n      <td>False</td>\n      <td>False</td>\n      <td>False</td>\n      <td>True</td>\n      <td>False</td>\n      <td>False</td>\n      <td>True</td>\n      <td>False</td>\n      <td>False</td>\n      <td>False</td>\n    </tr>\n    <tr>\n      <th>4</th>\n      <td>False</td>\n      <td>False</td>\n      <td>False</td>\n      <td>False</td>\n      <td>False</td>\n      <td>False</td>\n      <td>False</td>\n      <td>False</td>\n      <td>False</td>\n      <td>False</td>\n      <td>True</td>\n      <td>True</td>\n      <td>False</td>\n      <td>True</td>\n      <td>False</td>\n      <td>False</td>\n      <td>False</td>\n    </tr>\n    <tr>\n      <th>...</th>\n      <td>...</td>\n      <td>...</td>\n      <td>...</td>\n      <td>...</td>\n      <td>...</td>\n      <td>...</td>\n      <td>...</td>\n      <td>...</td>\n      <td>...</td>\n      <td>...</td>\n      <td>...</td>\n      <td>...</td>\n      <td>...</td>\n      <td>...</td>\n      <td>...</td>\n      <td>...</td>\n      <td>...</td>\n    </tr>\n    <tr>\n      <th>2287</th>\n      <td>False</td>\n      <td>False</td>\n      <td>False</td>\n      <td>False</td>\n      <td>True</td>\n      <td>False</td>\n      <td>False</td>\n      <td>False</td>\n      <td>False</td>\n      <td>False</td>\n      <td>True</td>\n      <td>False</td>\n      <td>False</td>\n      <td>True</td>\n      <td>False</td>\n      <td>False</td>\n      <td>False</td>\n    </tr>\n    <tr>\n      <th>2288</th>\n      <td>False</td>\n      <td>False</td>\n      <td>False</td>\n      <td>False</td>\n      <td>True</td>\n      <td>True</td>\n      <td>False</td>\n      <td>False</td>\n      <td>False</td>\n      <td>False</td>\n      <td>True</td>\n      <td>False</td>\n      <td>False</td>\n      <td>False</td>\n      <td>False</td>\n      <td>False</td>\n      <td>False</td>\n    </tr>\n    <tr>\n      <th>2289</th>\n      <td>False</td>\n      <td>True</td>\n      <td>False</td>\n      <td>False</td>\n      <td>False</td>\n      <td>False</td>\n      <td>False</td>\n      <td>True</td>\n      <td>False</td>\n      <td>False</td>\n      <td>False</td>\n      <td>False</td>\n      <td>False</td>\n      <td>True</td>\n      <td>False</td>\n      <td>False</td>\n      <td>False</td>\n    </tr>\n    <tr>\n      <th>2290</th>\n      <td>False</td>\n      <td>False</td>\n      <td>False</td>\n      <td>False</td>\n      <td>True</td>\n      <td>True</td>\n      <td>False</td>\n      <td>False</td>\n      <td>False</td>\n      <td>False</td>\n      <td>True</td>\n      <td>False</td>\n      <td>False</td>\n      <td>False</td>\n      <td>False</td>\n      <td>False</td>\n      <td>False</td>\n    </tr>\n    <tr>\n      <th>2291</th>\n      <td>False</td>\n      <td>True</td>\n      <td>False</td>\n      <td>False</td>\n      <td>False</td>\n      <td>False</td>\n      <td>False</td>\n      <td>False</td>\n      <td>False</td>\n      <td>False</td>\n      <td>True</td>\n      <td>False</td>\n      <td>False</td>\n      <td>True</td>\n      <td>False</td>\n      <td>False</td>\n      <td>False</td>\n    </tr>\n  </tbody>\n</table>\n<p>2292 rows × 17 columns</p>\n</div>"
     },
     "metadata": {},
     "output_type": "execute_result",
     "execution_count": 17
    }
   ],
   "source": [
    "te = TransactionEncoder()\n",
    "te_ary = te.fit(combinations).transform(combinations)\n",
    "dfFreqSetsWinner = pd.DataFrame(te_ary, columns=te.columns_)\n",
    "dfFreqSetsWinner"
   ],
   "metadata": {
    "collapsed": false,
    "pycharm": {
     "name": "#%%\n",
     "is_executing": false
    }
   }
  },
  {
   "cell_type": "code",
   "execution_count": 18,
   "outputs": [],
   "source": [
    "frequent_itemsets_winner = apriori(dfFreqSetsWinner, min_support=0.01, use_colnames=True)\n",
    "frequent_itemsets_winner['length'] = frequent_itemsets_winner['itemsets'].apply(lambda x: len(x))"
   ],
   "metadata": {
    "collapsed": false,
    "pycharm": {
     "name": "#%%\n",
     "is_executing": false
    }
   }
  },
  {
   "cell_type": "code",
   "execution_count": 19,
   "outputs": [
    {
     "data": {
      "text/plain": "     support                               itemsets  length\n51  0.064572           (SUPPORTER, FIGHTER, SNIPER)       3\n47  0.057592          (SUPPORTER, SNIPER, ASSASSIN)       3\n53  0.053665       (HEAVYWEIGHT, SUPPORTER, SNIPER)       3\n56  0.047120          (SNIPER_2, SUPPORTER, SNIPER)       3\n48  0.045375         (HEAVYWEIGHT, FIGHTER, SNIPER)       3\n55  0.040140           (SNIPER_3, SNIPER_2, SNIPER)       3\n49  0.039703      (HEAVYWEIGHT, SUPPORTER, FIGHTER)       3\n42  0.029232            (FIGHTER, SNIPER, ASSASSIN)       3\n57  0.028360       (SUPPORTER_2, SUPPORTER, SNIPER)       3\n46  0.026614           (SNIPER_2, SNIPER, ASSASSIN)       3\n45  0.026178     (HEAVYWEIGHT, SUPPORTER, ASSASSIN)       3\n43  0.024869         (SUPPORTER, FIGHTER, ASSASSIN)       3\n44  0.020942        (HEAVYWEIGHT, SNIPER, ASSASSIN)       3\n41  0.018325       (HEAVYWEIGHT, FIGHTER, ASSASSIN)       3\n50  0.013525            (SNIPER_2, FIGHTER, SNIPER)       3\n52  0.013525      (SUPPORTER, SUPPORTER_2, FIGHTER)       3\n54  0.010908  (HEAVYWEIGHT, SUPPORTER_2, SUPPORTER)       3",
      "text/html": "<div>\n<style scoped>\n    .dataframe tbody tr th:only-of-type {\n        vertical-align: middle;\n    }\n\n    .dataframe tbody tr th {\n        vertical-align: top;\n    }\n\n    .dataframe thead th {\n        text-align: right;\n    }\n</style>\n<table border=\"1\" class=\"dataframe\">\n  <thead>\n    <tr style=\"text-align: right;\">\n      <th></th>\n      <th>support</th>\n      <th>itemsets</th>\n      <th>length</th>\n    </tr>\n  </thead>\n  <tbody>\n    <tr>\n      <th>51</th>\n      <td>0.064572</td>\n      <td>(SUPPORTER, FIGHTER, SNIPER)</td>\n      <td>3</td>\n    </tr>\n    <tr>\n      <th>47</th>\n      <td>0.057592</td>\n      <td>(SUPPORTER, SNIPER, ASSASSIN)</td>\n      <td>3</td>\n    </tr>\n    <tr>\n      <th>53</th>\n      <td>0.053665</td>\n      <td>(HEAVYWEIGHT, SUPPORTER, SNIPER)</td>\n      <td>3</td>\n    </tr>\n    <tr>\n      <th>56</th>\n      <td>0.047120</td>\n      <td>(SNIPER_2, SUPPORTER, SNIPER)</td>\n      <td>3</td>\n    </tr>\n    <tr>\n      <th>48</th>\n      <td>0.045375</td>\n      <td>(HEAVYWEIGHT, FIGHTER, SNIPER)</td>\n      <td>3</td>\n    </tr>\n    <tr>\n      <th>55</th>\n      <td>0.040140</td>\n      <td>(SNIPER_3, SNIPER_2, SNIPER)</td>\n      <td>3</td>\n    </tr>\n    <tr>\n      <th>49</th>\n      <td>0.039703</td>\n      <td>(HEAVYWEIGHT, SUPPORTER, FIGHTER)</td>\n      <td>3</td>\n    </tr>\n    <tr>\n      <th>42</th>\n      <td>0.029232</td>\n      <td>(FIGHTER, SNIPER, ASSASSIN)</td>\n      <td>3</td>\n    </tr>\n    <tr>\n      <th>57</th>\n      <td>0.028360</td>\n      <td>(SUPPORTER_2, SUPPORTER, SNIPER)</td>\n      <td>3</td>\n    </tr>\n    <tr>\n      <th>46</th>\n      <td>0.026614</td>\n      <td>(SNIPER_2, SNIPER, ASSASSIN)</td>\n      <td>3</td>\n    </tr>\n    <tr>\n      <th>45</th>\n      <td>0.026178</td>\n      <td>(HEAVYWEIGHT, SUPPORTER, ASSASSIN)</td>\n      <td>3</td>\n    </tr>\n    <tr>\n      <th>43</th>\n      <td>0.024869</td>\n      <td>(SUPPORTER, FIGHTER, ASSASSIN)</td>\n      <td>3</td>\n    </tr>\n    <tr>\n      <th>44</th>\n      <td>0.020942</td>\n      <td>(HEAVYWEIGHT, SNIPER, ASSASSIN)</td>\n      <td>3</td>\n    </tr>\n    <tr>\n      <th>41</th>\n      <td>0.018325</td>\n      <td>(HEAVYWEIGHT, FIGHTER, ASSASSIN)</td>\n      <td>3</td>\n    </tr>\n    <tr>\n      <th>50</th>\n      <td>0.013525</td>\n      <td>(SNIPER_2, FIGHTER, SNIPER)</td>\n      <td>3</td>\n    </tr>\n    <tr>\n      <th>52</th>\n      <td>0.013525</td>\n      <td>(SUPPORTER, SUPPORTER_2, FIGHTER)</td>\n      <td>3</td>\n    </tr>\n    <tr>\n      <th>54</th>\n      <td>0.010908</td>\n      <td>(HEAVYWEIGHT, SUPPORTER_2, SUPPORTER)</td>\n      <td>3</td>\n    </tr>\n  </tbody>\n</table>\n</div>"
     },
     "metadata": {},
     "output_type": "execute_result",
     "execution_count": 19
    }
   ],
   "source": [
    "frequent_itemsets_winner[ (frequent_itemsets_winner['length'] >= 3) ].sort_values(by=[\"support\"], ascending=False)\n",
    "\n",
    "\n"
   ],
   "metadata": {
    "collapsed": false,
    "pycharm": {
     "name": "#%%\n",
     "is_executing": false
    }
   }
  },
  {
   "cell_type": "markdown",
   "source": [
    "# Find Frequent Winning Combinations of Brawler Types"
   ],
   "metadata": {
    "collapsed": false,
    "pycharm": {
     "name": "#%% md\n"
    }
   }
  },
  {
   "cell_type": "code",
   "execution_count": 20,
   "outputs": [],
   "source": [
    "winningCombinations = []\n",
    "counter = 0\n",
    "for index, row in df.iterrows():\n",
    "    team = []\n",
    "    if row[\"WinningTeam\"] == 1 and row[\"result\"] != 0:\n",
    "        team.append(row[\"Brawler1Type\"])\n",
    "        team.append(row[\"Brawler2Type\"])\n",
    "        team.append(row[\"Brawler3Type\"])\n",
    "    elif row[\"result\"] != 0:\n",
    "        team.append(row[\"Brawler4Type\"])\n",
    "        team.append(row[\"Brawler5Type\"])\n",
    "        team.append(row[\"Brawler6Type\"])\n",
    "\n",
    "    if len(team) != 0:\n",
    "        winningCombinations.append(team)"
   ],
   "metadata": {
    "collapsed": false,
    "pycharm": {
     "name": "#%%\n",
     "is_executing": false
    }
   }
  },
  {
   "cell_type": "code",
   "execution_count": 21,
   "outputs": [
    {
     "data": {
      "text/plain": "             ASSASSIN  ASSASSIN_2  FIGHTER  FIGHTER_2  FIGHTER_3  HEAVYWEIGHT  \\\n0     False     False       False    False      False      False        False   \n1     False     False       False    False      False      False        False   \n2     False     False       False    False      False      False        False   \n3     False     False       False    False      False      False        False   \n4     False     False       False    False      False      False        False   \n...     ...       ...         ...      ...        ...        ...          ...   \n1108  False     False       False     True      False      False        False   \n1109  False     False       False     True      False      False        False   \n1110  False     False       False     True       True      False        False   \n1111  False     False       False     True       True      False        False   \n1112  False     False       False     True       True      False        False   \n\n      HEAVYWEIGHT_2  SNIPER  SNIPER_2  SNIPER_3  SUPPORTER  SUPPORTER_2  \\\n0             False    True      True     False       True        False   \n1             False    True      True     False       True        False   \n2             False    True      True     False       True        False   \n3             False    True      True     False       True        False   \n4             False    True      True     False       True        False   \n...             ...     ...       ...       ...        ...          ...   \n1108          False    True     False     False      False        False   \n1109          False    True     False     False      False        False   \n1110          False    True     False     False      False        False   \n1111          False    True     False     False      False        False   \n1112          False    True     False     False      False        False   \n\n      SUPPORTER_3  THROWER  \n0           False    False  \n1           False    False  \n2           False    False  \n3           False    False  \n4           False    False  \n...           ...      ...  \n1108        False    False  \n1109        False    False  \n1110        False    False  \n1111        False    False  \n1112        False    False  \n\n[1113 rows x 15 columns]",
      "text/html": "<div>\n<style scoped>\n    .dataframe tbody tr th:only-of-type {\n        vertical-align: middle;\n    }\n\n    .dataframe tbody tr th {\n        vertical-align: top;\n    }\n\n    .dataframe thead th {\n        text-align: right;\n    }\n</style>\n<table border=\"1\" class=\"dataframe\">\n  <thead>\n    <tr style=\"text-align: right;\">\n      <th></th>\n      <th></th>\n      <th>ASSASSIN</th>\n      <th>ASSASSIN_2</th>\n      <th>FIGHTER</th>\n      <th>FIGHTER_2</th>\n      <th>FIGHTER_3</th>\n      <th>HEAVYWEIGHT</th>\n      <th>HEAVYWEIGHT_2</th>\n      <th>SNIPER</th>\n      <th>SNIPER_2</th>\n      <th>SNIPER_3</th>\n      <th>SUPPORTER</th>\n      <th>SUPPORTER_2</th>\n      <th>SUPPORTER_3</th>\n      <th>THROWER</th>\n    </tr>\n  </thead>\n  <tbody>\n    <tr>\n      <th>0</th>\n      <td>False</td>\n      <td>False</td>\n      <td>False</td>\n      <td>False</td>\n      <td>False</td>\n      <td>False</td>\n      <td>False</td>\n      <td>False</td>\n      <td>True</td>\n      <td>True</td>\n      <td>False</td>\n      <td>True</td>\n      <td>False</td>\n      <td>False</td>\n      <td>False</td>\n    </tr>\n    <tr>\n      <th>1</th>\n      <td>False</td>\n      <td>False</td>\n      <td>False</td>\n      <td>False</td>\n      <td>False</td>\n      <td>False</td>\n      <td>False</td>\n      <td>False</td>\n      <td>True</td>\n      <td>True</td>\n      <td>False</td>\n      <td>True</td>\n      <td>False</td>\n      <td>False</td>\n      <td>False</td>\n    </tr>\n    <tr>\n      <th>2</th>\n      <td>False</td>\n      <td>False</td>\n      <td>False</td>\n      <td>False</td>\n      <td>False</td>\n      <td>False</td>\n      <td>False</td>\n      <td>False</td>\n      <td>True</td>\n      <td>True</td>\n      <td>False</td>\n      <td>True</td>\n      <td>False</td>\n      <td>False</td>\n      <td>False</td>\n    </tr>\n    <tr>\n      <th>3</th>\n      <td>False</td>\n      <td>False</td>\n      <td>False</td>\n      <td>False</td>\n      <td>False</td>\n      <td>False</td>\n      <td>False</td>\n      <td>False</td>\n      <td>True</td>\n      <td>True</td>\n      <td>False</td>\n      <td>True</td>\n      <td>False</td>\n      <td>False</td>\n      <td>False</td>\n    </tr>\n    <tr>\n      <th>4</th>\n      <td>False</td>\n      <td>False</td>\n      <td>False</td>\n      <td>False</td>\n      <td>False</td>\n      <td>False</td>\n      <td>False</td>\n      <td>False</td>\n      <td>True</td>\n      <td>True</td>\n      <td>False</td>\n      <td>True</td>\n      <td>False</td>\n      <td>False</td>\n      <td>False</td>\n    </tr>\n    <tr>\n      <th>...</th>\n      <td>...</td>\n      <td>...</td>\n      <td>...</td>\n      <td>...</td>\n      <td>...</td>\n      <td>...</td>\n      <td>...</td>\n      <td>...</td>\n      <td>...</td>\n      <td>...</td>\n      <td>...</td>\n      <td>...</td>\n      <td>...</td>\n      <td>...</td>\n      <td>...</td>\n    </tr>\n    <tr>\n      <th>1108</th>\n      <td>False</td>\n      <td>False</td>\n      <td>False</td>\n      <td>True</td>\n      <td>False</td>\n      <td>False</td>\n      <td>False</td>\n      <td>False</td>\n      <td>True</td>\n      <td>False</td>\n      <td>False</td>\n      <td>False</td>\n      <td>False</td>\n      <td>False</td>\n      <td>False</td>\n    </tr>\n    <tr>\n      <th>1109</th>\n      <td>False</td>\n      <td>False</td>\n      <td>False</td>\n      <td>True</td>\n      <td>False</td>\n      <td>False</td>\n      <td>False</td>\n      <td>False</td>\n      <td>True</td>\n      <td>False</td>\n      <td>False</td>\n      <td>False</td>\n      <td>False</td>\n      <td>False</td>\n      <td>False</td>\n    </tr>\n    <tr>\n      <th>1110</th>\n      <td>False</td>\n      <td>False</td>\n      <td>False</td>\n      <td>True</td>\n      <td>True</td>\n      <td>False</td>\n      <td>False</td>\n      <td>False</td>\n      <td>True</td>\n      <td>False</td>\n      <td>False</td>\n      <td>False</td>\n      <td>False</td>\n      <td>False</td>\n      <td>False</td>\n    </tr>\n    <tr>\n      <th>1111</th>\n      <td>False</td>\n      <td>False</td>\n      <td>False</td>\n      <td>True</td>\n      <td>True</td>\n      <td>False</td>\n      <td>False</td>\n      <td>False</td>\n      <td>True</td>\n      <td>False</td>\n      <td>False</td>\n      <td>False</td>\n      <td>False</td>\n      <td>False</td>\n      <td>False</td>\n    </tr>\n    <tr>\n      <th>1112</th>\n      <td>False</td>\n      <td>False</td>\n      <td>False</td>\n      <td>True</td>\n      <td>True</td>\n      <td>False</td>\n      <td>False</td>\n      <td>False</td>\n      <td>True</td>\n      <td>False</td>\n      <td>False</td>\n      <td>False</td>\n      <td>False</td>\n      <td>False</td>\n      <td>False</td>\n    </tr>\n  </tbody>\n</table>\n<p>1113 rows × 15 columns</p>\n</div>"
     },
     "metadata": {},
     "output_type": "execute_result",
     "execution_count": 21
    }
   ],
   "source": [
    "te = TransactionEncoder()\n",
    "te_ary = te.fit(winningCombinations).transform(winningCombinations)\n",
    "dfFreqSetsWinner = pd.DataFrame(te_ary, columns=te.columns_)\n",
    "dfFreqSetsWinner"
   ],
   "metadata": {
    "collapsed": false,
    "pycharm": {
     "name": "#%%\n",
     "is_executing": false
    }
   }
  },
  {
   "cell_type": "code",
   "execution_count": 22,
   "outputs": [],
   "source": [
    "frequent_itemsets_winner = apriori(dfFreqSetsWinner, min_support=0.01, use_colnames=True)\n",
    "frequent_itemsets_winner['length'] = frequent_itemsets_winner['itemsets'].apply(lambda x: len(x))"
   ],
   "metadata": {
    "collapsed": false,
    "pycharm": {
     "name": "#%%\n",
     "is_executing": false
    }
   }
  },
  {
   "cell_type": "code",
   "execution_count": 23,
   "outputs": [
    {
     "data": {
      "text/plain": "     support                               itemsets  length\n50  0.060198           (SNIPER_3, SNIPER_2, SNIPER)       3\n47  0.057502           (FIGHTER, SUPPORTER, SNIPER)       3\n48  0.049416       (HEAVYWEIGHT, SUPPORTER, SNIPER)       3\n51  0.046721          (SNIPER_2, SUPPORTER, SNIPER)       3\n44  0.044924          (ASSASSIN, SUPPORTER, SNIPER)       3\n45  0.040431         (HEAVYWEIGHT, FIGHTER, SNIPER)       3\n46  0.035939      (FIGHTER, HEAVYWEIGHT, SUPPORTER)       3\n52  0.028751       (SUPPORTER_2, SUPPORTER, SNIPER)       3\n43  0.027853           (ASSASSIN, SNIPER_2, SNIPER)       3\n40  0.022462            (ASSASSIN, FIGHTER, SNIPER)       3\n42  0.021563     (HEAVYWEIGHT, SUPPORTER, ASSASSIN)       3\n41  0.013477         (FIGHTER, SUPPORTER, ASSASSIN)       3\n53  0.012579  (SUPPORTER_3, SUPPORTER_2, SUPPORTER)       3\n49  0.010782  (HEAVYWEIGHT, SUPPORTER_2, SUPPORTER)       3",
      "text/html": "<div>\n<style scoped>\n    .dataframe tbody tr th:only-of-type {\n        vertical-align: middle;\n    }\n\n    .dataframe tbody tr th {\n        vertical-align: top;\n    }\n\n    .dataframe thead th {\n        text-align: right;\n    }\n</style>\n<table border=\"1\" class=\"dataframe\">\n  <thead>\n    <tr style=\"text-align: right;\">\n      <th></th>\n      <th>support</th>\n      <th>itemsets</th>\n      <th>length</th>\n    </tr>\n  </thead>\n  <tbody>\n    <tr>\n      <th>50</th>\n      <td>0.060198</td>\n      <td>(SNIPER_3, SNIPER_2, SNIPER)</td>\n      <td>3</td>\n    </tr>\n    <tr>\n      <th>47</th>\n      <td>0.057502</td>\n      <td>(FIGHTER, SUPPORTER, SNIPER)</td>\n      <td>3</td>\n    </tr>\n    <tr>\n      <th>48</th>\n      <td>0.049416</td>\n      <td>(HEAVYWEIGHT, SUPPORTER, SNIPER)</td>\n      <td>3</td>\n    </tr>\n    <tr>\n      <th>51</th>\n      <td>0.046721</td>\n      <td>(SNIPER_2, SUPPORTER, SNIPER)</td>\n      <td>3</td>\n    </tr>\n    <tr>\n      <th>44</th>\n      <td>0.044924</td>\n      <td>(ASSASSIN, SUPPORTER, SNIPER)</td>\n      <td>3</td>\n    </tr>\n    <tr>\n      <th>45</th>\n      <td>0.040431</td>\n      <td>(HEAVYWEIGHT, FIGHTER, SNIPER)</td>\n      <td>3</td>\n    </tr>\n    <tr>\n      <th>46</th>\n      <td>0.035939</td>\n      <td>(FIGHTER, HEAVYWEIGHT, SUPPORTER)</td>\n      <td>3</td>\n    </tr>\n    <tr>\n      <th>52</th>\n      <td>0.028751</td>\n      <td>(SUPPORTER_2, SUPPORTER, SNIPER)</td>\n      <td>3</td>\n    </tr>\n    <tr>\n      <th>43</th>\n      <td>0.027853</td>\n      <td>(ASSASSIN, SNIPER_2, SNIPER)</td>\n      <td>3</td>\n    </tr>\n    <tr>\n      <th>40</th>\n      <td>0.022462</td>\n      <td>(ASSASSIN, FIGHTER, SNIPER)</td>\n      <td>3</td>\n    </tr>\n    <tr>\n      <th>42</th>\n      <td>0.021563</td>\n      <td>(HEAVYWEIGHT, SUPPORTER, ASSASSIN)</td>\n      <td>3</td>\n    </tr>\n    <tr>\n      <th>41</th>\n      <td>0.013477</td>\n      <td>(FIGHTER, SUPPORTER, ASSASSIN)</td>\n      <td>3</td>\n    </tr>\n    <tr>\n      <th>53</th>\n      <td>0.012579</td>\n      <td>(SUPPORTER_3, SUPPORTER_2, SUPPORTER)</td>\n      <td>3</td>\n    </tr>\n    <tr>\n      <th>49</th>\n      <td>0.010782</td>\n      <td>(HEAVYWEIGHT, SUPPORTER_2, SUPPORTER)</td>\n      <td>3</td>\n    </tr>\n  </tbody>\n</table>\n</div>"
     },
     "metadata": {},
     "output_type": "execute_result",
     "execution_count": 23
    }
   ],
   "source": [
    "frequent_itemsets_winner[ (frequent_itemsets_winner['length'] >= 3) ].sort_values(by=[\"support\"], ascending=False)\n"
   ],
   "metadata": {
    "collapsed": false,
    "pycharm": {
     "name": "#%%\n",
     "is_executing": false
    }
   }
  },
  {
   "cell_type": "markdown",
   "source": [
    "# Find Frequent Loosing Combinations of Brawler Types"
   ],
   "metadata": {
    "collapsed": false
   }
  },
  {
   "cell_type": "code",
   "execution_count": 24,
   "outputs": [],
   "source": [
    "loosingCombinations = []\n",
    "counter = 0\n",
    "for index, row in df.iterrows():\n",
    "    team = []\n",
    "    if row[\"WinningTeam\"] == 1 and row[\"result\"] != 0:\n",
    "        team.append(row[\"Brawler4Type\"])\n",
    "        team.append(row[\"Brawler5Type\"])\n",
    "        team.append(row[\"Brawler6Type\"])\n",
    "    elif row[\"result\"] != 0:\n",
    "        team.append(row[\"Brawler1Type\"])\n",
    "        team.append(row[\"Brawler2Type\"])\n",
    "        team.append(row[\"Brawler3Type\"])\n",
    "\n",
    "    if len(team) != 0:\n",
    "        loosingCombinations.append(team)"
   ],
   "metadata": {
    "collapsed": false,
    "pycharm": {
     "name": "#%%\n",
     "is_executing": false
    }
   }
  },
  {
   "cell_type": "code",
   "execution_count": 25,
   "outputs": [
    {
     "data": {
      "text/plain": "             ASSASSIN  ASSASSIN_2  ASSASSIN_3  FIGHTER  FIGHTER_2  FIGHTER_3  \\\n0     False     False       False       False     True      False      False   \n1     False     False       False       False    False      False      False   \n2     False     False       False       False    False      False      False   \n3     False     False       False       False    False      False      False   \n4     False     False       False       False    False      False      False   \n...     ...       ...         ...         ...      ...        ...        ...   \n1108  False      True       False       False    False      False      False   \n1109  False     False       False       False     True      False      False   \n1110  False     False       False       False     True      False      False   \n1111  False      True       False       False    False      False      False   \n1112  False      True       False       False    False      False      False   \n\n      HEAVYWEIGHT  HEAVYWEIGHT_2  HEAVYWEIGHT_3  SNIPER  SNIPER_2  SNIPER_3  \\\n0           False          False          False    True     False     False   \n1           False          False          False    True     False     False   \n2           False          False          False    True     False     False   \n3            True          False          False   False     False     False   \n4            True          False          False    True     False     False   \n...           ...            ...            ...     ...       ...       ...   \n1108        False          False          False    True      True     False   \n1109         True          False          False   False     False     False   \n1110        False          False          False    True     False     False   \n1111         True          False          False   False     False     False   \n1112        False          False          False    True     False     False   \n\n      SUPPORTER  SUPPORTER_2  SUPPORTER_3  THROWER  \n0         False        False        False    False  \n1          True        False        False    False  \n2          True        False        False    False  \n3          True        False        False    False  \n4         False        False        False    False  \n...         ...          ...          ...      ...  \n1108      False        False        False    False  \n1109       True        False        False    False  \n1110       True        False        False    False  \n1111       True        False        False    False  \n1112       True        False        False    False  \n\n[1113 rows x 17 columns]",
      "text/html": "<div>\n<style scoped>\n    .dataframe tbody tr th:only-of-type {\n        vertical-align: middle;\n    }\n\n    .dataframe tbody tr th {\n        vertical-align: top;\n    }\n\n    .dataframe thead th {\n        text-align: right;\n    }\n</style>\n<table border=\"1\" class=\"dataframe\">\n  <thead>\n    <tr style=\"text-align: right;\">\n      <th></th>\n      <th></th>\n      <th>ASSASSIN</th>\n      <th>ASSASSIN_2</th>\n      <th>ASSASSIN_3</th>\n      <th>FIGHTER</th>\n      <th>FIGHTER_2</th>\n      <th>FIGHTER_3</th>\n      <th>HEAVYWEIGHT</th>\n      <th>HEAVYWEIGHT_2</th>\n      <th>HEAVYWEIGHT_3</th>\n      <th>SNIPER</th>\n      <th>SNIPER_2</th>\n      <th>SNIPER_3</th>\n      <th>SUPPORTER</th>\n      <th>SUPPORTER_2</th>\n      <th>SUPPORTER_3</th>\n      <th>THROWER</th>\n    </tr>\n  </thead>\n  <tbody>\n    <tr>\n      <th>0</th>\n      <td>False</td>\n      <td>False</td>\n      <td>False</td>\n      <td>False</td>\n      <td>True</td>\n      <td>False</td>\n      <td>False</td>\n      <td>False</td>\n      <td>False</td>\n      <td>False</td>\n      <td>True</td>\n      <td>False</td>\n      <td>False</td>\n      <td>False</td>\n      <td>False</td>\n      <td>False</td>\n      <td>False</td>\n    </tr>\n    <tr>\n      <th>1</th>\n      <td>False</td>\n      <td>False</td>\n      <td>False</td>\n      <td>False</td>\n      <td>False</td>\n      <td>False</td>\n      <td>False</td>\n      <td>False</td>\n      <td>False</td>\n      <td>False</td>\n      <td>True</td>\n      <td>False</td>\n      <td>False</td>\n      <td>True</td>\n      <td>False</td>\n      <td>False</td>\n      <td>False</td>\n    </tr>\n    <tr>\n      <th>2</th>\n      <td>False</td>\n      <td>False</td>\n      <td>False</td>\n      <td>False</td>\n      <td>False</td>\n      <td>False</td>\n      <td>False</td>\n      <td>False</td>\n      <td>False</td>\n      <td>False</td>\n      <td>True</td>\n      <td>False</td>\n      <td>False</td>\n      <td>True</td>\n      <td>False</td>\n      <td>False</td>\n      <td>False</td>\n    </tr>\n    <tr>\n      <th>3</th>\n      <td>False</td>\n      <td>False</td>\n      <td>False</td>\n      <td>False</td>\n      <td>False</td>\n      <td>False</td>\n      <td>False</td>\n      <td>True</td>\n      <td>False</td>\n      <td>False</td>\n      <td>False</td>\n      <td>False</td>\n      <td>False</td>\n      <td>True</td>\n      <td>False</td>\n      <td>False</td>\n      <td>False</td>\n    </tr>\n    <tr>\n      <th>4</th>\n      <td>False</td>\n      <td>False</td>\n      <td>False</td>\n      <td>False</td>\n      <td>False</td>\n      <td>False</td>\n      <td>False</td>\n      <td>True</td>\n      <td>False</td>\n      <td>False</td>\n      <td>True</td>\n      <td>False</td>\n      <td>False</td>\n      <td>False</td>\n      <td>False</td>\n      <td>False</td>\n      <td>False</td>\n    </tr>\n    <tr>\n      <th>...</th>\n      <td>...</td>\n      <td>...</td>\n      <td>...</td>\n      <td>...</td>\n      <td>...</td>\n      <td>...</td>\n      <td>...</td>\n      <td>...</td>\n      <td>...</td>\n      <td>...</td>\n      <td>...</td>\n      <td>...</td>\n      <td>...</td>\n      <td>...</td>\n      <td>...</td>\n      <td>...</td>\n      <td>...</td>\n    </tr>\n    <tr>\n      <th>1108</th>\n      <td>False</td>\n      <td>True</td>\n      <td>False</td>\n      <td>False</td>\n      <td>False</td>\n      <td>False</td>\n      <td>False</td>\n      <td>False</td>\n      <td>False</td>\n      <td>False</td>\n      <td>True</td>\n      <td>True</td>\n      <td>False</td>\n      <td>False</td>\n      <td>False</td>\n      <td>False</td>\n      <td>False</td>\n    </tr>\n    <tr>\n      <th>1109</th>\n      <td>False</td>\n      <td>False</td>\n      <td>False</td>\n      <td>False</td>\n      <td>True</td>\n      <td>False</td>\n      <td>False</td>\n      <td>True</td>\n      <td>False</td>\n      <td>False</td>\n      <td>False</td>\n      <td>False</td>\n      <td>False</td>\n      <td>True</td>\n      <td>False</td>\n      <td>False</td>\n      <td>False</td>\n    </tr>\n    <tr>\n      <th>1110</th>\n      <td>False</td>\n      <td>False</td>\n      <td>False</td>\n      <td>False</td>\n      <td>True</td>\n      <td>False</td>\n      <td>False</td>\n      <td>False</td>\n      <td>False</td>\n      <td>False</td>\n      <td>True</td>\n      <td>False</td>\n      <td>False</td>\n      <td>True</td>\n      <td>False</td>\n      <td>False</td>\n      <td>False</td>\n    </tr>\n    <tr>\n      <th>1111</th>\n      <td>False</td>\n      <td>True</td>\n      <td>False</td>\n      <td>False</td>\n      <td>False</td>\n      <td>False</td>\n      <td>False</td>\n      <td>True</td>\n      <td>False</td>\n      <td>False</td>\n      <td>False</td>\n      <td>False</td>\n      <td>False</td>\n      <td>True</td>\n      <td>False</td>\n      <td>False</td>\n      <td>False</td>\n    </tr>\n    <tr>\n      <th>1112</th>\n      <td>False</td>\n      <td>True</td>\n      <td>False</td>\n      <td>False</td>\n      <td>False</td>\n      <td>False</td>\n      <td>False</td>\n      <td>False</td>\n      <td>False</td>\n      <td>False</td>\n      <td>True</td>\n      <td>False</td>\n      <td>False</td>\n      <td>True</td>\n      <td>False</td>\n      <td>False</td>\n      <td>False</td>\n    </tr>\n  </tbody>\n</table>\n<p>1113 rows × 17 columns</p>\n</div>"
     },
     "metadata": {},
     "output_type": "execute_result",
     "execution_count": 25
    }
   ],
   "source": [
    "te = TransactionEncoder()\n",
    "te_ary = te.fit(loosingCombinations).transform(loosingCombinations)\n",
    "dfFreqSetsWinner = pd.DataFrame(te_ary, columns=te.columns_)\n",
    "dfFreqSetsWinner"
   ],
   "metadata": {
    "collapsed": false,
    "pycharm": {
     "name": "#%%\n",
     "is_executing": false
    }
   }
  },
  {
   "cell_type": "code",
   "execution_count": 26,
   "outputs": [],
   "source": [
    "frequent_itemsets_winner = apriori(dfFreqSetsWinner, min_support=0.01, use_colnames=True)\n",
    "frequent_itemsets_winner['length'] = frequent_itemsets_winner['itemsets'].apply(lambda x: len(x))"
   ],
   "metadata": {
    "collapsed": false,
    "pycharm": {
     "name": "#%%\n",
     "is_executing": false
    }
   }
  },
  {
   "cell_type": "code",
   "execution_count": 27,
   "outputs": [
    {
     "data": {
      "text/plain": "     support                                itemsets  length\n59  0.069182            (SUPPORTER, FIGHTER, SNIPER)       3\n55  0.069182           (SUPPORTER, SNIPER, ASSASSIN)       3\n61  0.058401        (HEAVYWEIGHT, SUPPORTER, SNIPER)       3\n56  0.052111          (HEAVYWEIGHT, FIGHTER, SNIPER)       3\n64  0.048518           (SNIPER_2, SUPPORTER, SNIPER)       3\n57  0.045822       (HEAVYWEIGHT, SUPPORTER, FIGHTER)       3\n49  0.037736             (FIGHTER, SNIPER, ASSASSIN)       3\n50  0.035040          (SUPPORTER, FIGHTER, ASSASSIN)       3\n52  0.033243         (HEAVYWEIGHT, SNIPER, ASSASSIN)       3\n48  0.030548        (HEAVYWEIGHT, FIGHTER, ASSASSIN)       3\n65  0.027853        (SUPPORTER_2, SUPPORTER, SNIPER)       3\n53  0.027853      (HEAVYWEIGHT, SUPPORTER, ASSASSIN)       3\n54  0.026056            (SNIPER_2, SNIPER, ASSASSIN)       3\n60  0.018868       (SUPPORTER, SUPPORTER_2, FIGHTER)       3\n58  0.017071             (SNIPER_2, FIGHTER, SNIPER)       3\n63  0.017071            (SNIPER_3, SNIPER_2, SNIPER)       3\n46  0.016173          (ASSASSIN_2, SNIPER, ASSASSIN)       3\n51  0.011680  (HEAVYWEIGHT_2, HEAVYWEIGHT, ASSASSIN)       3\n47  0.010782          (FIGHTER, FIGHTER_2, ASSASSIN)       3\n62  0.010782   (HEAVYWEIGHT, SUPPORTER_2, SUPPORTER)       3",
      "text/html": "<div>\n<style scoped>\n    .dataframe tbody tr th:only-of-type {\n        vertical-align: middle;\n    }\n\n    .dataframe tbody tr th {\n        vertical-align: top;\n    }\n\n    .dataframe thead th {\n        text-align: right;\n    }\n</style>\n<table border=\"1\" class=\"dataframe\">\n  <thead>\n    <tr style=\"text-align: right;\">\n      <th></th>\n      <th>support</th>\n      <th>itemsets</th>\n      <th>length</th>\n    </tr>\n  </thead>\n  <tbody>\n    <tr>\n      <th>59</th>\n      <td>0.069182</td>\n      <td>(SUPPORTER, FIGHTER, SNIPER)</td>\n      <td>3</td>\n    </tr>\n    <tr>\n      <th>55</th>\n      <td>0.069182</td>\n      <td>(SUPPORTER, SNIPER, ASSASSIN)</td>\n      <td>3</td>\n    </tr>\n    <tr>\n      <th>61</th>\n      <td>0.058401</td>\n      <td>(HEAVYWEIGHT, SUPPORTER, SNIPER)</td>\n      <td>3</td>\n    </tr>\n    <tr>\n      <th>56</th>\n      <td>0.052111</td>\n      <td>(HEAVYWEIGHT, FIGHTER, SNIPER)</td>\n      <td>3</td>\n    </tr>\n    <tr>\n      <th>64</th>\n      <td>0.048518</td>\n      <td>(SNIPER_2, SUPPORTER, SNIPER)</td>\n      <td>3</td>\n    </tr>\n    <tr>\n      <th>57</th>\n      <td>0.045822</td>\n      <td>(HEAVYWEIGHT, SUPPORTER, FIGHTER)</td>\n      <td>3</td>\n    </tr>\n    <tr>\n      <th>49</th>\n      <td>0.037736</td>\n      <td>(FIGHTER, SNIPER, ASSASSIN)</td>\n      <td>3</td>\n    </tr>\n    <tr>\n      <th>50</th>\n      <td>0.035040</td>\n      <td>(SUPPORTER, FIGHTER, ASSASSIN)</td>\n      <td>3</td>\n    </tr>\n    <tr>\n      <th>52</th>\n      <td>0.033243</td>\n      <td>(HEAVYWEIGHT, SNIPER, ASSASSIN)</td>\n      <td>3</td>\n    </tr>\n    <tr>\n      <th>48</th>\n      <td>0.030548</td>\n      <td>(HEAVYWEIGHT, FIGHTER, ASSASSIN)</td>\n      <td>3</td>\n    </tr>\n    <tr>\n      <th>65</th>\n      <td>0.027853</td>\n      <td>(SUPPORTER_2, SUPPORTER, SNIPER)</td>\n      <td>3</td>\n    </tr>\n    <tr>\n      <th>53</th>\n      <td>0.027853</td>\n      <td>(HEAVYWEIGHT, SUPPORTER, ASSASSIN)</td>\n      <td>3</td>\n    </tr>\n    <tr>\n      <th>54</th>\n      <td>0.026056</td>\n      <td>(SNIPER_2, SNIPER, ASSASSIN)</td>\n      <td>3</td>\n    </tr>\n    <tr>\n      <th>60</th>\n      <td>0.018868</td>\n      <td>(SUPPORTER, SUPPORTER_2, FIGHTER)</td>\n      <td>3</td>\n    </tr>\n    <tr>\n      <th>58</th>\n      <td>0.017071</td>\n      <td>(SNIPER_2, FIGHTER, SNIPER)</td>\n      <td>3</td>\n    </tr>\n    <tr>\n      <th>63</th>\n      <td>0.017071</td>\n      <td>(SNIPER_3, SNIPER_2, SNIPER)</td>\n      <td>3</td>\n    </tr>\n    <tr>\n      <th>46</th>\n      <td>0.016173</td>\n      <td>(ASSASSIN_2, SNIPER, ASSASSIN)</td>\n      <td>3</td>\n    </tr>\n    <tr>\n      <th>51</th>\n      <td>0.011680</td>\n      <td>(HEAVYWEIGHT_2, HEAVYWEIGHT, ASSASSIN)</td>\n      <td>3</td>\n    </tr>\n    <tr>\n      <th>47</th>\n      <td>0.010782</td>\n      <td>(FIGHTER, FIGHTER_2, ASSASSIN)</td>\n      <td>3</td>\n    </tr>\n    <tr>\n      <th>62</th>\n      <td>0.010782</td>\n      <td>(HEAVYWEIGHT, SUPPORTER_2, SUPPORTER)</td>\n      <td>3</td>\n    </tr>\n  </tbody>\n</table>\n</div>"
     },
     "metadata": {},
     "output_type": "execute_result",
     "execution_count": 27
    }
   ],
   "source": [
    "frequent_itemsets_winner[ (frequent_itemsets_winner['length'] >= 3) ].sort_values(by=[\"support\"], ascending=False)"
   ],
   "metadata": {
    "collapsed": false,
    "pycharm": {
     "name": "#%%\n",
     "is_executing": false
    }
   }
  }
 ],
 "metadata": {
  "language_info": {
   "codemirror_mode": {
    "name": "ipython",
    "version": 2
   },
   "file_extension": ".py",
   "mimetype": "text/x-python",
   "name": "python",
   "nbconvert_exporter": "python",
   "pygments_lexer": "ipython2",
   "version": "2.7.6"
  },
  "kernelspec": {
   "name": "python3",
   "language": "python",
   "display_name": "Python 3"
  },
  "pycharm": {
   "stem_cell": {
    "cell_type": "raw",
    "source": [],
    "metadata": {
     "collapsed": false
    }
   }
  }
 },
 "nbformat": 4,
 "nbformat_minor": 0
}