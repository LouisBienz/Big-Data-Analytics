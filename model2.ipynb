{
 "cells": [
  {
   "cell_type": "code",
   "execution_count": 1,
   "metadata": {
    "collapsed": true
   },
   "outputs": [],
   "source": [
    "import pandas as pd\n",
    "from sklearn import tree\n",
    "from sklearn.preprocessing import LabelEncoder\n",
    "from sklearn.model_selection import cross_val_score\n",
    "import numpy as np\n",
    "from sklearn.ensemble import RandomForestClassifier\n",
    "import xgboost as xgb"
   ]
  },
  {
   "cell_type": "code",
   "execution_count": 2,
   "outputs": [],
   "source": [
    "df = pd.read_csv(\"rawdata.csv\")\n"
   ],
   "metadata": {
    "collapsed": false,
    "pycharm": {
     "name": "#%%\n"
    }
   }
  },
  {
   "cell_type": "markdown",
   "source": [
    "features :\n",
    "- brawler 1-6\n",
    "- map"
   ],
   "metadata": {
    "collapsed": false,
    "pycharm": {
     "name": "#%% md\n"
    }
   }
  },
  {
   "cell_type": "code",
   "execution_count": 3,
   "outputs": [
    {
     "data": {
      "text/plain": "'combinedFirstTeams = []\\ncombinedSecondTeams = []\\n\\nfor i in range(len(firstTeams)):\\n    team1string = \"\"\\n    team1string = team1string + firstTeams[i][0]\\n    team1string = team1string + firstTeams[i][1]\\n    team1string = team1string + firstTeams[i][2]\\n    combinedFirstTeams.append(team1)\\n    team2string = \"\"\\n    team2string = team2string + secondTeams[i][0]\\n    team2string = team2string + secondTeams[i][1]\\n    team2string = team2string + secondTeams[i][2]\\n    combinedSecondTeams.append(team2)'"
     },
     "execution_count": 3,
     "metadata": {},
     "output_type": "execute_result"
    }
   ],
   "source": [
    "firstTeams = []\n",
    "secondTeams = []\n",
    "\n",
    "for index, row in df.iterrows():\n",
    "    team1 = []\n",
    "    team2 = []\n",
    "\n",
    "    team1.append(row[\"Brawler1Name\"])\n",
    "    team1.append(row[\"Brawler2Name\"])\n",
    "    team1.append(row[\"Brawler3Name\"])\n",
    "\n",
    "    team2.append(row[\"Brawler4Name\"])\n",
    "    team2.append(row[\"Brawler5Name\"])\n",
    "    team2.append(row[\"Brawler6Name\"])\n",
    "\n",
    "    # sort teams that brawlers are in same order\n",
    "    team1 = sorted(team1)\n",
    "    team2 = sorted(team2)\n",
    "\n",
    "    # concat teams to one string\n",
    "    team1string = \"_\".join(team1)\n",
    "    team2string = \"_\".join(team2)\n",
    "\n",
    "    firstTeams.append(team1string)\n",
    "    secondTeams.append(team2string)\n",
    "\n",
    "'''combinedFirstTeams = []\n",
    "combinedSecondTeams = []\n",
    "\n",
    "for i in range(len(firstTeams)):\n",
    "    team1string = \"\"\n",
    "    team1string = team1string + firstTeams[i][0]\n",
    "    team1string = team1string + firstTeams[i][1]\n",
    "    team1string = team1string + firstTeams[i][2]\n",
    "    combinedFirstTeams.append(team1)\n",
    "    team2string = \"\"\n",
    "    team2string = team2string + secondTeams[i][0]\n",
    "    team2string = team2string + secondTeams[i][1]\n",
    "    team2string = team2string + secondTeams[i][2]\n",
    "    combinedSecondTeams.append(team2)'''"
   ],
   "metadata": {
    "collapsed": false,
    "pycharm": {
     "name": "#%%\n"
    }
   }
  },
  {
   "cell_type": "code",
   "execution_count": 4,
   "outputs": [
    {
     "data": {
      "text/plain": "    Team1  Team2  map  WinningTeam\n0     172     73    0            1\n1     172    949    0            1\n2     172    456    0            1\n3     172    865    0            1\n4     172    459    0            1\n5     172    497    0            1\n6     225    172    0            2\n7     963    172    0            2\n8     169    172    0            2\n9     976    175   11            1\n10    303    175   11            0\n11     79   1026    0            2\n12     79    209    0            1\n13     79    216    0            2\n14     79     73    0            1\n15     81     79    0            2\n16    675     79    0            2\n17    672     79    0            2\n18    609     79    0            2\n19     79    223    0            1",
      "text/html": "<div>\n<style scoped>\n    .dataframe tbody tr th:only-of-type {\n        vertical-align: middle;\n    }\n\n    .dataframe tbody tr th {\n        vertical-align: top;\n    }\n\n    .dataframe thead th {\n        text-align: right;\n    }\n</style>\n<table border=\"1\" class=\"dataframe\">\n  <thead>\n    <tr style=\"text-align: right;\">\n      <th></th>\n      <th>Team1</th>\n      <th>Team2</th>\n      <th>map</th>\n      <th>WinningTeam</th>\n    </tr>\n  </thead>\n  <tbody>\n    <tr>\n      <th>0</th>\n      <td>172</td>\n      <td>73</td>\n      <td>0</td>\n      <td>1</td>\n    </tr>\n    <tr>\n      <th>1</th>\n      <td>172</td>\n      <td>949</td>\n      <td>0</td>\n      <td>1</td>\n    </tr>\n    <tr>\n      <th>2</th>\n      <td>172</td>\n      <td>456</td>\n      <td>0</td>\n      <td>1</td>\n    </tr>\n    <tr>\n      <th>3</th>\n      <td>172</td>\n      <td>865</td>\n      <td>0</td>\n      <td>1</td>\n    </tr>\n    <tr>\n      <th>4</th>\n      <td>172</td>\n      <td>459</td>\n      <td>0</td>\n      <td>1</td>\n    </tr>\n    <tr>\n      <th>5</th>\n      <td>172</td>\n      <td>497</td>\n      <td>0</td>\n      <td>1</td>\n    </tr>\n    <tr>\n      <th>6</th>\n      <td>225</td>\n      <td>172</td>\n      <td>0</td>\n      <td>2</td>\n    </tr>\n    <tr>\n      <th>7</th>\n      <td>963</td>\n      <td>172</td>\n      <td>0</td>\n      <td>2</td>\n    </tr>\n    <tr>\n      <th>8</th>\n      <td>169</td>\n      <td>172</td>\n      <td>0</td>\n      <td>2</td>\n    </tr>\n    <tr>\n      <th>9</th>\n      <td>976</td>\n      <td>175</td>\n      <td>11</td>\n      <td>1</td>\n    </tr>\n    <tr>\n      <th>10</th>\n      <td>303</td>\n      <td>175</td>\n      <td>11</td>\n      <td>0</td>\n    </tr>\n    <tr>\n      <th>11</th>\n      <td>79</td>\n      <td>1026</td>\n      <td>0</td>\n      <td>2</td>\n    </tr>\n    <tr>\n      <th>12</th>\n      <td>79</td>\n      <td>209</td>\n      <td>0</td>\n      <td>1</td>\n    </tr>\n    <tr>\n      <th>13</th>\n      <td>79</td>\n      <td>216</td>\n      <td>0</td>\n      <td>2</td>\n    </tr>\n    <tr>\n      <th>14</th>\n      <td>79</td>\n      <td>73</td>\n      <td>0</td>\n      <td>1</td>\n    </tr>\n    <tr>\n      <th>15</th>\n      <td>81</td>\n      <td>79</td>\n      <td>0</td>\n      <td>2</td>\n    </tr>\n    <tr>\n      <th>16</th>\n      <td>675</td>\n      <td>79</td>\n      <td>0</td>\n      <td>2</td>\n    </tr>\n    <tr>\n      <th>17</th>\n      <td>672</td>\n      <td>79</td>\n      <td>0</td>\n      <td>2</td>\n    </tr>\n    <tr>\n      <th>18</th>\n      <td>609</td>\n      <td>79</td>\n      <td>0</td>\n      <td>2</td>\n    </tr>\n    <tr>\n      <th>19</th>\n      <td>79</td>\n      <td>223</td>\n      <td>0</td>\n      <td>1</td>\n    </tr>\n  </tbody>\n</table>\n</div>"
     },
     "execution_count": 4,
     "metadata": {},
     "output_type": "execute_result"
    }
   ],
   "source": [
    "dfFinal = pd.DataFrame(columns=[\"Team1\", \"Team2\", \"map\"])\n",
    "dfFinal[\"Team1\"] = firstTeams\n",
    "dfFinal[\"Team2\"] = secondTeams\n",
    "dfFinal[\"map\"] =df[\"map\"].copy()\n",
    "dfFinal[\"WinningTeam\"] = df[\"WinningTeam\"]\n",
    "\n",
    "encoding = LabelEncoder()\n",
    "encoding.fit(firstTeams + secondTeams)\n",
    "dfFinal[\"Team1\"] = encoding.transform(dfFinal[\"Team1\"].values)\n",
    "dfFinal[\"Team2\"] = encoding.transform(dfFinal[\"Team2\"].values)\n",
    "\n",
    "# encode maps\n",
    "encoding = LabelEncoder()\n",
    "encoding.fit(dfFinal[\"map\"].values)\n",
    "dfFinal[\"map\"] = encoding.transform(dfFinal[\"map\"].values)\n",
    "\n",
    "dfFinal.head(20)"
   ],
   "metadata": {
    "collapsed": false,
    "pycharm": {
     "name": "#%%\n"
    }
   }
  },
  {
   "cell_type": "code",
   "execution_count": 5,
   "outputs": [],
   "source": [
    "# extract features\n",
    "x_features = []\n",
    "winners = []\n",
    "\n",
    "for index, row in dfFinal.iterrows():\n",
    "    features = []\n",
    "    features.append(row[\"map\"])\n",
    "    features.append(row[\"Team1\"])\n",
    "    features.append(row[\"Team2\"])\n",
    "\n",
    "    x_features.append(features)\n",
    "    winners.append(row[\"WinningTeam\"])"
   ],
   "metadata": {
    "collapsed": false,
    "pycharm": {
     "name": "#%%\n"
    }
   }
  },
  {
   "cell_type": "code",
   "execution_count": 10,
   "outputs": [],
   "source": [
    "tree2 = RandomForestClassifier()\n",
    "tree2 = tree2.fit(x_features, winners)"
   ],
   "metadata": {
    "collapsed": false,
    "pycharm": {
     "name": "#%%\n"
    }
   }
  },
  {
   "cell_type": "code",
   "execution_count": 13,
   "outputs": [
    {
     "data": {
      "text/plain": "0.6116612872603"
     },
     "execution_count": 13,
     "metadata": {},
     "output_type": "execute_result"
    }
   ],
   "source": [
    "# test tree by cross validation\n",
    "scores = cross_val_score(tree2, x_features, winners, scoring='accuracy')\n",
    "np.mean(scores)"
   ],
   "metadata": {
    "collapsed": false,
    "pycharm": {
     "name": "#%%\n"
    }
   }
  },
  {
   "cell_type": "code",
   "execution_count": 14,
   "outputs": [
    {
     "name": "stdout",
     "output_type": "stream",
     "text": [
      "Accuracy: 0.6020808809569015\n"
     ]
    }
   ],
   "source": [
    "scores = cross_val_score(tree2, x_features, winners, scoring='accuracy')\n",
    "acc = np.mean(scores)\n",
    "\n",
    "print(\"Accuracy: {0}\".format(acc))"
   ],
   "metadata": {
    "collapsed": false,
    "pycharm": {
     "name": "#%%\n"
    }
   }
  }
 ],
 "metadata": {
  "kernelspec": {
   "display_name": "Python 3",
   "language": "python",
   "name": "python3"
  },
  "language_info": {
   "codemirror_mode": {
    "name": "ipython",
    "version": 2
   },
   "file_extension": ".py",
   "mimetype": "text/x-python",
   "name": "python",
   "nbconvert_exporter": "python",
   "pygments_lexer": "ipython2",
   "version": "2.7.6"
  }
 },
 "nbformat": 4,
 "nbformat_minor": 0
}