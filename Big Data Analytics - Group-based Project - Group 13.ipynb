{
 "cells": [
  {
   "cell_type": "code",
   "execution_count": null,
   "metadata": {
    "pycharm": {
     "name": "#%%\n"
    }
   },
   "outputs": [],
   "source": [
    "import os, json\n",
    "import random\n",
    "import pandas as pd # for data stuff\n",
    "import numpy as np # for importing data i think, not sure anymore\n",
    "import matplotlib.pyplot as plt #for plotting\n",
    "\n",
    "# the modules below are used in \"Analys Models\" section\n",
    "from sklearn import svm, datasets\n",
    "from sklearn.model_selection import train_test_split\n",
    "from sklearn.metrics import plot_confusion_matrix\n",
    "from pandas.io.json import json_normalize\n",
    "from IPython.display import Video"
   ]
  },
  {
   "cell_type": "markdown",
   "metadata": {},
   "source": [
    "# Analysis of Brawl Stars Data Set\n",
    "\n",
    "## What is Brawl Stars?\n",
    "\n",
    "Brawl Stars is a mobile online multiplayer battle game. A player choses a Brawler as game character and plays against other players or AI opponents. Currently there exist 36 different Brawlers, which a player can choose from. Each Brawler has a power level from 1 to 10. With the help of the in-game loot boxes those power levels can be upgraded.\n",
    "There are several playable modes, which are updated in regular intervals (every 24hours). Of course, it should also be mentioned that each mode has its preferred characters.\n",
    "There exist several game modes, where you either play solo or in a team of 2 or 3 against other players/teams or AI opponents.\n",
    "\n",
    "Every groupmember is an active Brawl Stars gamer. That's the reason why we have decided to analyse some interesting insights of the Brawl Stars dataset. In the video below, you can see a small snipet of the mode \"Brawlball\". Brawlball is a 3 vs 3 match configuration, where your teams needs to score 2 goals against the opponent to win. In case you get attacked and killed by the opponents, you are out of the game for 10 seconds. This increases the chance of the opponent team for scoring an opposing goal. "
   ]
  },
  {
   "cell_type": "code",
   "execution_count": null,
   "metadata": {
    "pycharm": {
     "name": "#%%\n"
    }
   },
   "outputs": [],
   "source": [
    "# a short video showing the game mode \"Brawl Ball\"; \n",
    "Video(\"Brawlball.mp4\")"
   ]
  },
  {
   "cell_type": "markdown",
   "metadata": {
    "pycharm": {
     "name": "#%% md\n"
    }
   },
   "source": [
    "## Analysis Questions\n",
    "\n",
    "In each game, the main goal of every player is winning. Hence, we focused our question on how to choose your own brawler,\n",
    "respectively the team composition, to win games. Hence, we eventually came up with the following questions:\n",
    "\n",
    "1. __Are there some brawlers, which are more often picked or are more likely to win?__\n",
    "2. __Are there team combinations which are more likely to win?__\n",
    "3. __Is it possible to predict the star player from the winning team?__ The star player is the player which has performed best,\n",
    "which is calculated by his number of kills, his total damage and the game-goal performance. The star player gains more points than\n",
    "the other players.\n",
    "4. __Is it possible to predict the winning team of a match?__"
   ]
  },
  {
   "cell_type": "markdown",
   "metadata": {},
   "source": [
    "# Preliminaries\n",
    "\n",
    "- To process and clean the Brawl Stars Data Set we make use of python libraries which are designed for data processing.\n",
    "- To collect the Brawl Stars Data Set a Brawl Stars API wrapper called brawlstats is used."
   ]
  },
  {
   "cell_type": "markdown",
   "metadata": {},
   "source": [
    "Install brawlstats, a python wrapper to retrieve data from the Brawl Stars API\n",
    " - https://brawlstats.readthedocs.io/en/latest/index.html"
   ]
  },
  {
   "cell_type": "code",
   "execution_count": null,
   "metadata": {},
   "outputs": [],
   "source": [
    "!pip install brawlstats"
   ]
  },
  {
   "cell_type": "markdown",
   "metadata": {},
   "source": [
    "# Data Collection\n",
    "\n",
    "- We collect battlelogs from the Brawl Stars API."
   ]
  },
  {
   "cell_type": "markdown",
   "metadata": {},
   "source": [
    "Import brawlstats "
   ]
  },
  {
   "cell_type": "code",
   "execution_count": null,
   "metadata": {},
   "outputs": [],
   "source": [
    "import brawlstats\n",
    "import time"
   ]
  },
  {
   "cell_type": "markdown",
   "metadata": {},
   "source": [
    "Establish connection to Brawl Stars API. A token resp. API Key is needed. Follow the steps below to obtain a token.\n",
    "- create an account at: https://developer.brawlstars.com/#/\n",
    "- get your IPv4 with: https://www.whatismyip.org/\n",
    "- create an API Key on https://developer.brawlstars.com/#/ for your account and your API Key\n",
    "- save your API key in this directory in a file named: token_brawlstats.txt\n",
    "- run the cell below to establish the connection to the API"
   ]
  },
  {
   "cell_type": "code",
   "execution_count": null,
   "metadata": {},
   "outputs": [],
   "source": [
    "path = os.getcwd()\n",
    "token_file =  open(os.path.join(path, \"token_brawlstats.txt\"), 'r')\n",
    "token = token_file.read()\n",
    "token_file.close()\n",
    "\n",
    "client = brawlstats.Client(token)"
   ]
  },
  {
   "cell_type": "markdown",
   "metadata": {
    "pycharm": {
     "name": "#%% md\n"
    }
   },
   "source": [
    "- retrieve the top 200 players\n",
    "- each player object contains a list of battle logs. Those battle logs contain meta data about the player's most recent played games. Those battlelogs form the raw data used for this project\n",
    "- If we collect data from the API, the most recent battle logs will be retrieved. Therefore, we decided to store the retrieved data in \"battlelog.json\" such that we can continue with the same data every time this jupyter notebook is used. However, one could delete the current \"battlelog.json\" file in order to create a new data set from recently played games\n",
    "- If you run the cell below a new data set is collected if no curent \"battlelog.json\" exists. However, if a new data set is collected, some adapations in this projects need to be made.\n",
    "\n",
    "we assume the skill level of the top 200 players in the game is about the same. Therefore all retrieved battle logs are from players with a very high skill level, making the raw data more consistent and not depending on the skill level of a player\n"
   ]
  },
  {
   "cell_type": "code",
   "execution_count": null,
   "metadata": {},
   "outputs": [],
   "source": [
    "if not os.path.isfile(\"battlelogs.json\"):\n",
    "    \n",
    "    # retrieve the player objects of the top 200 players\n",
    "    tags_top_200_players = [player[\"tag\"] for player in client.get_rankings(ranking='players', limit=200)]\n",
    "    top_200_players = [client.get_player(tag) for tag in tags_top_200_players]\n",
    "    \n",
    "    # retrive their battlelogs with the corresponding player tag and stor it in \"battlelogs.json\" file\n",
    "    with open(\"battlelogs.json\", \"w\") as battlelog_file:\n",
    "        for player in top_200_players:\n",
    "            player_battlelogs = client.get_battle_logs(player.tag)\n",
    "            for battlelog in player_battlelogs:\n",
    "                battlelogs[index] = {}\n",
    "                battlelogs[index][\"player_tag\"] = player.tag\n",
    "                battlelogs[index][\"battlelog\"] = battlelog\n",
    "                index += 1\n",
    "        json.dump(battlelogs, battlelog_file)\n",
    "        "
   ]
  },
  {
   "cell_type": "markdown",
   "metadata": {},
   "source": [
    "# Data Cleaning\n",
    "\n",
    "- some of the top players play against each other. Duplicates can be filtered since a battle log contains a unique key = \"battle_time\""
   ]
  },
  {
   "cell_type": "code",
   "execution_count": null,
   "metadata": {
    "pycharm": {
     "name": "#%%\n"
    }
   },
   "outputs": [],
   "source": [
    "# read in the battlelogs.json file\n",
    "with open(\"battlelogs.json\",'r') as in_file:\n",
    "    battlelogs = json.load(in_file)\n",
    "    in_file.close()\n",
    "    \n",
    "# initialize list for unique battlelogs\n",
    "unique_battlelogs = []\n",
    "used_battle_times = []\n",
    "\n",
    "# iterate over all battle logs\n",
    "for key in battlelogs.keys():\n",
    "    \n",
    "    # get the battle time of the current battle log which is a unique key\n",
    "    current_battle_time = battlelogs[key]['battlelog'][\"battle_time\"]\n",
    "    \n",
    "    # append the current battle log if \n",
    "    # it is not already in the list of unique battle logs\n",
    "    if not current_battle_time in used_battle_times:\n",
    "        used_battle_times.append(current_battle_time)\n",
    "        unique_battlelogs.append(battlelogs[key])\n",
    "\n",
    "print(\"The total number of unique battle logs is: {}\\n\".format(len(unique_battlelogs)))\n",
    "print(\"Below is a full battle log: \")    \n",
    "print(json.dumps(unique_battlelogs[1], sort_keys=True, indent=4))\n",
    " \n",
    "      "
   ]
  },
  {
   "cell_type": "markdown",
   "metadata": {},
   "source": [
    "# Data Processing\n",
    "- The Brawlers of the top players are analysed to see if they have most of their Brawlers on the max power level."
   ]
  },
  {
   "cell_type": "code",
   "execution_count": null,
   "metadata": {},
   "outputs": [],
   "source": [
    "# retrieve the player objects of the top 200 players\n",
    "tags_top_200_players = [player[\"tag\"] for player in client.get_rankings(ranking='players', limit=200)]\n",
    "top_200_players = [client.get_player(tag) for tag in tags_top_200_players]\n",
    "\n",
    "\n",
    "# initialize brawler levels count to 0\n",
    "# brawlers can be from level 1 to 10\n",
    "brawler_levels = {}\n",
    "for i in range(1, 11):\n",
    "    brawler_levels[i] = 0\n",
    "    \n",
    "# loop over the top 200 players\n",
    "for player in top_200_players:\n",
    "    \n",
    "    # loop over the brawlers of the current player\n",
    "    for brawler in player.brawlers:\n",
    "        # increment\n",
    "        brawler_levels[brawler[\"power\"]] += 1\n",
    "\n",
    "# create a bar plot of the distribution of the brawler power levels\n",
    "objects = brawler_levels.keys()\n",
    "y_pos = np.arange(len(objects))\n",
    "performance = brawler_levels.values()\n",
    "\n",
    "plt.bar(y_pos, performance, align='center', alpha=0.5)\n",
    "plt.xticks(y_pos, objects)\n",
    "plt.xlabel(\"Power Level of Brawler\")\n",
    "plt.ylabel('Number of Brawlers')\n",
    "plt.title('Brawler Levels of top 200 players')\n",
    "\n",
    "plt.show()"
   ]
  },
  {
   "cell_type": "markdown",
   "metadata": {},
   "source": [
    "The plot clearly shows that the top 200 players have their brawler mostly on the max power level"
   ]
  },
  {
   "cell_type": "markdown",
   "metadata": {},
   "source": [
    "# Displaying information about Modes and Maps (Occurence)\n",
    "\n",
    " We do want to have the number of games played for the different modes in order to be able to decide which mode to take.\n",
    " \n",
    " Additionally, we did the same with the different maps, although due to the small number for each map we rather focused on the game mode and decided to further analyse the game mode called \"BrawlBall\""
   ]
  },
  {
   "cell_type": "code",
   "execution_count": null,
   "metadata": {},
   "outputs": [],
   "source": [
    "\n",
    "### Retrieves information about the modes played and returns a dictionary with key:value (mode: counter)\n",
    "modedict = {}\n",
    "current_mode = ''\n",
    "for log in unique_battlelogs:\n",
    "    current_mode = log[\"battlelog\"][\"event\"][\"mode\"]\n",
    "    if current_mode not in modedict.keys():\n",
    "        modedict[current_mode] = 0\n",
    "    modedict[current_mode] = modedict[current_mode] + 1\n",
    "    \n",
    "\n",
    "### Get the mode with highest games completed in our data\n",
    "max_key = max(modedict, key=modedict.get)  \n",
    "print(max_key)\n",
    "print(modedict)\n",
    "summode = 0\n",
    "for val in modedict.values():\n",
    "    summode = summode + val\n",
    "print(summode)\n",
    "    \n",
    "\n",
    "### Retrieves counter information about the different maps played and returns a dictionary with key:value (map: counter) pairs\n",
    "mapdict = {}\n",
    "current_map = ''\n",
    "for log in unique_battlelogs:\n",
    "    current_map = log[\"battlelog\"][\"event\"][\"map\"]\n",
    "    if current_map not in mapdict.keys():\n",
    "        mapdict[current_map] = 0\n",
    "    mapdict[current_map] = mapdict[current_map] + 1\n",
    "    \n",
    "print(mapdict)\n",
    "summap = 0\n",
    "for values in mapdict.values():\n",
    "    summap = summap + values\n",
    "print(summap)\n",
    "            "
   ]
  },
  {
   "cell_type": "markdown",
   "metadata": {},
   "source": [
    "## Creating a Dataframe for further analysis\n",
    "Since we will be able to perform certain actions on the dataset and want to get rid of the tedious JSON format, we're pulling out the important data for future analysis from the JSON and add it to a Dataframe. Additionally, the Game result (victory, draw, loss) is now numerically encoded.\n",
    "As a last step, we removed games where a brawler was present at least twice in the same team. As this normally does not occur on games, we wanted to remove data that showed this property."
   ]
  },
  {
   "cell_type": "code",
   "execution_count": null,
   "metadata": {},
   "outputs": [],
   "source": [
    "### Narrowing down the data to have only variables of interest\n",
    "\n",
    "brawl_dicts = []\n",
    "for log in unique_battlelogs:\n",
    "    if log[\"battlelog\"][\"event\"][\"mode\"] == max_key:\n",
    "        brawl_dicts.append(log)\n",
    "        \n",
    "print(len(brawl_dicts))\n",
    "###print(brawl_dicts)\n",
    "\n",
    "##removing any unnecessary information from the source\n",
    "\n",
    "df = pd.DataFrame(columns=['WinningTeam','BattleTime','playerTag','mode','map','result','StarPlayerTag','StarPlayerBrawler','Brawler1Name','Brawler1Tag','Brawler2Name','Brawler2Tag','Brawler3Name','Brawler3Tag','Brawler4Name',\n",
    "                           'Brawler4Tag','Brawler5Name','Brawler5Tag','Brawler6Name','Brawler6Tag'])\n",
    "\n",
    "    \n",
    "for i in range(len(brawl_dicts)):\n",
    "    log = brawl_dicts[i]\n",
    "    row = []\n",
    "    \n",
    "    if log[\"battlelog\"][\"battle\"][\"result\"] == \"draw\":\n",
    "        row.append(0)\n",
    "    elif (log[\"player_tag\"] == log[\"battlelog\"][\"battle\"][\"teams\"][0][0][\"tag\"] or log[\"player_tag\"] == log[\"battlelog\"][\"battle\"][\"teams\"][0][1][\"tag\"] or log[\"player_tag\"] == log[\"battlelog\"][\"battle\"][\"teams\"][0][2][\"tag\"]) and log[\"battlelog\"][\"battle\"][\"result\"] == \"victory\":\n",
    "        row.append(1)\n",
    "    else:\n",
    "        row.append(2)\n",
    "    row.append(log[\"battlelog\"][\"battle_time\"])\n",
    "    row.append(log[\"player_tag\"])\n",
    "    row.append(log[\"battlelog\"][\"event\"][\"mode\"])\n",
    "    row.append(log[\"battlelog\"][\"event\"][\"map\"])\n",
    "    row.append(log[\"battlelog\"][\"battle\"][\"result\"])\n",
    "    row.append(log[\"battlelog\"][\"battle\"][\"star_player\"][\"tag\"])\n",
    "    row.append(log[\"battlelog\"][\"battle\"][\"star_player\"][\"brawler\"][\"name\"])\n",
    "    row.append(log[\"battlelog\"][\"battle\"][\"teams\"][0][0][\"brawler\"][\"name\"])\n",
    "    row.append(log[\"battlelog\"][\"battle\"][\"teams\"][0][0][\"tag\"])\n",
    "    row.append(log[\"battlelog\"][\"battle\"][\"teams\"][0][1][\"brawler\"][\"name\"])\n",
    "    row.append(log[\"battlelog\"][\"battle\"][\"teams\"][0][1][\"tag\"])\n",
    "    row.append(log[\"battlelog\"][\"battle\"][\"teams\"][0][2][\"brawler\"][\"name\"])\n",
    "    row.append(log[\"battlelog\"][\"battle\"][\"teams\"][0][2][\"tag\"])\n",
    "    row.append(log[\"battlelog\"][\"battle\"][\"teams\"][1][0][\"brawler\"][\"name\"])\n",
    "    row.append(log[\"battlelog\"][\"battle\"][\"teams\"][1][0][\"tag\"])\n",
    "    row.append(log[\"battlelog\"][\"battle\"][\"teams\"][1][1][\"brawler\"][\"name\"])\n",
    "    row.append(log[\"battlelog\"][\"battle\"][\"teams\"][1][1][\"tag\"])\n",
    "    row.append(log[\"battlelog\"][\"battle\"][\"teams\"][1][2][\"brawler\"][\"name\"])\n",
    "    row.append(log[\"battlelog\"][\"battle\"][\"teams\"][1][2][\"tag\"])\n",
    "    df.loc[i] = row\n",
    "\n",
    "df = df.replace(to_replace = 'victory', value= 1)\n",
    "df = df.replace(to_replace = 'defeat', value= -1)\n",
    "df = df.replace(to_replace = 'draw', value= 0)\n",
    "\n",
    "\n",
    "df.head(10)\n",
    "\n",
    "\n",
    "### Dropping data where a brawler is present twice in the same team, as this is normally not permitted in games\n",
    "duplicateBrawlersIndices = []\n",
    "for index, row in df.iterrows():\n",
    "    if (row[\"Brawler1Name\"] == row[\"Brawler2Name\"] or row[\"Brawler1Name\"] == row[\"Brawler2Name\"] or row[\"Brawler2Name\"] == row[\"Brawler3Name\"]\n",
    "        or row[\"Brawler4Name\"] == row[\"Brawler5Name\"] or row[\"Brawler4Name\"] == row[\"Brawler6Name\"] or row[\"Brawler5Name\"] == row[\"Brawler6Name\"]):\n",
    "        duplicateBrawlersIndices.append(index)\n",
    "df = df.drop(duplicateBrawlersIndices)\n",
    "\n",
    "\n",
    "\n",
    "###df.to_csv(\"rawdata.csv\",index=False)\n"
   ]
  },
  {
   "cell_type": "markdown",
   "metadata": {},
   "source": [
    "### Preparing Data to check brawler-specific Pickrate, meaning the chance (in %) of each brawler getting picked for BrawlBall mode"
   ]
  },
  {
   "cell_type": "code",
   "execution_count": null,
   "metadata": {},
   "outputs": [],
   "source": [
    "## List of all Brawlernames to simplify certain actions\n",
    "\n",
    "brawlerlist = ['SHELLY','NITA','COLT','BULL','JESSIE','BROCK','DYNAMIKE','BO','TICK','8-BIT','EMZ','EL PRIMO','BARLEY','POCO','ROSA','DARRYL','PENNY','CARL','JACKY','PIPER','PAM','FRANK','BIBI','BEA','RICO','MORTIS','TARA','GENE','MAX','MR. P','SPROUT','SPIKE','CROW','LEON','SANDY','GALE']\n",
    "print(len(brawlerlist))\n",
    "\n",
    "## Creating a new Dataframe for Calucalating the Pickrate of each brawler (through duplicate removal and comparing to teams (not games), may not exceed 100%)\n",
    "newdf = pd.DataFrame(brawlerlist,columns=['Name'])\n",
    "\n",
    "OccurencesBrawler =[]\n",
    "TotalGames = []\n",
    "\n",
    "for brawler in brawlerlist:\n",
    "    x = list(df.Brawler1Name).count(brawler)\n",
    "    y = list(df.Brawler2Name).count(brawler)\n",
    "    z = list(df.Brawler3Name).count(brawler)\n",
    "    a = list(df.Brawler4Name).count(brawler)\n",
    "    b = list(df.Brawler5Name).count(brawler)\n",
    "    c = list(df.Brawler6Name).count(brawler)\n",
    "    \n",
    "    total_sum = a + b + c + x + y + z\n",
    "    OccurencesBrawler.append(total_sum)\n",
    "    ### As each team may choose every brawler (although premade teams are not allowed to pick duplicates), we derive the TotalTeam Number from the Total games played.\n",
    "    TotalGames.append(len(df.index)*2)\n",
    "\n",
    "    \n",
    "## Adding New columns for calulcation of the \"pick rate\" (how often is the respective brawler picked)\n",
    "## Additionally, to perform row-wise transformations, the Number of Total games is written in each row\n",
    "newdf['Occurence'] = OccurencesBrawler\n",
    "newdf['TotalGames'] = TotalGames\n",
    "\n",
    "newdf['PickRate %'] = newdf.Occurence / newdf.TotalGames * 100\n",
    "newdf\n",
    "\n"
   ]
  },
  {
   "cell_type": "markdown",
   "metadata": {},
   "source": [
    "### Preparation and Constructing Tables that show brawler-specific Winrate (in %), show how many times the brawler (individually) wins"
   ]
  },
  {
   "cell_type": "code",
   "execution_count": null,
   "metadata": {},
   "outputs": [],
   "source": [
    "## List of all Brawlernames to simplify certain actions\n",
    "\n",
    "brawlerlist = ['SHELLY','NITA','COLT','BULL','JESSIE','BROCK','DYNAMIKE','BO','TICK','8-BIT','EMZ','EL PRIMO','BARLEY','POCO','ROSA','DARRYL','PENNY','CARL','JACKY','PIPER','PAM','FRANK','BIBI','BEA','RICO','MORTIS','TARA','GENE','MAX','MR. P','SPROUT','SPIKE','CROW','LEON','SANDY','GALE']\n",
    "\n",
    "\n",
    "## Creating a new Dataframe for Calucalating the Pickrate of each brawler, keep in mind that every non-premade team may have duplicate champions, therefore the Pickrate could theoretically exceed 100% (up to 300%)\n",
    "windf = pd.DataFrame(brawlerlist,columns=['Name'])\n",
    "\n",
    "## List that will be filled with the number each brawler has played in the dataset.\n",
    "GamesPlayed =[]\n",
    "\n",
    "for brawler in brawlerlist:\n",
    "    x = list(df.Brawler1Name).count(brawler)\n",
    "    y = list(df.Brawler2Name).count(brawler)\n",
    "    z = list(df.Brawler3Name).count(brawler)\n",
    "    a = list(df.Brawler4Name).count(brawler)\n",
    "    b = list(df.Brawler5Name).count(brawler)\n",
    "    c = list(df.Brawler6Name).count(brawler)\n",
    "    \n",
    "    total_sum = a + b + c + x + y + z\n",
    "    GamesPlayed.append(total_sum)\n",
    "    \n",
    "winningOccurences = []"
   ]
  },
  {
   "cell_type": "code",
   "execution_count": null,
   "metadata": {
    "pycharm": {
     "name": "#%%\n"
    }
   },
   "outputs": [],
   "source": [
    "for brawler in brawlerlist:\n",
    "    brawlwincount = 0\n",
    "    for index, row in df.iterrows():\n",
    "        if row[\"WinningTeam\"] == 1 and (row[\"Brawler1Name\"] == brawler or row[\"Brawler2Name\"] == brawler or row[\"Brawler3Name\"] == brawler):\n",
    "            brawlwincount += 1\n",
    "        elif row[\"WinningTeam\"] == 2 and (row[\"Brawler4Name\"] == brawler or row[\"Brawler5Name\"] == brawler or row[\"Brawler6Name\"] == brawler):\n",
    "            brawlwincount += 1\n",
    "    winningOccurences.append(brawlwincount)\n",
    "\n",
    "# Appended Games played to the dataframe to make calculations\n",
    "windf['Games Played'] = GamesPlayed\n",
    "windf['Games Won'] = winningOccurences\n",
    "windf['Winrate %'] = windf['Games Won'] / windf['Games Played'] * 100\n",
    "##Side note: It may occur that the teams playing against each other have the same brawler in one game, this would result in a winrate of 50% (if only games where both teams the same brawler were counted).\n",
    "windf"
   ]
  },
  {
   "cell_type": "markdown",
   "metadata": {},
   "source": [
    "##### Our first assumption was that the pickrate and the winrate should show a certain trend (e.g a brawler that is picked often will possibly have a higher winrate than a brawler that is played seldom. We could also expect that due to the higher absolute number of the brawler with a higher pickrate the winrate is more consolidated, as the higher numbers allow for a better judgement for the \"real\" value. To visualize this assumption, a scatterplot has been created in order to check if we could verify this in the graph."
   ]
  },
  {
   "cell_type": "code",
   "execution_count": null,
   "metadata": {},
   "outputs": [],
   "source": [
    "scatterdf = pd.DataFrame()\n",
    "scatterdf['Name'] = brawlerlist\n",
    "scatterdf['Winrate %'] = windf['Winrate %']\n",
    "scatterdf['PickRate %'] = newdf['PickRate %']\n",
    "scatterdf\n",
    "scatterplot = scatterdf.plot.scatter(x='PickRate %',y = 'Winrate %', c= 'blue')\n",
    "\n",
    "## avgwinpercentage = scatterdf['Winrate %'].sum()\n",
    "## print(avgwinpercentage/len(scatterdf['Winrate %'])) "
   ]
  },
  {
   "cell_type": "markdown",
   "metadata": {
    "pycharm": {
     "name": "#%% md\n"
    }
   },
   "source": [
    "##### The figure above does not provide any additional information. Nevertheless, it seems that the distribution of the winrate seems to stabilizie towards the 'center' (meaning around 50% winrate) whenever the pickrate is increased. For brawlers with a low pickrate, the winrate seems to be rather volatile, whereas for higher pickrate brawlers, the winrate converges to the center."
   ]
  },
  {
   "cell_type": "markdown",
   "metadata": {
    "pycharm": {
     "name": "#%% md\n"
    }
   },
   "source": [
    "# Analysis\n",
    "\n",
    "## Winning Team Combinations\n",
    "\n",
    "For our second questions - if certain team combinations exists, which win often - we used frequent item set mining.\n",
    "In a first step, we analysed the team combinations with the specific brawlers. Afterwards, we did the same, but for the brawler types.\n",
    "Each Brawler has a certain type (Sniper, Thrower, etc.) which is sometimes advantageous on certain maps.\n",
    "\n",
    "### Brawler-Team Composition\n",
    "\n",
    "In this part, the specific brawler-team composition in analysed by frequent itemset mining."
   ]
  },
  {
   "cell_type": "code",
   "execution_count": null,
   "metadata": {
    "pycharm": {
     "name": "#%%\n"
    }
   },
   "outputs": [],
   "source": [
    "from mlxtend.frequent_patterns import apriori\n",
    "from mlxtend.preprocessing import TransactionEncoder"
   ]
  },
  {
   "cell_type": "code",
   "execution_count": null,
   "metadata": {
    "pycharm": {
     "name": "#%%\n"
    }
   },
   "outputs": [],
   "source": [
    "# extract list of winning teams\n",
    "dfWinTeam = pd.read_csv(\"rawdata.csv\")"
   ]
  },
  {
   "cell_type": "markdown",
   "source": [
    "Check which map is played most, has winning teams could vary a lot between different maps.\n"
   ],
   "metadata": {
    "collapsed": false,
    "pycharm": {
     "name": "#%% md\n"
    }
   }
  },
  {
   "cell_type": "code",
   "execution_count": null,
   "outputs": [],
   "source": [
    "pd.value_counts(dfWinTeam['map'])\n"
   ],
   "metadata": {
    "collapsed": false,
    "pycharm": {
     "name": "#%%\n"
    }
   }
  },
  {
   "cell_type": "code",
   "execution_count": null,
   "outputs": [],
   "source": [
    "# only keep map with highest occurences\n",
    "dfWinTeam = dfWinTeam[dfWinTeam['map'] == 'Backyard Bowl']"
   ],
   "metadata": {
    "collapsed": false,
    "pycharm": {
     "name": "#%%\n"
    }
   }
  },
  {
   "cell_type": "code",
   "execution_count": null,
   "outputs": [],
   "source": [
    "winningTeams = []\n",
    "counter = 0\n",
    "for index, row in dfWinTeam.iterrows():\n",
    "    team = []\n",
    "    if row[\"WinningTeam\"] == 1:\n",
    "        team.append(row[\"Brawler1Name\"])\n",
    "        team.append(row[\"Brawler2Name\"])\n",
    "        team.append(row[\"Brawler3Name\"])\n",
    "    elif row[\"WinningTeam\"] == 2:\n",
    "        team.append(row[\"Brawler4Name\"])\n",
    "        team.append(row[\"Brawler5Name\"])\n",
    "        team.append(row[\"Brawler6Name\"])\n",
    "\n",
    "    if len(team) != 0:\n",
    "        winningTeams.append(team)\n",
    "\n",
    "# transform table in correct format (one column per brawler)\n",
    "te = TransactionEncoder()\n",
    "te_ary = te.fit(winningTeams).transform(winningTeams)\n",
    "dfFreqSetsWinnerBrawler = pd.DataFrame(te_ary, columns=te.columns_)\n",
    "\n",
    "freq_item_winner_brawler = apriori(dfFreqSetsWinnerBrawler, min_support=0.01, use_colnames=True)\n",
    "freq_item_winner_brawler['length'] = freq_item_winner_brawler['itemsets'].apply(lambda x: len(x))\n",
    "\n",
    "# get most supported teams of 3\n",
    "freq_item_winner_brawler[ (freq_item_winner_brawler['length'] == 3) ].sort_values(by=[\"support\"], ascending=False)"
   ],
   "metadata": {
    "collapsed": false,
    "pycharm": {
     "name": "#%%\n"
    }
   }
  },
  {
   "cell_type": "markdown",
   "metadata": {
    "pycharm": {
     "name": "#%% md\n"
    }
   },
   "source": [
    "The table shows that there are some team combinations with a support higher than 1%. The most used winning team consists of\n",
    "Brock, Bea and Penny with a support of 3.4%. This number is quite high when considering that 36 * 35 * 34 team combinations are possible.\n",
    "\n",
    "These results suggests that there are indeed team combinations which win more often than others. However, as only a small subset of all\n",
    "possible team combinations are actually played, there may exists many teams which would be even better."
   ]
  },
  {
   "cell_type": "markdown",
   "metadata": {
    "pycharm": {
     "name": "#%% md\n"
    }
   },
   "source": [
    "### Matej deine Teil hier glaubs\n"
   ]
  },
  {
   "cell_type": "markdown",
   "source": [
    "## Starplayer of the Winning Team"
   ],
   "metadata": {
    "collapsed": false
   }
  },
  {
   "cell_type": "markdown",
   "source": [
    "The goal of our third question is to predict the \"StarPlayer\" of the Winning Team in the mode \"BrawlBall\". We had the following approach:\n",
    "\n",
    "- 1. We need to extract the Brawlers of the winning team, since the Starplayer can only come from the winning team\n",
    "- 2. The variables \"winningTeams\", \"map\" and the \"StarPlayer\" of the match needs to to be encoded to perform a classification. The idea is that \"winningTeam\" and \"map\" defines the target variable \"StarPlayer\"\n",
    "- 3. We will try to predict the \"StarPlayer\" of the match with a RandomForestClassifier and interpret the result"
   ],
   "metadata": {
    "collapsed": false
   }
  },
  {
   "cell_type": "code",
   "execution_count": null,
   "outputs": [],
   "source": [
    "from sklearn.preprocessing import LabelEncoder\n",
    "from sklearn.model_selection import cross_val_score\n",
    "from sklearn.ensemble import RandomForestClassifier"
   ],
   "metadata": {
    "collapsed": false,
    "pycharm": {
     "name": "#%%\n"
    }
   }
  },
  {
   "cell_type": "code",
   "execution_count": null,
   "outputs": [],
   "source": [
    "#read dataset\n",
    "dfStarPlayer = pd.read_csv(\"rawdata.csv\")\n",
    "\n",
    "# extract winning teams\n",
    "winningTeams = []\n",
    "\n",
    "for index, row in dfStarPlayer.iterrows():\n",
    "    team = []\n",
    "\n",
    "    if row[\"WinningTeam\"] == 1:\n",
    "        team.append(row[\"Brawler1Name\"])\n",
    "        team.append(row[\"Brawler2Name\"])\n",
    "        team.append(row[\"Brawler3Name\"])\n",
    "    else:\n",
    "        team.append(row[\"Brawler4Name\"])\n",
    "        team.append(row[\"Brawler5Name\"])\n",
    "        team.append(row[\"Brawler6Name\"])\n",
    "\n",
    "    # sort teams that brawlers are in same order\n",
    "    team = sorted(team)\n",
    "\n",
    "    # concat teams to one string\n",
    "    teamString = \"_\".join(team)\n",
    "    winningTeams.append(teamString)\n",
    "\n",
    "# encode string for classifier\n",
    "dfStarPlayerFinal = pd.DataFrame(columns=[\"Team\", \"map\"])\n",
    "dfStarPlayerFinal[\"Team\"] = winningTeams\n",
    "dfStarPlayerFinal[\"map\"] =dfStarPlayer[\"map\"].copy()\n",
    "dfStarPlayerFinal[\"StarPlayer\"] = dfStarPlayer[\"StarPlayerBrawler\"].copy()\n",
    "\n",
    "#encode teams\n",
    "encoding = LabelEncoder()\n",
    "encoding.fit([*dfStarPlayerFinal[\"Team\"].values, *dfStarPlayerFinal[\"StarPlayer\"].values, *dfStarPlayerFinal[\"map\"].values])\n",
    "dfStarPlayerFinal[\"Team\"] = encoding.transform(dfStarPlayerFinal[\"Team\"].values)\n",
    "\n",
    "#encode brawler\n",
    "dfStarPlayerFinal[\"StarPlayer\"] = encoding.transform(dfStarPlayerFinal[\"StarPlayer\"].values)\n",
    "\n",
    "# encode maps\n",
    "dfStarPlayerFinal[\"map\"] = encoding.transform(dfStarPlayerFinal[\"map\"].values)\n",
    "\n",
    "# extract features\n",
    "x_features_starplayer = []\n",
    "starPlayers = []\n",
    "\n",
    "for index, row in dfStarPlayerFinal.iterrows():\n",
    "    features = []\n",
    "    features.append(row[\"map\"])\n",
    "    features.append(row[\"Team\"])\n",
    "\n",
    "    x_features_starplayer.append(features)\n",
    "    starPlayers.append(row[\"StarPlayer\"])\n",
    "\n",
    "# create classifier\n",
    "randomStarPlayerTree = RandomForestClassifier()\n",
    "randomStarPlayerTree = randomStarPlayerTree.fit(x_features_starplayer, starPlayers)\n",
    "\n",
    "scores = cross_val_score(randomStarPlayerTree, x_features_starplayer, starPlayers, scoring='accuracy')\n",
    "acc = np.mean(scores)\n",
    "\n",
    "print(\"Accuracy: {0}\".format(acc))"
   ],
   "metadata": {
    "collapsed": false,
    "pycharm": {
     "name": "#%%\n"
    }
   }
  },
  {
   "cell_type": "markdown",
   "source": [
    "The accuracy of our model is around 21% with a RandomForestClassifier, which is a bad performance. A winner Team consists of 3 Brawlers. This means the chance of becoming the StarBrawler is 33%. \n",
    "\n",
    "To analyse the cause of the warning above, we need to have a look on the number of Starplayer counts for each character in our dataset:"
   ],
   "metadata": {
    "collapsed": false
   }
  },
  {
   "cell_type": "code",
   "execution_count": null,
   "outputs": [],
   "source": [
    "print(dfStarPlayerFinal.loc[:,\"StarPlayer\"].value_counts().sort_values(ascending=True).head(10))"
   ],
   "metadata": {
    "collapsed": false,
    "pycharm": {
     "name": "#%%\n"
    }
   }
  },
  {
   "cell_type": "markdown",
   "source": [
    "Three Brawlers (class) in y have less than 5 occurences, which is less than n_splits=5 for the RandomForestClassifier. As an optimization problem, one could try to set a minimum occurence (e.g. 10). This could help to get a better performance & accurracy however after testing only an\n",
    "improvement of about 1% could be measured. We assume that the main problem lies probably in the fact that the model cannot recognise that\n",
    "always one of the three players from the actual team gets picked."
   ],
   "metadata": {
    "collapsed": false
   }
  },
  {
   "cell_type": "markdown",
   "metadata": {
    "pycharm": {
     "name": "#%% md\n"
    }
   },
   "source": [
    "## Win-Prediction Model\n",
    "\n",
    "In the last analysis, we build a model which should predict the winning team according to the brawlers in each team and\n",
    "the map. The game mode is still fixed to Brawl Ball. From the previous analysis, we saw that certain team compositions are chosen\n",
    "more often, hence we assume that the team composition plays a large role for winning (as the data is from the Top 200 players, their game\n",
    "skill should be roughly equal). Furthermore, we assume that the map also has an influence on who wins the game, as certain brawlers\n",
    "may have an advantage. Thus, we chose these variables as features.\n",
    "Lastly, we use the RandomTreeClassifier as a model.\n",
    "\n",
    "In a first step, we encoded the data into a form that is usable for the model."
   ]
  },
  {
   "cell_type": "code",
   "metadata": {
    "pycharm": {
     "name": "#%%\n"
    }
   },
   "source": [
    "from sklearn.preprocessing import LabelEncoder\n",
    "from sklearn.model_selection import cross_val_score\n",
    "from sklearn.ensemble import RandomForestClassifier"
   ],
   "execution_count": null,
   "outputs": []
  },
  {
   "cell_type": "code",
   "execution_count": null,
   "metadata": {
    "pycharm": {
     "name": "#%%\n"
    }
   },
   "outputs": [],
   "source": [
    "dfWinPrediction = pd.read_csv(\"rawdata.csv\")\n",
    "firstTeams = []\n",
    "secondTeams = []\n",
    "\n",
    "for index, row in dfWinPrediction.iterrows():\n",
    "    team1 = []\n",
    "    team2 = []\n",
    "\n",
    "    team1.append(row[\"Brawler1Name\"])\n",
    "    team1.append(row[\"Brawler2Name\"])\n",
    "    team1.append(row[\"Brawler3Name\"])\n",
    "\n",
    "    team2.append(row[\"Brawler4Name\"])\n",
    "    team2.append(row[\"Brawler5Name\"])\n",
    "    team2.append(row[\"Brawler6Name\"])\n",
    "\n",
    "    # sort teams that brawlers are in same order\n",
    "    team1 = sorted(team1)\n",
    "    team2 = sorted(team2)\n",
    "\n",
    "    # concat teams to one string\n",
    "    team1string = \"_\".join(team1)\n",
    "    team2string = \"_\".join(team2)\n",
    "\n",
    "    firstTeams.append(team1string)\n",
    "    secondTeams.append(team2string)\n",
    "\n",
    "# encode string for classifier\n",
    "dfFinal = pd.DataFrame(columns=[\"Team1\", \"Team2\", \"map\"])\n",
    "dfFinal[\"Team1\"] = firstTeams\n",
    "dfFinal[\"Team2\"] = secondTeams\n",
    "dfFinal[\"map\"] =dfWinPrediction[\"map\"].copy()\n",
    "dfFinal[\"WinningTeam\"] = dfWinPrediction[\"WinningTeam\"].copy()\n",
    "\n",
    "encoding = LabelEncoder()\n",
    "encoding.fit(firstTeams + secondTeams)\n",
    "dfFinal[\"Team1\"] = encoding.transform(dfFinal[\"Team1\"].values)\n",
    "dfFinal[\"Team2\"] = encoding.transform(dfFinal[\"Team2\"].values)\n",
    "\n",
    "# encode maps\n",
    "encoding = LabelEncoder()\n",
    "encoding.fit(dfFinal[\"map\"].values)\n",
    "dfFinal[\"map\"] = encoding.transform(dfFinal[\"map\"].values)\n",
    "\n",
    "dfFinal.head(5)"
   ]
  },
  {
   "cell_type": "markdown",
   "metadata": {
    "pycharm": {
     "name": "#%% md\n"
    }
   },
   "source": [
    "Then, we extracted the features from the dataset for the classifier plus created and trained the RandomForestClassifier."
   ]
  },
  {
   "cell_type": "code",
   "metadata": {
    "pycharm": {
     "name": "#%%\n"
    }
   },
   "source": [
    "x_features_winner = []\n",
    "winners = []\n",
    "\n",
    "for index, row in dfFinal.iterrows():\n",
    "    features = []\n",
    "    features.append(row[\"map\"])\n",
    "    features.append(row[\"Team1\"])\n",
    "    features.append(row[\"Team2\"])\n",
    "\n",
    "    x_features_winner.append(features)\n",
    "    winners.append(row[\"WinningTeam\"])\n",
    "\n",
    "# create classifier\n",
    "randomWinnerTree = RandomForestClassifier()\n",
    "randomWinnerTree = randomWinnerTree.fit(x_features_winner, winners)"
   ],
   "execution_count": null,
   "outputs": []
  },
  {
   "cell_type": "markdown",
   "metadata": {
    "pycharm": {
     "name": "#%% md\n"
    }
   },
   "source": [
    "Lastly, we cross validated the the tree in order to get its accurarcy"
   ]
  },
  {
   "cell_type": "code",
   "metadata": {
    "pycharm": {
     "name": "#%%\n"
    }
   },
   "source": [
    "scores = cross_val_score(randomWinnerTree, x_features_winner, winners, scoring='accuracy')\n",
    "acc = np.mean(scores)\n",
    "\n",
    "print(\"Accuracy: {0}\".format(acc))"
   ],
   "execution_count": null,
   "outputs": []
  },
  {
   "cell_type": "markdown",
   "metadata": {
    "pycharm": {
     "name": "#%% md\n"
    }
   },
   "source": [
    "We get an average accuracy of about __60%__ for predicting the winner of a game with this model. This does not seem as a bad\n",
    "performance as we are restricted to only work with limited data and we are above the 50% performance which would equal\n",
    "just guessing the outcome for winner or looser, however, as, even though not frequent, draws are possible guessing would be even below 50%.\n",
    "\n",
    "An improvement could result from using additional player data - if available - for example how well a player performs with a certain brawler\n",
    "or if the team memebers know each other and communicate."
   ]
  },
  {
   "cell_type": "markdown",
   "metadata": {
    "pycharm": {
     "name": "#%% md\n"
    }
   },
   "source": [
    "# Discussion\n",
    "\n",
    "All in all, we found some interesting answers during the analysis of this Brawl Stars data set. The answers could be really\n",
    "useful when playing the game, as it gives insides which brawlers or teams could have an advantage. Furthermore, when knowing an\n",
    "opposite team (for example during a tournament), it is possible to predict the winner with a certain probability.\n",
    "\n",
    "It would be interesting to increase the size of the used data in order to make the model more precise and maybe also include other\n",
    "game modes instead of the subset we use. However, keeping in mind that game outcomes also rely on many other contextual factors\n",
    "the predictions from only in-game data is limited.\n",
    "\n",
    "\n"
   ]
  }
 ],
 "metadata": {
  "kernelspec": {
   "display_name": "Python 3",
   "language": "python",
   "name": "python3"
  },
  "language_info": {
   "codemirror_mode": {
    "name": "ipython",
    "version": 3
   },
   "file_extension": ".py",
   "mimetype": "text/x-python",
   "name": "python",
   "nbconvert_exporter": "python",
   "pygments_lexer": "ipython3",
   "version": "3.7.4"
  }
 },
 "nbformat": 4,
 "nbformat_minor": 4
}