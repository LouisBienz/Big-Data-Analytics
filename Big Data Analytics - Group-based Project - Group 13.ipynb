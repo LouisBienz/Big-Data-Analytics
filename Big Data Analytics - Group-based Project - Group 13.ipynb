{
 "cells": [
  {
   "cell_type": "code",
   "execution_count": 2,
   "metadata": {
    "pycharm": {
     "name": "#%%\n"
    }
   },
   "outputs": [],
   "source": [
    "import os, json\n",
    "import random\n",
    "import pandas as pd # for data stuff\n",
    "import numpy as np # for importing data i think, not sure anymore\n",
    "import matplotlib.pyplot as plt #for plotting\n",
    "\n",
    "# the modules below are used in \"Analys Models\" section\n",
    "from sklearn import svm, datasets\n",
    "from sklearn.model_selection import train_test_split\n",
    "from sklearn.metrics import plot_confusion_matrix\n",
    "from pandas.io.json import json_normalize\n",
    "from IPython.display import Video"
   ]
  },
  {
   "cell_type": "markdown",
   "metadata": {},
   "source": [
    "# Analysis of Brawl Stars Data Set\n",
    "\n",
    "## What is Brawl Stars?\n",
    "\n",
    "Brawl Stars is a mobile online multiplayer battle game. A player choses a Brawler as game character and plays against other players or AI opponents. Currently there exist 36 different Brawlers, which a player can choose from. Each Brawler has a power level from 1 to 10. With the help of the in-game loot boxes those power levels can be upgraded.\n",
    "There are several playable modes, which are updated in regular intervals (every 24hours). Of course, it should also be mentioned that each mode has its preferred characters.\n",
    "There exist several game modes, where you either play solo or in a team of 2 or 3 against other players/teams or AI opponents.\n",
    "\n",
    "Every groupmember is an active Brawl Stars gamer. That's the reason why we have decided to analyse some interesting insights of the Brawl Stars dataset. In the video below, you can see a small snipet of the mode \"Brawlball\". Brawlball is a 3 vs 3 match configuration, where your teams needs to score 2 goals against the opponent to win. In case you get attacked and killed by the opponents, you are out of the game for 10 seconds. This increases the chance of the opponent team for scoring an opposing goal. "
   ]
  },
  {
   "cell_type": "code",
   "execution_count": 3,
   "metadata": {
    "pycharm": {
     "name": "#%%\n"
    }
   },
   "outputs": [
    {
     "data": {
      "text/html": [
       "<video src=\"Brawlball.mp4\" controls  >\n",
       "      Your browser does not support the <code>video</code> element.\n",
       "    </video>"
      ],
      "text/plain": [
       "<IPython.core.display.Video object>"
      ]
     },
     "execution_count": 3,
     "metadata": {},
     "output_type": "execute_result"
    }
   ],
   "source": [
    "# a short video showing the game mode \"Brawl Ball\"; \n",
    "Video(\"Brawlball.mp4\")"
   ]
  },
  {
   "cell_type": "markdown",
   "metadata": {
    "pycharm": {
     "name": "#%% md\n"
    }
   },
   "source": [
    "## Analysis Questions\n",
    "\n",
    "In each game, the main goal of every player is winning. Hence, we focused our question on how to choose your own brawler,\n",
    "respectively the team composition, to win games. Hence, we eventually came up with the following questions:\n",
    "\n",
    "1. __Are there some brawlers, which are more often picked or are more likely to win?__\n",
    "2. __Are there team combinations which are more likely to win?__\n",
    "3. __Is it possible to predict the star player from the winning team?__ The star player is the player which has performed best,\n",
    "which is calculated by his number of kills, his total damage and the game-goal performance. The star player gains more points than\n",
    "the other players.\n",
    "4. __Is it possible to predict the winning team of a match?__"
   ]
  },
  {
   "cell_type": "markdown",
   "metadata": {},
   "source": [
    "# Preliminaries\n",
    "\n",
    "- To process and clean the Brawl Stars Data Set we make use of python libraries which are designed for data processing.\n",
    "- To collect the Brawl Stars Data Set a Brawl Stars API wrapper called brawlstats is used."
   ]
  },
  {
   "cell_type": "markdown",
   "metadata": {},
   "source": [
    "Install brawlstats, a python wrapper to retrieve data from the Brawl Stars API\n",
    " - https://brawlstats.readthedocs.io/en/latest/index.html"
   ]
  },
  {
   "cell_type": "code",
   "execution_count": null,
   "metadata": {},
   "outputs": [],
   "source": [
    "!pip install brawlstats"
   ]
  },
  {
   "cell_type": "markdown",
   "metadata": {},
   "source": [
    "# Data Collection\n",
    "\n",
    "- We collect battlelogs from the Brawl Stars API."
   ]
  },
  {
   "cell_type": "markdown",
   "metadata": {},
   "source": [
    "Import brawlstats "
   ]
  },
  {
   "cell_type": "code",
   "execution_count": null,
   "metadata": {},
   "outputs": [],
   "source": [
    "import brawlstats\n",
    "import time"
   ]
  },
  {
   "cell_type": "markdown",
   "metadata": {},
   "source": [
    "Establish connection to Brawl Stars API. A token resp. API Key is needed. Follow the steps below to obtain a token.\n",
    "- create an account at: https://developer.brawlstars.com/#/\n",
    "- get your IPv4 with: https://www.whatismyip.org/\n",
    "- create an API Key on https://developer.brawlstars.com/#/ for your account and your API Key\n",
    "- save your API key in this directory in a file named: token_brawlstats.txt\n",
    "- run the cell below to establish the connection to the API"
   ]
  },
  {
   "cell_type": "code",
   "execution_count": null,
   "metadata": {},
   "outputs": [],
   "source": [
    "path = os.getcwd()\n",
    "token_file =  open(os.path.join(path, \"token_brawlstats.txt\"), 'r')\n",
    "token = token_file.read()\n",
    "token_file.close()\n",
    "\n",
    "client = brawlstats.Client(token)"
   ]
  },
  {
   "cell_type": "markdown",
   "metadata": {
    "pycharm": {
     "name": "#%% md\n"
    }
   },
   "source": [
    "- retrieve the top 200 players\n",
    "- each player object contains a list of battle logs. Those battle logs contain meta data about the player's most recent played games. Those battlelogs form the raw data used for this project\n",
    "- If we collect data from the API, the most recent battle logs will be retrieved. Therefore, we decided to store the retrieved data in \"battlelog.json\" such that we can continue with the same data every time this jupyter notebook is used. However, one could delete the current \"battlelog.json\" file in order to create a new data set from recently played games\n",
    "- If you run the cell below a new data set is collected if no curent \"battlelog.json\" exists. However, if a new data set is collected, some adapations in this projects need to be made.\n",
    "\n",
    "we assume the skill level of the top 200 players in the game is about the same. Therefore all retrieved battle logs are from players with a very high skill level, making the raw data more consistent and not depending on the skill level of a player\n"
   ]
  },
  {
   "cell_type": "code",
   "execution_count": null,
   "metadata": {},
   "outputs": [],
   "source": [
    "if not os.path.isfile(\"battlelogs.json\"):\n",
    "    \n",
    "    # retrieve the player objects of the top 200 players\n",
    "    tags_top_200_players = [player[\"tag\"] for player in client.get_rankings(ranking='players', limit=200)]\n",
    "    top_200_players = [client.get_player(tag) for tag in tags_top_200_players]\n",
    "    \n",
    "    # retrive their battlelogs with the corresponding player tag and stor it in \"battlelogs.json\" file\n",
    "    with open(\"battlelogs.json\", \"w\") as battlelog_file:\n",
    "        for player in top_200_players:\n",
    "            player_battlelogs = client.get_battle_logs(player.tag)\n",
    "            for battlelog in player_battlelogs:\n",
    "                battlelogs[index] = {}\n",
    "                battlelogs[index][\"player_tag\"] = player.tag\n",
    "                battlelogs[index][\"battlelog\"] = battlelog\n",
    "                index += 1\n",
    "        json.dump(battlelogs, battlelog_file)\n",
    "        "
   ]
  },
  {
   "cell_type": "markdown",
   "metadata": {},
   "source": [
    "# Data Cleaning\n",
    "\n",
    "- some of the top players play against each other. Duplicates can be filtered since a battle log contains a unique key = \"battle_time\""
   ]
  },
  {
   "cell_type": "code",
   "execution_count": 3,
   "metadata": {
    "pycharm": {
     "name": "#%%\n"
    }
   },
   "outputs": [
    {
     "name": "stdout",
     "output_type": "stream",
     "text": [
      "The total number of unique battle logs is: 4301\n",
      "\n",
      "Below is a full battle log: \n",
      "{\n",
      "    \"battlelog\": {\n",
      "        \"battle\": {\n",
      "            \"duration\": 143,\n",
      "            \"mode\": \"gemGrab\",\n",
      "            \"result\": \"defeat\",\n",
      "            \"star_player\": {\n",
      "                \"brawler\": {\n",
      "                    \"id\": 16000013,\n",
      "                    \"name\": \"POCO\",\n",
      "                    \"power\": 10,\n",
      "                    \"trophies\": 894\n",
      "                },\n",
      "                \"name\": \"Lil,\\u30c7\\u30e1\\u30eb\\u26c4\",\n",
      "                \"tag\": \"#YU2VVGLQ\"\n",
      "            },\n",
      "            \"teams\": [\n",
      "                [\n",
      "                    {\n",
      "                        \"brawler\": {\n",
      "                            \"id\": 16000021,\n",
      "                            \"name\": \"GENE\",\n",
      "                            \"power\": 9,\n",
      "                            \"trophies\": 1231\n",
      "                        },\n",
      "                        \"name\": \"VestA\\u2698\\uc81c\\ub85c\",\n",
      "                        \"tag\": \"#8QRPGLQJJ\"\n",
      "                    },\n",
      "                    {\n",
      "                        \"brawler\": {\n",
      "                            \"id\": 16000028,\n",
      "                            \"name\": \"SANDY\",\n",
      "                            \"power\": 10,\n",
      "                            \"trophies\": 1072\n",
      "                        },\n",
      "                        \"name\": \"\\u21bb\\u3055\\u30fc\\u035b\\u304c\\u21ba\\uffe4Puu!!\",\n",
      "                        \"tag\": \"#9U2QJ0P\"\n",
      "                    },\n",
      "                    {\n",
      "                        \"brawler\": {\n",
      "                            \"id\": 16000034,\n",
      "                            \"name\": \"JACKY\",\n",
      "                            \"power\": 10,\n",
      "                            \"trophies\": 968\n",
      "                        },\n",
      "                        \"name\": \"\\u21bb\\u3055\\u30fc\\u035b\\u304c\\u21ba\\uffe4Miria!\",\n",
      "                        \"tag\": \"#VQLLY0RC\"\n",
      "                    }\n",
      "                ],\n",
      "                [\n",
      "                    {\n",
      "                        \"brawler\": {\n",
      "                            \"id\": 16000013,\n",
      "                            \"name\": \"POCO\",\n",
      "                            \"power\": 10,\n",
      "                            \"trophies\": 894\n",
      "                        },\n",
      "                        \"name\": \"Lil,\\u30c7\\u30e1\\u30eb\\u26c4\",\n",
      "                        \"tag\": \"#YU2VVGLQ\"\n",
      "                    },\n",
      "                    {\n",
      "                        \"brawler\": {\n",
      "                            \"id\": 16000034,\n",
      "                            \"name\": \"JACKY\",\n",
      "                            \"power\": 10,\n",
      "                            \"trophies\": 865\n",
      "                        },\n",
      "                        \"name\": \"\\u304a\\u304a\\u3093\\u3064\",\n",
      "                        \"tag\": \"#8VPV2GC8\"\n",
      "                    },\n",
      "                    {\n",
      "                        \"brawler\": {\n",
      "                            \"id\": 16000024,\n",
      "                            \"name\": \"ROSA\",\n",
      "                            \"power\": 10,\n",
      "                            \"trophies\": 935\n",
      "                        },\n",
      "                        \"name\": \"\\u26a1\\ufe0f\\u0432\\u043e-\\u0442w\\u0442z\\u26a1\\ufe0f\",\n",
      "                        \"tag\": \"#29G2RPJJ0\"\n",
      "                    }\n",
      "                ]\n",
      "            ],\n",
      "            \"trophy_change\": -11,\n",
      "            \"type\": \"ranked\"\n",
      "        },\n",
      "        \"battle_time\": \"20200530T134004.000Z\",\n",
      "        \"event\": {\n",
      "            \"id\": 15000212,\n",
      "            \"map\": \"Spare Space\",\n",
      "            \"mode\": \"gemGrab\"\n",
      "        }\n",
      "    },\n",
      "    \"player_tag\": \"#9U2QJ0P\"\n",
      "}\n"
     ]
    }
   ],
   "source": [
    "# read in the battlelogs.json file\n",
    "with open(\"battlelogs.json\",'r') as in_file:\n",
    "    battlelogs = json.load(in_file)\n",
    "    in_file.close()\n",
    "    \n",
    "# initialize list for unique battlelogs\n",
    "unique_battlelogs = []\n",
    "used_battle_times = []\n",
    "\n",
    "# iterate over all battle logs\n",
    "for key in battlelogs.keys():\n",
    "    \n",
    "    # get the battle time of the current battle log which is a unique key\n",
    "    current_battle_time = battlelogs[key]['battlelog'][\"battle_time\"]\n",
    "    \n",
    "    # append the current battle log if \n",
    "    # it is not already in the list of unique battle logs\n",
    "    if not current_battle_time in used_battle_times:\n",
    "        used_battle_times.append(current_battle_time)\n",
    "        unique_battlelogs.append(battlelogs[key])\n",
    "\n",
    "print(\"The total number of unique battle logs is: {}\\n\".format(len(unique_battlelogs)))\n",
    "print(\"Below is a full battle log: \")    \n",
    "print(json.dumps(unique_battlelogs[1], sort_keys=True, indent=4))\n",
    " \n",
    "      "
   ]
  },
  {
   "cell_type": "markdown",
   "metadata": {},
   "source": [
    "# Data Processing\n",
    "- The Brawlers of the top players are analysed to see if they have most of their Brawlers on the max power level."
   ]
  },
  {
   "cell_type": "code",
   "execution_count": 4,
   "metadata": {},
   "outputs": [
    {
     "ename": "NameError",
     "evalue": "name 'client' is not defined",
     "output_type": "error",
     "traceback": [
      "\u001b[1;31m---------------------------------------------------------------------------\u001b[0m",
      "\u001b[1;31mNameError\u001b[0m                                 Traceback (most recent call last)",
      "\u001b[1;32m<ipython-input-4-5916492b723b>\u001b[0m in \u001b[0;36m<module>\u001b[1;34m\u001b[0m\n\u001b[0;32m      1\u001b[0m \u001b[1;31m# retrieve the player objects of the top 200 players\u001b[0m\u001b[1;33m\u001b[0m\u001b[1;33m\u001b[0m\u001b[1;33m\u001b[0m\u001b[0m\n\u001b[1;32m----> 2\u001b[1;33m \u001b[0mtags_top_200_players\u001b[0m \u001b[1;33m=\u001b[0m \u001b[1;33m[\u001b[0m\u001b[0mplayer\u001b[0m\u001b[1;33m[\u001b[0m\u001b[1;34m\"tag\"\u001b[0m\u001b[1;33m]\u001b[0m \u001b[1;32mfor\u001b[0m \u001b[0mplayer\u001b[0m \u001b[1;32min\u001b[0m \u001b[0mclient\u001b[0m\u001b[1;33m.\u001b[0m\u001b[0mget_rankings\u001b[0m\u001b[1;33m(\u001b[0m\u001b[0mranking\u001b[0m\u001b[1;33m=\u001b[0m\u001b[1;34m'players'\u001b[0m\u001b[1;33m,\u001b[0m \u001b[0mlimit\u001b[0m\u001b[1;33m=\u001b[0m\u001b[1;36m200\u001b[0m\u001b[1;33m)\u001b[0m\u001b[1;33m]\u001b[0m\u001b[1;33m\u001b[0m\u001b[1;33m\u001b[0m\u001b[0m\n\u001b[0m\u001b[0;32m      3\u001b[0m \u001b[0mtop_200_players\u001b[0m \u001b[1;33m=\u001b[0m \u001b[1;33m[\u001b[0m\u001b[0mclient\u001b[0m\u001b[1;33m.\u001b[0m\u001b[0mget_player\u001b[0m\u001b[1;33m(\u001b[0m\u001b[0mtag\u001b[0m\u001b[1;33m)\u001b[0m \u001b[1;32mfor\u001b[0m \u001b[0mtag\u001b[0m \u001b[1;32min\u001b[0m \u001b[0mtags_top_200_players\u001b[0m\u001b[1;33m]\u001b[0m\u001b[1;33m\u001b[0m\u001b[1;33m\u001b[0m\u001b[0m\n\u001b[0;32m      4\u001b[0m \u001b[1;33m\u001b[0m\u001b[0m\n\u001b[0;32m      5\u001b[0m \u001b[1;33m\u001b[0m\u001b[0m\n",
      "\u001b[1;31mNameError\u001b[0m: name 'client' is not defined"
     ]
    }
   ],
   "source": [
    "# retrieve the player objects of the top 200 players\n",
    "tags_top_200_players = [player[\"tag\"] for player in client.get_rankings(ranking='players', limit=200)]\n",
    "top_200_players = [client.get_player(tag) for tag in tags_top_200_players]\n",
    "\n",
    "\n",
    "# initialize brawler levels count to 0\n",
    "# brawlers can be from level 1 to 10\n",
    "brawler_levels = {}\n",
    "for i in range(1, 11):\n",
    "    brawler_levels[i] = 0\n",
    "    \n",
    "# loop over the top 200 players\n",
    "for player in top_200_players:\n",
    "    \n",
    "    # loop over the brawlers of the current player\n",
    "    for brawler in player.brawlers:\n",
    "        # increment\n",
    "        brawler_levels[brawler[\"power\"]] += 1\n",
    "\n",
    "# create a bar plot of the distribution of the brawler power levels\n",
    "objects = brawler_levels.keys()\n",
    "y_pos = np.arange(len(objects))\n",
    "performance = brawler_levels.values()\n",
    "\n",
    "plt.bar(y_pos, performance, align='center', alpha=0.5)\n",
    "plt.xticks(y_pos, objects)\n",
    "plt.xlabel(\"Power Level of Brawler\")\n",
    "plt.ylabel('Number of Brawlers')\n",
    "plt.title('Brawler Levels of top 200 players')\n",
    "\n",
    "plt.show()"
   ]
  },
  {
   "cell_type": "markdown",
   "metadata": {},
   "source": [
    "The plot clearly shows that the top 200 players have their brawler mostly on the max power level"
   ]
  },
  {
   "cell_type": "markdown",
   "metadata": {},
   "source": [
    "# Displaying information about Modes and Maps (Occurence)\n",
    "\n",
    " We do want to have the number of games played for the different modes in order to be able to decide which mode to take.\n",
    " \n",
    " Additionally, we did the same with the different maps, although due to the small number for each map we rather focused on the game mode and decided to further analyse the game mode called \"BrawlBall\""
   ]
  },
  {
   "cell_type": "code",
   "execution_count": 5,
   "metadata": {},
   "outputs": [
    {
     "name": "stdout",
     "output_type": "stream",
     "text": [
      "brawlBall\n",
      "{'gemGrab': 511, 'brawlBall': 1158, 'siege': 140, 'heist': 795, 'soloShowdown': 380, 'bounty': 66, 'hotZone': 330, 'duoShowdown': 506, 'roboRumble': 415}\n",
      "4301\n",
      "{'Crystal Arcade': 9, 'Spare Space': 225, 'Backyard Bowl': 914, 'Deathcap Trap': 213, 'Nuts & Bolts': 97, 'Hot Potato': 770, 'Stocky Stockades': 762, 'Factory Rush': 11, 'Minecart Madness': 11, 'Layer Cake': 18, 'Pit Stop': 14, 'Triple Dribble': 22, 'Quarter Pounder': 289, 'Warped Arena': 25, 'Junk Park': 9, 'Field Goal': 11, 'Deep Diner': 6, 'Deeper Danger': 27, 'Tornado Ring': 3, 'Penalty Kick': 4, 'Hard Rock Mine': 16, 'Keep Safe': 415, 'Street Brawler 2': 39, 'Dark Passage': 5, 'Well Cut': 7, 'Shoulder Bash': 1, 'Galaxy Arena': 4, 'Rocky Blocks': 82, 'Super Stadium': 18, 'Double Swoosh': 8, 'Feast or Famine': 2, 'Thousand Lakes': 25, 'Post Haste': 119, 'Undermine': 2, 'Escape Velocity': 2, 'Cell Division': 7, 'Chill Space': 4, 'Some Assembly Required': 20, 'Canal Grande': 12, 'Pinhole Punt': 9, 'Pinball Dreams': 6, 'Snake Prairie': 2, 'Stone Fort': 7, 'Safety Center': 1, 'Eye of the Storm': 3, 'Skull Creek': 4, 'Cavern Churn': 1, 'Beach Ball': 16, 'Heat Wave': 3, 'Cobweb': 3, 'Traffic Jam': 4, 'Core Crumble': 1, 'Center Field': 2, 'Land Ahoy': 1, 'Bouncing Diner': 1, 'High Score': 1, 'Controller Chaos': 1, 'Bandit Cove': 4, 'Crated Factory': 3}\n",
      "4301\n"
     ]
    }
   ],
   "source": [
    "\n",
    "### Retrieves information about the modes played and returns a dictionary with key:value (mode: counter)\n",
    "modedict = {}\n",
    "current_mode = ''\n",
    "for log in unique_battlelogs:\n",
    "    current_mode = log[\"battlelog\"][\"event\"][\"mode\"]\n",
    "    if current_mode not in modedict.keys():\n",
    "        modedict[current_mode] = 0\n",
    "    modedict[current_mode] = modedict[current_mode] + 1\n",
    "    \n",
    "\n",
    "### Get the mode with highest games completed in our data\n",
    "max_key = max(modedict, key=modedict.get)  \n",
    "print(max_key)\n",
    "print(modedict)\n",
    "summode = 0\n",
    "for val in modedict.values():\n",
    "    summode = summode + val\n",
    "print(summode)\n",
    "    \n",
    "\n",
    "### Retrieves counter information about the different maps played and returns a dictionary with key:value (map: counter) pairs\n",
    "mapdict = {}\n",
    "current_map = ''\n",
    "for log in unique_battlelogs:\n",
    "    current_map = log[\"battlelog\"][\"event\"][\"map\"]\n",
    "    if current_map not in mapdict.keys():\n",
    "        mapdict[current_map] = 0\n",
    "    mapdict[current_map] = mapdict[current_map] + 1\n",
    "    \n",
    "print(mapdict)\n",
    "summap = 0\n",
    "for values in mapdict.values():\n",
    "    summap = summap + values\n",
    "print(summap)\n",
    "            "
   ]
  },
  {
   "cell_type": "markdown",
   "metadata": {},
   "source": [
    "## Creating a Dataframe for further analysis\n",
    "Since we will be able to perform certain actions on the dataset and want to get rid of the tedious JSON format, we're pulling out the important data for future analysis from the JSON and add it to a Dataframe. Additionally, the Game result (victory, draw, loss) is now numerically encoded.\n",
    "As a last step, we removed games where a brawler was present at least twice in the same team. As this normally does not occur on games, we wanted to remove data that showed this property."
   ]
  },
  {
   "cell_type": "code",
   "execution_count": 7,
   "metadata": {},
   "outputs": [
    {
     "name": "stdout",
     "output_type": "stream",
     "text": [
      "1158\n"
     ]
    }
   ],
   "source": [
    "### Narrowing down the data to have only variables of interest\n",
    "\n",
    "brawl_dicts = []\n",
    "for log in unique_battlelogs:\n",
    "    if log[\"battlelog\"][\"event\"][\"mode\"] == max_key:\n",
    "        brawl_dicts.append(log)\n",
    "        \n",
    "print(len(brawl_dicts))\n",
    "###print(brawl_dicts)\n",
    "\n",
    "##removing any unnecessary information from the source\n",
    "\n",
    "df = pd.DataFrame(columns=['WinningTeam','BattleTime','playerTag','mode','map','result','StarPlayerTag','StarPlayerBrawler','Brawler1Name','Brawler1Tag','Brawler2Name','Brawler2Tag','Brawler3Name','Brawler3Tag','Brawler4Name',\n",
    "                           'Brawler4Tag','Brawler5Name','Brawler5Tag','Brawler6Name','Brawler6Tag'])\n",
    "\n",
    "    \n",
    "for i in range(len(brawl_dicts)):\n",
    "    log = brawl_dicts[i]\n",
    "    row = []\n",
    "    \n",
    "    if log[\"battlelog\"][\"battle\"][\"result\"] == \"draw\":\n",
    "        row.append(0)\n",
    "    elif (log[\"player_tag\"] == log[\"battlelog\"][\"battle\"][\"teams\"][0][0][\"tag\"] or log[\"player_tag\"] == log[\"battlelog\"][\"battle\"][\"teams\"][0][1][\"tag\"] or log[\"player_tag\"] == log[\"battlelog\"][\"battle\"][\"teams\"][0][2][\"tag\"]) and log[\"battlelog\"][\"battle\"][\"result\"] == \"victory\":\n",
    "        row.append(1)\n",
    "    else:\n",
    "        row.append(2)\n",
    "    row.append(log[\"battlelog\"][\"battle_time\"])\n",
    "    row.append(log[\"player_tag\"])\n",
    "    row.append(log[\"battlelog\"][\"event\"][\"mode\"])\n",
    "    row.append(log[\"battlelog\"][\"event\"][\"map\"])\n",
    "    row.append(log[\"battlelog\"][\"battle\"][\"result\"])\n",
    "    row.append(log[\"battlelog\"][\"battle\"][\"star_player\"][\"tag\"])\n",
    "    row.append(log[\"battlelog\"][\"battle\"][\"star_player\"][\"brawler\"][\"name\"])\n",
    "    row.append(log[\"battlelog\"][\"battle\"][\"teams\"][0][0][\"brawler\"][\"name\"])\n",
    "    row.append(log[\"battlelog\"][\"battle\"][\"teams\"][0][0][\"tag\"])\n",
    "    row.append(log[\"battlelog\"][\"battle\"][\"teams\"][0][1][\"brawler\"][\"name\"])\n",
    "    row.append(log[\"battlelog\"][\"battle\"][\"teams\"][0][1][\"tag\"])\n",
    "    row.append(log[\"battlelog\"][\"battle\"][\"teams\"][0][2][\"brawler\"][\"name\"])\n",
    "    row.append(log[\"battlelog\"][\"battle\"][\"teams\"][0][2][\"tag\"])\n",
    "    row.append(log[\"battlelog\"][\"battle\"][\"teams\"][1][0][\"brawler\"][\"name\"])\n",
    "    row.append(log[\"battlelog\"][\"battle\"][\"teams\"][1][0][\"tag\"])\n",
    "    row.append(log[\"battlelog\"][\"battle\"][\"teams\"][1][1][\"brawler\"][\"name\"])\n",
    "    row.append(log[\"battlelog\"][\"battle\"][\"teams\"][1][1][\"tag\"])\n",
    "    row.append(log[\"battlelog\"][\"battle\"][\"teams\"][1][2][\"brawler\"][\"name\"])\n",
    "    row.append(log[\"battlelog\"][\"battle\"][\"teams\"][1][2][\"tag\"])\n",
    "    df.loc[i] = row\n",
    "\n",
    "df = df.replace(to_replace = 'victory', value= 1)\n",
    "df = df.replace(to_replace = 'defeat', value= -1)\n",
    "df = df.replace(to_replace = 'draw', value= 0)\n",
    "\n",
    "\n",
    "df.head(10)\n",
    "\n",
    "\n",
    "### Dropping data where a brawler is present twice in the same team, as this is normally not permitted in games\n",
    "duplicateBrawlersIndices = []\n",
    "for index, row in df.iterrows():\n",
    "    if (row[\"Brawler1Name\"] == row[\"Brawler2Name\"] or row[\"Brawler1Name\"] == row[\"Brawler2Name\"] or row[\"Brawler2Name\"] == row[\"Brawler3Name\"]\n",
    "        or row[\"Brawler4Name\"] == row[\"Brawler5Name\"] or row[\"Brawler4Name\"] == row[\"Brawler6Name\"] or row[\"Brawler5Name\"] == row[\"Brawler6Name\"]):\n",
    "        duplicateBrawlersIndices.append(index)\n",
    "df = df.drop(duplicateBrawlersIndices)\n",
    "\n",
    "\n",
    "\n",
    "###df.to_csv(\"rawdata.csv\",index=False)\n"
   ]
  },
  {
   "cell_type": "markdown",
   "metadata": {},
   "source": [
    "### Preparing Data to check brawler-specific Pickrate, meaning the chance (in %) of each brawler getting picked for BrawlBall mode"
   ]
  },
  {
   "cell_type": "code",
   "execution_count": 22,
   "metadata": {},
   "outputs": [
    {
     "name": "stdout",
     "output_type": "stream",
     "text": [
      "36\n"
     ]
    },
    {
     "data": {
      "text/html": [
       "<div>\n",
       "<style scoped>\n",
       "    .dataframe tbody tr th:only-of-type {\n",
       "        vertical-align: middle;\n",
       "    }\n",
       "\n",
       "    .dataframe tbody tr th {\n",
       "        vertical-align: top;\n",
       "    }\n",
       "\n",
       "    .dataframe thead th {\n",
       "        text-align: right;\n",
       "    }\n",
       "</style>\n",
       "<table border=\"1\" class=\"dataframe\">\n",
       "  <thead>\n",
       "    <tr style=\"text-align: right;\">\n",
       "      <th></th>\n",
       "      <th>Name</th>\n",
       "      <th>Occurence</th>\n",
       "      <th>TotalGames</th>\n",
       "      <th>PickRate %</th>\n",
       "    </tr>\n",
       "  </thead>\n",
       "  <tbody>\n",
       "    <tr>\n",
       "      <td>0</td>\n",
       "      <td>SHELLY</td>\n",
       "      <td>53</td>\n",
       "      <td>2292</td>\n",
       "      <td>2.312391</td>\n",
       "    </tr>\n",
       "    <tr>\n",
       "      <td>1</td>\n",
       "      <td>NITA</td>\n",
       "      <td>131</td>\n",
       "      <td>2292</td>\n",
       "      <td>5.715532</td>\n",
       "    </tr>\n",
       "    <tr>\n",
       "      <td>2</td>\n",
       "      <td>COLT</td>\n",
       "      <td>260</td>\n",
       "      <td>2292</td>\n",
       "      <td>11.343805</td>\n",
       "    </tr>\n",
       "    <tr>\n",
       "      <td>3</td>\n",
       "      <td>BULL</td>\n",
       "      <td>24</td>\n",
       "      <td>2292</td>\n",
       "      <td>1.047120</td>\n",
       "    </tr>\n",
       "    <tr>\n",
       "      <td>4</td>\n",
       "      <td>JESSIE</td>\n",
       "      <td>96</td>\n",
       "      <td>2292</td>\n",
       "      <td>4.188482</td>\n",
       "    </tr>\n",
       "    <tr>\n",
       "      <td>5</td>\n",
       "      <td>BROCK</td>\n",
       "      <td>521</td>\n",
       "      <td>2292</td>\n",
       "      <td>22.731239</td>\n",
       "    </tr>\n",
       "    <tr>\n",
       "      <td>6</td>\n",
       "      <td>DYNAMIKE</td>\n",
       "      <td>30</td>\n",
       "      <td>2292</td>\n",
       "      <td>1.308901</td>\n",
       "    </tr>\n",
       "    <tr>\n",
       "      <td>7</td>\n",
       "      <td>BO</td>\n",
       "      <td>119</td>\n",
       "      <td>2292</td>\n",
       "      <td>5.191972</td>\n",
       "    </tr>\n",
       "    <tr>\n",
       "      <td>8</td>\n",
       "      <td>TICK</td>\n",
       "      <td>11</td>\n",
       "      <td>2292</td>\n",
       "      <td>0.479930</td>\n",
       "    </tr>\n",
       "    <tr>\n",
       "      <td>9</td>\n",
       "      <td>8-BIT</td>\n",
       "      <td>54</td>\n",
       "      <td>2292</td>\n",
       "      <td>2.356021</td>\n",
       "    </tr>\n",
       "    <tr>\n",
       "      <td>10</td>\n",
       "      <td>EMZ</td>\n",
       "      <td>355</td>\n",
       "      <td>2292</td>\n",
       "      <td>15.488656</td>\n",
       "    </tr>\n",
       "    <tr>\n",
       "      <td>11</td>\n",
       "      <td>EL PRIMO</td>\n",
       "      <td>116</td>\n",
       "      <td>2292</td>\n",
       "      <td>5.061082</td>\n",
       "    </tr>\n",
       "    <tr>\n",
       "      <td>12</td>\n",
       "      <td>BARLEY</td>\n",
       "      <td>11</td>\n",
       "      <td>2292</td>\n",
       "      <td>0.479930</td>\n",
       "    </tr>\n",
       "    <tr>\n",
       "      <td>13</td>\n",
       "      <td>POCO</td>\n",
       "      <td>218</td>\n",
       "      <td>2292</td>\n",
       "      <td>9.511344</td>\n",
       "    </tr>\n",
       "    <tr>\n",
       "      <td>14</td>\n",
       "      <td>ROSA</td>\n",
       "      <td>43</td>\n",
       "      <td>2292</td>\n",
       "      <td>1.876091</td>\n",
       "    </tr>\n",
       "    <tr>\n",
       "      <td>15</td>\n",
       "      <td>DARRYL</td>\n",
       "      <td>93</td>\n",
       "      <td>2292</td>\n",
       "      <td>4.057592</td>\n",
       "    </tr>\n",
       "    <tr>\n",
       "      <td>16</td>\n",
       "      <td>PENNY</td>\n",
       "      <td>220</td>\n",
       "      <td>2292</td>\n",
       "      <td>9.598604</td>\n",
       "    </tr>\n",
       "    <tr>\n",
       "      <td>17</td>\n",
       "      <td>CARL</td>\n",
       "      <td>90</td>\n",
       "      <td>2292</td>\n",
       "      <td>3.926702</td>\n",
       "    </tr>\n",
       "    <tr>\n",
       "      <td>18</td>\n",
       "      <td>JACKY</td>\n",
       "      <td>218</td>\n",
       "      <td>2292</td>\n",
       "      <td>9.511344</td>\n",
       "    </tr>\n",
       "    <tr>\n",
       "      <td>19</td>\n",
       "      <td>PIPER</td>\n",
       "      <td>285</td>\n",
       "      <td>2292</td>\n",
       "      <td>12.434555</td>\n",
       "    </tr>\n",
       "    <tr>\n",
       "      <td>20</td>\n",
       "      <td>PAM</td>\n",
       "      <td>438</td>\n",
       "      <td>2292</td>\n",
       "      <td>19.109948</td>\n",
       "    </tr>\n",
       "    <tr>\n",
       "      <td>21</td>\n",
       "      <td>FRANK</td>\n",
       "      <td>149</td>\n",
       "      <td>2292</td>\n",
       "      <td>6.500873</td>\n",
       "    </tr>\n",
       "    <tr>\n",
       "      <td>22</td>\n",
       "      <td>BIBI</td>\n",
       "      <td>223</td>\n",
       "      <td>2292</td>\n",
       "      <td>9.729494</td>\n",
       "    </tr>\n",
       "    <tr>\n",
       "      <td>23</td>\n",
       "      <td>BEA</td>\n",
       "      <td>749</td>\n",
       "      <td>2292</td>\n",
       "      <td>32.678883</td>\n",
       "    </tr>\n",
       "    <tr>\n",
       "      <td>24</td>\n",
       "      <td>RICO</td>\n",
       "      <td>96</td>\n",
       "      <td>2292</td>\n",
       "      <td>4.188482</td>\n",
       "    </tr>\n",
       "    <tr>\n",
       "      <td>25</td>\n",
       "      <td>MORTIS</td>\n",
       "      <td>469</td>\n",
       "      <td>2292</td>\n",
       "      <td>20.462478</td>\n",
       "    </tr>\n",
       "    <tr>\n",
       "      <td>26</td>\n",
       "      <td>TARA</td>\n",
       "      <td>115</td>\n",
       "      <td>2292</td>\n",
       "      <td>5.017452</td>\n",
       "    </tr>\n",
       "    <tr>\n",
       "      <td>27</td>\n",
       "      <td>GENE</td>\n",
       "      <td>283</td>\n",
       "      <td>2292</td>\n",
       "      <td>12.347295</td>\n",
       "    </tr>\n",
       "    <tr>\n",
       "      <td>28</td>\n",
       "      <td>MAX</td>\n",
       "      <td>195</td>\n",
       "      <td>2292</td>\n",
       "      <td>8.507853</td>\n",
       "    </tr>\n",
       "    <tr>\n",
       "      <td>29</td>\n",
       "      <td>MR. P</td>\n",
       "      <td>143</td>\n",
       "      <td>2292</td>\n",
       "      <td>6.239092</td>\n",
       "    </tr>\n",
       "    <tr>\n",
       "      <td>30</td>\n",
       "      <td>SPROUT</td>\n",
       "      <td>181</td>\n",
       "      <td>2292</td>\n",
       "      <td>7.897033</td>\n",
       "    </tr>\n",
       "    <tr>\n",
       "      <td>31</td>\n",
       "      <td>SPIKE</td>\n",
       "      <td>133</td>\n",
       "      <td>2292</td>\n",
       "      <td>5.802792</td>\n",
       "    </tr>\n",
       "    <tr>\n",
       "      <td>32</td>\n",
       "      <td>CROW</td>\n",
       "      <td>285</td>\n",
       "      <td>2292</td>\n",
       "      <td>12.434555</td>\n",
       "    </tr>\n",
       "    <tr>\n",
       "      <td>33</td>\n",
       "      <td>LEON</td>\n",
       "      <td>61</td>\n",
       "      <td>2292</td>\n",
       "      <td>2.661431</td>\n",
       "    </tr>\n",
       "    <tr>\n",
       "      <td>34</td>\n",
       "      <td>SANDY</td>\n",
       "      <td>217</td>\n",
       "      <td>2292</td>\n",
       "      <td>9.467714</td>\n",
       "    </tr>\n",
       "    <tr>\n",
       "      <td>35</td>\n",
       "      <td>GALE</td>\n",
       "      <td>191</td>\n",
       "      <td>2292</td>\n",
       "      <td>8.333333</td>\n",
       "    </tr>\n",
       "  </tbody>\n",
       "</table>\n",
       "</div>"
      ],
      "text/plain": [
       "        Name  Occurence  TotalGames  PickRate %\n",
       "0     SHELLY         53        2292    2.312391\n",
       "1       NITA        131        2292    5.715532\n",
       "2       COLT        260        2292   11.343805\n",
       "3       BULL         24        2292    1.047120\n",
       "4     JESSIE         96        2292    4.188482\n",
       "5      BROCK        521        2292   22.731239\n",
       "6   DYNAMIKE         30        2292    1.308901\n",
       "7         BO        119        2292    5.191972\n",
       "8       TICK         11        2292    0.479930\n",
       "9      8-BIT         54        2292    2.356021\n",
       "10       EMZ        355        2292   15.488656\n",
       "11  EL PRIMO        116        2292    5.061082\n",
       "12    BARLEY         11        2292    0.479930\n",
       "13      POCO        218        2292    9.511344\n",
       "14      ROSA         43        2292    1.876091\n",
       "15    DARRYL         93        2292    4.057592\n",
       "16     PENNY        220        2292    9.598604\n",
       "17      CARL         90        2292    3.926702\n",
       "18     JACKY        218        2292    9.511344\n",
       "19     PIPER        285        2292   12.434555\n",
       "20       PAM        438        2292   19.109948\n",
       "21     FRANK        149        2292    6.500873\n",
       "22      BIBI        223        2292    9.729494\n",
       "23       BEA        749        2292   32.678883\n",
       "24      RICO         96        2292    4.188482\n",
       "25    MORTIS        469        2292   20.462478\n",
       "26      TARA        115        2292    5.017452\n",
       "27      GENE        283        2292   12.347295\n",
       "28       MAX        195        2292    8.507853\n",
       "29     MR. P        143        2292    6.239092\n",
       "30    SPROUT        181        2292    7.897033\n",
       "31     SPIKE        133        2292    5.802792\n",
       "32      CROW        285        2292   12.434555\n",
       "33      LEON         61        2292    2.661431\n",
       "34     SANDY        217        2292    9.467714\n",
       "35      GALE        191        2292    8.333333"
      ]
     },
     "execution_count": 22,
     "metadata": {},
     "output_type": "execute_result"
    }
   ],
   "source": [
    "## List of all Brawlernames to simplify certain actions\n",
    "\n",
    "brawlerlist = ['SHELLY','NITA','COLT','BULL','JESSIE','BROCK','DYNAMIKE','BO','TICK','8-BIT','EMZ','EL PRIMO','BARLEY','POCO','ROSA','DARRYL','PENNY','CARL','JACKY','PIPER','PAM','FRANK','BIBI','BEA','RICO','MORTIS','TARA','GENE','MAX','MR. P','SPROUT','SPIKE','CROW','LEON','SANDY','GALE']\n",
    "print(len(brawlerlist))\n",
    "\n",
    "## Creating a new Dataframe for Calucalating the Pickrate of each brawler (through duplicate removal and comparing to teams (not games), may not exceed 100%)\n",
    "newdf = pd.DataFrame(brawlerlist,columns=['Name'])\n",
    "\n",
    "OccurencesBrawler =[]\n",
    "TotalGames = []\n",
    "\n",
    "for brawler in brawlerlist:\n",
    "    x = list(df.Brawler1Name).count(brawler)\n",
    "    y = list(df.Brawler2Name).count(brawler)\n",
    "    z = list(df.Brawler3Name).count(brawler)\n",
    "    a = list(df.Brawler4Name).count(brawler)\n",
    "    b = list(df.Brawler5Name).count(brawler)\n",
    "    c = list(df.Brawler6Name).count(brawler)\n",
    "    \n",
    "    total_sum = a + b + c + x + y + z\n",
    "    OccurencesBrawler.append(total_sum)\n",
    "    ### As each team may choose every brawler (although premade teams are not allowed to pick duplicates), we derive the TotalTeam Number from the Total games played.\n",
    "    TotalGames.append(len(df.index)*2)\n",
    "\n",
    "    \n",
    "## Adding New columns for calulcation of the \"pick rate\" (how often is the respective brawler picked)\n",
    "## Additionally, to perform row-wise transformations, the Number of Total games is written in each row\n",
    "newdf['Occurence'] = OccurencesBrawler\n",
    "newdf['TotalGames'] = TotalGames\n",
    "\n",
    "newdf['PickRate %'] = newdf.Occurence / newdf.TotalGames * 100\n",
    "newdf\n",
    "\n"
   ]
  },
  {
   "cell_type": "markdown",
   "metadata": {},
   "source": [
    "### Preparation and Constructing Tables that show brawler-specific Winrate (in %), show how many times the brawler (individually) wins"
   ]
  },
  {
   "cell_type": "code",
   "execution_count": 26,
   "metadata": {},
   "outputs": [],
   "source": [
    "## List of all Brawlernames to simplify certain actions\n",
    "\n",
    "brawlerlist = ['SHELLY','NITA','COLT','BULL','JESSIE','BROCK','DYNAMIKE','BO','TICK','8-BIT','EMZ','EL PRIMO','BARLEY','POCO','ROSA','DARRYL','PENNY','CARL','JACKY','PIPER','PAM','FRANK','BIBI','BEA','RICO','MORTIS','TARA','GENE','MAX','MR. P','SPROUT','SPIKE','CROW','LEON','SANDY','GALE']\n",
    "\n",
    "\n",
    "## Creating a new Dataframe for Calucalating the Pickrate of each brawler, keep in mind that every non-premade team may have duplicate champions, therefore the Pickrate could theoretically exceed 100% (up to 300%)\n",
    "windf = pd.DataFrame(brawlerlist,columns=['Name'])\n",
    "\n",
    "## List that will be filled with the number each brawler has played in the dataset.\n",
    "GamesPlayed =[]\n",
    "\n",
    "for brawler in brawlerlist:\n",
    "    x = list(df.Brawler1Name).count(brawler)\n",
    "    y = list(df.Brawler2Name).count(brawler)\n",
    "    z = list(df.Brawler3Name).count(brawler)\n",
    "    a = list(df.Brawler4Name).count(brawler)\n",
    "    b = list(df.Brawler5Name).count(brawler)\n",
    "    c = list(df.Brawler6Name).count(brawler)\n",
    "    \n",
    "    total_sum = a + b + c + x + y + z\n",
    "    GamesPlayed.append(total_sum)\n",
    "    \n",
    "winningOccurences = []"
   ]
  },
  {
   "cell_type": "code",
   "execution_count": 27,
   "metadata": {
    "pycharm": {
     "name": "#%%\n"
    }
   },
   "outputs": [
    {
     "data": {
      "text/html": [
       "<div>\n",
       "<style scoped>\n",
       "    .dataframe tbody tr th:only-of-type {\n",
       "        vertical-align: middle;\n",
       "    }\n",
       "\n",
       "    .dataframe tbody tr th {\n",
       "        vertical-align: top;\n",
       "    }\n",
       "\n",
       "    .dataframe thead th {\n",
       "        text-align: right;\n",
       "    }\n",
       "</style>\n",
       "<table border=\"1\" class=\"dataframe\">\n",
       "  <thead>\n",
       "    <tr style=\"text-align: right;\">\n",
       "      <th></th>\n",
       "      <th>Name</th>\n",
       "      <th>Games Played</th>\n",
       "      <th>Games Won</th>\n",
       "      <th>Winrate %</th>\n",
       "    </tr>\n",
       "  </thead>\n",
       "  <tbody>\n",
       "    <tr>\n",
       "      <td>0</td>\n",
       "      <td>SHELLY</td>\n",
       "      <td>53</td>\n",
       "      <td>12</td>\n",
       "      <td>22.641509</td>\n",
       "    </tr>\n",
       "    <tr>\n",
       "      <td>1</td>\n",
       "      <td>NITA</td>\n",
       "      <td>131</td>\n",
       "      <td>47</td>\n",
       "      <td>35.877863</td>\n",
       "    </tr>\n",
       "    <tr>\n",
       "      <td>2</td>\n",
       "      <td>COLT</td>\n",
       "      <td>260</td>\n",
       "      <td>120</td>\n",
       "      <td>46.153846</td>\n",
       "    </tr>\n",
       "    <tr>\n",
       "      <td>3</td>\n",
       "      <td>BULL</td>\n",
       "      <td>24</td>\n",
       "      <td>7</td>\n",
       "      <td>29.166667</td>\n",
       "    </tr>\n",
       "    <tr>\n",
       "      <td>4</td>\n",
       "      <td>JESSIE</td>\n",
       "      <td>96</td>\n",
       "      <td>36</td>\n",
       "      <td>37.500000</td>\n",
       "    </tr>\n",
       "    <tr>\n",
       "      <td>5</td>\n",
       "      <td>BROCK</td>\n",
       "      <td>521</td>\n",
       "      <td>301</td>\n",
       "      <td>57.773512</td>\n",
       "    </tr>\n",
       "    <tr>\n",
       "      <td>6</td>\n",
       "      <td>DYNAMIKE</td>\n",
       "      <td>30</td>\n",
       "      <td>12</td>\n",
       "      <td>40.000000</td>\n",
       "    </tr>\n",
       "    <tr>\n",
       "      <td>7</td>\n",
       "      <td>BO</td>\n",
       "      <td>119</td>\n",
       "      <td>62</td>\n",
       "      <td>52.100840</td>\n",
       "    </tr>\n",
       "    <tr>\n",
       "      <td>8</td>\n",
       "      <td>TICK</td>\n",
       "      <td>11</td>\n",
       "      <td>3</td>\n",
       "      <td>27.272727</td>\n",
       "    </tr>\n",
       "    <tr>\n",
       "      <td>9</td>\n",
       "      <td>8-BIT</td>\n",
       "      <td>54</td>\n",
       "      <td>35</td>\n",
       "      <td>64.814815</td>\n",
       "    </tr>\n",
       "    <tr>\n",
       "      <td>10</td>\n",
       "      <td>EMZ</td>\n",
       "      <td>355</td>\n",
       "      <td>147</td>\n",
       "      <td>41.408451</td>\n",
       "    </tr>\n",
       "    <tr>\n",
       "      <td>11</td>\n",
       "      <td>EL PRIMO</td>\n",
       "      <td>116</td>\n",
       "      <td>22</td>\n",
       "      <td>18.965517</td>\n",
       "    </tr>\n",
       "    <tr>\n",
       "      <td>12</td>\n",
       "      <td>BARLEY</td>\n",
       "      <td>11</td>\n",
       "      <td>2</td>\n",
       "      <td>18.181818</td>\n",
       "    </tr>\n",
       "    <tr>\n",
       "      <td>13</td>\n",
       "      <td>POCO</td>\n",
       "      <td>218</td>\n",
       "      <td>66</td>\n",
       "      <td>30.275229</td>\n",
       "    </tr>\n",
       "    <tr>\n",
       "      <td>14</td>\n",
       "      <td>ROSA</td>\n",
       "      <td>43</td>\n",
       "      <td>13</td>\n",
       "      <td>30.232558</td>\n",
       "    </tr>\n",
       "    <tr>\n",
       "      <td>15</td>\n",
       "      <td>DARRYL</td>\n",
       "      <td>93</td>\n",
       "      <td>36</td>\n",
       "      <td>38.709677</td>\n",
       "    </tr>\n",
       "    <tr>\n",
       "      <td>16</td>\n",
       "      <td>PENNY</td>\n",
       "      <td>220</td>\n",
       "      <td>152</td>\n",
       "      <td>69.090909</td>\n",
       "    </tr>\n",
       "    <tr>\n",
       "      <td>17</td>\n",
       "      <td>CARL</td>\n",
       "      <td>90</td>\n",
       "      <td>52</td>\n",
       "      <td>57.777778</td>\n",
       "    </tr>\n",
       "    <tr>\n",
       "      <td>18</td>\n",
       "      <td>JACKY</td>\n",
       "      <td>218</td>\n",
       "      <td>106</td>\n",
       "      <td>48.623853</td>\n",
       "    </tr>\n",
       "    <tr>\n",
       "      <td>19</td>\n",
       "      <td>PIPER</td>\n",
       "      <td>285</td>\n",
       "      <td>173</td>\n",
       "      <td>60.701754</td>\n",
       "    </tr>\n",
       "    <tr>\n",
       "      <td>20</td>\n",
       "      <td>PAM</td>\n",
       "      <td>438</td>\n",
       "      <td>242</td>\n",
       "      <td>55.251142</td>\n",
       "    </tr>\n",
       "    <tr>\n",
       "      <td>21</td>\n",
       "      <td>FRANK</td>\n",
       "      <td>149</td>\n",
       "      <td>49</td>\n",
       "      <td>32.885906</td>\n",
       "    </tr>\n",
       "    <tr>\n",
       "      <td>22</td>\n",
       "      <td>BIBI</td>\n",
       "      <td>223</td>\n",
       "      <td>99</td>\n",
       "      <td>44.394619</td>\n",
       "    </tr>\n",
       "    <tr>\n",
       "      <td>23</td>\n",
       "      <td>BEA</td>\n",
       "      <td>749</td>\n",
       "      <td>402</td>\n",
       "      <td>53.671562</td>\n",
       "    </tr>\n",
       "    <tr>\n",
       "      <td>24</td>\n",
       "      <td>RICO</td>\n",
       "      <td>96</td>\n",
       "      <td>53</td>\n",
       "      <td>55.208333</td>\n",
       "    </tr>\n",
       "    <tr>\n",
       "      <td>25</td>\n",
       "      <td>MORTIS</td>\n",
       "      <td>469</td>\n",
       "      <td>149</td>\n",
       "      <td>31.769723</td>\n",
       "    </tr>\n",
       "    <tr>\n",
       "      <td>26</td>\n",
       "      <td>TARA</td>\n",
       "      <td>115</td>\n",
       "      <td>46</td>\n",
       "      <td>40.000000</td>\n",
       "    </tr>\n",
       "    <tr>\n",
       "      <td>27</td>\n",
       "      <td>GENE</td>\n",
       "      <td>283</td>\n",
       "      <td>127</td>\n",
       "      <td>44.876325</td>\n",
       "    </tr>\n",
       "    <tr>\n",
       "      <td>28</td>\n",
       "      <td>MAX</td>\n",
       "      <td>195</td>\n",
       "      <td>111</td>\n",
       "      <td>56.923077</td>\n",
       "    </tr>\n",
       "    <tr>\n",
       "      <td>29</td>\n",
       "      <td>MR. P</td>\n",
       "      <td>143</td>\n",
       "      <td>99</td>\n",
       "      <td>69.230769</td>\n",
       "    </tr>\n",
       "    <tr>\n",
       "      <td>30</td>\n",
       "      <td>SPROUT</td>\n",
       "      <td>181</td>\n",
       "      <td>92</td>\n",
       "      <td>50.828729</td>\n",
       "    </tr>\n",
       "    <tr>\n",
       "      <td>31</td>\n",
       "      <td>SPIKE</td>\n",
       "      <td>133</td>\n",
       "      <td>66</td>\n",
       "      <td>49.624060</td>\n",
       "    </tr>\n",
       "    <tr>\n",
       "      <td>32</td>\n",
       "      <td>CROW</td>\n",
       "      <td>285</td>\n",
       "      <td>131</td>\n",
       "      <td>45.964912</td>\n",
       "    </tr>\n",
       "    <tr>\n",
       "      <td>33</td>\n",
       "      <td>LEON</td>\n",
       "      <td>61</td>\n",
       "      <td>25</td>\n",
       "      <td>40.983607</td>\n",
       "    </tr>\n",
       "    <tr>\n",
       "      <td>34</td>\n",
       "      <td>SANDY</td>\n",
       "      <td>217</td>\n",
       "      <td>106</td>\n",
       "      <td>48.847926</td>\n",
       "    </tr>\n",
       "    <tr>\n",
       "      <td>35</td>\n",
       "      <td>GALE</td>\n",
       "      <td>191</td>\n",
       "      <td>138</td>\n",
       "      <td>72.251309</td>\n",
       "    </tr>\n",
       "  </tbody>\n",
       "</table>\n",
       "</div>"
      ],
      "text/plain": [
       "        Name  Games Played  Games Won  Winrate %\n",
       "0     SHELLY            53         12  22.641509\n",
       "1       NITA           131         47  35.877863\n",
       "2       COLT           260        120  46.153846\n",
       "3       BULL            24          7  29.166667\n",
       "4     JESSIE            96         36  37.500000\n",
       "5      BROCK           521        301  57.773512\n",
       "6   DYNAMIKE            30         12  40.000000\n",
       "7         BO           119         62  52.100840\n",
       "8       TICK            11          3  27.272727\n",
       "9      8-BIT            54         35  64.814815\n",
       "10       EMZ           355        147  41.408451\n",
       "11  EL PRIMO           116         22  18.965517\n",
       "12    BARLEY            11          2  18.181818\n",
       "13      POCO           218         66  30.275229\n",
       "14      ROSA            43         13  30.232558\n",
       "15    DARRYL            93         36  38.709677\n",
       "16     PENNY           220        152  69.090909\n",
       "17      CARL            90         52  57.777778\n",
       "18     JACKY           218        106  48.623853\n",
       "19     PIPER           285        173  60.701754\n",
       "20       PAM           438        242  55.251142\n",
       "21     FRANK           149         49  32.885906\n",
       "22      BIBI           223         99  44.394619\n",
       "23       BEA           749        402  53.671562\n",
       "24      RICO            96         53  55.208333\n",
       "25    MORTIS           469        149  31.769723\n",
       "26      TARA           115         46  40.000000\n",
       "27      GENE           283        127  44.876325\n",
       "28       MAX           195        111  56.923077\n",
       "29     MR. P           143         99  69.230769\n",
       "30    SPROUT           181         92  50.828729\n",
       "31     SPIKE           133         66  49.624060\n",
       "32      CROW           285        131  45.964912\n",
       "33      LEON            61         25  40.983607\n",
       "34     SANDY           217        106  48.847926\n",
       "35      GALE           191        138  72.251309"
      ]
     },
     "execution_count": 27,
     "metadata": {},
     "output_type": "execute_result"
    }
   ],
   "source": [
    "for brawler in brawlerlist:\n",
    "    brawlwincount = 0\n",
    "    for index, row in df.iterrows():\n",
    "        if row[\"WinningTeam\"] == 1 and (row[\"Brawler1Name\"] == brawler or row[\"Brawler2Name\"] == brawler or row[\"Brawler3Name\"] == brawler):\n",
    "            brawlwincount += 1\n",
    "        elif row[\"WinningTeam\"] == 2 and (row[\"Brawler4Name\"] == brawler or row[\"Brawler5Name\"] == brawler or row[\"Brawler6Name\"] == brawler):\n",
    "            brawlwincount += 1\n",
    "    winningOccurences.append(brawlwincount)\n",
    "\n",
    "# Appended Games played to the dataframe to make calculations\n",
    "windf['Games Played'] = GamesPlayed\n",
    "windf['Games Won'] = winningOccurences\n",
    "windf['Winrate %'] = windf['Games Won'] / windf['Games Played'] * 100\n",
    "##Side note: It may occur that the teams playing against each other have the same brawler in one game, this would result in a winrate of 50% (if only games where both teams the same brawler were counted).\n",
    "windf"
   ]
  },
  {
   "cell_type": "markdown",
   "metadata": {},
   "source": [
    "##### Our first assumption was that the pickrate and the winrate should show a certain trend (e.g a brawler that is picked often will possibly have a higher winrate than a brawler that is played seldom. We could also expect that due to the higher absolute number of the brawler with a higher pickrate the winrate is more consolidated, as the higher numbers allow for a better judgement for the \"real\" value. To visualize this assumption, a scatterplot has been created in order to check if we could verify this in the graph."
   ]
  },
  {
   "cell_type": "code",
   "execution_count": 32,
   "metadata": {},
   "outputs": [
    {
     "name": "stdout",
     "output_type": "stream",
     "text": [
      "44.99948123880649\n"
     ]
    },
    {
     "data": {
      "image/png": "[encoded data removed]",
      "text/plain": [
       "<Figure size 432x288 with 1 Axes>"
      ]
     },
     "metadata": {
      "needs_background": "light"
     },
     "output_type": "display_data"
    }
   ],
   "source": [
    "scatterdf = pd.DataFrame()\n",
    "scatterdf['Name'] = brawlerlist\n",
    "scatterdf['Winrate %'] = windf['Winrate %']\n",
    "scatterdf['PickRate %'] = newdf['PickRate %']\n",
    "scatterdf\n",
    "scatterplot = scatterdf.plot.scatter(x='PickRate %',y = 'Winrate %', c= 'blue')\n",
    "\n",
    "## avgwinpercentage = scatterdf['Winrate %'].sum()\n",
    "## print(avgwinpercentage/len(scatterdf['Winrate %'])) "
   ]
  },
  {
   "cell_type": "markdown",
   "metadata": {},
   "source": [
    "##### The figure above does not provide any additional information. Nevertheless, it seems that the distribution of the winrate seems to stabilizie towards the 'center' (meaning around 50% winrate) whenever the pickrate is increased. For brawlers with a low pickrate, the winrate seems to be rather volatile, whereas for higher pickrate brawlers, the winrate converges to the center."
   ]
  },
  {
   "cell_type": "markdown",
   "metadata": {
    "pycharm": {
     "name": "#%% md\n"
    }
   },
   "source": [
    "# Analysis\n",
    "\n",
    "## Winning Team Combinations\n",
    "\n",
    "For our second questions - if certain team combinations exists, which win often - we used frequent item set mining.\n",
    "In a first step, we analysed the team combinations with the specific brawlers. Afterwards, we did the same, but for the brawler types.\n",
    "Each Brawler has a certain type (Sniper, Thrower, etc.) which is sometimes advantageous on certain maps.\n",
    "\n",
    "### Brawler-Team Composition\n",
    "\n",
    "In this part, the specific brawler-team composition in analysed by frequent itemset mining."
   ]
  },
  {
   "cell_type": "code",
   "execution_count": null,
   "metadata": {
    "pycharm": {
     "name": "#%%\n"
    }
   },
   "outputs": [],
   "source": [
    "from mlxtend.frequent_patterns import apriori\n",
    "from mlxtend.preprocessing import TransactionEncoder"
   ]
  },
  {
   "cell_type": "code",
   "execution_count": null,
   "metadata": {
    "pycharm": {
     "name": "#%%\n"
    }
   },
   "outputs": [],
   "source": [
    "# extract list of winning teams\n",
    "dfWinTeam = pd.read_csv(\"rawdata.csv\")\n",
    "winningTeams = []\n",
    "counter = 0\n",
    "for index, row in dfWinTeam.iterrows():\n",
    "    team = []\n",
    "    if row[\"WinningTeam\"] == 1 and row[\"result\"] != 0:\n",
    "        team.append(row[\"Brawler1Name\"])\n",
    "        team.append(row[\"Brawler2Name\"])\n",
    "        team.append(row[\"Brawler3Name\"])\n",
    "    elif row[\"result\"] != 0:\n",
    "        team.append(row[\"Brawler4Name\"])\n",
    "        team.append(row[\"Brawler5Name\"])\n",
    "        team.append(row[\"Brawler6Name\"])\n",
    "\n",
    "    if len(team) != 0:\n",
    "        winningTeams.append(team)\n",
    "\n",
    "# transform table in correct format (one column per brawler)\n",
    "te = TransactionEncoder()\n",
    "te_ary = te.fit(winningTeams).transform(winningTeams)\n",
    "dfFreqSetsWinnerBrawler = pd.DataFrame(te_ary, columns=te.columns_)\n",
    "\n",
    "freq_item_winner_brawler = apriori(dfFreqSetsWinnerBrawler, min_support=0.01, use_colnames=True)\n",
    "freq_item_winner_brawler['length'] = freq_item_winner_brawler['itemsets'].apply(lambda x: len(x))\n",
    "\n",
    "# get most supported teams of 3\n",
    "freq_item_winner_brawler[ (freq_item_winner_brawler['length'] == 3) ].sort_values(by=[\"support\"], ascending=False)"
   ]
  },
  {
   "cell_type": "markdown",
   "metadata": {
    "pycharm": {
     "name": "#%% md\n"
    }
   },
   "source": [
    "The table shows that there are some team combinations with a support higher than 1%. The most used winning team consists of\n",
    "Brock, Bea and Penny with a support of 2.7%.\n",
    "\n",
    "We did the same analysis with loosing teams, however there are no team combination with a support higher than 1%, hence it\n",
    "is not included."
   ]
  },
  {
   "cell_type": "markdown",
   "metadata": {
    "pycharm": {
     "name": "#%% md\n"
    }
   },
   "source": [
    "### Matej deine Teil hier glaubs\n"
   ]
  },
  {
   "cell_type": "markdown",
   "metadata": {
    "pycharm": {
     "name": "#%% md\n"
    }
   },
   "source": [
    "## Starplayer of the Winning Team"
   ]
  },
  {
   "cell_type": "markdown",
   "metadata": {},
   "source": [
    "The goal of our third question is to predict the \"StarPlayer\" of the Winning Team in the mode \"BrawlBall\". We had the following approach:\n",
    "\n",
    "- 1. We need to extract the Brawlers of the winning team, since the Starplayer can only come from the winning team\n",
    "- 2. The variables \"winningTeams\", \"map\" and the \"StarPlayer\" of the match needs to to be encoded to perform a classification. The idea is that \"winningTeam\" and \"map\" defines the target variable \"StarPlayer\"\n",
    "- 3. We will try to predict the \"StarPlayer\" of the match with a RandomForestClassifier and interpret the result"
   ]
  },
  {
   "cell_type": "code",
   "execution_count": 13,
   "metadata": {
    "pycharm": {
     "name": "#%%\n"
    }
   },
   "outputs": [],
   "source": [
    "from sklearn.preprocessing import LabelEncoder\n",
    "from sklearn.model_selection import cross_val_score\n",
    "from sklearn.ensemble import RandomForestClassifier"
   ]
  },
  {
   "cell_type": "code",
   "execution_count": 14,
   "metadata": {
    "pycharm": {
     "name": "#%%\n"
    }
   },
   "outputs": [
    {
     "name": "stderr",
     "output_type": "stream",
     "text": [
      "C:\\Users\\Sajan\\anaconda3\\lib\\site-packages\\sklearn\\model_selection\\_split.py:667: UserWarning: The least populated class in y has only 2 members, which is less than n_splits=5.\n",
      "  % (min_groups, self.n_splits)), UserWarning)\n"
     ]
    },
    {
     "name": "stdout",
     "output_type": "stream",
     "text": [
      "Accuracy: 0.2250617049553826\n"
     ]
    }
   ],
   "source": [
    "#read dataset\n",
    "dfStarPlayer = pd.read_csv(\"rawdata.csv\")\n",
    "\n",
    "# extract winning teams\n",
    "winningTeams = []\n",
    "\n",
    "for index, row in dfStarPlayer.iterrows():\n",
    "    team = []\n",
    "\n",
    "    if row[\"WinningTeam\"] == 1:\n",
    "        team.append(row[\"Brawler1Name\"])\n",
    "        team.append(row[\"Brawler2Name\"])\n",
    "        team.append(row[\"Brawler3Name\"])\n",
    "    else:\n",
    "        team.append(row[\"Brawler4Name\"])\n",
    "        team.append(row[\"Brawler5Name\"])\n",
    "        team.append(row[\"Brawler6Name\"])\n",
    "\n",
    "    # sort teams that brawlers are in same order\n",
    "    team = sorted(team)\n",
    "\n",
    "    # concat teams to one string\n",
    "    teamString = \"_\".join(team)\n",
    "    winningTeams.append(teamString)\n",
    "\n",
    "# encode string for classifier\n",
    "dfStarPlayerFinal = pd.DataFrame(columns=[\"Team\", \"map\"])\n",
    "dfStarPlayerFinal[\"Team\"] = winningTeams\n",
    "dfStarPlayerFinal[\"map\"] =dfStarPlayer[\"map\"].copy()\n",
    "dfStarPlayerFinal[\"StarPlayer\"] = dfStarPlayer[\"StarPlayerBrawler\"].copy()\n",
    "\n",
    "#encode teams\n",
    "encoding = LabelEncoder()\n",
    "encoding.fit(winningTeams)\n",
    "dfStarPlayerFinal[\"Team\"] = encoding.transform(dfStarPlayerFinal[\"Team\"].values)\n",
    "\n",
    "#encode brawler\n",
    "encoding = LabelEncoder()\n",
    "encoding.fit(dfStarPlayerFinal[\"StarPlayer\"].values)\n",
    "dfStarPlayerFinal[\"StarPlayer\"] = encoding.transform(dfStarPlayerFinal[\"StarPlayer\"].values)\n",
    "\n",
    "# encode maps\n",
    "encoding = LabelEncoder()\n",
    "encoding.fit(dfStarPlayerFinal[\"map\"].values)\n",
    "dfStarPlayerFinal[\"map\"] = encoding.transform(dfStarPlayerFinal[\"map\"].values)\n",
    "\n",
    "# extract features\n",
    "x_features_starplayer = []\n",
    "starPlayers = []\n",
    "\n",
    "for index, row in dfStarPlayerFinal.iterrows():\n",
    "    features = []\n",
    "    features.append(row[\"map\"])\n",
    "    features.append(row[\"Team\"])\n",
    "\n",
    "    x_features_starplayer.append(features)\n",
    "    starPlayers.append(row[\"StarPlayer\"])\n",
    "\n",
    "# create classifier\n",
    "randomStarPlayerTree = RandomForestClassifier()\n",
    "randomStarPlayerTree = randomStarPlayerTree.fit(x_features_starplayer, starPlayers)\n",
    "\n",
    "scores = cross_val_score(randomStarPlayerTree, x_features_starplayer, starPlayers, scoring='accuracy')\n",
    "acc = np.mean(scores)\n",
    "\n",
    "print(\"Accuracy: {0}\".format(acc))"
   ]
  },
  {
   "cell_type": "markdown",
   "metadata": {},
   "source": [
    "The accuracy of our model is around 21% with a RandomForestClassifier, which is a bad performance. A winner Team consists of 3 Brawlers. This means the chance of becoming the StarBrawler is 33%. \n",
    "\n",
    "To analyse the cause of the warning above, we need to have a look on the number of Starplayer counts for each character in our dataset:"
   ]
  },
  {
   "cell_type": "code",
   "execution_count": 16,
   "metadata": {},
   "outputs": [
    {
     "name": "stdout",
     "output_type": "stream",
     "text": [
      "23    133\n",
      "1     124\n",
      "4      91\n",
      "12     61\n",
      "29     53\n",
      "25     53\n",
      "32     46\n",
      "20     46\n",
      "24     45\n",
      "7      45\n",
      "26     42\n",
      "2      39\n",
      "19     32\n",
      "14     32\n",
      "3      28\n",
      "16     28\n",
      "8      25\n",
      "21     25\n",
      "15     24\n",
      "31     23\n",
      "6      20\n",
      "13     19\n",
      "0      17\n",
      "17     15\n",
      "22     15\n",
      "27     15\n",
      "33     15\n",
      "11      8\n",
      "9       7\n",
      "18      6\n",
      "5       5\n",
      "28      4\n",
      "10      3\n",
      "30      2\n",
      "Name: StarPlayer, dtype: int64\n"
     ]
    }
   ],
   "source": [
    "print(dfStarPlayerFinal.loc[:,\"StarPlayer\"].value_counts())"
   ]
  },
  {
   "cell_type": "markdown",
   "metadata": {},
   "source": [
    "Three Brawlers (class) in y have less than 5 occurences, which is less than n_splits=5 for the RandomForestClassifier. As an optimization problem, one could try to set a minimum occurence (e.g. 10). This could help to get a better performance & accurracy.  "
   ]
  },
  {
   "cell_type": "markdown",
   "metadata": {
    "pycharm": {
     "name": "#%% md\n"
    }
   },
   "source": [
    "## Win-Prediction Model\n",
    "\n",
    "In the last analysis, we build a model which should predict the winning team according to the brawlers in each team and\n",
    "the map. The game mode is still fixed to Brawl Ball. From the previous analysis, we saw that certain team compositions are chosen\n",
    "more often, hence we assume that the team composition plays a large role for winning (as the data is from the Top 200 players, their game\n",
    "skill should be roughly equal). Furthermore, we assume that the map also has an influence on who wins the game, as certain brawlers\n",
    "may have an advantage. Thus, we chose these variables as features.\n",
    "Lastly, we use the RandomTreeClassifier as a model.\n",
    "\n",
    "In a first step, we encoded the data into a form that is usable for the model."
   ]
  },
  {
   "cell_type": "code",
   "execution_count": null,
   "metadata": {
    "pycharm": {
     "name": "#%%\n"
    }
   },
   "outputs": [],
   "source": [
    "from sklearn.preprocessing import LabelEncoder\n",
    "from sklearn.model_selection import cross_val_score\n",
    "from sklearn.ensemble import RandomForestClassifier"
   ]
  },
  {
   "cell_type": "code",
   "execution_count": null,
   "metadata": {
    "pycharm": {
     "name": "#%%\n"
    }
   },
   "outputs": [],
   "source": [
    "dfWinPrediction = pd.read_csv(\"rawdata.csv\")\n",
    "firstTeams = []\n",
    "secondTeams = []\n",
    "\n",
    "for index, row in dfWinPrediction.iterrows():\n",
    "    team1 = []\n",
    "    team2 = []\n",
    "\n",
    "    team1.append(row[\"Brawler1Name\"])\n",
    "    team1.append(row[\"Brawler2Name\"])\n",
    "    team1.append(row[\"Brawler3Name\"])\n",
    "\n",
    "    team2.append(row[\"Brawler4Name\"])\n",
    "    team2.append(row[\"Brawler5Name\"])\n",
    "    team2.append(row[\"Brawler6Name\"])\n",
    "\n",
    "    # sort teams that brawlers are in same order\n",
    "    team1 = sorted(team1)\n",
    "    team2 = sorted(team2)\n",
    "\n",
    "    # concat teams to one string\n",
    "    team1string = \"_\".join(team1)\n",
    "    team2string = \"_\".join(team2)\n",
    "\n",
    "    firstTeams.append(team1string)\n",
    "    secondTeams.append(team2string)\n",
    "\n",
    "# encode string for classifier\n",
    "dfFinal = pd.DataFrame(columns=[\"Team1\", \"Team2\", \"map\"])\n",
    "dfFinal[\"Team1\"] = firstTeams\n",
    "dfFinal[\"Team2\"] = secondTeams\n",
    "dfFinal[\"map\"] =dfWinPrediction[\"map\"].copy()\n",
    "dfFinal[\"WinningTeam\"] = dfWinPrediction[\"WinningTeam\"].copy()\n",
    "\n",
    "encoding = LabelEncoder()\n",
    "encoding.fit(firstTeams + secondTeams)\n",
    "dfFinal[\"Team1\"] = encoding.transform(dfFinal[\"Team1\"].values)\n",
    "dfFinal[\"Team2\"] = encoding.transform(dfFinal[\"Team2\"].values)\n",
    "\n",
    "# encode maps\n",
    "encoding = LabelEncoder()\n",
    "encoding.fit(dfFinal[\"map\"].values)\n",
    "dfFinal[\"map\"] = encoding.transform(dfFinal[\"map\"].values)\n",
    "\n",
    "dfFinal.head(5)"
   ]
  },
  {
   "cell_type": "markdown",
   "metadata": {
    "pycharm": {
     "name": "#%% md\n"
    }
   },
   "source": [
    "Then, we extracted the features from the dataset for the classifier plus created and trained the RandomForestClassifier."
   ]
  },
  {
   "cell_type": "code",
   "execution_count": null,
   "metadata": {
    "pycharm": {
     "name": "#%%\n"
    }
   },
   "outputs": [],
   "source": [
    "x_features_winner = []\n",
    "winners = []\n",
    "\n",
    "for index, row in dfFinal.iterrows():\n",
    "    features = []\n",
    "    features.append(row[\"map\"])\n",
    "    features.append(row[\"Team1\"])\n",
    "    features.append(row[\"Team2\"])\n",
    "\n",
    "    x_features_winner.append(features)\n",
    "    winners.append(row[\"WinningTeam\"])\n",
    "\n",
    "# create classifier\n",
    "randomWinnerTree = RandomForestClassifier()\n",
    "randomWinnerTree = randomWinnerTree.fit(x_features_winner, winners)"
   ]
  },
  {
   "cell_type": "markdown",
   "metadata": {
    "pycharm": {
     "name": "#%% md\n"
    }
   },
   "source": [
    "Lastly, we cross validated the the tree in order to get its accurarcy"
   ]
  },
  {
   "cell_type": "code",
   "execution_count": null,
   "metadata": {
    "pycharm": {
     "name": "#%%\n"
    }
   },
   "outputs": [],
   "source": [
    "scores = cross_val_score(randomWinnerTree, x_features_winner, winners, scoring='accuracy')\n",
    "acc = np.mean(scores)\n",
    "\n",
    "print(\"Accuracy: {0}\".format(acc))"
   ]
  },
  {
   "cell_type": "markdown",
   "metadata": {
    "pycharm": {
     "name": "#%% md\n"
    }
   },
   "source": [
    "We get an average accuracy of about __60%__ for predicting the winner of a game with this model."
   ]
  },
  {
   "cell_type": "markdown",
   "metadata": {
    "pycharm": {
     "name": "#%% md\n"
    }
   },
   "source": [
    "# Discussion or whatever\n",
    "\n",
    "- write down our insights or maybe do some further coding in the cell below\n",
    "\n",
    "\n"
   ]
  }
 ],
 "metadata": {
  "kernelspec": {
   "display_name": "Python 3",
   "language": "python",
   "name": "python3"
  },
  "language_info": {
   "codemirror_mode": {
    "name": "ipython",
    "version": 3
   },
   "file_extension": ".py",
   "mimetype": "text/x-python",
   "name": "python",
   "nbconvert_exporter": "python",
   "pygments_lexer": "ipython3",
   "version": "3.7.4"
  }
 },
 "nbformat": 4,
 "nbformat_minor": 4
}
