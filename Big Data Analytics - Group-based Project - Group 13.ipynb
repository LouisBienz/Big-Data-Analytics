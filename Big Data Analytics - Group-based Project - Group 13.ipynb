{
 "cells": [
  {
   "cell_type": "markdown",
   "metadata": {},
   "source": [
    "# Analysis of Brawl Stars Data Set\n",
    "\n",
    "- Brawl Stars is a mobile online multiplayer battle game. A player choses a Brawler as game character and plays against other players or against AI opponents.\n",
    "- Currently there exist 36 different Brawler. Each Brawler has a power level from 1 to 10. With the help of the in-game loot boxes those power levels can be upgraded.\n",
    "- There exist several game modes, where you either play solo or in a team of 2 or 3 against other players or AI opponents."
   ]
  },
  {
   "cell_type": "markdown",
   "metadata": {},
   "source": [
    "# Preliminaries\n",
    "\n",
    "- To process and clean the Brawl Stars Data Set we make use of python libraries which are designed for data processing.\n",
    "- To collect the Brawl Stars Data Set a Brawl Stars API wrapper called brawlstats is used."
   ]
  },
  {
   "cell_type": "markdown",
   "metadata": {},
   "source": [
    "Import the default pyhton libraries for data processing."
   ]
  },
  {
   "cell_type": "code",
   "execution_count": 1,
   "metadata": {},
   "outputs": [
    {
     "name": "stderr",
     "output_type": "stream",
     "text": [
      "\n",
      "Bad key \"text.kerning_factor\" on line 4 in\n",
      "C:\\Users\\jerem\\Anaconda3\\lib\\site-packages\\matplotlib\\mpl-data\\stylelib\\_classic_test_patch.mplstyle.\n",
      "You probably need to get an updated matplotlibrc file from\n",
      "https://github.com/matplotlib/matplotlib/blob/v3.1.3/matplotlibrc.template\n",
      "or from the matplotlib source distribution\n"
     ]
    }
   ],
   "source": [
    "import os, json\n",
    "import random\n",
    "import pandas as pd # for data stuff\n",
    "import numpy as np # for importing data i think, not sure anymore\n",
    "import matplotlib.pyplot as plt #for plotting\n",
    "\n",
    "# the modules below are used in \"Analys Models\" section\n",
    "from sklearn import svm, datasets\n",
    "from sklearn.model_selection import train_test_split\n",
    "from sklearn.metrics import plot_confusion_matrix\n",
    "from pandas.io.json import json_normalize\n"
   ]
  },
  {
   "cell_type": "markdown",
   "metadata": {},
   "source": [
    "Install brawlstats, a python wrapper to retrieve data from the Brawl Stars API\n",
    " - https://brawlstats.readthedocs.io/en/latest/index.html"
   ]
  },
  {
   "cell_type": "code",
   "execution_count": 2,
   "metadata": {},
   "outputs": [
    {
     "name": "stdout",
     "output_type": "stream",
     "text": [
      "Requirement already satisfied: brawlstats in c:\\users\\jerem\\anaconda3\\lib\\site-packages (4.0.3)\n",
      "Requirement already satisfied: cachetools>=3.1.0 in c:\\users\\jerem\\anaconda3\\lib\\site-packages (from brawlstats) (4.1.0)\n",
      "Requirement already satisfied: python-box in c:\\users\\jerem\\anaconda3\\lib\\site-packages (from brawlstats) (4.2.3)\n",
      "Requirement already satisfied: requests in c:\\users\\jerem\\anaconda3\\lib\\site-packages (from brawlstats) (2.22.0)\n",
      "Requirement already satisfied: aiohttp<3.7.0,>=3.6.0 in c:\\users\\jerem\\anaconda3\\lib\\site-packages (from brawlstats) (3.6.2)\n",
      "Requirement already satisfied: toml in c:\\users\\jerem\\anaconda3\\lib\\site-packages (from python-box->brawlstats) (0.10.1)\n",
      "Requirement already satisfied: ruamel.yaml in c:\\users\\jerem\\anaconda3\\lib\\site-packages (from python-box->brawlstats) (0.16.10)\n",
      "Requirement already satisfied: certifi>=2017.4.17 in c:\\users\\jerem\\anaconda3\\lib\\site-packages (from requests->brawlstats) (2020.4.5.1)\n",
      "Requirement already satisfied: idna<2.9,>=2.5 in c:\\users\\jerem\\anaconda3\\lib\\site-packages (from requests->brawlstats) (2.8)\n",
      "Requirement already satisfied: urllib3!=1.25.0,!=1.25.1,<1.26,>=1.21.1 in c:\\users\\jerem\\anaconda3\\lib\\site-packages (from requests->brawlstats) (1.24.2)\n",
      "Requirement already satisfied: chardet<3.1.0,>=3.0.2 in c:\\users\\jerem\\anaconda3\\lib\\site-packages (from requests->brawlstats) (3.0.4)\n",
      "Requirement already satisfied: attrs>=17.3.0 in c:\\users\\jerem\\anaconda3\\lib\\site-packages (from aiohttp<3.7.0,>=3.6.0->brawlstats) (19.2.0)\n",
      "Requirement already satisfied: multidict<5.0,>=4.5 in c:\\users\\jerem\\anaconda3\\lib\\site-packages (from aiohttp<3.7.0,>=3.6.0->brawlstats) (4.7.6)\n",
      "Requirement already satisfied: yarl<2.0,>=1.0 in c:\\users\\jerem\\anaconda3\\lib\\site-packages (from aiohttp<3.7.0,>=3.6.0->brawlstats) (1.4.2)\n",
      "Requirement already satisfied: async-timeout<4.0,>=3.0 in c:\\users\\jerem\\anaconda3\\lib\\site-packages (from aiohttp<3.7.0,>=3.6.0->brawlstats) (3.0.1)\n",
      "Requirement already satisfied: ruamel.yaml.clib>=0.1.2; platform_python_implementation == \"CPython\" and python_version < \"3.9\" in c:\\users\\jerem\\anaconda3\\lib\\site-packages (from ruamel.yaml->python-box->brawlstats) (0.2.0)\n"
     ]
    }
   ],
   "source": [
    "!pip install brawlstats"
   ]
  },
  {
   "cell_type": "markdown",
   "metadata": {},
   "source": [
    "# Data Collection\n",
    "\n",
    "- We collect battlelogs from the Brawl Stars API."
   ]
  },
  {
   "cell_type": "markdown",
   "metadata": {},
   "source": [
    "Import brawlstats "
   ]
  },
  {
   "cell_type": "code",
   "execution_count": 3,
   "metadata": {},
   "outputs": [],
   "source": [
    "import brawlstats\n",
    "import time"
   ]
  },
  {
   "cell_type": "markdown",
   "metadata": {},
   "source": [
    "Establish connection to Brawl Stars API. A token resp. API Key is needed. Follow the steps below to obtain a token.\n",
    "- create an account at: https://developer.brawlstars.com/#/\n",
    "- get your IPv4 with: https://www.whatismyip.org/\n",
    "- create an API Key on https://developer.brawlstars.com/#/ for your account and your API Key\n",
    "- save your API key in this directory in a file named: token_brawlstats.txt\n",
    "- run the cell below to establish the connection to the API"
   ]
  },
  {
   "cell_type": "code",
   "execution_count": 4,
   "metadata": {},
   "outputs": [],
   "source": [
    "path = os.getcwd()\n",
    "token_file =  open(os.path.join(path, \"token_brawlstats.txt\"), 'r')\n",
    "token = token_file.read()\n",
    "token_file.close()\n",
    "\n",
    "client = brawlstats.Client(token)"
   ]
  },
  {
   "cell_type": "markdown",
   "metadata": {
    "pycharm": {
     "name": "#%% md\n"
    }
   },
   "source": [
    "- retrieve the top 200 players\n",
    "- each player object contains a list of battle logs. Those battle logs contain meta data about the player's most recent played games. Those battlelogs form the raw data used for this project\n",
    "- If we collect data from the API, the most recent battle logs will be retrieved. Therefore, we decided to store the retrieved data in \"battlelog.json\" such that we can continue with the same data every time this jupyter notebook is used. However, one could delete the current \"battlelog.json\" file in order to create a new data set from recently played games\n",
    "- If you run the cell below a new data set is collected if no curent \"battlelog.json\" exists. However, if a new data set is collected, some adapations in this projects need to be made.\n",
    "\n",
    "we assume the skill level of the top 200 players in the game is about the same. Therefore all retrieved battle logs are from players with a very high skill level, making the raw data more consistent and not depending on the skill level of a player\n"
   ]
  },
  {
   "cell_type": "code",
   "execution_count": 5,
   "metadata": {},
   "outputs": [],
   "source": [
    "if not os.path.isfile(\"battlelogs.json\"):\n",
    "    \n",
    "    # retrieve the player objects of the top 200 players\n",
    "    tags_top_200_players = [player[\"tag\"] for player in client.get_rankings(ranking='players', limit=200)]\n",
    "    top_200_players = [client.get_player(tag) for tag in tags_top_200_players]\n",
    "    \n",
    "    # retrive their battlelogs with the corresponding player tag and stor it in \"battlelogs.json\" file\n",
    "    with open(\"battlelogs.json\", \"w\") as battlelog_file:\n",
    "        for player in top_200_players:\n",
    "            player_battlelogs = client.get_battle_logs(player.tag)\n",
    "            for battlelog in player_battlelogs:\n",
    "                battlelogs[index] = {}\n",
    "                battlelogs[index][\"player_tag\"] = player.tag\n",
    "                battlelogs[index][\"battlelog\"] = battlelog\n",
    "                index += 1\n",
    "        json.dump(battlelogs, battlelog_file)\n",
    "        "
   ]
  },
  {
   "cell_type": "markdown",
   "metadata": {},
   "source": [
    "# Data Cleaning\n",
    "\n",
    "- some of the top players play against each other. Duplicates can be filtered since a battle log contains a unique key = \"battle_time\""
   ]
  },
  {
   "cell_type": "code",
   "execution_count": 6,
   "metadata": {
    "pycharm": {
     "name": "#%%\n"
    }
   },
   "outputs": [
    {
     "name": "stdout",
     "output_type": "stream",
     "text": [
      "The total number of unique battle logs is: 4301\n",
      "\n",
      "Below is a full battle log: \n",
      "{\n",
      "    \"battlelog\": {\n",
      "        \"battle\": {\n",
      "            \"duration\": 143,\n",
      "            \"mode\": \"gemGrab\",\n",
      "            \"result\": \"defeat\",\n",
      "            \"star_player\": {\n",
      "                \"brawler\": {\n",
      "                    \"id\": 16000013,\n",
      "                    \"name\": \"POCO\",\n",
      "                    \"power\": 10,\n",
      "                    \"trophies\": 894\n",
      "                },\n",
      "                \"name\": \"Lil,\\u30c7\\u30e1\\u30eb\\u26c4\",\n",
      "                \"tag\": \"#YU2VVGLQ\"\n",
      "            },\n",
      "            \"teams\": [\n",
      "                [\n",
      "                    {\n",
      "                        \"brawler\": {\n",
      "                            \"id\": 16000021,\n",
      "                            \"name\": \"GENE\",\n",
      "                            \"power\": 9,\n",
      "                            \"trophies\": 1231\n",
      "                        },\n",
      "                        \"name\": \"VestA\\u2698\\uc81c\\ub85c\",\n",
      "                        \"tag\": \"#8QRPGLQJJ\"\n",
      "                    },\n",
      "                    {\n",
      "                        \"brawler\": {\n",
      "                            \"id\": 16000028,\n",
      "                            \"name\": \"SANDY\",\n",
      "                            \"power\": 10,\n",
      "                            \"trophies\": 1072\n",
      "                        },\n",
      "                        \"name\": \"\\u21bb\\u3055\\u30fc\\u035b\\u304c\\u21ba\\uffe4Puu!!\",\n",
      "                        \"tag\": \"#9U2QJ0P\"\n",
      "                    },\n",
      "                    {\n",
      "                        \"brawler\": {\n",
      "                            \"id\": 16000034,\n",
      "                            \"name\": \"JACKY\",\n",
      "                            \"power\": 10,\n",
      "                            \"trophies\": 968\n",
      "                        },\n",
      "                        \"name\": \"\\u21bb\\u3055\\u30fc\\u035b\\u304c\\u21ba\\uffe4Miria!\",\n",
      "                        \"tag\": \"#VQLLY0RC\"\n",
      "                    }\n",
      "                ],\n",
      "                [\n",
      "                    {\n",
      "                        \"brawler\": {\n",
      "                            \"id\": 16000013,\n",
      "                            \"name\": \"POCO\",\n",
      "                            \"power\": 10,\n",
      "                            \"trophies\": 894\n",
      "                        },\n",
      "                        \"name\": \"Lil,\\u30c7\\u30e1\\u30eb\\u26c4\",\n",
      "                        \"tag\": \"#YU2VVGLQ\"\n",
      "                    },\n",
      "                    {\n",
      "                        \"brawler\": {\n",
      "                            \"id\": 16000034,\n",
      "                            \"name\": \"JACKY\",\n",
      "                            \"power\": 10,\n",
      "                            \"trophies\": 865\n",
      "                        },\n",
      "                        \"name\": \"\\u304a\\u304a\\u3093\\u3064\",\n",
      "                        \"tag\": \"#8VPV2GC8\"\n",
      "                    },\n",
      "                    {\n",
      "                        \"brawler\": {\n",
      "                            \"id\": 16000024,\n",
      "                            \"name\": \"ROSA\",\n",
      "                            \"power\": 10,\n",
      "                            \"trophies\": 935\n",
      "                        },\n",
      "                        \"name\": \"\\u26a1\\ufe0f\\u0432\\u043e-\\u0442w\\u0442z\\u26a1\\ufe0f\",\n",
      "                        \"tag\": \"#29G2RPJJ0\"\n",
      "                    }\n",
      "                ]\n",
      "            ],\n",
      "            \"trophy_change\": -11,\n",
      "            \"type\": \"ranked\"\n",
      "        },\n",
      "        \"battle_time\": \"20200530T134004.000Z\",\n",
      "        \"event\": {\n",
      "            \"id\": 15000212,\n",
      "            \"map\": \"Spare Space\",\n",
      "            \"mode\": \"gemGrab\"\n",
      "        }\n",
      "    },\n",
      "    \"player_tag\": \"#9U2QJ0P\"\n",
      "}\n"
     ]
    }
   ],
   "source": [
    "# read in the battlelogs.json file\n",
    "with open(\"battlelogs.json\",'r') as in_file:\n",
    "    battlelogs = json.load(in_file)\n",
    "    in_file.close()\n",
    "    \n",
    "# initialize list for unique battlelogs\n",
    "unique_battlelogs = []\n",
    "used_battle_times = []\n",
    "\n",
    "# iterate over all battle logs\n",
    "for key in battlelogs.keys():\n",
    "    \n",
    "    # get the battle time of the current battle log which is a unique key\n",
    "    current_battle_time = battlelogs[key]['battlelog'][\"battle_time\"]\n",
    "    \n",
    "    # append the current battle log if \n",
    "    # it is not already in the list of unique battle logs\n",
    "    if not current_battle_time in used_battle_times:\n",
    "        used_battle_times.append(current_battle_time)\n",
    "        unique_battlelogs.append(battlelogs[key])\n",
    "\n",
    "print(\"The total number of unique battle logs is: {}\\n\".format(len(unique_battlelogs)))\n",
    "print(\"Below is a full battle log: \")    \n",
    "print(json.dumps(unique_battlelogs[1], sort_keys=True, indent=4))\n",
    " \n",
    "      "
   ]
  },
  {
   "cell_type": "markdown",
   "metadata": {},
   "source": [
    "# Data Processing\n",
    "- The Brawlers of the top players are analysed to see if they have most of their Brawlers on the max power level."
   ]
  },
  {
   "cell_type": "code",
   "execution_count": 7,
   "metadata": {},
   "outputs": [
    {
     "data": {
      "image/png": "[encoded data removed]",
      "text/plain": [
       "<Figure size 432x288 with 1 Axes>"
      ]
     },
     "metadata": {
      "needs_background": "light"
     },
     "output_type": "display_data"
    }
   ],
   "source": [
    "# retrieve the player objects of the top 200 players\n",
    "tags_top_200_players = [player[\"tag\"] for player in client.get_rankings(ranking='players', limit=200)]\n",
    "top_200_players = [client.get_player(tag) for tag in tags_top_200_players]\n",
    "\n",
    "\n",
    "# initialize brawler levels count to 0\n",
    "# brawlers can be from level 1 to 10\n",
    "brawler_levels = {}\n",
    "for i in range(1, 11):\n",
    "    brawler_levels[i] = 0\n",
    "    \n",
    "# loop over the top 200 players\n",
    "for player in top_200_players:\n",
    "    \n",
    "    # loop over the brawlers of the current player\n",
    "    for brawler in player.brawlers:\n",
    "        # increment\n",
    "        brawler_levels[brawler[\"power\"]] += 1\n",
    "\n",
    "# create a bar plot of the distribution of the brawler power levels\n",
    "objects = brawler_levels.keys()\n",
    "y_pos = np.arange(len(objects))\n",
    "performance = brawler_levels.values()\n",
    "\n",
    "plt.bar(y_pos, performance, align='center', alpha=0.5)\n",
    "plt.xticks(y_pos, objects)\n",
    "plt.xlabel(\"Power Level of Brawler\")\n",
    "plt.ylabel('Number of Brawlers')\n",
    "plt.title('Brawler Levels of top 200 players')\n",
    "\n",
    "plt.show()"
   ]
  },
  {
   "cell_type": "markdown",
   "metadata": {},
   "source": [
    "The plot clearly shows that the top 200 players have their brawler mostly on the max power level"
   ]
  },
  {
   "cell_type": "markdown",
   "metadata": {},
   "source": [
    "# Bitte die zwei zelle chli schöner formatiere und dokumentiere, danke"
   ]
  },
  {
   "cell_type": "code",
   "execution_count": 8,
   "metadata": {},
   "outputs": [
    {
     "name": "stdout",
     "output_type": "stream",
     "text": [
      "brawlBall\n",
      "{'gemGrab': 511, 'brawlBall': 1158, 'siege': 140, 'heist': 795, 'soloShowdown': 380, 'bounty': 66, 'hotZone': 330, 'duoShowdown': 506, 'roboRumble': 415}\n",
      "4301\n",
      "{'Crystal Arcade': 9, 'Spare Space': 225, 'Backyard Bowl': 914, 'Deathcap Trap': 213, 'Nuts & Bolts': 97, 'Hot Potato': 770, 'Stocky Stockades': 762, 'Factory Rush': 11, 'Minecart Madness': 11, 'Layer Cake': 18, 'Pit Stop': 14, 'Triple Dribble': 22, 'Quarter Pounder': 289, 'Warped Arena': 25, 'Junk Park': 9, 'Field Goal': 11, 'Deep Diner': 6, 'Deeper Danger': 27, 'Tornado Ring': 3, 'Penalty Kick': 4, 'Hard Rock Mine': 16, 'Keep Safe': 415, 'Street Brawler 2': 39, 'Dark Passage': 5, 'Well Cut': 7, 'Shoulder Bash': 1, 'Galaxy Arena': 4, 'Rocky Blocks': 82, 'Super Stadium': 18, 'Double Swoosh': 8, 'Feast or Famine': 2, 'Thousand Lakes': 25, 'Post Haste': 119, 'Undermine': 2, 'Escape Velocity': 2, 'Cell Division': 7, 'Chill Space': 4, 'Some Assembly Required': 20, 'Canal Grande': 12, 'Pinhole Punt': 9, 'Pinball Dreams': 6, 'Snake Prairie': 2, 'Stone Fort': 7, 'Safety Center': 1, 'Eye of the Storm': 3, 'Skull Creek': 4, 'Cavern Churn': 1, 'Beach Ball': 16, 'Heat Wave': 3, 'Cobweb': 3, 'Traffic Jam': 4, 'Core Crumble': 1, 'Center Field': 2, 'Land Ahoy': 1, 'Bouncing Diner': 1, 'High Score': 1, 'Controller Chaos': 1, 'Bandit Cove': 4, 'Crated Factory': 3}\n",
      "4301\n"
     ]
    }
   ],
   "source": [
    "\n",
    "### Retrieves information about the modes played and returns a dictionary with key:value (mode: counter)\n",
    "modedict = {}\n",
    "current_mode = ''\n",
    "for log in unique_battlelogs:\n",
    "    current_mode = log[\"battlelog\"][\"event\"][\"mode\"]\n",
    "    if current_mode not in modedict.keys():\n",
    "        modedict[current_mode] = 0\n",
    "    modedict[current_mode] = modedict[current_mode] + 1\n",
    "### Get the mode with highest games completed in our data\n",
    "max_key = max(modedict, key=modedict.get)  \n",
    "print(max_key)\n",
    "print(modedict)\n",
    "summode = 0\n",
    "for val in modedict.values():\n",
    "    summode = summode + val\n",
    "print(summode)\n",
    "    \n",
    "\n",
    "### Retrieves counter information about the different maps played and returns a dictionary with key:value (map: counter) pairs\n",
    "mapdict = {}\n",
    "current_map = ''\n",
    "for log in unique_battlelogs:\n",
    "    current_map = log[\"battlelog\"][\"event\"][\"map\"]\n",
    "    if current_map not in mapdict.keys():\n",
    "        mapdict[current_map] = 0\n",
    "    mapdict[current_map] = mapdict[current_map] + 1\n",
    "    \n",
    "print(mapdict)\n",
    "summap = 0\n",
    "for values in mapdict.values():\n",
    "    summap = summap + values\n",
    "print(summap)\n",
    "            "
   ]
  },
  {
   "cell_type": "code",
   "execution_count": 16,
   "metadata": {},
   "outputs": [
    {
     "name": "stdout",
     "output_type": "stream",
     "text": [
      "1158\n"
     ]
    },
    {
     "data": {
      "text/plain": [
       "' for later reuse, how to select only certain columns\\ndf1 = df[[\\'WinningTeam\\',\"mode\"]]\\ndf1.head(10)\\n'"
      ]
     },
     "execution_count": 16,
     "metadata": {},
     "output_type": "execute_result"
    }
   ],
   "source": [
    "### Narrowing down the data to have only variables of interest\n",
    "\n",
    "brawl_dicts = []\n",
    "for log in unique_battlelogs:\n",
    "    if log[\"battlelog\"][\"event\"][\"mode\"] == max_key:\n",
    "        brawl_dicts.append(log)\n",
    "        \n",
    "print(len(brawl_dicts))\n",
    "###print(brawl_dicts)\n",
    "\n",
    "##removing any unnecessary information from the source\n",
    "\n",
    "df = pd.DataFrame(columns=['WinningTeam','BattleTime','playerTag','mode','map','result','StarPlayerTag','StarPlayerBrawler','Brawler1Name','Brawler1Tag','Brawler2Name','Brawler2Tag','Brawler3Name','Brawler3Tag','Brawler4Name',\n",
    "                           'Brawler4Tag','Brawler5Name','Brawler5Tag','Brawler6Name','Brawler6Tag'])\n",
    "\n",
    "    \n",
    "for i in range(len(brawl_dicts)):\n",
    "    log = brawl_dicts[i]\n",
    "    row = []\n",
    "    if (log[\"player_tag\"] == log[\"battlelog\"][\"battle\"][\"teams\"][0][0][\"tag\"] or log[\"player_tag\"] == log[\"battlelog\"][\"battle\"][\"teams\"][0][1][\"tag\"] or log[\"player_tag\"] == log[\"battlelog\"][\"battle\"][\"teams\"][0][2][\"tag\"]) and log[\"battlelog\"][\"battle\"][\"result\"] == \"victory\":\n",
    "        row.append(1)\n",
    "    else:\n",
    "        row.append(2)\n",
    "    row.append(log[\"battlelog\"][\"battle_time\"])\n",
    "    row.append(log[\"player_tag\"])\n",
    "    row.append(log[\"battlelog\"][\"event\"][\"mode\"])\n",
    "    row.append(log[\"battlelog\"][\"event\"][\"map\"])\n",
    "    row.append(log[\"battlelog\"][\"battle\"][\"result\"])\n",
    "    row.append(log[\"battlelog\"][\"battle\"][\"star_player\"][\"tag\"])\n",
    "    row.append(log[\"battlelog\"][\"battle\"][\"star_player\"][\"brawler\"][\"name\"])\n",
    "    row.append(log[\"battlelog\"][\"battle\"][\"teams\"][0][0][\"brawler\"][\"name\"])\n",
    "    row.append(log[\"battlelog\"][\"battle\"][\"teams\"][0][0][\"tag\"])\n",
    "    row.append(log[\"battlelog\"][\"battle\"][\"teams\"][0][1][\"brawler\"][\"name\"])\n",
    "    row.append(log[\"battlelog\"][\"battle\"][\"teams\"][0][1][\"tag\"])\n",
    "    row.append(log[\"battlelog\"][\"battle\"][\"teams\"][0][2][\"brawler\"][\"name\"])\n",
    "    row.append(log[\"battlelog\"][\"battle\"][\"teams\"][0][2][\"tag\"])\n",
    "    row.append(log[\"battlelog\"][\"battle\"][\"teams\"][1][0][\"brawler\"][\"name\"])\n",
    "    row.append(log[\"battlelog\"][\"battle\"][\"teams\"][1][0][\"tag\"])\n",
    "    row.append(log[\"battlelog\"][\"battle\"][\"teams\"][1][1][\"brawler\"][\"name\"])\n",
    "    row.append(log[\"battlelog\"][\"battle\"][\"teams\"][1][1][\"tag\"])\n",
    "    row.append(log[\"battlelog\"][\"battle\"][\"teams\"][1][2][\"brawler\"][\"name\"])\n",
    "    row.append(log[\"battlelog\"][\"battle\"][\"teams\"][1][2][\"tag\"])\n",
    "    df.loc[i] = row\n",
    "\n",
    "df = df.replace(to_replace = 'victory', value= 1)\n",
    "df = df.replace(to_replace = 'defeat', value= -1)\n",
    "df = df.replace(to_replace = 'draw', value= 0)\n",
    "\n",
    "df.to_csv(\"rawdata.csv\",index=False)\n",
    "\n",
    "''' for later reuse, how to select only certain columns\n",
    "df1 = df[['WinningTeam',\"mode\"]]\n",
    "df1.head(10)\n",
    "'''"
   ]
  },
  {
   "cell_type": "markdown",
   "metadata": {},
   "source": [
    "# Preparation for Model Building\n",
    "\n",
    "- do some stratification perhaps"
   ]
  },
  {
   "cell_type": "code",
   "execution_count": 10,
   "metadata": {},
   "outputs": [
    {
     "name": "stdout",
     "output_type": "stream",
     "text": [
      "stratify data for training purposes\n"
     ]
    }
   ],
   "source": [
    "print(\"stratify data for training purposes\")"
   ]
  },
  {
   "cell_type": "markdown",
   "metadata": {},
   "source": [
    "# Train Model"
   ]
  },
  {
   "cell_type": "code",
   "execution_count": 11,
   "metadata": {},
   "outputs": [
    {
     "name": "stdout",
     "output_type": "stream",
     "text": [
      "run code which uses train data to train the model\n"
     ]
    }
   ],
   "source": [
    "print(\"run code which uses train data to train the model\")"
   ]
  },
  {
   "cell_type": "markdown",
   "metadata": {},
   "source": [
    "# Test Model"
   ]
  },
  {
   "cell_type": "code",
   "execution_count": 12,
   "metadata": {},
   "outputs": [
    {
     "name": "stdout",
     "output_type": "stream",
     "text": [
      "run code to test the model\n"
     ]
    }
   ],
   "source": [
    "print(\"run code to test the model\")"
   ]
  },
  {
   "cell_type": "markdown",
   "metadata": {},
   "source": [
    "# Analyse Model\n",
    "\n",
    "- probably some plots will be excpected"
   ]
  },
  {
   "cell_type": "code",
   "execution_count": 13,
   "metadata": {},
   "outputs": [
    {
     "name": "stdout",
     "output_type": "stream",
     "text": [
      "Confusion matrix, without normalization\n",
      "[[13  0  0]\n",
      " [ 0 10  6]\n",
      " [ 0  0  9]]\n",
      "Normalized confusion matrix\n",
      "[[1.   0.   0.  ]\n",
      " [0.   0.62 0.38]\n",
      " [0.   0.   1.  ]]\n"
     ]
    },
    {
     "data": {
      "image/png": "[encoded data removed]",
      "text/plain": [
       "<Figure size 432x288 with 2 Axes>"
      ]
     },
     "metadata": {
      "needs_background": "light"
     },
     "output_type": "display_data"
    },
    {
     "data": {
      "image/png": "[encoded data removed]",
      "text/plain": [
       "<Figure size 432x288 with 2 Axes>"
      ]
     },
     "metadata": {
      "needs_background": "light"
     },
     "output_type": "display_data"
    }
   ],
   "source": [
    "\n",
    "\n",
    "\n",
    "# import some data to play with\n",
    "iris = datasets.load_iris()\n",
    "X = iris.data\n",
    "y = iris.target\n",
    "class_names = iris.target_names\n",
    "\n",
    "# Split the data into a training set and a test set\n",
    "X_train, X_test, y_train, y_test = train_test_split(X, y, random_state=0)\n",
    "\n",
    "# Run classifier, using a model that is too regularized (C too low) to see\n",
    "# the impact on the results\n",
    "classifier = svm.SVC(kernel='linear', C=0.01).fit(X_train, y_train)\n",
    "\n",
    "np.set_printoptions(precision=2)\n",
    "\n",
    "# Plot non-normalized confusion matrix\n",
    "titles_options = [(\"Confusion matrix, without normalization\", None),\n",
    "                  (\"Normalized confusion matrix\", 'true')]\n",
    "for title, normalize in titles_options:\n",
    "    disp = plot_confusion_matrix(classifier, X_test, y_test,\n",
    "                                 display_labels=class_names,\n",
    "                                 cmap=plt.cm.Blues,\n",
    "                                 normalize=normalize)\n",
    "    disp.ax_.set_title(title)\n",
    "\n",
    "    print(title)\n",
    "    print(disp.confusion_matrix)\n",
    "\n",
    "plt.show()"
   ]
  },
  {
   "cell_type": "markdown",
   "metadata": {},
   "source": [
    "# Visualize results"
   ]
  },
  {
   "cell_type": "code",
   "execution_count": 14,
   "metadata": {},
   "outputs": [
    {
     "name": "stdout",
     "output_type": "stream",
     "text": [
      "some very nice plots like the ones above\n"
     ]
    }
   ],
   "source": [
    "print(\"some very nice plots like the ones above\")"
   ]
  },
  {
   "cell_type": "markdown",
   "metadata": {},
   "source": [
    "# Discussion or whatever\n",
    "\n",
    "- write down our insights or maybe do some further coding in the cell below"
   ]
  },
  {
   "cell_type": "code",
   "execution_count": 15,
   "metadata": {},
   "outputs": [
    {
     "name": "stdout",
     "output_type": "stream",
     "text": [
      "finally, done with this\n"
     ]
    }
   ],
   "source": [
    "print(\"finally, done with this\")"
   ]
  },
  {
   "cell_type": "code",
   "execution_count": null,
   "metadata": {},
   "outputs": [],
   "source": []
  }
 ],
 "metadata": {
  "kernelspec": {
   "display_name": "Python 3",
   "language": "python",
   "name": "python3"
  },
  "language_info": {
   "codemirror_mode": {
    "name": "ipython",
    "version": 3
   },
   "file_extension": ".py",
   "mimetype": "text/x-python",
   "name": "python",
   "nbconvert_exporter": "python",
   "pygments_lexer": "ipython3",
   "version": "3.7.4"
  },
  "pycharm": {
   "stem_cell": {
    "cell_type": "raw",
    "metadata": {
     "collapsed": false
    },
    "source": []
   }
  }
 },
 "nbformat": 4,
 "nbformat_minor": 4
}
