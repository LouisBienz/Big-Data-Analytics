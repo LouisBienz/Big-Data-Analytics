{
 "cells": [
  {
   "cell_type": "markdown",
   "metadata": {},
   "source": [
    "# Preleminaries\n",
    "\n",
    "- Possible Questions to answer: Most popular brawler/map/game mode, etc.\n",
    "- Train a model on e.g. solo show down/duo show down/gem grep, one model per map, which brawler/brawlers are most likely to win according to battle logs\n",
    "- some more questions... which star power/gadeget is most common or the like"
   ]
  },
  {
   "cell_type": "code",
   "execution_count": 9,
   "metadata": {},
   "outputs": [],
   "source": [
    "import os, json\n",
    "import pandas as pd # for data stuff\n",
    "import numpy as np # for importing data i think, not sure anymore\n",
    "import matplotlib.pyplot as plt #for plotting\n",
    "\n",
    "# the modules below are used in \"Analys Models\" section\n",
    "from sklearn import svm, datasets\n",
    "from sklearn.model_selection import train_test_split\n",
    "from sklearn.metrics import plot_confusion_matrix\n"
   ]
  },
  {
   "cell_type": "markdown",
   "metadata": {},
   "source": [
    "Install Brawl Stars API with pip\n",
    " - https://brawlstats.readthedocs.io/en/latest/index.html"
   ]
  },
  {
   "cell_type": "code",
   "execution_count": 2,
   "metadata": {},
   "outputs": [
    {
     "name": "stdout",
     "output_type": "stream",
     "text": [
      "Requirement already satisfied: brawlstats in c:\\users\\louis\\anaconda3\\lib\\site-packages (4.0.3)\n",
      "Requirement already satisfied: requests in c:\\users\\louis\\anaconda3\\lib\\site-packages (from brawlstats) (2.22.0)\n",
      "Requirement already satisfied: python-box in c:\\users\\louis\\anaconda3\\lib\\site-packages (from brawlstats) (4.2.3)\n",
      "Requirement already satisfied: aiohttp<3.7.0,>=3.6.0 in c:\\users\\louis\\anaconda3\\lib\\site-packages (from brawlstats) (3.6.2)\n",
      "Requirement already satisfied: cachetools>=3.1.0 in c:\\users\\louis\\anaconda3\\lib\\site-packages (from brawlstats) (4.1.0)\n",
      "Requirement already satisfied: idna<2.9,>=2.5 in c:\\users\\louis\\anaconda3\\lib\\site-packages (from requests->brawlstats) (2.8)\n",
      "Requirement already satisfied: urllib3!=1.25.0,!=1.25.1,<1.26,>=1.21.1 in c:\\users\\louis\\anaconda3\\lib\\site-packages (from requests->brawlstats) (1.25.8)\n",
      "Requirement already satisfied: certifi>=2017.4.17 in c:\\users\\louis\\anaconda3\\lib\\site-packages (from requests->brawlstats) (2019.11.28)\n",
      "Requirement already satisfied: chardet<3.1.0,>=3.0.2 in c:\\users\\louis\\anaconda3\\lib\\site-packages (from requests->brawlstats) (3.0.4)\n",
      "Requirement already satisfied: toml in c:\\users\\louis\\anaconda3\\lib\\site-packages (from python-box->brawlstats) (0.10.1)\n",
      "Requirement already satisfied: ruamel.yaml in c:\\users\\louis\\anaconda3\\lib\\site-packages (from python-box->brawlstats) (0.16.10)\n",
      "Requirement already satisfied: yarl<2.0,>=1.0 in c:\\users\\louis\\anaconda3\\lib\\site-packages (from aiohttp<3.7.0,>=3.6.0->brawlstats) (1.4.2)\n",
      "Requirement already satisfied: multidict<5.0,>=4.5 in c:\\users\\louis\\anaconda3\\lib\\site-packages (from aiohttp<3.7.0,>=3.6.0->brawlstats) (4.7.6)\n",
      "Requirement already satisfied: attrs>=17.3.0 in c:\\users\\louis\\anaconda3\\lib\\site-packages (from aiohttp<3.7.0,>=3.6.0->brawlstats) (19.3.0)\n",
      "Requirement already satisfied: async-timeout<4.0,>=3.0 in c:\\users\\louis\\anaconda3\\lib\\site-packages (from aiohttp<3.7.0,>=3.6.0->brawlstats) (3.0.1)\n",
      "Requirement already satisfied: ruamel.yaml.clib>=0.1.2; platform_python_implementation == \"CPython\" and python_version < \"3.9\" in c:\\users\\louis\\anaconda3\\lib\\site-packages (from ruamel.yaml->python-box->brawlstats) (0.2.0)\n"
     ]
    }
   ],
   "source": [
    "!pip install brawlstats"
   ]
  },
  {
   "cell_type": "markdown",
   "metadata": {},
   "source": [
    "# Data Collection\n",
    "\n",
    "- collect Data from brawl stars API"
   ]
  },
  {
   "cell_type": "markdown",
   "metadata": {},
   "source": [
    "Import brawlstats "
   ]
  },
  {
   "cell_type": "code",
   "execution_count": 3,
   "metadata": {},
   "outputs": [],
   "source": [
    "import brawlstats\n",
    "import time"
   ]
  },
  {
   "cell_type": "markdown",
   "metadata": {},
   "source": [
    "Establish connection with token to Brawl Stars API\n",
    "- create account at: https://developer.brawlstars.com/#/\n",
    "- get ip with: https://www.whatismyip.org/\n",
    "- create API Key on https://developer.brawlstars.com/#/ for your account and your API Key\n",
    "- save API key locally in a file at: ../token_brawlstats.txt (so it is not part of this git repository)"
   ]
  },
  {
   "cell_type": "code",
   "execution_count": 4,
   "metadata": {},
   "outputs": [],
   "source": [
    "path = os.getcwd()\n",
    "token_file =  open(os.path.join(path, \"token_brawlstats.txt\"), 'r')\n",
    "token = token_file.read()\n",
    "token_file.close()\n",
    "\n",
    "client = brawlstats.Client(token)"
   ]
  },
  {
   "cell_type": "code",
   "execution_count": 5,
   "metadata": {
    "scrolled": true
   },
   "outputs": [],
   "source": [
    "tags_top_200_players = [player[\"tag\"] for player in client.get_rankings(ranking='players', limit=200)]\n",
    "top_200_players = [client.get_player(tag) for tag in tags_top_200_players]"
   ]
  },
  {
   "cell_type": "code",
   "execution_count": 29,
   "metadata": {},
   "outputs": [],
   "source": [
    "battlelogs = {}\n",
    "index = 0\n",
    "\n",
    "with open(\"battlelogs.json\", \"w\") as battlelog_file:\n",
    "    for player in top_200_players:\n",
    "        player_battlelogs = client.get_battle_logs(player.tag)\n",
    "        for battlelog in player_battlelogs:\n",
    "            battlelogs[index] = {}\n",
    "            battlelogs[index][\"player_tag\"] = player.tag\n",
    "            battlelogs[index][\"battlelog\"] = battlelog\n",
    "            index += 1\n",
    "    json.dump(battlelogs, battlelog_file)\n",
    "        \n",
    "        "
   ]
  },
  {
   "cell_type": "markdown",
   "metadata": {},
   "source": [
    "# Data Processing\n",
    "- maybe just plot the data, see if there is somethin weird"
   ]
  },
  {
   "cell_type": "code",
   "execution_count": null,
   "metadata": {},
   "outputs": [],
   "source": [
    "print(\"whatever this is\")"
   ]
  },
  {
   "cell_type": "markdown",
   "metadata": {},
   "source": [
    "# Data Cleaning\n",
    "\n",
    "- maybe write down what we figured out and how we got rid of it"
   ]
  },
  {
   "cell_type": "code",
   "execution_count": null,
   "metadata": {},
   "outputs": [],
   "source": [
    "print(\"Is e dreckig, musse putze\")"
   ]
  },
  {
   "cell_type": "markdown",
   "metadata": {},
   "source": [
    "# Preparation for Model Building\n",
    "\n",
    "- do some stratification perhaps"
   ]
  },
  {
   "cell_type": "code",
   "execution_count": null,
   "metadata": {},
   "outputs": [],
   "source": [
    "print(\"stratify data for training purposes\")"
   ]
  },
  {
   "cell_type": "markdown",
   "metadata": {},
   "source": [
    "# Train Model"
   ]
  },
  {
   "cell_type": "code",
   "execution_count": null,
   "metadata": {},
   "outputs": [],
   "source": [
    "print(\"run code which uses train data to train the model\")"
   ]
  },
  {
   "cell_type": "markdown",
   "metadata": {},
   "source": [
    "# Test Model"
   ]
  },
  {
   "cell_type": "code",
   "execution_count": null,
   "metadata": {},
   "outputs": [],
   "source": [
    "print(\"run code to test the model\")"
   ]
  },
  {
   "cell_type": "markdown",
   "metadata": {},
   "source": [
    "# Analyse Model\n",
    "\n",
    "- probably some plots will be excpected"
   ]
  },
  {
   "cell_type": "code",
   "execution_count": null,
   "metadata": {},
   "outputs": [],
   "source": [
    "\n",
    "\n",
    "\n",
    "# import some data to play with\n",
    "iris = datasets.load_iris()\n",
    "X = iris.data\n",
    "y = iris.target\n",
    "class_names = iris.target_names\n",
    "\n",
    "# Split the data into a training set and a test set\n",
    "X_train, X_test, y_train, y_test = train_test_split(X, y, random_state=0)\n",
    "\n",
    "# Run classifier, using a model that is too regularized (C too low) to see\n",
    "# the impact on the results\n",
    "classifier = svm.SVC(kernel='linear', C=0.01).fit(X_train, y_train)\n",
    "\n",
    "np.set_printoptions(precision=2)\n",
    "\n",
    "# Plot non-normalized confusion matrix\n",
    "titles_options = [(\"Confusion matrix, without normalization\", None),\n",
    "                  (\"Normalized confusion matrix\", 'true')]\n",
    "for title, normalize in titles_options:\n",
    "    disp = plot_confusion_matrix(classifier, X_test, y_test,\n",
    "                                 display_labels=class_names,\n",
    "                                 cmap=plt.cm.Blues,\n",
    "                                 normalize=normalize)\n",
    "    disp.ax_.set_title(title)\n",
    "\n",
    "    print(title)\n",
    "    print(disp.confusion_matrix)\n",
    "\n",
    "plt.show()"
   ]
  },
  {
   "cell_type": "markdown",
   "metadata": {},
   "source": [
    "# Visualize results"
   ]
  },
  {
   "cell_type": "code",
   "execution_count": null,
   "metadata": {},
   "outputs": [],
   "source": [
    "print(\"some very nice plots like the ones above\")"
   ]
  },
  {
   "cell_type": "markdown",
   "metadata": {},
   "source": [
    "# Discussion or whatever\n",
    "\n",
    "- write down our insights or maybe do some further coding in the cell below"
   ]
  },
  {
   "cell_type": "code",
   "execution_count": null,
   "metadata": {},
   "outputs": [],
   "source": [
    "print(\"finally, done with this\")"
   ]
  },
  {
   "cell_type": "code",
   "execution_count": null,
   "metadata": {},
   "outputs": [],
   "source": []
  }
 ],
 "metadata": {
  "kernelspec": {
   "display_name": "Python 3",
   "language": "python",
   "name": "python3"
  },
  "language_info": {
   "codemirror_mode": {
    "name": "ipython",
    "version": 3
   },
   "file_extension": ".py",
   "mimetype": "text/x-python",
   "name": "python",
   "nbconvert_exporter": "python",
   "pygments_lexer": "ipython3",
   "version": "3.7.6"
  }
 },
 "nbformat": 4,
 "nbformat_minor": 4
}
