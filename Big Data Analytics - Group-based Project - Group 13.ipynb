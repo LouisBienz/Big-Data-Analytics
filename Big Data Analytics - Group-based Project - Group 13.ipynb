{
 "cells": [
  {
   "cell_type": "code",
   "execution_count": 1,
   "outputs": [],
   "source": [
    "import os, json\n",
    "import random\n",
    "import pandas as pd # for data stuff\n",
    "import numpy as np # for importing data i think, not sure anymore\n",
    "import matplotlib.pyplot as plt #for plotting\n",
    "from mlxtend.frequent_patterns import apriori #for frequent itemset\n",
    "from mlxtend.preprocessing import TransactionEncoder #for frequent itemset\n",
    "\n",
    "\n",
    "# the modules below are used in \"Analys Models\" section\n",
    "from sklearn import svm, datasets\n",
    "from sklearn.model_selection import train_test_split\n",
    "from sklearn.metrics import plot_confusion_matrix\n",
    "from sklearn.preprocessing import LabelEncoder\n",
    "from sklearn.model_selection import cross_val_score\n",
    "from sklearn.ensemble import RandomForestClassifier\n",
    "from pandas.io.json import json_normalize\n",
    "from IPython.display import Video"
   ],
   "metadata": {
    "collapsed": false,
    "pycharm": {
     "name": "#%%\n",
     "is_executing": false
    }
   }
  },
  {
   "cell_type": "markdown",
   "source": [
    "# Analysis of Brawl Stars Data Set\n",
    "\n",
    "## What is Brawl Stars?\n",
    "\n",
    "Brawl Stars is a mobile online multiplayer battle game. A player choses a Brawler as game character and plays against other players or AI opponents. Currently there exist 36 different Brawlers, which a player can choose from. Each Brawler has a power level from 1 to 10. With the help of the in-game loot boxes those power levels can be upgraded.\n",
    "There are several playable modes, which are updated in regular intervals (every 24hours). Of course, it should also be mentioned that each mode has its preferred characters.\n",
    "There exist several game modes, where you either play solo or in a team of 2 or 3 against other players/teams or AI opponents.\n",
    "\n",
    "Every groupmember is an active Brawl Stars gamer. That's the reason why we have decided to analyse some interesting insights of the Brawl Stars dataset. In the video below, you can see a small snipet of the mode \"Brawlball\". Brawlball is a 3 vs 3 match configuration, where your teams needs to score 2 goals against the opponent to win. In case you get attacked and killed by the opponents, you are out of the game for 10 seconds. This increases the chance of the opponent team for scoring an opposing goal. "
   ],
   "metadata": {
    "collapsed": false
   }
  },
  {
   "cell_type": "code",
   "execution_count": null,
   "outputs": [],
   "source": [
    "# a short video showing the game mode \"Brawl Ball\"; \n",
    "Video(\"Brawlball.mp4\")"
   ],
   "metadata": {
    "collapsed": false,
    "pycharm": {
     "name": "#%%\n"
    }
   }
  },
  {
   "cell_type": "markdown",
   "source": [
    "## Analysis Questions\n",
    "\n",
    "In each game, the main goal of every player is winning. Hence, we focused our question on how to choose your own brawler,\n",
    "respectively the team composition, to win games. Hence, we eventually came up with the following questions:\n",
    "\n",
    "1. __Are there some brawlers, which are more often picked or are more likely to win?__\n",
    "2. __Are there team combinations which are more likely to win?__\n",
    "3. __Is it possible to predict the star player from the winning team?__ The star player is the player which has performed best,\n",
    "which is calculated by his number of kills, his total damage and the game-goal performance. The star player gains more points than\n",
    "the other players.\n",
    "4. __Is it possible to predict the winning team of a match?__"
   ],
   "metadata": {
    "collapsed": false
   }
  },
  {
   "cell_type": "markdown",
   "source": [
    "# Preliminaries\n",
    "\n",
    "- To process and clean the Brawl Stars Data Set we make use of python libraries which are designed for data processing.\n",
    "- To collect the Brawl Stars Data Set a Brawl Stars API wrapper called brawlstats is used."
   ],
   "metadata": {
    "collapsed": false
   }
  },
  {
   "cell_type": "markdown",
   "source": [
    "Install brawlstats, a python wrapper to retrieve data from the Brawl Stars API\n",
    " - https://brawlstats.readthedocs.io/en/latest/index.html"
   ],
   "metadata": {
    "collapsed": false
   }
  },
  {
   "cell_type": "code",
   "execution_count": null,
   "outputs": [],
   "source": [
    "!pip install brawlstats"
   ],
   "metadata": {
    "collapsed": false,
    "pycharm": {
     "name": "#%%\n"
    }
   }
  },
  {
   "cell_type": "markdown",
   "source": [
    "# Data Collection\n",
    "\n",
    "- We collect battlelogs from the Brawl Stars API."
   ],
   "metadata": {
    "collapsed": false
   }
  },
  {
   "cell_type": "markdown",
   "source": [
    "Import brawlstats "
   ],
   "metadata": {
    "collapsed": false
   }
  },
  {
   "cell_type": "code",
   "execution_count": null,
   "outputs": [],
   "source": [
    "import brawlstats\n",
    "import time"
   ],
   "metadata": {
    "collapsed": false,
    "pycharm": {
     "name": "#%%\n"
    }
   }
  },
  {
   "cell_type": "markdown",
   "source": [
    "Establish connection to Brawl Stars API. A token resp. API Key is needed. Follow the steps below to obtain a token.\n",
    "- create an account at: https://developer.brawlstars.com/#/\n",
    "- get your IPv4 with: https://www.whatismyip.org/\n",
    "- create an API Key on https://developer.brawlstars.com/#/ for your account and your API Key\n",
    "- save your API key in this directory in a file named: token_brawlstats.txt\n",
    "- run the cell below to establish the connection to the API"
   ],
   "metadata": {
    "collapsed": false
   }
  },
  {
   "cell_type": "code",
   "execution_count": null,
   "outputs": [],
   "source": [
    "path = os.getcwd()\n",
    "token_file =  open(os.path.join(path, \"token_brawlstats.txt\"), 'r')\n",
    "token = token_file.read()\n",
    "token_file.close()\n",
    "\n",
    "client = brawlstats.Client(token)"
   ],
   "metadata": {
    "collapsed": false,
    "pycharm": {
     "name": "#%%\n"
    }
   }
  },
  {
   "cell_type": "markdown",
   "source": [
    "- retrieve the top 200 players\n",
    "- each player object contains a list of battle logs. Those battle logs contain meta data about the player's most recent played games. Those battlelogs form the raw data used for this project\n",
    "- If we collect data from the API, the most recent battle logs will be retrieved. Therefore, we decided to store the retrieved data in \"battlelog.json\" such that we can continue with the same data every time this jupyter notebook is used. However, one could delete the current \"battlelog.json\" file in order to create a new data set from recently played games\n",
    "- If you run the cell below a new data set is collected if no curent \"battlelog.json\" exists. However, if a new data set is collected, some adapations in this projects need to be made.\n",
    "\n",
    "we assume the skill level of the top 200 players in the game is about the same. Therefore all retrieved battle logs are from players with a very high skill level, making the raw data more consistent and not depending on the skill level of a player\n"
   ],
   "metadata": {
    "collapsed": false
   }
  },
  {
   "cell_type": "code",
   "execution_count": null,
   "outputs": [],
   "source": [
    "if not os.path.isfile(\"battlelogs.json\"):\n",
    "    \n",
    "    # retrieve the player objects of the top 200 players\n",
    "    tags_top_200_players = [player[\"tag\"] for player in client.get_rankings(ranking='players', limit=200)]\n",
    "    top_200_players = [client.get_player(tag) for tag in tags_top_200_players]\n",
    "    \n",
    "    # retrive their battlelogs with the corresponding player tag and stor it in \"battlelogs.json\" file\n",
    "    with open(\"battlelogs.json\", \"w\") as battlelog_file:\n",
    "        for player in top_200_players:\n",
    "            player_battlelogs = client.get_battle_logs(player.tag)\n",
    "            for battlelog in player_battlelogs:\n",
    "                battlelogs[index] = {}\n",
    "                battlelogs[index][\"player_tag\"] = player.tag\n",
    "                battlelogs[index][\"battlelog\"] = battlelog\n",
    "                index += 1\n",
    "        json.dump(battlelogs, battlelog_file)\n",
    "        "
   ],
   "metadata": {
    "collapsed": false,
    "pycharm": {
     "name": "#%%\n"
    }
   }
  },
  {
   "cell_type": "markdown",
   "source": [
    "# Data Cleaning\n",
    "\n",
    "- some of the top players play against each other. Duplicates can be filtered since a battle log contains a unique key = \"battle_time\""
   ],
   "metadata": {
    "collapsed": false
   }
  },
  {
   "cell_type": "code",
   "execution_count": null,
   "outputs": [],
   "source": [
    "# read in the battlelogs.json file\n",
    "with open(\"battlelogs.json\",'r') as in_file:\n",
    "    battlelogs = json.load(in_file)\n",
    "    in_file.close()\n",
    "    \n",
    "# initialize list for unique battlelogs\n",
    "unique_battlelogs = []\n",
    "used_battle_times = []\n",
    "\n",
    "# iterate over all battle logs\n",
    "for key in battlelogs.keys():\n",
    "    \n",
    "    # get the battle time of the current battle log which is a unique key\n",
    "    current_battle_time = battlelogs[key]['battlelog'][\"battle_time\"]\n",
    "    \n",
    "    # append the current battle log if \n",
    "    # it is not already in the list of unique battle logs\n",
    "    if not current_battle_time in used_battle_times:\n",
    "        used_battle_times.append(current_battle_time)\n",
    "        unique_battlelogs.append(battlelogs[key])\n",
    "\n",
    "print(\"The total number of unique battle logs is: {}\\n\".format(len(unique_battlelogs)))\n",
    "print(\"Below is a full battle log: \")    \n",
    "print(json.dumps(unique_battlelogs[1], sort_keys=True, indent=4))\n",
    " \n",
    "      "
   ],
   "metadata": {
    "collapsed": false,
    "pycharm": {
     "name": "#%%\n"
    }
   }
  },
  {
   "cell_type": "markdown",
   "source": [
    "# Data Processing\n",
    "- The Brawlers of the top players are analysed to see if they have most of their Brawlers on the max power level."
   ],
   "metadata": {
    "collapsed": false
   }
  },
  {
   "cell_type": "code",
   "execution_count": null,
   "outputs": [],
   "source": [
    "# retrieve the player objects of the top 200 players\n",
    "tags_top_200_players = [player[\"tag\"] for player in client.get_rankings(ranking='players', limit=200)]\n",
    "top_200_players = [client.get_player(tag) for tag in tags_top_200_players]\n",
    "\n",
    "\n",
    "# initialize brawler levels count to 0\n",
    "# brawlers can be from level 1 to 10\n",
    "brawler_levels = {}\n",
    "for i in range(1, 11):\n",
    "    brawler_levels[i] = 0\n",
    "    \n",
    "# loop over the top 200 players\n",
    "for player in top_200_players:\n",
    "    \n",
    "    # loop over the brawlers of the current player\n",
    "    for brawler in player.brawlers:\n",
    "        # increment\n",
    "        brawler_levels[brawler[\"power\"]] += 1\n",
    "\n",
    "# create a bar plot of the distribution of the brawler power levels\n",
    "objects = brawler_levels.keys()\n",
    "y_pos = np.arange(len(objects))\n",
    "performance = brawler_levels.values()\n",
    "\n",
    "plt.bar(y_pos, performance, align='center', alpha=0.5)\n",
    "plt.xticks(y_pos, objects)\n",
    "plt.xlabel(\"Power Level of Brawler\")\n",
    "plt.ylabel('Number of Brawlers')\n",
    "plt.title('Brawler Levels of top 200 players')\n",
    "\n",
    "plt.show()"
   ],
   "metadata": {
    "collapsed": false,
    "pycharm": {
     "name": "#%%\n"
    }
   }
  },
  {
   "cell_type": "markdown",
   "source": [
    "The plot clearly shows that the top 200 players have their brawler mostly on the max power level"
   ],
   "metadata": {
    "collapsed": false
   }
  },
  {
   "cell_type": "markdown",
   "source": [
    "# Displaying information about Modes and Maps (Occurence)\n",
    "\n",
    " We do want to have the number of games played for the different modes in order to be able to decide which mode to take.\n",
    " \n",
    " Additionally, we did the same with the different maps, although due to the small number for each map we rather focused on the game mode and decided to further analyse the game mode called \"BrawlBall\""
   ],
   "metadata": {
    "collapsed": false
   }
  },
  {
   "cell_type": "code",
   "execution_count": null,
   "outputs": [],
   "source": [
    "\n",
    "### Retrieves information about the modes played and returns a dictionary with key:value (mode: counter)\n",
    "modedict = {}\n",
    "current_mode = ''\n",
    "for log in unique_battlelogs:\n",
    "    current_mode = log[\"battlelog\"][\"event\"][\"mode\"]\n",
    "    if current_mode not in modedict.keys():\n",
    "        modedict[current_mode] = 0\n",
    "    modedict[current_mode] = modedict[current_mode] + 1\n",
    "    \n",
    "\n",
    "### Get the mode with highest games completed in our data\n",
    "max_key = max(modedict, key=modedict.get)  \n",
    "print(max_key)\n",
    "print(modedict)\n",
    "summode = 0\n",
    "for val in modedict.values():\n",
    "    summode = summode + val\n",
    "print(summode)\n",
    "    \n",
    "\n",
    "### Retrieves counter information about the different maps played and returns a dictionary with key:value (map: counter) pairs\n",
    "mapdict = {}\n",
    "current_map = ''\n",
    "for log in unique_battlelogs:\n",
    "    current_map = log[\"battlelog\"][\"event\"][\"map\"]\n",
    "    if current_map not in mapdict.keys():\n",
    "        mapdict[current_map] = 0\n",
    "    mapdict[current_map] = mapdict[current_map] + 1\n",
    "    \n",
    "print(mapdict)\n",
    "summap = 0\n",
    "for values in mapdict.values():\n",
    "    summap = summap + values\n",
    "print(summap)\n",
    "            "
   ],
   "metadata": {
    "collapsed": false,
    "pycharm": {
     "name": "#%%\n"
    }
   }
  },
  {
   "cell_type": "markdown",
   "source": [
    "## Creating a Dataframe for further analysis\n",
    "Since we will be able to perform certain actions on the dataset and want to get rid of the tedious JSON format, we're pulling out the important data for future analysis from the JSON and add it to a Dataframe. Additionally, the Game result (victory, draw, loss) is now numerically encoded.\n",
    "As a last step, we removed games where a brawler was present at least twice in the same team. As this normally does not occur on games, we wanted to remove data that showed this property."
   ],
   "metadata": {
    "collapsed": false
   }
  },
  {
   "cell_type": "code",
   "execution_count": null,
   "outputs": [],
   "source": [
    "### Narrowing down the data to have only variables of interest\n",
    "\n",
    "brawl_dicts = []\n",
    "for log in unique_battlelogs:\n",
    "    if log[\"battlelog\"][\"event\"][\"mode\"] == max_key:\n",
    "        brawl_dicts.append(log)\n",
    "        \n",
    "print(len(brawl_dicts))\n",
    "###print(brawl_dicts)\n",
    "\n",
    "##removing any unnecessary information from the source\n",
    "\n",
    "df = pd.DataFrame(columns=['WinningTeam','BattleTime','playerTag','mode','map','result','StarPlayerTag','StarPlayerBrawler','Brawler1Name','Brawler1Tag','Brawler2Name','Brawler2Tag','Brawler3Name','Brawler3Tag','Brawler4Name',\n",
    "                           'Brawler4Tag','Brawler5Name','Brawler5Tag','Brawler6Name','Brawler6Tag'])\n",
    "\n",
    "    \n",
    "for i in range(len(brawl_dicts)):\n",
    "    log = brawl_dicts[i]\n",
    "    row = []\n",
    "    \n",
    "    if log[\"battlelog\"][\"battle\"][\"result\"] == \"draw\":\n",
    "        row.append(0)\n",
    "    elif (log[\"player_tag\"] == log[\"battlelog\"][\"battle\"][\"teams\"][0][0][\"tag\"] or log[\"player_tag\"] == log[\"battlelog\"][\"battle\"][\"teams\"][0][1][\"tag\"] or log[\"player_tag\"] == log[\"battlelog\"][\"battle\"][\"teams\"][0][2][\"tag\"]) and log[\"battlelog\"][\"battle\"][\"result\"] == \"victory\":\n",
    "        row.append(1)\n",
    "    else:\n",
    "        row.append(2)\n",
    "    row.append(log[\"battlelog\"][\"battle_time\"])\n",
    "    row.append(log[\"player_tag\"])\n",
    "    row.append(log[\"battlelog\"][\"event\"][\"mode\"])\n",
    "    row.append(log[\"battlelog\"][\"event\"][\"map\"])\n",
    "    row.append(log[\"battlelog\"][\"battle\"][\"result\"])\n",
    "    row.append(log[\"battlelog\"][\"battle\"][\"star_player\"][\"tag\"])\n",
    "    row.append(log[\"battlelog\"][\"battle\"][\"star_player\"][\"brawler\"][\"name\"])\n",
    "    row.append(log[\"battlelog\"][\"battle\"][\"teams\"][0][0][\"brawler\"][\"name\"])\n",
    "    row.append(log[\"battlelog\"][\"battle\"][\"teams\"][0][0][\"tag\"])\n",
    "    row.append(log[\"battlelog\"][\"battle\"][\"teams\"][0][1][\"brawler\"][\"name\"])\n",
    "    row.append(log[\"battlelog\"][\"battle\"][\"teams\"][0][1][\"tag\"])\n",
    "    row.append(log[\"battlelog\"][\"battle\"][\"teams\"][0][2][\"brawler\"][\"name\"])\n",
    "    row.append(log[\"battlelog\"][\"battle\"][\"teams\"][0][2][\"tag\"])\n",
    "    row.append(log[\"battlelog\"][\"battle\"][\"teams\"][1][0][\"brawler\"][\"name\"])\n",
    "    row.append(log[\"battlelog\"][\"battle\"][\"teams\"][1][0][\"tag\"])\n",
    "    row.append(log[\"battlelog\"][\"battle\"][\"teams\"][1][1][\"brawler\"][\"name\"])\n",
    "    row.append(log[\"battlelog\"][\"battle\"][\"teams\"][1][1][\"tag\"])\n",
    "    row.append(log[\"battlelog\"][\"battle\"][\"teams\"][1][2][\"brawler\"][\"name\"])\n",
    "    row.append(log[\"battlelog\"][\"battle\"][\"teams\"][1][2][\"tag\"])\n",
    "    df.loc[i] = row\n",
    "\n",
    "df = df.replace(to_replace = 'victory', value= 1)\n",
    "df = df.replace(to_replace = 'defeat', value= -1)\n",
    "df = df.replace(to_replace = 'draw', value= 0)\n",
    "\n",
    "\n",
    "df.head(10)\n",
    "\n",
    "\n",
    "### Dropping data where a brawler is present twice in the same team, as this is normally not permitted in games\n",
    "duplicateBrawlersIndices = []\n",
    "for index, row in df.iterrows():\n",
    "    if (row[\"Brawler1Name\"] == row[\"Brawler2Name\"] or row[\"Brawler1Name\"] == row[\"Brawler2Name\"] or row[\"Brawler2Name\"] == row[\"Brawler3Name\"]\n",
    "        or row[\"Brawler4Name\"] == row[\"Brawler5Name\"] or row[\"Brawler4Name\"] == row[\"Brawler6Name\"] or row[\"Brawler5Name\"] == row[\"Brawler6Name\"]):\n",
    "        duplicateBrawlersIndices.append(index)\n",
    "df = df.drop(duplicateBrawlersIndices)\n",
    "\n",
    "\n",
    "\n",
    "df.to_csv(\"rawdata.csv\",index=False)\n"
   ],
   "metadata": {
    "collapsed": false,
    "pycharm": {
     "name": "#%%\n"
    }
   }
  },
  {
   "cell_type": "markdown",
   "source": [
    "### Preparing Data to check brawler-specific Pickrate, meaning the chance (in %) of each brawler getting picked for BrawlBall mode"
   ],
   "metadata": {
    "collapsed": false
   }
  },
  {
   "cell_type": "code",
   "execution_count": null,
   "outputs": [],
   "source": [
    "## List of all Brawlernames to simplify certain actions\n",
    "\n",
    "brawlerlist = ['SHELLY','NITA','COLT','BULL','JESSIE','BROCK','DYNAMIKE','BO','TICK','8-BIT','EMZ','EL PRIMO','BARLEY','POCO','ROSA','DARRYL','PENNY','CARL','JACKY','PIPER','PAM','FRANK','BIBI','BEA','RICO','MORTIS','TARA','GENE','MAX','MR. P','SPROUT','SPIKE','CROW','LEON','SANDY','GALE']\n",
    "print(len(brawlerlist))\n",
    "\n",
    "## Creating a new Dataframe for Calucalating the Pickrate of each brawler (through duplicate removal and comparing to teams (not games), may not exceed 100%)\n",
    "newdf = pd.DataFrame(brawlerlist,columns=['Name'])\n",
    "\n",
    "OccurencesBrawler =[]\n",
    "TotalGames = []\n",
    "\n",
    "for brawler in brawlerlist:\n",
    "    x = list(df.Brawler1Name).count(brawler)\n",
    "    y = list(df.Brawler2Name).count(brawler)\n",
    "    z = list(df.Brawler3Name).count(brawler)\n",
    "    a = list(df.Brawler4Name).count(brawler)\n",
    "    b = list(df.Brawler5Name).count(brawler)\n",
    "    c = list(df.Brawler6Name).count(brawler)\n",
    "    \n",
    "    total_sum = a + b + c + x + y + z\n",
    "    OccurencesBrawler.append(total_sum)\n",
    "    ### As each team may choose every brawler (although premade teams are not allowed to pick duplicates), we derive the TotalTeam Number from the Total games played.\n",
    "    TotalGames.append(len(df.index)*2)\n",
    "\n",
    "    \n",
    "## Adding New columns for calulcation of the \"pick rate\" (how often is the respective brawler picked)\n",
    "## Additionally, to perform row-wise transformations, the Number of Total games is written in each row\n",
    "newdf['Occurence'] = OccurencesBrawler\n",
    "newdf['TotalGames'] = TotalGames\n",
    "\n",
    "newdf['PickRate %'] = newdf.Occurence / newdf.TotalGames * 100\n",
    "newdf.sort_values(by='PickRate %',ascending = False)"
   ],
   "metadata": {
    "collapsed": false,
    "pycharm": {
     "name": "#%%\n"
    }
   }
  },
  {
   "cell_type": "markdown",
   "source": [
    "### Preparation and Constructing Tables that show brawler-specific Winrate (in %), show how many times the brawler (individually) wins"
   ],
   "metadata": {
    "collapsed": false
   }
  },
  {
   "cell_type": "code",
   "execution_count": null,
   "outputs": [],
   "source": [
    "## List of all Brawlernames to simplify certain actions\n",
    "\n",
    "brawlerlist = ['SHELLY','NITA','COLT','BULL','JESSIE','BROCK','DYNAMIKE','BO','TICK','8-BIT','EMZ','EL PRIMO','BARLEY','POCO','ROSA','DARRYL','PENNY','CARL','JACKY','PIPER','PAM','FRANK','BIBI','BEA','RICO','MORTIS','TARA','GENE','MAX','MR. P','SPROUT','SPIKE','CROW','LEON','SANDY','GALE']\n",
    "\n",
    "\n",
    "## Creating a new Dataframe for Calucalating the Pickrate of each brawler, keep in mind that every non-premade team may have duplicate champions, therefore the Pickrate could theoretically exceed 100% (up to 300%)\n",
    "windf = pd.DataFrame(brawlerlist,columns=['Name'])\n",
    "\n",
    "## List that will be filled with the number each brawler has played in the dataset.\n",
    "GamesPlayed =[]\n",
    "\n",
    "for brawler in brawlerlist:\n",
    "    x = list(df.Brawler1Name).count(brawler)\n",
    "    y = list(df.Brawler2Name).count(brawler)\n",
    "    z = list(df.Brawler3Name).count(brawler)\n",
    "    a = list(df.Brawler4Name).count(brawler)\n",
    "    b = list(df.Brawler5Name).count(brawler)\n",
    "    c = list(df.Brawler6Name).count(brawler)\n",
    "    \n",
    "    total_sum = a + b + c + x + y + z\n",
    "    GamesPlayed.append(total_sum)\n",
    "    \n",
    "winningOccurences = []"
   ],
   "metadata": {
    "collapsed": false,
    "pycharm": {
     "name": "#%%\n"
    }
   }
  },
  {
   "cell_type": "code",
   "execution_count": null,
   "outputs": [],
   "source": [
    "for brawler in brawlerlist:\n",
    "    brawlwincount = 0\n",
    "    for index, row in df.iterrows():\n",
    "        if row[\"WinningTeam\"] == 1 and (row[\"Brawler1Name\"] == brawler or row[\"Brawler2Name\"] == brawler or row[\"Brawler3Name\"] == brawler):\n",
    "            brawlwincount += 1\n",
    "        elif row[\"WinningTeam\"] == 2 and (row[\"Brawler4Name\"] == brawler or row[\"Brawler5Name\"] == brawler or row[\"Brawler6Name\"] == brawler):\n",
    "            brawlwincount += 1\n",
    "    winningOccurences.append(brawlwincount)\n",
    "\n",
    "# Appended Games played to the dataframe to make calculations\n",
    "windf['Games Played'] = GamesPlayed\n",
    "windf['Games Won'] = winningOccurences\n",
    "windf['Winrate %'] = windf['Games Won'] / windf['Games Played'] * 100\n",
    "windf.sort_values(by='Winrate %', ascending=False)\n",
    "\n",
    "##Side note: It may occur that the teams playing against each other have the same brawler in one game, this would result in a winrate of 50% (if only games where both teams the same brawler were counted)."
   ],
   "metadata": {
    "collapsed": false,
    "pycharm": {
     "name": "#%%\n"
    }
   }
  },
  {
   "cell_type": "markdown",
   "source": [
    "# Analysis\n",
    "\n",
    "## Winning Team Combinations\n",
    "\n",
    "For our second questions - if certain team combinations exists, which win often - we used frequent item set mining.\n",
    "In a first step, we analysed the team combinations with the specific brawlers. Afterwards, we did the same, but for the brawler types.\n",
    "Each Brawler has a certain type (Sniper, Thrower, etc.) which is sometimes advantageous on certain maps.\n",
    "\n",
    "### Brawler-Team Composition\n",
    "\n",
    "In this part, the specific brawler-team composition in analysed by frequent itemset mining."
   ],
   "metadata": {
    "collapsed": false
   }
  },
  {
   "cell_type": "code",
   "execution_count": null,
   "outputs": [],
   "source": [
    "# extract list of winning teams\n",
    "dfWinTeam = pd.read_csv(\"rawdata.csv\")\n",
    "winningTeams = []\n",
    "counter = 0\n",
    "for index, row in dfWinTeam.iterrows():\n",
    "    team = []\n",
    "    if row[\"WinningTeam\"] == 1 and row[\"result\"] != 0:\n",
    "        team.append(row[\"Brawler1Name\"])\n",
    "        team.append(row[\"Brawler2Name\"])\n",
    "        team.append(row[\"Brawler3Name\"])\n",
    "    elif row[\"result\"] != 0:\n",
    "        team.append(row[\"Brawler4Name\"])\n",
    "        team.append(row[\"Brawler5Name\"])\n",
    "        team.append(row[\"Brawler6Name\"])\n",
    "\n",
    "    if len(team) != 0:\n",
    "        winningTeams.append(team)\n",
    "\n",
    "# transform table in correct format (one column per brawler)\n",
    "te = TransactionEncoder()\n",
    "te_ary = te.fit(winningTeams).transform(winningTeams)\n",
    "dfFreqSetsWinnerBrawler = pd.DataFrame(te_ary, columns=te.columns_)\n",
    "\n",
    "freq_item_winner_brawler = apriori(dfFreqSetsWinnerBrawler, min_support=0.01, use_colnames=True)\n",
    "freq_item_winner_brawler['length'] = freq_item_winner_brawler['itemsets'].apply(lambda x: len(x))\n",
    "\n",
    "# get most supported teams of 3\n",
    "freq_item_winner_brawler[ (freq_item_winner_brawler['length'] == 3) ].sort_values(by=[\"support\"], ascending=False)"
   ],
   "metadata": {
    "collapsed": false,
    "pycharm": {
     "name": "#%%\n"
    }
   }
  },
  {
   "cell_type": "markdown",
   "source": [
    "The table shows that there are some team combinations with a support higher than 1%. The most used winning team consists of\n",
    "Brock, Bea and Penny with a support of 2.7%.\n",
    "\n",
    "We did the same analysis with loosing teams, however there are no team combination with a support higher than 1%, hence it\n",
    "is not included.\n",
    "\n"
   ],
   "metadata": {
    "collapsed": false
   }
  },
  {
   "cell_type": "markdown",
   "source": [
    "## Reading the Dataset"
   ],
   "metadata": {
    "collapsed": false
   }
  },
  {
   "cell_type": "code",
   "execution_count": 2,
   "outputs": [
    {
     "name": "stdout",
     "text": [
      "(1146, 20)\n"
     ],
     "output_type": "stream"
    }
   ],
   "source": [
    "df = pd.read_csv(\"rawdata.csv\")\n",
    "print(df.shape)"
   ],
   "metadata": {
    "collapsed": false,
    "pycharm": {
     "name": "#%%\n",
     "is_executing": false
    }
   }
  },
  {
   "cell_type": "markdown",
   "source": [
    "## Fix most used Map\n",
    "We want to analyze the different combinations of brawler types. As the combinations depend on the map, we fix our data frame to th most used map.\n",
    "- first check which map is used the most"
   ],
   "metadata": {
    "collapsed": false
   }
  },
  {
   "cell_type": "code",
   "execution_count": 3,
   "outputs": [
    {
     "data": {
      "text/plain": "Backyard Bowl     903\nPost Haste        119\nWarped Arena       25\nTriple Dribble     22\nSuper Stadium      17\nBeach Ball         16\nField Goal         11\nPinhole Punt        9\nWell Cut            7\nPinball Dreams      6\nGalaxy Arena        4\nPenalty Kick        4\nCenter Field        2\nShoulder Bash       1\nName: map, dtype: int64"
     },
     "metadata": {},
     "output_type": "execute_result",
     "execution_count": 3
    }
   ],
   "source": [
    "pd.value_counts(df['map'])"
   ],
   "metadata": {
    "collapsed": false,
    "pycharm": {
     "name": "#%%\n",
     "is_executing": false
    }
   }
  },
  {
   "cell_type": "markdown",
   "source": [
    "Copy initial data frame and remove all games that are played on other maps"
   ],
   "metadata": {
    "collapsed": false
   }
  },
  {
   "cell_type": "code",
   "execution_count": 4,
   "outputs": [],
   "source": [
    "df_fixed_map = df.copy()\n",
    "df_fixed_map = df_fixed_map[df_fixed_map['map'] == 'Backyard Bowl'] "
   ],
   "metadata": {
    "collapsed": false,
    "pycharm": {
     "name": "#%%\n",
     "is_executing": false
    }
   }
  },
  {
   "cell_type": "markdown",
   "source": [
    "## Define Brawler Type Lists\n",
    "We need to define the type for each brawler. The information is obtained from the game itself."
   ],
   "metadata": {
    "collapsed": false
   }
  },
  {
   "cell_type": "code",
   "execution_count": 5,
   "outputs": [],
   "source": [
    "\n",
    "sniper_brawlers = ['COLT','RICO','8-BIT','PIPER','BROCK','BEA','PENNY','MR. P','SPIKE']\n",
    "thrower_brawlers = ['DYNAMIKE','TICK','BARLEY']\n",
    "heavyweight_brawlers = ['DARRYL','EL PRIMO','ROSA','BULL','FRANK','JACKY','BIBI']\n",
    "fighter_brawlers = ['CARL','EMZ','BO','TARA','JESSIE','NITA','SHELLY']\n",
    "support_brawlers = ['POCO','PAM','GENE','MAX','SPROUT','SANDY','GALE',]\n",
    "assassin_brawlers = ['MORTIS','CROW','LEON']\n"
   ],
   "metadata": {
    "collapsed": false,
    "pycharm": {
     "name": "#%%\n",
     "is_executing": false
    }
   }
  },
  {
   "cell_type": "markdown",
   "source": [
    "## Add Brawler Types to the DataFrame\n",
    "###### Function to Assign Brawler Type"
   ],
   "metadata": {
    "collapsed": false
   }
  },
  {
   "cell_type": "code",
   "execution_count": 6,
   "outputs": [],
   "source": [
    "def assign_brawler_type(brawler):\n",
    "    if brawler in sniper_brawlers:\n",
    "        return 'SNIPER'\n",
    "    elif brawler in thrower_brawlers:\n",
    "        return 'THROWER'\n",
    "    elif brawler in heavyweight_brawlers:\n",
    "        return 'HEAVYWEIGHT'\n",
    "    elif brawler in fighter_brawlers:\n",
    "        return 'FIGHTER'\n",
    "    elif brawler in support_brawlers:\n",
    "        return 'SUPPORTER'\n",
    "    elif brawler in assassin_brawlers:\n",
    "        return 'ASSASSIN'\n",
    "    else:\n",
    "        return ''\n",
    "    "
   ],
   "metadata": {
    "collapsed": false,
    "pycharm": {
     "name": "#%%\n",
     "is_executing": false
    }
   }
  },
  {
   "cell_type": "markdown",
   "source": [
    "##### Add Brawler Types to DataFrame"
   ],
   "metadata": {
    "collapsed": false
   }
  },
  {
   "cell_type": "code",
   "execution_count": 7,
   "outputs": [],
   "source": [
    "df_fixed_map['Brawler1Type'] = df_fixed_map['Brawler1Name'].apply(assign_brawler_type)\n",
    "df_fixed_map['Brawler2Type'] = df_fixed_map['Brawler2Name'].apply(assign_brawler_type)\n",
    "df_fixed_map['Brawler3Type'] = df_fixed_map['Brawler3Name'].apply(assign_brawler_type)\n",
    "df_fixed_map['Brawler4Type'] = df_fixed_map['Brawler4Name'].apply(assign_brawler_type)\n",
    "df_fixed_map['Brawler5Type'] = df_fixed_map['Brawler5Name'].apply(assign_brawler_type)\n",
    "df_fixed_map['Brawler6Type'] = df_fixed_map['Brawler6Name'].apply(assign_brawler_type)\n"
   ],
   "metadata": {
    "collapsed": false,
    "pycharm": {
     "name": "#%%\n",
     "is_executing": false
    }
   }
  },
  {
   "cell_type": "markdown",
   "source": [
    "## Check if same Type is used by multiple Players\n",
    "If used by multiple players we add _<<number>> to the type to be able to compute the frequent itemsets"
   ],
   "metadata": {
    "collapsed": false
   }
  },
  {
   "cell_type": "code",
   "execution_count": 8,
   "outputs": [
    {
     "data": {
      "text/plain": "    WinningTeam            BattleTime  playerTag       mode            map  \\\n0             1  20200530T122433.000Z   #9U2QJ0P  brawlBall  Backyard Bowl   \n1             1  20200530T121808.000Z   #9U2QJ0P  brawlBall  Backyard Bowl   \n2             1  20200530T121207.000Z   #9U2QJ0P  brawlBall  Backyard Bowl   \n3             1  20200530T120359.000Z   #9U2QJ0P  brawlBall  Backyard Bowl   \n4             1  20200530T120028.000Z   #9U2QJ0P  brawlBall  Backyard Bowl   \n5             1  20200530T115600.000Z   #9U2QJ0P  brawlBall  Backyard Bowl   \n6             2  20200530T115304.000Z   #9U2QJ0P  brawlBall  Backyard Bowl   \n7             2  20200530T115056.000Z   #9U2QJ0P  brawlBall  Backyard Bowl   \n8             2  20200530T114747.000Z   #9U2QJ0P  brawlBall  Backyard Bowl   \n11            2  20200530T143201.000Z  #8P80J8RC  brawlBall  Backyard Bowl   \n12            1  20200530T142911.000Z  #8P80J8RC  brawlBall  Backyard Bowl   \n13            2  20200530T142430.000Z  #8P80J8RC  brawlBall  Backyard Bowl   \n14            1  20200530T142017.000Z  #8P80J8RC  brawlBall  Backyard Bowl   \n15            2  20200530T141625.000Z  #8P80J8RC  brawlBall  Backyard Bowl   \n16            2  20200530T140826.000Z  #8P80J8RC  brawlBall  Backyard Bowl   \n17            2  20200530T140427.000Z  #8P80J8RC  brawlBall  Backyard Bowl   \n18            2  20200530T140031.000Z  #8P80J8RC  brawlBall  Backyard Bowl   \n19            1  20200530T135358.000Z  #8P80J8RC  brawlBall  Backyard Bowl   \n20            1  20200530T135012.000Z  #8P80J8RC  brawlBall  Backyard Bowl   \n21            2  20200530T134504.000Z  #8P80J8RC  brawlBall  Backyard Bowl   \n\n    result StarPlayerTag StarPlayerBrawler Brawler1Name Brawler1Tag  ...  \\\n0        1      #9U2QJ0P               BEA        PIPER   #VGR0CJ29  ...   \n1        1      #9U2QJ0P               BEA        PIPER   #VGR0CJ29  ...   \n2        1      #9U2QJ0P               BEA        PIPER   #VGR0CJ29  ...   \n3        1     #VGR0CJ29             PIPER        PIPER   #VGR0CJ29  ...   \n4        1     #VGR0CJ29             PIPER        PIPER   #VGR0CJ29  ...   \n5        1    #9UR09Q80Y              GENE         GENE  #9UR09Q80Y  ...   \n6        1     #VGR0CJ29             PIPER          PAM  #20JRL29PY  ...   \n7        1     #VGR0CJ29             PIPER        PIPER  #20JLGV0QL  ...   \n8        1    #9UR09Q80Y              GENE          BEA   #PJJ9P890  ...   \n11      -1     #YCC8VGRU               PAM        MR. P   #8P80J8RC  ...   \n12       1     #UQY8PCGP               BEA        BROCK     #PQRVCC  ...   \n13      -1     #8LC2CJY2             MR. P        MR. P   #8P80J8RC  ...   \n14       1     #8P80J8RC             MR. P        BROCK     #PQRVCC  ...   \n15       1     #8P80J8RC             MR. P          BEA   #UUUL2PLY  ...   \n16       1       #PQRVCC             BROCK        SANDY  #8V8QYV0P0  ...   \n17       1     #8P80J8RC             MR. P        JACKY  #8LUY9PPRL  ...   \n18       1     #8P80J8RC             MR. P          PAM    #R28VYC9  ...   \n19       1       #PQRVCC             BROCK        BROCK     #PQRVCC  ...   \n20       1       #PQRVCC             BROCK        BROCK     #PQRVCC  ...   \n21       1       #PQRVCC             BROCK          BEA   #2VL2CCCG  ...   \n\n   Brawler5Name Brawler5Tag Brawler6Name Brawler6Tag Brawler1Type  \\\n0         BROCK  #20C2RRRGY          EMZ   #Y220JJJ9       SNIPER   \n1           MAX  #22L8CLYQU        PENNY  #28U009JPY       SNIPER   \n2         BROCK    #9QJP9LP        SPIKE  #98VJCL2PQ       SNIPER   \n3         FRANK  #2UCV2R0LV         POCO  #22RURYRV0       SNIPER   \n4         BROCK  #98JQVGLP9        JACKY  #8822ULJ9Q       SNIPER   \n5         PIPER  #298R28UG2        BROCK   #QRVCCPPR    SUPPORTER   \n6          GENE  #9UR09Q80Y          BEA    #9U2QJ0P    SUPPORTER   \n7           BEA    #9U2QJ0P         GENE  #9UR09Q80Y       SNIPER   \n8           BEA    #9U2QJ0P         GENE  #9UR09Q80Y       SNIPER   \n11          PAM   #YCC8VGRU        PIPER   #9JY82J8U       SNIPER   \n12         POCO  #2YLUQLL92       MORTIS   #VRL8JURC       SNIPER   \n13        SPIKE   #2UR0PL9Q          BEA   #PL02GJ0U       SNIPER   \n14        BROCK  #P0L9GG9L0          EMZ  #2LCVQ0UY2       SNIPER   \n15          BEA   #UQY8PCGP        MR. P   #8P80J8RC       SNIPER   \n16          BEA   #UQY8PCGP        MR. P   #8P80J8RC    SUPPORTER   \n17        MR. P   #8P80J8RC        BROCK     #PQRVCC  HEAVYWEIGHT   \n18        MR. P   #8P80J8RC        BROCK     #PQRVCC    SUPPORTER   \n19        PIPER   #GRQ9CGQG          PAM   #9P08YPV9       SNIPER   \n20          EMZ  #2UG9PQP0J       MORTIS   #VLCLPRPU       SNIPER   \n21          BEA   #UQY8PCGP        MR. P   #8P80J8RC       SNIPER   \n\n   Brawler2Type Brawler3Type Brawler4Type Brawler5Type Brawler6Type  \n0      SNIPER_2    SUPPORTER       SNIPER       SNIPER      FIGHTER  \n1      SNIPER_2    SUPPORTER    SUPPORTER    SUPPORTER       SNIPER  \n2      SNIPER_2    SUPPORTER    SUPPORTER       SNIPER       SNIPER  \n3      SNIPER_2    SUPPORTER  HEAVYWEIGHT  HEAVYWEIGHT    SUPPORTER  \n4      SNIPER_2    SUPPORTER       SNIPER       SNIPER  HEAVYWEIGHT  \n5        SNIPER     SNIPER_2    SUPPORTER       SNIPER       SNIPER  \n6        SNIPER     SNIPER_2       SNIPER    SUPPORTER       SNIPER  \n7     SUPPORTER  SUPPORTER_2       SNIPER       SNIPER    SUPPORTER  \n8       FIGHTER    SUPPORTER       SNIPER       SNIPER    SUPPORTER  \n11     SNIPER_2     SNIPER_3    SUPPORTER    SUPPORTER       SNIPER  \n12     SNIPER_2     SNIPER_3       SNIPER    SUPPORTER     ASSASSIN  \n13     SNIPER_2     SNIPER_3       SNIPER       SNIPER       SNIPER  \n14     SNIPER_2     SNIPER_3       SNIPER       SNIPER      FIGHTER  \n15     SNIPER_2    SUPPORTER       SNIPER       SNIPER       SNIPER  \n16      FIGHTER     ASSASSIN       SNIPER       SNIPER       SNIPER  \n17     ASSASSIN      FIGHTER       SNIPER       SNIPER       SNIPER  \n18       SNIPER     ASSASSIN       SNIPER       SNIPER       SNIPER  \n19     SNIPER_2     SNIPER_3       SNIPER       SNIPER    SUPPORTER  \n20     SNIPER_2     SNIPER_3       SNIPER      FIGHTER     ASSASSIN  \n21    SUPPORTER     SNIPER_2       SNIPER       SNIPER       SNIPER  \n\n[20 rows x 26 columns]",
      "text/html": "<div>\n<style scoped>\n    .dataframe tbody tr th:only-of-type {\n        vertical-align: middle;\n    }\n\n    .dataframe tbody tr th {\n        vertical-align: top;\n    }\n\n    .dataframe thead th {\n        text-align: right;\n    }\n</style>\n<table border=\"1\" class=\"dataframe\">\n  <thead>\n    <tr style=\"text-align: right;\">\n      <th></th>\n      <th>WinningTeam</th>\n      <th>BattleTime</th>\n      <th>playerTag</th>\n      <th>mode</th>\n      <th>map</th>\n      <th>result</th>\n      <th>StarPlayerTag</th>\n      <th>StarPlayerBrawler</th>\n      <th>Brawler1Name</th>\n      <th>Brawler1Tag</th>\n      <th>...</th>\n      <th>Brawler5Name</th>\n      <th>Brawler5Tag</th>\n      <th>Brawler6Name</th>\n      <th>Brawler6Tag</th>\n      <th>Brawler1Type</th>\n      <th>Brawler2Type</th>\n      <th>Brawler3Type</th>\n      <th>Brawler4Type</th>\n      <th>Brawler5Type</th>\n      <th>Brawler6Type</th>\n    </tr>\n  </thead>\n  <tbody>\n    <tr>\n      <th>0</th>\n      <td>1</td>\n      <td>20200530T122433.000Z</td>\n      <td>#9U2QJ0P</td>\n      <td>brawlBall</td>\n      <td>Backyard Bowl</td>\n      <td>1</td>\n      <td>#9U2QJ0P</td>\n      <td>BEA</td>\n      <td>PIPER</td>\n      <td>#VGR0CJ29</td>\n      <td>...</td>\n      <td>BROCK</td>\n      <td>#20C2RRRGY</td>\n      <td>EMZ</td>\n      <td>#Y220JJJ9</td>\n      <td>SNIPER</td>\n      <td>SNIPER_2</td>\n      <td>SUPPORTER</td>\n      <td>SNIPER</td>\n      <td>SNIPER</td>\n      <td>FIGHTER</td>\n    </tr>\n    <tr>\n      <th>1</th>\n      <td>1</td>\n      <td>20200530T121808.000Z</td>\n      <td>#9U2QJ0P</td>\n      <td>brawlBall</td>\n      <td>Backyard Bowl</td>\n      <td>1</td>\n      <td>#9U2QJ0P</td>\n      <td>BEA</td>\n      <td>PIPER</td>\n      <td>#VGR0CJ29</td>\n      <td>...</td>\n      <td>MAX</td>\n      <td>#22L8CLYQU</td>\n      <td>PENNY</td>\n      <td>#28U009JPY</td>\n      <td>SNIPER</td>\n      <td>SNIPER_2</td>\n      <td>SUPPORTER</td>\n      <td>SUPPORTER</td>\n      <td>SUPPORTER</td>\n      <td>SNIPER</td>\n    </tr>\n    <tr>\n      <th>2</th>\n      <td>1</td>\n      <td>20200530T121207.000Z</td>\n      <td>#9U2QJ0P</td>\n      <td>brawlBall</td>\n      <td>Backyard Bowl</td>\n      <td>1</td>\n      <td>#9U2QJ0P</td>\n      <td>BEA</td>\n      <td>PIPER</td>\n      <td>#VGR0CJ29</td>\n      <td>...</td>\n      <td>BROCK</td>\n      <td>#9QJP9LP</td>\n      <td>SPIKE</td>\n      <td>#98VJCL2PQ</td>\n      <td>SNIPER</td>\n      <td>SNIPER_2</td>\n      <td>SUPPORTER</td>\n      <td>SUPPORTER</td>\n      <td>SNIPER</td>\n      <td>SNIPER</td>\n    </tr>\n    <tr>\n      <th>3</th>\n      <td>1</td>\n      <td>20200530T120359.000Z</td>\n      <td>#9U2QJ0P</td>\n      <td>brawlBall</td>\n      <td>Backyard Bowl</td>\n      <td>1</td>\n      <td>#VGR0CJ29</td>\n      <td>PIPER</td>\n      <td>PIPER</td>\n      <td>#VGR0CJ29</td>\n      <td>...</td>\n      <td>FRANK</td>\n      <td>#2UCV2R0LV</td>\n      <td>POCO</td>\n      <td>#22RURYRV0</td>\n      <td>SNIPER</td>\n      <td>SNIPER_2</td>\n      <td>SUPPORTER</td>\n      <td>HEAVYWEIGHT</td>\n      <td>HEAVYWEIGHT</td>\n      <td>SUPPORTER</td>\n    </tr>\n    <tr>\n      <th>4</th>\n      <td>1</td>\n      <td>20200530T120028.000Z</td>\n      <td>#9U2QJ0P</td>\n      <td>brawlBall</td>\n      <td>Backyard Bowl</td>\n      <td>1</td>\n      <td>#VGR0CJ29</td>\n      <td>PIPER</td>\n      <td>PIPER</td>\n      <td>#VGR0CJ29</td>\n      <td>...</td>\n      <td>BROCK</td>\n      <td>#98JQVGLP9</td>\n      <td>JACKY</td>\n      <td>#8822ULJ9Q</td>\n      <td>SNIPER</td>\n      <td>SNIPER_2</td>\n      <td>SUPPORTER</td>\n      <td>SNIPER</td>\n      <td>SNIPER</td>\n      <td>HEAVYWEIGHT</td>\n    </tr>\n    <tr>\n      <th>5</th>\n      <td>1</td>\n      <td>20200530T115600.000Z</td>\n      <td>#9U2QJ0P</td>\n      <td>brawlBall</td>\n      <td>Backyard Bowl</td>\n      <td>1</td>\n      <td>#9UR09Q80Y</td>\n      <td>GENE</td>\n      <td>GENE</td>\n      <td>#9UR09Q80Y</td>\n      <td>...</td>\n      <td>PIPER</td>\n      <td>#298R28UG2</td>\n      <td>BROCK</td>\n      <td>#QRVCCPPR</td>\n      <td>SUPPORTER</td>\n      <td>SNIPER</td>\n      <td>SNIPER_2</td>\n      <td>SUPPORTER</td>\n      <td>SNIPER</td>\n      <td>SNIPER</td>\n    </tr>\n    <tr>\n      <th>6</th>\n      <td>2</td>\n      <td>20200530T115304.000Z</td>\n      <td>#9U2QJ0P</td>\n      <td>brawlBall</td>\n      <td>Backyard Bowl</td>\n      <td>1</td>\n      <td>#VGR0CJ29</td>\n      <td>PIPER</td>\n      <td>PAM</td>\n      <td>#20JRL29PY</td>\n      <td>...</td>\n      <td>GENE</td>\n      <td>#9UR09Q80Y</td>\n      <td>BEA</td>\n      <td>#9U2QJ0P</td>\n      <td>SUPPORTER</td>\n      <td>SNIPER</td>\n      <td>SNIPER_2</td>\n      <td>SNIPER</td>\n      <td>SUPPORTER</td>\n      <td>SNIPER</td>\n    </tr>\n    <tr>\n      <th>7</th>\n      <td>2</td>\n      <td>20200530T115056.000Z</td>\n      <td>#9U2QJ0P</td>\n      <td>brawlBall</td>\n      <td>Backyard Bowl</td>\n      <td>1</td>\n      <td>#VGR0CJ29</td>\n      <td>PIPER</td>\n      <td>PIPER</td>\n      <td>#20JLGV0QL</td>\n      <td>...</td>\n      <td>BEA</td>\n      <td>#9U2QJ0P</td>\n      <td>GENE</td>\n      <td>#9UR09Q80Y</td>\n      <td>SNIPER</td>\n      <td>SUPPORTER</td>\n      <td>SUPPORTER_2</td>\n      <td>SNIPER</td>\n      <td>SNIPER</td>\n      <td>SUPPORTER</td>\n    </tr>\n    <tr>\n      <th>8</th>\n      <td>2</td>\n      <td>20200530T114747.000Z</td>\n      <td>#9U2QJ0P</td>\n      <td>brawlBall</td>\n      <td>Backyard Bowl</td>\n      <td>1</td>\n      <td>#9UR09Q80Y</td>\n      <td>GENE</td>\n      <td>BEA</td>\n      <td>#PJJ9P890</td>\n      <td>...</td>\n      <td>BEA</td>\n      <td>#9U2QJ0P</td>\n      <td>GENE</td>\n      <td>#9UR09Q80Y</td>\n      <td>SNIPER</td>\n      <td>FIGHTER</td>\n      <td>SUPPORTER</td>\n      <td>SNIPER</td>\n      <td>SNIPER</td>\n      <td>SUPPORTER</td>\n    </tr>\n    <tr>\n      <th>11</th>\n      <td>2</td>\n      <td>20200530T143201.000Z</td>\n      <td>#8P80J8RC</td>\n      <td>brawlBall</td>\n      <td>Backyard Bowl</td>\n      <td>-1</td>\n      <td>#YCC8VGRU</td>\n      <td>PAM</td>\n      <td>MR. P</td>\n      <td>#8P80J8RC</td>\n      <td>...</td>\n      <td>PAM</td>\n      <td>#YCC8VGRU</td>\n      <td>PIPER</td>\n      <td>#9JY82J8U</td>\n      <td>SNIPER</td>\n      <td>SNIPER_2</td>\n      <td>SNIPER_3</td>\n      <td>SUPPORTER</td>\n      <td>SUPPORTER</td>\n      <td>SNIPER</td>\n    </tr>\n    <tr>\n      <th>12</th>\n      <td>1</td>\n      <td>20200530T142911.000Z</td>\n      <td>#8P80J8RC</td>\n      <td>brawlBall</td>\n      <td>Backyard Bowl</td>\n      <td>1</td>\n      <td>#UQY8PCGP</td>\n      <td>BEA</td>\n      <td>BROCK</td>\n      <td>#PQRVCC</td>\n      <td>...</td>\n      <td>POCO</td>\n      <td>#2YLUQLL92</td>\n      <td>MORTIS</td>\n      <td>#VRL8JURC</td>\n      <td>SNIPER</td>\n      <td>SNIPER_2</td>\n      <td>SNIPER_3</td>\n      <td>SNIPER</td>\n      <td>SUPPORTER</td>\n      <td>ASSASSIN</td>\n    </tr>\n    <tr>\n      <th>13</th>\n      <td>2</td>\n      <td>20200530T142430.000Z</td>\n      <td>#8P80J8RC</td>\n      <td>brawlBall</td>\n      <td>Backyard Bowl</td>\n      <td>-1</td>\n      <td>#8LC2CJY2</td>\n      <td>MR. P</td>\n      <td>MR. P</td>\n      <td>#8P80J8RC</td>\n      <td>...</td>\n      <td>SPIKE</td>\n      <td>#2UR0PL9Q</td>\n      <td>BEA</td>\n      <td>#PL02GJ0U</td>\n      <td>SNIPER</td>\n      <td>SNIPER_2</td>\n      <td>SNIPER_3</td>\n      <td>SNIPER</td>\n      <td>SNIPER</td>\n      <td>SNIPER</td>\n    </tr>\n    <tr>\n      <th>14</th>\n      <td>1</td>\n      <td>20200530T142017.000Z</td>\n      <td>#8P80J8RC</td>\n      <td>brawlBall</td>\n      <td>Backyard Bowl</td>\n      <td>1</td>\n      <td>#8P80J8RC</td>\n      <td>MR. P</td>\n      <td>BROCK</td>\n      <td>#PQRVCC</td>\n      <td>...</td>\n      <td>BROCK</td>\n      <td>#P0L9GG9L0</td>\n      <td>EMZ</td>\n      <td>#2LCVQ0UY2</td>\n      <td>SNIPER</td>\n      <td>SNIPER_2</td>\n      <td>SNIPER_3</td>\n      <td>SNIPER</td>\n      <td>SNIPER</td>\n      <td>FIGHTER</td>\n    </tr>\n    <tr>\n      <th>15</th>\n      <td>2</td>\n      <td>20200530T141625.000Z</td>\n      <td>#8P80J8RC</td>\n      <td>brawlBall</td>\n      <td>Backyard Bowl</td>\n      <td>1</td>\n      <td>#8P80J8RC</td>\n      <td>MR. P</td>\n      <td>BEA</td>\n      <td>#UUUL2PLY</td>\n      <td>...</td>\n      <td>BEA</td>\n      <td>#UQY8PCGP</td>\n      <td>MR. P</td>\n      <td>#8P80J8RC</td>\n      <td>SNIPER</td>\n      <td>SNIPER_2</td>\n      <td>SUPPORTER</td>\n      <td>SNIPER</td>\n      <td>SNIPER</td>\n      <td>SNIPER</td>\n    </tr>\n    <tr>\n      <th>16</th>\n      <td>2</td>\n      <td>20200530T140826.000Z</td>\n      <td>#8P80J8RC</td>\n      <td>brawlBall</td>\n      <td>Backyard Bowl</td>\n      <td>1</td>\n      <td>#PQRVCC</td>\n      <td>BROCK</td>\n      <td>SANDY</td>\n      <td>#8V8QYV0P0</td>\n      <td>...</td>\n      <td>BEA</td>\n      <td>#UQY8PCGP</td>\n      <td>MR. P</td>\n      <td>#8P80J8RC</td>\n      <td>SUPPORTER</td>\n      <td>FIGHTER</td>\n      <td>ASSASSIN</td>\n      <td>SNIPER</td>\n      <td>SNIPER</td>\n      <td>SNIPER</td>\n    </tr>\n    <tr>\n      <th>17</th>\n      <td>2</td>\n      <td>20200530T140427.000Z</td>\n      <td>#8P80J8RC</td>\n      <td>brawlBall</td>\n      <td>Backyard Bowl</td>\n      <td>1</td>\n      <td>#8P80J8RC</td>\n      <td>MR. P</td>\n      <td>JACKY</td>\n      <td>#8LUY9PPRL</td>\n      <td>...</td>\n      <td>MR. P</td>\n      <td>#8P80J8RC</td>\n      <td>BROCK</td>\n      <td>#PQRVCC</td>\n      <td>HEAVYWEIGHT</td>\n      <td>ASSASSIN</td>\n      <td>FIGHTER</td>\n      <td>SNIPER</td>\n      <td>SNIPER</td>\n      <td>SNIPER</td>\n    </tr>\n    <tr>\n      <th>18</th>\n      <td>2</td>\n      <td>20200530T140031.000Z</td>\n      <td>#8P80J8RC</td>\n      <td>brawlBall</td>\n      <td>Backyard Bowl</td>\n      <td>1</td>\n      <td>#8P80J8RC</td>\n      <td>MR. P</td>\n      <td>PAM</td>\n      <td>#R28VYC9</td>\n      <td>...</td>\n      <td>MR. P</td>\n      <td>#8P80J8RC</td>\n      <td>BROCK</td>\n      <td>#PQRVCC</td>\n      <td>SUPPORTER</td>\n      <td>SNIPER</td>\n      <td>ASSASSIN</td>\n      <td>SNIPER</td>\n      <td>SNIPER</td>\n      <td>SNIPER</td>\n    </tr>\n    <tr>\n      <th>19</th>\n      <td>1</td>\n      <td>20200530T135358.000Z</td>\n      <td>#8P80J8RC</td>\n      <td>brawlBall</td>\n      <td>Backyard Bowl</td>\n      <td>1</td>\n      <td>#PQRVCC</td>\n      <td>BROCK</td>\n      <td>BROCK</td>\n      <td>#PQRVCC</td>\n      <td>...</td>\n      <td>PIPER</td>\n      <td>#GRQ9CGQG</td>\n      <td>PAM</td>\n      <td>#9P08YPV9</td>\n      <td>SNIPER</td>\n      <td>SNIPER_2</td>\n      <td>SNIPER_3</td>\n      <td>SNIPER</td>\n      <td>SNIPER</td>\n      <td>SUPPORTER</td>\n    </tr>\n    <tr>\n      <th>20</th>\n      <td>1</td>\n      <td>20200530T135012.000Z</td>\n      <td>#8P80J8RC</td>\n      <td>brawlBall</td>\n      <td>Backyard Bowl</td>\n      <td>1</td>\n      <td>#PQRVCC</td>\n      <td>BROCK</td>\n      <td>BROCK</td>\n      <td>#PQRVCC</td>\n      <td>...</td>\n      <td>EMZ</td>\n      <td>#2UG9PQP0J</td>\n      <td>MORTIS</td>\n      <td>#VLCLPRPU</td>\n      <td>SNIPER</td>\n      <td>SNIPER_2</td>\n      <td>SNIPER_3</td>\n      <td>SNIPER</td>\n      <td>FIGHTER</td>\n      <td>ASSASSIN</td>\n    </tr>\n    <tr>\n      <th>21</th>\n      <td>2</td>\n      <td>20200530T134504.000Z</td>\n      <td>#8P80J8RC</td>\n      <td>brawlBall</td>\n      <td>Backyard Bowl</td>\n      <td>1</td>\n      <td>#PQRVCC</td>\n      <td>BROCK</td>\n      <td>BEA</td>\n      <td>#2VL2CCCG</td>\n      <td>...</td>\n      <td>BEA</td>\n      <td>#UQY8PCGP</td>\n      <td>MR. P</td>\n      <td>#8P80J8RC</td>\n      <td>SNIPER</td>\n      <td>SUPPORTER</td>\n      <td>SNIPER_2</td>\n      <td>SNIPER</td>\n      <td>SNIPER</td>\n      <td>SNIPER</td>\n    </tr>\n  </tbody>\n</table>\n<p>20 rows × 26 columns</p>\n</div>"
     },
     "metadata": {},
     "output_type": "execute_result",
     "execution_count": 8
    }
   ],
   "source": [
    "counter = 0\n",
    "for index, row in df_fixed_map.iterrows():\n",
    "    if row['Brawler1Type'] == row['Brawler2Type'] and row['Brawler1Type'] != row['Brawler3Type']:\n",
    "        df_fixed_map.loc[index, 'Brawler2Type'] = row['Brawler2Type']+'_2'\n",
    "    elif row['Brawler1Type'] == row['Brawler2Type'] and row['Brawler1Type'] == row['Brawler3Type']:\n",
    "        df_fixed_map.loc[index,'Brawler2Type'] = row['Brawler2Type']+'_2'\n",
    "        df_fixed_map.loc[index,'Brawler3Type'] = row['Brawler3Type']+'_3'\n",
    "    elif row['Brawler1Type'] == row['Brawler3Type'] and row['Brawler1Type'] != row['Brawler2Type'] and row['Brawler2Type'] != row['Brawler3Type']:\n",
    "        df_fixed_map.loc[index,'Brawler3Type'] = row['Brawler3Type']+'_2'\n",
    "    elif row['Brawler1Type'] != row['Brawler3Type'] and row['Brawler1Type'] != row['Brawler2Type'] and row['Brawler2Type'] == row['Brawler3Type']:\n",
    "        df_fixed_map.loc[index,'Brawler3Type'] = row['Brawler3Type']+'_2'\n",
    "df_fixed_map.head(20)\n",
    "\n"
   ],
   "metadata": {
    "collapsed": false,
    "pycharm": {
     "name": "#%%\n",
     "is_executing": false
    }
   }
  },
  {
   "cell_type": "markdown",
   "source": [
    "## Find Frequent Combinations of Brawler Types\n",
    "First we want to find the frequent used combinations of brawler types. This is done by computing the frequent itemsets."
   ],
   "metadata": {
    "collapsed": false
   }
  },
  {
   "cell_type": "code",
   "execution_count": 9,
   "outputs": [],
   "source": [
    "combinations = []\n",
    "counter = 0\n",
    "for index, row in df_fixed_map.iterrows():\n",
    "    team1 = []\n",
    "    team2 = []\n",
    "    team1.append(row[\"Brawler1Type\"])\n",
    "    team1.append(row[\"Brawler2Type\"])\n",
    "    team1.append(row[\"Brawler3Type\"])\n",
    "    team2.append(row[\"Brawler4Type\"])\n",
    "    team2.append(row[\"Brawler5Type\"])\n",
    "    team2.append(row[\"Brawler6Type\"])\n",
    "\n",
    "    combinations.append(team1)\n",
    "    combinations.append(team2)"
   ],
   "metadata": {
    "collapsed": false,
    "pycharm": {
     "name": "#%%\n",
     "is_executing": false
    }
   }
  },
  {
   "cell_type": "code",
   "execution_count": 10,
   "outputs": [
    {
     "data": {
      "text/plain": "      ASSASSIN  ASSASSIN_2  ASSASSIN_3  FIGHTER  FIGHTER_2  FIGHTER_3  \\\n0        False       False       False    False      False      False   \n1        False       False       False     True      False      False   \n2        False       False       False    False      False      False   \n3        False       False       False    False      False      False   \n4        False       False       False    False      False      False   \n...        ...         ...         ...      ...        ...        ...   \n1801     False       False       False     True      False      False   \n1802     False       False       False     True       True      False   \n1803      True       False       False    False      False      False   \n1804     False       False       False     True       True      False   \n1805      True       False       False    False      False      False   \n\n      HEAVYWEIGHT  HEAVYWEIGHT_2  HEAVYWEIGHT_3  SNIPER  SNIPER_2  SNIPER_3  \\\n0           False          False          False    True      True     False   \n1           False          False          False    True     False     False   \n2           False          False          False    True      True     False   \n3           False          False          False    True     False     False   \n4           False          False          False    True      True     False   \n...           ...            ...            ...     ...       ...       ...   \n1801        False          False          False    True     False     False   \n1802        False          False          False    True     False     False   \n1803         True          False          False   False     False     False   \n1804        False          False          False    True     False     False   \n1805        False          False          False    True     False     False   \n\n      SUPPORTER  SUPPORTER_2  SUPPORTER_3  THROWER  \n0          True        False        False    False  \n1         False        False        False    False  \n2          True        False        False    False  \n3          True        False        False    False  \n4          True        False        False    False  \n...         ...          ...          ...      ...  \n1801       True        False        False    False  \n1802      False        False        False    False  \n1803       True        False        False    False  \n1804      False        False        False    False  \n1805       True        False        False    False  \n\n[1806 rows x 16 columns]",
      "text/html": "<div>\n<style scoped>\n    .dataframe tbody tr th:only-of-type {\n        vertical-align: middle;\n    }\n\n    .dataframe tbody tr th {\n        vertical-align: top;\n    }\n\n    .dataframe thead th {\n        text-align: right;\n    }\n</style>\n<table border=\"1\" class=\"dataframe\">\n  <thead>\n    <tr style=\"text-align: right;\">\n      <th></th>\n      <th>ASSASSIN</th>\n      <th>ASSASSIN_2</th>\n      <th>ASSASSIN_3</th>\n      <th>FIGHTER</th>\n      <th>FIGHTER_2</th>\n      <th>FIGHTER_3</th>\n      <th>HEAVYWEIGHT</th>\n      <th>HEAVYWEIGHT_2</th>\n      <th>HEAVYWEIGHT_3</th>\n      <th>SNIPER</th>\n      <th>SNIPER_2</th>\n      <th>SNIPER_3</th>\n      <th>SUPPORTER</th>\n      <th>SUPPORTER_2</th>\n      <th>SUPPORTER_3</th>\n      <th>THROWER</th>\n    </tr>\n  </thead>\n  <tbody>\n    <tr>\n      <th>0</th>\n      <td>False</td>\n      <td>False</td>\n      <td>False</td>\n      <td>False</td>\n      <td>False</td>\n      <td>False</td>\n      <td>False</td>\n      <td>False</td>\n      <td>False</td>\n      <td>True</td>\n      <td>True</td>\n      <td>False</td>\n      <td>True</td>\n      <td>False</td>\n      <td>False</td>\n      <td>False</td>\n    </tr>\n    <tr>\n      <th>1</th>\n      <td>False</td>\n      <td>False</td>\n      <td>False</td>\n      <td>True</td>\n      <td>False</td>\n      <td>False</td>\n      <td>False</td>\n      <td>False</td>\n      <td>False</td>\n      <td>True</td>\n      <td>False</td>\n      <td>False</td>\n      <td>False</td>\n      <td>False</td>\n      <td>False</td>\n      <td>False</td>\n    </tr>\n    <tr>\n      <th>2</th>\n      <td>False</td>\n      <td>False</td>\n      <td>False</td>\n      <td>False</td>\n      <td>False</td>\n      <td>False</td>\n      <td>False</td>\n      <td>False</td>\n      <td>False</td>\n      <td>True</td>\n      <td>True</td>\n      <td>False</td>\n      <td>True</td>\n      <td>False</td>\n      <td>False</td>\n      <td>False</td>\n    </tr>\n    <tr>\n      <th>3</th>\n      <td>False</td>\n      <td>False</td>\n      <td>False</td>\n      <td>False</td>\n      <td>False</td>\n      <td>False</td>\n      <td>False</td>\n      <td>False</td>\n      <td>False</td>\n      <td>True</td>\n      <td>False</td>\n      <td>False</td>\n      <td>True</td>\n      <td>False</td>\n      <td>False</td>\n      <td>False</td>\n    </tr>\n    <tr>\n      <th>4</th>\n      <td>False</td>\n      <td>False</td>\n      <td>False</td>\n      <td>False</td>\n      <td>False</td>\n      <td>False</td>\n      <td>False</td>\n      <td>False</td>\n      <td>False</td>\n      <td>True</td>\n      <td>True</td>\n      <td>False</td>\n      <td>True</td>\n      <td>False</td>\n      <td>False</td>\n      <td>False</td>\n    </tr>\n    <tr>\n      <th>...</th>\n      <td>...</td>\n      <td>...</td>\n      <td>...</td>\n      <td>...</td>\n      <td>...</td>\n      <td>...</td>\n      <td>...</td>\n      <td>...</td>\n      <td>...</td>\n      <td>...</td>\n      <td>...</td>\n      <td>...</td>\n      <td>...</td>\n      <td>...</td>\n      <td>...</td>\n      <td>...</td>\n    </tr>\n    <tr>\n      <th>1801</th>\n      <td>False</td>\n      <td>False</td>\n      <td>False</td>\n      <td>True</td>\n      <td>False</td>\n      <td>False</td>\n      <td>False</td>\n      <td>False</td>\n      <td>False</td>\n      <td>True</td>\n      <td>False</td>\n      <td>False</td>\n      <td>True</td>\n      <td>False</td>\n      <td>False</td>\n      <td>False</td>\n    </tr>\n    <tr>\n      <th>1802</th>\n      <td>False</td>\n      <td>False</td>\n      <td>False</td>\n      <td>True</td>\n      <td>True</td>\n      <td>False</td>\n      <td>False</td>\n      <td>False</td>\n      <td>False</td>\n      <td>True</td>\n      <td>False</td>\n      <td>False</td>\n      <td>False</td>\n      <td>False</td>\n      <td>False</td>\n      <td>False</td>\n    </tr>\n    <tr>\n      <th>1803</th>\n      <td>True</td>\n      <td>False</td>\n      <td>False</td>\n      <td>False</td>\n      <td>False</td>\n      <td>False</td>\n      <td>True</td>\n      <td>False</td>\n      <td>False</td>\n      <td>False</td>\n      <td>False</td>\n      <td>False</td>\n      <td>True</td>\n      <td>False</td>\n      <td>False</td>\n      <td>False</td>\n    </tr>\n    <tr>\n      <th>1804</th>\n      <td>False</td>\n      <td>False</td>\n      <td>False</td>\n      <td>True</td>\n      <td>True</td>\n      <td>False</td>\n      <td>False</td>\n      <td>False</td>\n      <td>False</td>\n      <td>True</td>\n      <td>False</td>\n      <td>False</td>\n      <td>False</td>\n      <td>False</td>\n      <td>False</td>\n      <td>False</td>\n    </tr>\n    <tr>\n      <th>1805</th>\n      <td>True</td>\n      <td>False</td>\n      <td>False</td>\n      <td>False</td>\n      <td>False</td>\n      <td>False</td>\n      <td>False</td>\n      <td>False</td>\n      <td>False</td>\n      <td>True</td>\n      <td>False</td>\n      <td>False</td>\n      <td>True</td>\n      <td>False</td>\n      <td>False</td>\n      <td>False</td>\n    </tr>\n  </tbody>\n</table>\n<p>1806 rows × 16 columns</p>\n</div>"
     },
     "metadata": {},
     "output_type": "execute_result",
     "execution_count": 10
    }
   ],
   "source": [
    "te = TransactionEncoder()\n",
    "te_ary = te.fit(combinations).transform(combinations)\n",
    "df_fixed_mapFreqSetsCombinations = pd.DataFrame(te_ary, columns=te.columns_)\n",
    "df_fixed_mapFreqSetsCombinations\n"
   ],
   "metadata": {
    "collapsed": false,
    "pycharm": {
     "name": "#%%\n",
     "is_executing": false
    }
   }
  },
  {
   "cell_type": "code",
   "execution_count": 84,
   "outputs": [
    {
     "traceback": [
      "\u001b[1;31m---------------------------------------------------------------------------\u001b[0m",
      "\u001b[1;31mNameError\u001b[0m                                 Traceback (most recent call last)",
      "\u001b[1;32m<ipython-input-84-82a5cedde856>\u001b[0m in \u001b[0;36m<module>\u001b[1;34m\u001b[0m\n\u001b[1;32m----> 1\u001b[1;33m \u001b[0mfrequent_itemsets_combinations\u001b[0m \u001b[1;33m=\u001b[0m \u001b[0mapriori\u001b[0m\u001b[1;33m(\u001b[0m\u001b[0mdf_fixed_mapFreqSetsCombinations\u001b[0m\u001b[1;33m,\u001b[0m \u001b[0mmin_support\u001b[0m\u001b[1;33m=\u001b[0m\u001b[1;36m0.001\u001b[0m\u001b[1;33m,\u001b[0m \u001b[0muse_colnames\u001b[0m\u001b[1;33m=\u001b[0m\u001b[1;32mTrue\u001b[0m\u001b[1;33m)\u001b[0m\u001b[1;33m\u001b[0m\u001b[1;33m\u001b[0m\u001b[0m\n\u001b[0m\u001b[0;32m      2\u001b[0m \u001b[0mfrequent_itemsets_combinations\u001b[0m\u001b[1;33m[\u001b[0m\u001b[1;34m'length'\u001b[0m\u001b[1;33m]\u001b[0m \u001b[1;33m=\u001b[0m \u001b[0mfrequent_itemsets_combinations\u001b[0m\u001b[1;33m[\u001b[0m\u001b[1;34m'itemsets'\u001b[0m\u001b[1;33m]\u001b[0m\u001b[1;33m.\u001b[0m\u001b[0mapply\u001b[0m\u001b[1;33m(\u001b[0m\u001b[1;32mlambda\u001b[0m \u001b[0mx\u001b[0m\u001b[1;33m:\u001b[0m \u001b[0mlen\u001b[0m\u001b[1;33m(\u001b[0m\u001b[0mx\u001b[0m\u001b[1;33m)\u001b[0m\u001b[1;33m)\u001b[0m\u001b[1;33m\u001b[0m\u001b[1;33m\u001b[0m\u001b[0m\n",
      "\u001b[1;31mNameError\u001b[0m: name 'apriori' is not defined"
     ],
     "ename": "NameError",
     "evalue": "name 'apriori' is not defined",
     "output_type": "error"
    }
   ],
   "source": [
    "frequent_itemsets_combinations = apriori(df_fixed_mapFreqSetsCombinations, min_support=0.001, use_colnames=True)\n",
    "frequent_itemsets_combinations['length'] = frequent_itemsets_combinations['itemsets'].apply(lambda x: len(x))"
   ],
   "metadata": {
    "collapsed": false,
    "pycharm": {
     "name": "#%%\n",
     "is_executing": false
    }
   }
  },
  {
   "cell_type": "code",
   "execution_count": 85,
   "outputs": [
    {
     "traceback": [
      "\u001b[1;31m---------------------------------------------------------------------------\u001b[0m",
      "\u001b[1;31mNameError\u001b[0m                                 Traceback (most recent call last)",
      "\u001b[1;32m<ipython-input-85-41bb67ff5a1f>\u001b[0m in \u001b[0;36m<module>\u001b[1;34m\u001b[0m\n\u001b[1;32m----> 1\u001b[1;33m \u001b[0mfrequent_itemsets_combinations\u001b[0m\u001b[1;33m[\u001b[0m \u001b[1;33m(\u001b[0m\u001b[0mfrequent_itemsets_combinations\u001b[0m\u001b[1;33m[\u001b[0m\u001b[1;34m'length'\u001b[0m\u001b[1;33m]\u001b[0m \u001b[1;33m==\u001b[0m \u001b[1;36m3\u001b[0m\u001b[1;33m)\u001b[0m \u001b[1;33m]\u001b[0m\u001b[1;33m.\u001b[0m\u001b[0msort_values\u001b[0m\u001b[1;33m(\u001b[0m\u001b[0mby\u001b[0m\u001b[1;33m=\u001b[0m\u001b[1;33m[\u001b[0m\u001b[1;34m\"support\"\u001b[0m\u001b[1;33m]\u001b[0m\u001b[1;33m,\u001b[0m \u001b[0mascending\u001b[0m\u001b[1;33m=\u001b[0m\u001b[1;32mFalse\u001b[0m\u001b[1;33m)\u001b[0m\u001b[1;33m\u001b[0m\u001b[1;33m\u001b[0m\u001b[0m\n\u001b[0m\u001b[0;32m      2\u001b[0m \u001b[1;33m\u001b[0m\u001b[0m\n\u001b[0;32m      3\u001b[0m \u001b[1;33m\u001b[0m\u001b[0m\n\u001b[0;32m      4\u001b[0m \u001b[1;33m\u001b[0m\u001b[0m\n",
      "\u001b[1;31mNameError\u001b[0m: name 'frequent_itemsets_combinations' is not defined"
     ],
     "ename": "NameError",
     "evalue": "name 'frequent_itemsets_combinations' is not defined",
     "output_type": "error"
    }
   ],
   "source": [
    "frequent_itemsets_combinations[ (frequent_itemsets_combinations['length'] == 3) ].sort_values(by=[\"support\"], ascending=False)\n",
    "\n",
    "\n"
   ],
   "metadata": {
    "collapsed": false,
    "pycharm": {
     "name": "#%%\n",
     "is_executing": false
    }
   }
  },
  {
   "cell_type": "markdown",
   "source": [
    "## Find Frequent Winning Combinations of Brawler Types\n",
    "We want to find the frequent winning combinations of brawler types. This is done by computing the frequent itemsets."
   ],
   "metadata": {
    "collapsed": false
   }
  },
  {
   "cell_type": "code",
   "execution_count": 60,
   "outputs": [],
   "source": [
    "winningCombinations = []\n",
    "counter = 0\n",
    "for index, row in df_fixed_map.iterrows():\n",
    "    team = []\n",
    "    if row[\"WinningTeam\"] == 1 and row[\"result\"] != 0:\n",
    "        team.append(row[\"Brawler1Type\"])\n",
    "        team.append(row[\"Brawler2Type\"])\n",
    "        team.append(row[\"Brawler3Type\"])\n",
    "    elif row[\"result\"] != 0:\n",
    "        team.append(row[\"Brawler4Type\"])\n",
    "        team.append(row[\"Brawler5Type\"])\n",
    "        team.append(row[\"Brawler6Type\"])\n",
    "\n",
    "    if len(team) != 0:\n",
    "        winningCombinations.append(team)"
   ],
   "metadata": {
    "collapsed": false,
    "pycharm": {
     "name": "#%%\n",
     "is_executing": false
    }
   }
  },
  {
   "cell_type": "code",
   "execution_count": 61,
   "outputs": [
    {
     "traceback": [
      "\u001b[1;31m---------------------------------------------------------------------------\u001b[0m",
      "\u001b[1;31mNameError\u001b[0m                                 Traceback (most recent call last)",
      "\u001b[1;32m<ipython-input-61-60ce094f8185>\u001b[0m in \u001b[0;36m<module>\u001b[1;34m\u001b[0m\n\u001b[1;32m----> 1\u001b[1;33m \u001b[0mte\u001b[0m \u001b[1;33m=\u001b[0m \u001b[0mTransactionEncoder\u001b[0m\u001b[1;33m(\u001b[0m\u001b[1;33m)\u001b[0m\u001b[1;33m\u001b[0m\u001b[1;33m\u001b[0m\u001b[0m\n\u001b[0m\u001b[0;32m      2\u001b[0m \u001b[0mte_ary\u001b[0m \u001b[1;33m=\u001b[0m \u001b[0mte\u001b[0m\u001b[1;33m.\u001b[0m\u001b[0mfit\u001b[0m\u001b[1;33m(\u001b[0m\u001b[0mwinningCombinations\u001b[0m\u001b[1;33m)\u001b[0m\u001b[1;33m.\u001b[0m\u001b[0mtransform\u001b[0m\u001b[1;33m(\u001b[0m\u001b[0mwinningCombinations\u001b[0m\u001b[1;33m)\u001b[0m\u001b[1;33m\u001b[0m\u001b[1;33m\u001b[0m\u001b[0m\n\u001b[0;32m      3\u001b[0m \u001b[0mdf_fixed_mapFreqSetsWinner\u001b[0m \u001b[1;33m=\u001b[0m \u001b[0mpd\u001b[0m\u001b[1;33m.\u001b[0m\u001b[0mDataFrame\u001b[0m\u001b[1;33m(\u001b[0m\u001b[0mte_ary\u001b[0m\u001b[1;33m,\u001b[0m \u001b[0mcolumns\u001b[0m\u001b[1;33m=\u001b[0m\u001b[0mte\u001b[0m\u001b[1;33m.\u001b[0m\u001b[0mcolumns_\u001b[0m\u001b[1;33m)\u001b[0m\u001b[1;33m\u001b[0m\u001b[1;33m\u001b[0m\u001b[0m\n\u001b[0;32m      4\u001b[0m \u001b[0mdf_fixed_mapFreqSetsWinner\u001b[0m\u001b[1;33m\u001b[0m\u001b[1;33m\u001b[0m\u001b[0m\n",
      "\u001b[1;31mNameError\u001b[0m: name 'TransactionEncoder' is not defined"
     ],
     "ename": "NameError",
     "evalue": "name 'TransactionEncoder' is not defined",
     "output_type": "error"
    }
   ],
   "source": [
    "te = TransactionEncoder()\n",
    "te_ary = te.fit(winningCombinations).transform(winningCombinations)\n",
    "df_fixed_mapFreqSetsWinner = pd.DataFrame(te_ary, columns=te.columns_)\n",
    "df_fixed_mapFreqSetsWinner"
   ],
   "metadata": {
    "collapsed": false,
    "pycharm": {
     "name": "#%%\n",
     "is_executing": false
    }
   }
  },
  {
   "cell_type": "code",
   "execution_count": 62,
   "outputs": [
    {
     "traceback": [
      "\u001b[1;31m---------------------------------------------------------------------------\u001b[0m",
      "\u001b[1;31mNameError\u001b[0m                                 Traceback (most recent call last)",
      "\u001b[1;32m<ipython-input-62-4a59a80ab84a>\u001b[0m in \u001b[0;36m<module>\u001b[1;34m\u001b[0m\n\u001b[1;32m----> 1\u001b[1;33m \u001b[0mfrequent_itemsets_winner\u001b[0m \u001b[1;33m=\u001b[0m \u001b[0mapriori\u001b[0m\u001b[1;33m(\u001b[0m\u001b[0mdf_fixed_mapFreqSetsWinner\u001b[0m\u001b[1;33m,\u001b[0m \u001b[0mmin_support\u001b[0m\u001b[1;33m=\u001b[0m\u001b[1;36m0.001\u001b[0m\u001b[1;33m,\u001b[0m \u001b[0muse_colnames\u001b[0m\u001b[1;33m=\u001b[0m\u001b[1;32mTrue\u001b[0m\u001b[1;33m)\u001b[0m\u001b[1;33m\u001b[0m\u001b[1;33m\u001b[0m\u001b[0m\n\u001b[0m\u001b[0;32m      2\u001b[0m \u001b[0mfrequent_itemsets_winner\u001b[0m\u001b[1;33m[\u001b[0m\u001b[1;34m'length'\u001b[0m\u001b[1;33m]\u001b[0m \u001b[1;33m=\u001b[0m \u001b[0mfrequent_itemsets_winner\u001b[0m\u001b[1;33m[\u001b[0m\u001b[1;34m'itemsets'\u001b[0m\u001b[1;33m]\u001b[0m\u001b[1;33m.\u001b[0m\u001b[0mapply\u001b[0m\u001b[1;33m(\u001b[0m\u001b[1;32mlambda\u001b[0m \u001b[0mx\u001b[0m\u001b[1;33m:\u001b[0m \u001b[0mlen\u001b[0m\u001b[1;33m(\u001b[0m\u001b[0mx\u001b[0m\u001b[1;33m)\u001b[0m\u001b[1;33m)\u001b[0m\u001b[1;33m\u001b[0m\u001b[1;33m\u001b[0m\u001b[0m\n",
      "\u001b[1;31mNameError\u001b[0m: name 'apriori' is not defined"
     ],
     "ename": "NameError",
     "evalue": "name 'apriori' is not defined",
     "output_type": "error"
    }
   ],
   "source": [
    "frequent_itemsets_winner = apriori(df_fixed_mapFreqSetsWinner, min_support=0.001, use_colnames=True)\n",
    "frequent_itemsets_winner['length'] = frequent_itemsets_winner['itemsets'].apply(lambda x: len(x))"
   ],
   "metadata": {
    "collapsed": false,
    "pycharm": {
     "name": "#%%\n",
     "is_executing": false
    }
   }
  },
  {
   "cell_type": "code",
   "execution_count": 63,
   "outputs": [
    {
     "traceback": [
      "\u001b[1;31m---------------------------------------------------------------------------\u001b[0m",
      "\u001b[1;31mNameError\u001b[0m                                 Traceback (most recent call last)",
      "\u001b[1;32m<ipython-input-63-884f4a324121>\u001b[0m in \u001b[0;36m<module>\u001b[1;34m\u001b[0m\n\u001b[1;32m----> 1\u001b[1;33m \u001b[0mfrequent_itemsets_winner\u001b[0m\u001b[1;33m[\u001b[0m \u001b[1;33m(\u001b[0m\u001b[0mfrequent_itemsets_winner\u001b[0m\u001b[1;33m[\u001b[0m\u001b[1;34m'length'\u001b[0m\u001b[1;33m]\u001b[0m \u001b[1;33m==\u001b[0m \u001b[1;36m3\u001b[0m\u001b[1;33m)\u001b[0m \u001b[1;33m]\u001b[0m\u001b[1;33m.\u001b[0m\u001b[0msort_values\u001b[0m\u001b[1;33m(\u001b[0m\u001b[0mby\u001b[0m\u001b[1;33m=\u001b[0m\u001b[1;33m[\u001b[0m\u001b[1;34m\"support\"\u001b[0m\u001b[1;33m]\u001b[0m\u001b[1;33m,\u001b[0m \u001b[0mascending\u001b[0m\u001b[1;33m=\u001b[0m\u001b[1;32mFalse\u001b[0m\u001b[1;33m)\u001b[0m\u001b[1;33m\u001b[0m\u001b[1;33m\u001b[0m\u001b[0m\n\u001b[0m",
      "\u001b[1;31mNameError\u001b[0m: name 'frequent_itemsets_winner' is not defined"
     ],
     "ename": "NameError",
     "evalue": "name 'frequent_itemsets_winner' is not defined",
     "output_type": "error"
    }
   ],
   "source": [
    "frequent_itemsets_winner[ (frequent_itemsets_winner['length'] == 3) ].sort_values(by=[\"support\"], ascending=False)"
   ],
   "metadata": {
    "collapsed": false,
    "pycharm": {
     "name": "#%%\n",
     "is_executing": false
    }
   }
  },
  {
   "cell_type": "markdown",
   "source": [
    "## Find Frequent Loosing Combinations of Brawler Types\n",
    "We want to find the frequent loosing combinations of brawler types. This is done by computing the frequent itemsets."
   ],
   "metadata": {
    "collapsed": false
   }
  },
  {
   "cell_type": "code",
   "execution_count": 64,
   "outputs": [],
   "source": [
    "loosingCombinations = []\n",
    "counter = 0\n",
    "for index, row in df_fixed_map.iterrows():\n",
    "    team = []\n",
    "    if row[\"WinningTeam\"] == 1 and row[\"result\"] != 0:\n",
    "        team.append(row[\"Brawler4Type\"])\n",
    "        team.append(row[\"Brawler5Type\"])\n",
    "        team.append(row[\"Brawler6Type\"])\n",
    "    elif row[\"result\"] != 0:\n",
    "        team.append(row[\"Brawler1Type\"])\n",
    "        team.append(row[\"Brawler2Type\"])\n",
    "        team.append(row[\"Brawler3Type\"])\n",
    "\n",
    "    if len(team) != 0:\n",
    "        loosingCombinations.append(team)"
   ],
   "metadata": {
    "collapsed": false,
    "pycharm": {
     "name": "#%%\n",
     "is_executing": false
    }
   }
  },
  {
   "cell_type": "code",
   "execution_count": 65,
   "outputs": [
    {
     "traceback": [
      "\u001b[1;31m---------------------------------------------------------------------------\u001b[0m",
      "\u001b[1;31mNameError\u001b[0m                                 Traceback (most recent call last)",
      "\u001b[1;32m<ipython-input-65-2c0143b146fb>\u001b[0m in \u001b[0;36m<module>\u001b[1;34m\u001b[0m\n\u001b[1;32m----> 1\u001b[1;33m \u001b[0mte\u001b[0m \u001b[1;33m=\u001b[0m \u001b[0mTransactionEncoder\u001b[0m\u001b[1;33m(\u001b[0m\u001b[1;33m)\u001b[0m\u001b[1;33m\u001b[0m\u001b[1;33m\u001b[0m\u001b[0m\n\u001b[0m\u001b[0;32m      2\u001b[0m \u001b[0mte_ary\u001b[0m \u001b[1;33m=\u001b[0m \u001b[0mte\u001b[0m\u001b[1;33m.\u001b[0m\u001b[0mfit\u001b[0m\u001b[1;33m(\u001b[0m\u001b[0mloosingCombinations\u001b[0m\u001b[1;33m)\u001b[0m\u001b[1;33m.\u001b[0m\u001b[0mtransform\u001b[0m\u001b[1;33m(\u001b[0m\u001b[0mloosingCombinations\u001b[0m\u001b[1;33m)\u001b[0m\u001b[1;33m\u001b[0m\u001b[1;33m\u001b[0m\u001b[0m\n\u001b[0;32m      3\u001b[0m \u001b[0mdf_fixed_mapFreqSetsLooser\u001b[0m \u001b[1;33m=\u001b[0m \u001b[0mpd\u001b[0m\u001b[1;33m.\u001b[0m\u001b[0mDataFrame\u001b[0m\u001b[1;33m(\u001b[0m\u001b[0mte_ary\u001b[0m\u001b[1;33m,\u001b[0m \u001b[0mcolumns\u001b[0m\u001b[1;33m=\u001b[0m\u001b[0mte\u001b[0m\u001b[1;33m.\u001b[0m\u001b[0mcolumns_\u001b[0m\u001b[1;33m)\u001b[0m\u001b[1;33m\u001b[0m\u001b[1;33m\u001b[0m\u001b[0m\n\u001b[0;32m      4\u001b[0m \u001b[0mdf_fixed_mapFreqSetsLooser\u001b[0m\u001b[1;33m\u001b[0m\u001b[1;33m\u001b[0m\u001b[0m\n",
      "\u001b[1;31mNameError\u001b[0m: name 'TransactionEncoder' is not defined"
     ],
     "ename": "NameError",
     "evalue": "name 'TransactionEncoder' is not defined",
     "output_type": "error"
    }
   ],
   "source": [
    "te = TransactionEncoder()\n",
    "te_ary = te.fit(loosingCombinations).transform(loosingCombinations)\n",
    "df_fixed_mapFreqSetsLooser = pd.DataFrame(te_ary, columns=te.columns_)\n",
    "df_fixed_mapFreqSetsLooser"
   ],
   "metadata": {
    "collapsed": false,
    "pycharm": {
     "name": "#%%\n",
     "is_executing": false
    }
   }
  },
  {
   "cell_type": "code",
   "execution_count": 66,
   "outputs": [
    {
     "traceback": [
      "\u001b[1;31m---------------------------------------------------------------------------\u001b[0m",
      "\u001b[1;31mNameError\u001b[0m                                 Traceback (most recent call last)",
      "\u001b[1;32m<ipython-input-66-63dbc379c69e>\u001b[0m in \u001b[0;36m<module>\u001b[1;34m\u001b[0m\n\u001b[1;32m----> 1\u001b[1;33m \u001b[0mfrequent_itemsets_looser\u001b[0m \u001b[1;33m=\u001b[0m \u001b[0mapriori\u001b[0m\u001b[1;33m(\u001b[0m\u001b[0mdf_fixed_mapFreqSetsLooser\u001b[0m\u001b[1;33m,\u001b[0m \u001b[0mmin_support\u001b[0m\u001b[1;33m=\u001b[0m\u001b[1;36m0.001\u001b[0m\u001b[1;33m,\u001b[0m \u001b[0muse_colnames\u001b[0m\u001b[1;33m=\u001b[0m\u001b[1;32mTrue\u001b[0m\u001b[1;33m)\u001b[0m\u001b[1;33m\u001b[0m\u001b[1;33m\u001b[0m\u001b[0m\n\u001b[0m\u001b[0;32m      2\u001b[0m \u001b[0mfrequent_itemsets_looser\u001b[0m\u001b[1;33m[\u001b[0m\u001b[1;34m'length'\u001b[0m\u001b[1;33m]\u001b[0m \u001b[1;33m=\u001b[0m \u001b[0mfrequent_itemsets_looser\u001b[0m\u001b[1;33m[\u001b[0m\u001b[1;34m'itemsets'\u001b[0m\u001b[1;33m]\u001b[0m\u001b[1;33m.\u001b[0m\u001b[0mapply\u001b[0m\u001b[1;33m(\u001b[0m\u001b[1;32mlambda\u001b[0m \u001b[0mx\u001b[0m\u001b[1;33m:\u001b[0m \u001b[0mlen\u001b[0m\u001b[1;33m(\u001b[0m\u001b[0mx\u001b[0m\u001b[1;33m)\u001b[0m\u001b[1;33m)\u001b[0m\u001b[1;33m\u001b[0m\u001b[1;33m\u001b[0m\u001b[0m\n",
      "\u001b[1;31mNameError\u001b[0m: name 'apriori' is not defined"
     ],
     "ename": "NameError",
     "evalue": "name 'apriori' is not defined",
     "output_type": "error"
    }
   ],
   "source": [
    "frequent_itemsets_looser = apriori(df_fixed_mapFreqSetsLooser, min_support=0.001, use_colnames=True)\n",
    "frequent_itemsets_looser['length'] = frequent_itemsets_looser['itemsets'].apply(lambda x: len(x))"
   ],
   "metadata": {
    "collapsed": false,
    "pycharm": {
     "name": "#%%\n",
     "is_executing": false
    }
   }
  },
  {
   "cell_type": "code",
   "execution_count": 67,
   "outputs": [
    {
     "traceback": [
      "\u001b[1;31m---------------------------------------------------------------------------\u001b[0m",
      "\u001b[1;31mNameError\u001b[0m                                 Traceback (most recent call last)",
      "\u001b[1;32m<ipython-input-67-ae05dc47f423>\u001b[0m in \u001b[0;36m<module>\u001b[1;34m\u001b[0m\n\u001b[1;32m----> 1\u001b[1;33m \u001b[0mfrequent_itemsets_looser\u001b[0m\u001b[1;33m[\u001b[0m \u001b[1;33m(\u001b[0m\u001b[0mfrequent_itemsets_looser\u001b[0m\u001b[1;33m[\u001b[0m\u001b[1;34m'length'\u001b[0m\u001b[1;33m]\u001b[0m \u001b[1;33m==\u001b[0m \u001b[1;36m3\u001b[0m\u001b[1;33m)\u001b[0m \u001b[1;33m]\u001b[0m\u001b[1;33m.\u001b[0m\u001b[0msort_values\u001b[0m\u001b[1;33m(\u001b[0m\u001b[0mby\u001b[0m\u001b[1;33m=\u001b[0m\u001b[1;33m[\u001b[0m\u001b[1;34m\"support\"\u001b[0m\u001b[1;33m]\u001b[0m\u001b[1;33m,\u001b[0m \u001b[0mascending\u001b[0m\u001b[1;33m=\u001b[0m\u001b[1;32mFalse\u001b[0m\u001b[1;33m)\u001b[0m\u001b[1;33m\u001b[0m\u001b[1;33m\u001b[0m\u001b[0m\n\u001b[0m\u001b[0;32m      2\u001b[0m \u001b[1;33m\u001b[0m\u001b[0m\n\u001b[0;32m      3\u001b[0m \u001b[1;33m\u001b[0m\u001b[0m\n",
      "\u001b[1;31mNameError\u001b[0m: name 'frequent_itemsets_looser' is not defined"
     ],
     "ename": "NameError",
     "evalue": "name 'frequent_itemsets_looser' is not defined",
     "output_type": "error"
    }
   ],
   "source": [
    "frequent_itemsets_looser[ (frequent_itemsets_looser['length'] == 3) ].sort_values(by=[\"support\"], ascending=False)\n",
    "\n"
   ],
   "metadata": {
    "collapsed": false,
    "pycharm": {
     "name": "#%%\n",
     "is_executing": false
    }
   }
  },
  {
   "cell_type": "markdown",
   "source": [
    "## Check Winning Percentage for Combinations\n",
    "We want to analyze how often a combination wins relatively to the usage of this combination. Therefore we compute the relative winning percentage for every used combination"
   ],
   "metadata": {
    "collapsed": false
   }
  },
  {
   "cell_type": "code",
   "execution_count": 68,
   "outputs": [
    {
     "traceback": [
      "\u001b[1;31m---------------------------------------------------------------------------\u001b[0m",
      "\u001b[1;31mNameError\u001b[0m                                 Traceback (most recent call last)",
      "\u001b[1;32m<ipython-input-68-13f698200612>\u001b[0m in \u001b[0;36m<module>\u001b[1;34m\u001b[0m\n\u001b[0;32m      1\u001b[0m \u001b[0mlength\u001b[0m \u001b[1;33m=\u001b[0m \u001b[0mlen\u001b[0m\u001b[1;33m(\u001b[0m\u001b[0mdf_fixed_map\u001b[0m\u001b[1;33m)\u001b[0m\u001b[1;33m\u001b[0m\u001b[1;33m\u001b[0m\u001b[0m\n\u001b[0;32m      2\u001b[0m \u001b[0mwinning_percentage\u001b[0m \u001b[1;33m=\u001b[0m \u001b[1;33m[\u001b[0m\u001b[1;33m]\u001b[0m\u001b[1;33m\u001b[0m\u001b[1;33m\u001b[0m\u001b[0m\n\u001b[1;32m----> 3\u001b[1;33m \u001b[1;32mfor\u001b[0m \u001b[0mindex\u001b[0m\u001b[1;33m,\u001b[0m \u001b[0mrow\u001b[0m \u001b[1;32min\u001b[0m \u001b[0mfrequent_itemsets_combinations\u001b[0m\u001b[1;33m.\u001b[0m\u001b[0miterrows\u001b[0m\u001b[1;33m(\u001b[0m\u001b[1;33m)\u001b[0m\u001b[1;33m:\u001b[0m\u001b[1;33m\u001b[0m\u001b[1;33m\u001b[0m\u001b[0m\n\u001b[0m\u001b[0;32m      4\u001b[0m     \u001b[1;32mfor\u001b[0m \u001b[0midx\u001b[0m\u001b[1;33m,\u001b[0m \u001b[0mwinner\u001b[0m \u001b[1;32min\u001b[0m \u001b[0mfrequent_itemsets_winner\u001b[0m\u001b[1;33m.\u001b[0m\u001b[0miterrows\u001b[0m\u001b[1;33m(\u001b[0m\u001b[1;33m)\u001b[0m\u001b[1;33m:\u001b[0m\u001b[1;33m\u001b[0m\u001b[1;33m\u001b[0m\u001b[0m\n\u001b[0;32m      5\u001b[0m         \u001b[0mnew_row\u001b[0m \u001b[1;33m=\u001b[0m \u001b[1;33m[\u001b[0m\u001b[1;33m]\u001b[0m\u001b[1;33m\u001b[0m\u001b[1;33m\u001b[0m\u001b[0m\n",
      "\u001b[1;31mNameError\u001b[0m: name 'frequent_itemsets_combinations' is not defined"
     ],
     "ename": "NameError",
     "evalue": "name 'frequent_itemsets_combinations' is not defined",
     "output_type": "error"
    }
   ],
   "source": [
    "length = len(df_fixed_map)\n",
    "winning_percentage = []\n",
    "for index, row in frequent_itemsets_combinations.iterrows():\n",
    "    for idx, winner in frequent_itemsets_winner.iterrows():\n",
    "        new_row = []    \n",
    "        if row['itemsets'] == winner['itemsets']:\n",
    "            total_number_of_combination = length * 2 * row['support']\n",
    "            total_number_of_wins = length * winner['support']\n",
    "            win_percentage = total_number_of_wins / total_number_of_combination\n",
    "            new_row.append(winner['itemsets'])\n",
    "            new_row.append(win_percentage)\n",
    "            new_row.append(total_number_of_combination)\n",
    "            winning_percentage.append(new_row)\n",
    "winning_percentage = pd.DataFrame(winning_percentage).rename(columns={0: \"itemsets\", 1: 'winning percentage', 2: 'times picked'})\n",
    "winning_percentage = winning_percentage[winning_percentage['itemsets'].map(len) == 3].sort_values(by=['winning percentage'], ascending=False)\n",
    "winning_percentage\n",
    "            "
   ],
   "metadata": {
    "collapsed": false,
    "pycharm": {
     "name": "#%%\n",
     "is_executing": false
    }
   }
  },
  {
   "cell_type": "markdown",
   "source": [
    "## Correlation between Winning-Rate and Usage of a Combination\n",
    "First we want to remove outliers"
   ],
   "metadata": {
    "collapsed": false
   }
  },
  {
   "cell_type": "code",
   "execution_count": 69,
   "outputs": [
    {
     "traceback": [
      "\u001b[1;31m---------------------------------------------------------------------------\u001b[0m",
      "\u001b[1;31mTypeError\u001b[0m                                 Traceback (most recent call last)",
      "\u001b[1;32m<ipython-input-69-8b46d0d61467>\u001b[0m in \u001b[0;36m<module>\u001b[1;34m\u001b[0m\n\u001b[0;32m     10\u001b[0m     \u001b[0mdf_fixed_map_out\u001b[0m \u001b[1;33m=\u001b[0m \u001b[0mdf_fixed_map_in\u001b[0m\u001b[1;33m.\u001b[0m\u001b[0mloc\u001b[0m\u001b[1;33m[\u001b[0m\u001b[1;33m(\u001b[0m\u001b[0mdf_fixed_map_in\u001b[0m\u001b[1;33m[\u001b[0m\u001b[0mcol_name\u001b[0m\u001b[1;33m]\u001b[0m \u001b[1;33m>\u001b[0m \u001b[0mfence_low\u001b[0m\u001b[1;33m)\u001b[0m \u001b[1;33m&\u001b[0m \u001b[1;33m(\u001b[0m\u001b[0mdf_fixed_map_in\u001b[0m\u001b[1;33m[\u001b[0m\u001b[0mcol_name\u001b[0m\u001b[1;33m]\u001b[0m \u001b[1;33m<\u001b[0m \u001b[0mfence_high\u001b[0m\u001b[1;33m)\u001b[0m\u001b[1;33m]\u001b[0m\u001b[1;33m\u001b[0m\u001b[1;33m\u001b[0m\u001b[0m\n\u001b[0;32m     11\u001b[0m     \u001b[1;32mreturn\u001b[0m \u001b[0mdf_fixed_map_out\u001b[0m\u001b[1;33m\u001b[0m\u001b[1;33m\u001b[0m\u001b[0m\n\u001b[1;32m---> 12\u001b[1;33m \u001b[0mremove_outlier\u001b[0m\u001b[1;33m(\u001b[0m\u001b[0mcleaned_winning_percentage\u001b[0m\u001b[1;33m,\u001b[0m \u001b[1;34m'times picked'\u001b[0m\u001b[1;33m)\u001b[0m\u001b[1;33m\u001b[0m\u001b[1;33m\u001b[0m\u001b[0m\n\u001b[0m",
      "\u001b[1;32m<ipython-input-69-8b46d0d61467>\u001b[0m in \u001b[0;36mremove_outlier\u001b[1;34m(df_fixed_map_in, col_name)\u001b[0m\n\u001b[0;32m      1\u001b[0m \u001b[0mcleaned_winning_percentage\u001b[0m \u001b[1;33m=\u001b[0m \u001b[0mwinning_percentage\u001b[0m\u001b[1;33m.\u001b[0m\u001b[0mcopy\u001b[0m\u001b[1;33m(\u001b[0m\u001b[1;33m)\u001b[0m\u001b[1;33m\u001b[0m\u001b[1;33m\u001b[0m\u001b[0m\n\u001b[0;32m      2\u001b[0m \u001b[1;32mdef\u001b[0m \u001b[0mremove_outlier\u001b[0m\u001b[1;33m(\u001b[0m\u001b[0mdf_fixed_map_in\u001b[0m\u001b[1;33m,\u001b[0m \u001b[0mcol_name\u001b[0m\u001b[1;33m)\u001b[0m\u001b[1;33m:\u001b[0m\u001b[1;33m\u001b[0m\u001b[1;33m\u001b[0m\u001b[0m\n\u001b[1;32m----> 3\u001b[1;33m     \u001b[0mq1\u001b[0m \u001b[1;33m=\u001b[0m \u001b[0mdf_fixed_map_in\u001b[0m\u001b[1;33m[\u001b[0m\u001b[0mcol_name\u001b[0m\u001b[1;33m]\u001b[0m\u001b[1;33m.\u001b[0m\u001b[0mquantile\u001b[0m\u001b[1;33m(\u001b[0m\u001b[1;36m0.25\u001b[0m\u001b[1;33m)\u001b[0m\u001b[1;33m\u001b[0m\u001b[1;33m\u001b[0m\u001b[0m\n\u001b[0m\u001b[0;32m      4\u001b[0m     \u001b[0mq3\u001b[0m \u001b[1;33m=\u001b[0m \u001b[0mdf_fixed_map_in\u001b[0m\u001b[1;33m[\u001b[0m\u001b[0mcol_name\u001b[0m\u001b[1;33m]\u001b[0m\u001b[1;33m.\u001b[0m\u001b[0mquantile\u001b[0m\u001b[1;33m(\u001b[0m\u001b[1;36m0.75\u001b[0m\u001b[1;33m)\u001b[0m\u001b[1;33m\u001b[0m\u001b[1;33m\u001b[0m\u001b[0m\n\u001b[0;32m      5\u001b[0m     \u001b[0miqr\u001b[0m \u001b[1;33m=\u001b[0m \u001b[0mq3\u001b[0m\u001b[1;33m-\u001b[0m\u001b[0mq1\u001b[0m \u001b[1;31m#Interquartile range\u001b[0m\u001b[1;33m\u001b[0m\u001b[1;33m\u001b[0m\u001b[0m\n",
      "\u001b[1;31mTypeError\u001b[0m: list indices must be integers or slices, not str"
     ],
     "ename": "TypeError",
     "evalue": "list indices must be integers or slices, not str",
     "output_type": "error"
    }
   ],
   "source": [
    "cleaned_winning_percentage = winning_percentage.copy()\n",
    "def remove_outlier(df_fixed_map_in, col_name):\n",
    "    q1 = df_fixed_map_in[col_name].quantile(0.25)\n",
    "    q3 = df_fixed_map_in[col_name].quantile(0.75)\n",
    "    iqr = q3-q1 #Interquartile range\n",
    "    fence_low  = q1-1.5*iqr\n",
    "    fence_high = q3+1.5*iqr\n",
    "    print(fence_high)\n",
    "    print(fence_low)\n",
    "    df_fixed_map_out = df_fixed_map_in.loc[(df_fixed_map_in[col_name] > fence_low) & (df_fixed_map_in[col_name] < fence_high)]\n",
    "    return df_fixed_map_out\n",
    "remove_outlier(cleaned_winning_percentage, 'times picked')"
   ],
   "metadata": {
    "collapsed": false,
    "pycharm": {
     "name": "#%%\n",
     "is_executing": false
    }
   }
  },
  {
   "cell_type": "markdown",
   "source": [
    "As we see no entries are removed"
   ],
   "metadata": {
    "collapsed": false
   }
  },
  {
   "cell_type": "code",
   "execution_count": 70,
   "outputs": [
    {
     "traceback": [
      "\u001b[1;31m---------------------------------------------------------------------------\u001b[0m",
      "\u001b[1;31mTypeError\u001b[0m                                 Traceback (most recent call last)",
      "\u001b[1;32m<ipython-input-70-6b16b1123e2f>\u001b[0m in \u001b[0;36m<module>\u001b[1;34m\u001b[0m\n\u001b[1;32m----> 1\u001b[1;33m \u001b[0mplt\u001b[0m\u001b[1;33m.\u001b[0m\u001b[0mscatter\u001b[0m\u001b[1;33m(\u001b[0m\u001b[0mwinning_percentage\u001b[0m\u001b[1;33m[\u001b[0m\u001b[1;34m'times picked'\u001b[0m\u001b[1;33m]\u001b[0m\u001b[1;33m,\u001b[0m \u001b[0mwinning_percentage\u001b[0m\u001b[1;33m[\u001b[0m\u001b[1;34m'winning percentage'\u001b[0m\u001b[1;33m]\u001b[0m\u001b[1;33m)\u001b[0m\u001b[1;33m\u001b[0m\u001b[1;33m\u001b[0m\u001b[0m\n\u001b[0m\u001b[0;32m      2\u001b[0m \u001b[0mplt\u001b[0m\u001b[1;33m.\u001b[0m\u001b[0mshow\u001b[0m\u001b[1;33m(\u001b[0m\u001b[1;33m)\u001b[0m\u001b[1;33m\u001b[0m\u001b[1;33m\u001b[0m\u001b[0m\n\u001b[0;32m      3\u001b[0m \u001b[1;33m\u001b[0m\u001b[0m\n",
      "\u001b[1;31mTypeError\u001b[0m: list indices must be integers or slices, not str"
     ],
     "ename": "TypeError",
     "evalue": "list indices must be integers or slices, not str",
     "output_type": "error"
    }
   ],
   "source": [
    "plt.scatter(winning_percentage['times picked'], winning_percentage['winning percentage'])\n",
    "plt.show()\n"
   ],
   "metadata": {
    "collapsed": false,
    "pycharm": {
     "name": "#%%\n",
     "is_executing": false
    }
   }
  },
  {
   "cell_type": "markdown",
   "source": [
    "Next we want to check whether there is a correlation between usage of a combination and the winning rate."
   ],
   "metadata": {
    "collapsed": false
   }
  },
  {
   "cell_type": "code",
   "execution_count": 71,
   "outputs": [
    {
     "traceback": [
      "\u001b[1;31m---------------------------------------------------------------------------\u001b[0m",
      "\u001b[1;31mTypeError\u001b[0m                                 Traceback (most recent call last)",
      "\u001b[1;32m<ipython-input-71-fab44ba674ce>\u001b[0m in \u001b[0;36m<module>\u001b[1;34m\u001b[0m\n\u001b[1;32m----> 1\u001b[1;33m \u001b[0mcleaned_winning_percentage\u001b[0m\u001b[1;33m[\u001b[0m\u001b[1;34m'times picked'\u001b[0m\u001b[1;33m]\u001b[0m\u001b[1;33m.\u001b[0m\u001b[0mcorr\u001b[0m\u001b[1;33m(\u001b[0m\u001b[0mcleaned_winning_percentage\u001b[0m\u001b[1;33m[\u001b[0m\u001b[1;34m'winning percentage'\u001b[0m\u001b[1;33m]\u001b[0m\u001b[1;33m)\u001b[0m\u001b[1;33m\u001b[0m\u001b[1;33m\u001b[0m\u001b[0m\n\u001b[0m",
      "\u001b[1;31mTypeError\u001b[0m: list indices must be integers or slices, not str"
     ],
     "ename": "TypeError",
     "evalue": "list indices must be integers or slices, not str",
     "output_type": "error"
    }
   ],
   "source": [
    "cleaned_winning_percentage['times picked'].corr(cleaned_winning_percentage['winning percentage'])"
   ],
   "metadata": {
    "collapsed": false,
    "pycharm": {
     "name": "#%%\n",
     "is_executing": false
    }
   }
  },
  {
   "cell_type": "markdown",
   "source": [
    "As we see the correlation is slightly positive with 0.208. Thus, there is a small correlation between the usage of a combination of brawler types and the winning rate. This indicates that it is more probable to win with a certain combination of brawler types on specific maps."
   ],
   "metadata": {
    "collapsed": false
   }
  },
  {
   "cell_type": "markdown",
   "source": [
    "## Starplayer of the Winning Team"
   ],
   "metadata": {
    "collapsed": false
   }
  },
  {
   "cell_type": "markdown",
   "source": [
    "The goal of our third question is to predict the \"StarPlayer\" of the Winning Team in the mode \"BrawlBall\". We had the following approach:\n",
    "\n",
    "- 1. We need to extract the Brawlers of the winning team, since the Starplayer can only come from the winning team\n",
    "- 2. The variables \"winningTeams\", \"map\" and the \"StarPlayer\" of the match needs to to be encoded to perform a classification. The idea is that \"winningTeam\" and \"map\" defines the target variable \"StarPlayer\"\n",
    "- 3. We will try to predict the \"StarPlayer\" of the match with a RandomForestClassifier and interpret the result"
   ],
   "metadata": {
    "collapsed": false
   }
  },
  {
   "cell_type": "code",
   "execution_count": null,
   "outputs": [],
   "source": [
    "#read dataset\n",
    "dfStarPlayer = pd.read_csv(\"rawdata.csv\")\n",
    "\n",
    "# extract winning teams\n",
    "winningTeams = []\n",
    "\n",
    "for index, row in dfStarPlayer.iterrows():\n",
    "    team = []\n",
    "\n",
    "    if row[\"WinningTeam\"] == 1:\n",
    "        team.append(row[\"Brawler1Name\"])\n",
    "        team.append(row[\"Brawler2Name\"])\n",
    "        team.append(row[\"Brawler3Name\"])\n",
    "    else:\n",
    "        team.append(row[\"Brawler4Name\"])\n",
    "        team.append(row[\"Brawler5Name\"])\n",
    "        team.append(row[\"Brawler6Name\"])\n",
    "\n",
    "    # sort teams that brawlers are in same order\n",
    "    team = sorted(team)\n",
    "\n",
    "    # concat teams to one string\n",
    "    teamString = \"_\".join(team)\n",
    "    winningTeams.append(teamString)\n",
    "\n",
    "# encode string for classifier\n",
    "dfStarPlayerFinal = pd.DataFrame(columns=[\"Team\", \"map\"])\n",
    "dfStarPlayerFinal[\"Team\"] = winningTeams\n",
    "dfStarPlayerFinal[\"map\"] =dfStarPlayer[\"map\"].copy()\n",
    "dfStarPlayerFinal[\"StarPlayer\"] = dfStarPlayer[\"StarPlayerBrawler\"].copy()\n",
    "\n",
    "#encode teams\n",
    "encoding = LabelEncoder()\n",
    "encoding.fit(winningTeams)\n",
    "dfStarPlayerFinal[\"Team\"] = encoding.transform(dfStarPlayerFinal[\"Team\"].values)\n",
    "\n",
    "#encode brawler\n",
    "encoding = LabelEncoder()\n",
    "encoding.fit(dfStarPlayerFinal[\"StarPlayer\"].values)\n",
    "dfStarPlayerFinal[\"StarPlayer\"] = encoding.transform(dfStarPlayerFinal[\"StarPlayer\"].values)\n",
    "\n",
    "# encode maps\n",
    "encoding = LabelEncoder()\n",
    "encoding.fit(dfStarPlayerFinal[\"map\"].values)\n",
    "dfStarPlayerFinal[\"map\"] = encoding.transform(dfStarPlayerFinal[\"map\"].values)\n",
    "\n",
    "# extract features\n",
    "x_features_starplayer = []\n",
    "starPlayers = []\n",
    "\n",
    "for index, row in dfStarPlayerFinal.iterrows():\n",
    "    features = []\n",
    "    features.append(row[\"map\"])\n",
    "    features.append(row[\"Team\"])\n",
    "\n",
    "    x_features_starplayer.append(features)\n",
    "    starPlayers.append(row[\"StarPlayer\"])\n",
    "\n",
    "# create classifier\n",
    "randomStarPlayerTree = RandomForestClassifier()\n",
    "randomStarPlayerTree = randomStarPlayerTree.fit(x_features_starplayer, starPlayers)\n",
    "\n",
    "scores = cross_val_score(randomStarPlayerTree, x_features_starplayer, starPlayers, scoring='accuracy')\n",
    "acc = np.mean(scores)\n",
    "\n",
    "print(\"Accuracy: {0}\".format(acc))"
   ],
   "metadata": {
    "collapsed": false,
    "pycharm": {
     "name": "#%%\n"
    }
   }
  },
  {
   "cell_type": "markdown",
   "source": [
    "The accuracy of our model is around 21% with a RandomForestClassifier, which is a bad performance. A winner Team consists of 3 Brawlers. This means the chance of becoming the StarBrawler is 33%. \n",
    "\n",
    "To analyse the cause of the warning above, we need to have a look on the number of Starplayer counts for each character in our dataset:"
   ],
   "metadata": {
    "collapsed": false
   }
  },
  {
   "cell_type": "code",
   "execution_count": null,
   "outputs": [],
   "source": [
    "print(dfStarPlayerFinal.loc[:,\"StarPlayer\"].value_counts())"
   ],
   "metadata": {
    "collapsed": false,
    "pycharm": {
     "name": "#%%\n"
    }
   }
  },
  {
   "cell_type": "markdown",
   "source": [
    "Three Brawlers (class) in y have less than 5 occurences, which is less than n_splits=5 for the RandomForestClassifier. As an optimization problem, one could try to set a minimum occurence (e.g. 10). This could help to get a better performance & accurracy.  "
   ],
   "metadata": {
    "collapsed": false
   }
  },
  {
   "cell_type": "markdown",
   "source": [
    "## Win-Prediction Model\n",
    "\n",
    "In the last analysis, we build a model which should predict the winning team according to the brawlers in each team and\n",
    "the map. The game mode is still fixed to Brawl Ball. From the previous analysis, we saw that certain team compositions are chosen\n",
    "more often, hence we assume that the team composition plays a large role for winning (as the data is from the Top 200 players, their game\n",
    "skill should be roughly equal). Furthermore, we assume that the map also has an influence on who wins the game, as certain brawlers\n",
    "may have an advantage. Thus, we chose these variables as features.\n",
    "Lastly, we use the RandomTreeClassifier as a model.\n",
    "\n",
    "In a first step, we encoded the data into a form that is usable for the model."
   ],
   "metadata": {
    "collapsed": false
   }
  },
  {
   "cell_type": "code",
   "execution_count": null,
   "outputs": [],
   "source": [
    "dfWinPrediction = pd.read_csv(\"rawdata.csv\")\n",
    "firstTeams = []\n",
    "secondTeams = []\n",
    "\n",
    "for index, row in dfWinPrediction.iterrows():\n",
    "    team1 = []\n",
    "    team2 = []\n",
    "\n",
    "    team1.append(row[\"Brawler1Name\"])\n",
    "    team1.append(row[\"Brawler2Name\"])\n",
    "    team1.append(row[\"Brawler3Name\"])\n",
    "\n",
    "    team2.append(row[\"Brawler4Name\"])\n",
    "    team2.append(row[\"Brawler5Name\"])\n",
    "    team2.append(row[\"Brawler6Name\"])\n",
    "\n",
    "    # sort teams that brawlers are in same order\n",
    "    team1 = sorted(team1)\n",
    "    team2 = sorted(team2)\n",
    "\n",
    "    # concat teams to one string\n",
    "    team1string = \"_\".join(team1)\n",
    "    team2string = \"_\".join(team2)\n",
    "\n",
    "    firstTeams.append(team1string)\n",
    "    secondTeams.append(team2string)\n",
    "\n",
    "# encode string for classifier\n",
    "dfFinal = pd.DataFrame(columns=[\"Team1\", \"Team2\", \"map\"])\n",
    "dfFinal[\"Team1\"] = firstTeams\n",
    "dfFinal[\"Team2\"] = secondTeams\n",
    "dfFinal[\"map\"] =dfWinPrediction[\"map\"].copy()\n",
    "dfFinal[\"WinningTeam\"] = dfWinPrediction[\"WinningTeam\"].copy()\n",
    "\n",
    "encoding = LabelEncoder()\n",
    "encoding.fit(firstTeams + secondTeams)\n",
    "dfFinal[\"Team1\"] = encoding.transform(dfFinal[\"Team1\"].values)\n",
    "dfFinal[\"Team2\"] = encoding.transform(dfFinal[\"Team2\"].values)\n",
    "\n",
    "# encode maps\n",
    "encoding = LabelEncoder()\n",
    "encoding.fit(dfFinal[\"map\"].values)\n",
    "dfFinal[\"map\"] = encoding.transform(dfFinal[\"map\"].values)\n",
    "\n",
    "dfFinal.head(5)"
   ],
   "metadata": {
    "collapsed": false,
    "pycharm": {
     "name": "#%%\n"
    }
   }
  },
  {
   "cell_type": "markdown",
   "source": [
    "Then, we extracted the features from the dataset for the classifier plus created and trained the RandomForestClassifier."
   ],
   "metadata": {
    "collapsed": false
   }
  },
  {
   "cell_type": "code",
   "execution_count": null,
   "outputs": [],
   "source": [
    "x_features_winner = []\n",
    "winners = []\n",
    "\n",
    "for index, row in dfFinal.iterrows():\n",
    "    features = []\n",
    "    features.append(row[\"map\"])\n",
    "    features.append(row[\"Team1\"])\n",
    "    features.append(row[\"Team2\"])\n",
    "\n",
    "    x_features_winner.append(features)\n",
    "    winners.append(row[\"WinningTeam\"])\n",
    "\n",
    "# create classifier\n",
    "randomWinnerTree = RandomForestClassifier()\n",
    "randomWinnerTree = randomWinnerTree.fit(x_features_winner, winners)"
   ],
   "metadata": {
    "collapsed": false,
    "pycharm": {
     "name": "#%%\n"
    }
   }
  },
  {
   "cell_type": "markdown",
   "source": [
    "Lastly, we cross validated the the tree in order to get its accurarcy"
   ],
   "metadata": {
    "collapsed": false
   }
  },
  {
   "cell_type": "code",
   "execution_count": null,
   "outputs": [],
   "source": [
    "scores = cross_val_score(randomWinnerTree, x_features_winner, winners, scoring='accuracy')\n",
    "acc = np.mean(scores)\n",
    "\n",
    "print(\"Accuracy: {0}\".format(acc))"
   ],
   "metadata": {
    "collapsed": false,
    "pycharm": {
     "name": "#%%\n"
    }
   }
  },
  {
   "cell_type": "markdown",
   "source": [
    "We get an average accuracy of about __60%__ for predicting the winner of a game with this model."
   ],
   "metadata": {
    "collapsed": false
   }
  },
  {
   "cell_type": "markdown",
   "source": [
    "# Discussion or whatever\n",
    "\n",
    "- write down our insights or maybe do some further coding in the cell below\n",
    "\n",
    "\n"
   ],
   "metadata": {
    "collapsed": false
   }
  }
 ],
 "metadata": {
  "kernelspec": {
   "display_name": "Python 3",
   "language": "python",
   "name": "python3"
  },
  "language_info": {
   "codemirror_mode": {
    "name": "ipython",
    "version": 3
   },
   "file_extension": ".py",
   "mimetype": "text/x-python",
   "name": "python",
   "nbconvert_exporter": "python",
   "pygments_lexer": "ipython3",
   "version": "3.7.6"
  },
  "pycharm": {
   "stem_cell": {
    "cell_type": "raw",
    "source": [],
    "metadata": {
     "collapsed": false
    }
   }
  }
 },
 "nbformat": 4,
 "nbformat_minor": 4
}