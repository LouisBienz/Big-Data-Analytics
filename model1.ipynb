{
 "cells": [
  {
   "cell_type": "code",
   "execution_count": 77,
   "metadata": {
    "collapsed": true
   },
   "outputs": [],
   "source": [
    "import pandas as pd\n",
    "from mlxtend.frequent_patterns import apriori\n",
    "from mlxtend.preprocessing import TransactionEncoder"
   ]
  },
  {
   "cell_type": "code",
   "execution_count": 78,
   "outputs": [
    {
     "name": "stdout",
     "output_type": "stream",
     "text": [
      "(1158, 20)\n"
     ]
    }
   ],
   "source": [
    "df = pd.read_csv(\"rawdata.csv\")\n",
    "print(df.shape)"
   ],
   "metadata": {
    "collapsed": false,
    "pycharm": {
     "name": "#%%\n"
    }
   }
  },
  {
   "cell_type": "code",
   "execution_count": 79,
   "outputs": [
    {
     "data": {
      "text/plain": "   WinningTeam            BattleTime playerTag       mode            map  \\\n0            1  20200530T122433.000Z  #9U2QJ0P  brawlBall  Backyard Bowl   \n1            1  20200530T121808.000Z  #9U2QJ0P  brawlBall  Backyard Bowl   \n2            1  20200530T121207.000Z  #9U2QJ0P  brawlBall  Backyard Bowl   \n3            1  20200530T120359.000Z  #9U2QJ0P  brawlBall  Backyard Bowl   \n4            1  20200530T120028.000Z  #9U2QJ0P  brawlBall  Backyard Bowl   \n\n   result StarPlayerTag StarPlayerBrawler Brawler1Name Brawler1Tag  \\\n0       1      #9U2QJ0P               BEA        PIPER   #VGR0CJ29   \n1       1      #9U2QJ0P               BEA        PIPER   #VGR0CJ29   \n2       1      #9U2QJ0P               BEA        PIPER   #VGR0CJ29   \n3       1     #VGR0CJ29             PIPER        PIPER   #VGR0CJ29   \n4       1     #VGR0CJ29             PIPER        PIPER   #VGR0CJ29   \n\n  Brawler2Name Brawler2Tag Brawler3Name Brawler3Tag Brawler4Name Brawler4Tag  \\\n0          BEA    #9U2QJ0P         GENE  #9UR09Q80Y          BEA  #222VJU0CU   \n1          BEA    #9U2QJ0P         GENE  #9UR09Q80Y         GENE   #2R9YVLQY   \n2          BEA    #9U2QJ0P         GENE  #9UR09Q80Y         GENE    #8YVQRQP   \n3          BEA    #9U2QJ0P         GENE  #9UR09Q80Y        JACKY  #2UPURLUG2   \n4          BEA    #9U2QJ0P         GENE  #9UR09Q80Y        PIPER   #PUG8CR80   \n\n  Brawler5Name Brawler5Tag Brawler6Name Brawler6Tag  \n0        BROCK  #20C2RRRGY          EMZ   #Y220JJJ9  \n1          MAX  #22L8CLYQU        PENNY  #28U009JPY  \n2        BROCK    #9QJP9LP        SPIKE  #98VJCL2PQ  \n3        FRANK  #2UCV2R0LV         POCO  #22RURYRV0  \n4        BROCK  #98JQVGLP9        JACKY  #8822ULJ9Q  ",
      "text/html": "<div>\n<style scoped>\n    .dataframe tbody tr th:only-of-type {\n        vertical-align: middle;\n    }\n\n    .dataframe tbody tr th {\n        vertical-align: top;\n    }\n\n    .dataframe thead th {\n        text-align: right;\n    }\n</style>\n<table border=\"1\" class=\"dataframe\">\n  <thead>\n    <tr style=\"text-align: right;\">\n      <th></th>\n      <th>WinningTeam</th>\n      <th>BattleTime</th>\n      <th>playerTag</th>\n      <th>mode</th>\n      <th>map</th>\n      <th>result</th>\n      <th>StarPlayerTag</th>\n      <th>StarPlayerBrawler</th>\n      <th>Brawler1Name</th>\n      <th>Brawler1Tag</th>\n      <th>Brawler2Name</th>\n      <th>Brawler2Tag</th>\n      <th>Brawler3Name</th>\n      <th>Brawler3Tag</th>\n      <th>Brawler4Name</th>\n      <th>Brawler4Tag</th>\n      <th>Brawler5Name</th>\n      <th>Brawler5Tag</th>\n      <th>Brawler6Name</th>\n      <th>Brawler6Tag</th>\n    </tr>\n  </thead>\n  <tbody>\n    <tr>\n      <th>0</th>\n      <td>1</td>\n      <td>20200530T122433.000Z</td>\n      <td>#9U2QJ0P</td>\n      <td>brawlBall</td>\n      <td>Backyard Bowl</td>\n      <td>1</td>\n      <td>#9U2QJ0P</td>\n      <td>BEA</td>\n      <td>PIPER</td>\n      <td>#VGR0CJ29</td>\n      <td>BEA</td>\n      <td>#9U2QJ0P</td>\n      <td>GENE</td>\n      <td>#9UR09Q80Y</td>\n      <td>BEA</td>\n      <td>#222VJU0CU</td>\n      <td>BROCK</td>\n      <td>#20C2RRRGY</td>\n      <td>EMZ</td>\n      <td>#Y220JJJ9</td>\n    </tr>\n    <tr>\n      <th>1</th>\n      <td>1</td>\n      <td>20200530T121808.000Z</td>\n      <td>#9U2QJ0P</td>\n      <td>brawlBall</td>\n      <td>Backyard Bowl</td>\n      <td>1</td>\n      <td>#9U2QJ0P</td>\n      <td>BEA</td>\n      <td>PIPER</td>\n      <td>#VGR0CJ29</td>\n      <td>BEA</td>\n      <td>#9U2QJ0P</td>\n      <td>GENE</td>\n      <td>#9UR09Q80Y</td>\n      <td>GENE</td>\n      <td>#2R9YVLQY</td>\n      <td>MAX</td>\n      <td>#22L8CLYQU</td>\n      <td>PENNY</td>\n      <td>#28U009JPY</td>\n    </tr>\n    <tr>\n      <th>2</th>\n      <td>1</td>\n      <td>20200530T121207.000Z</td>\n      <td>#9U2QJ0P</td>\n      <td>brawlBall</td>\n      <td>Backyard Bowl</td>\n      <td>1</td>\n      <td>#9U2QJ0P</td>\n      <td>BEA</td>\n      <td>PIPER</td>\n      <td>#VGR0CJ29</td>\n      <td>BEA</td>\n      <td>#9U2QJ0P</td>\n      <td>GENE</td>\n      <td>#9UR09Q80Y</td>\n      <td>GENE</td>\n      <td>#8YVQRQP</td>\n      <td>BROCK</td>\n      <td>#9QJP9LP</td>\n      <td>SPIKE</td>\n      <td>#98VJCL2PQ</td>\n    </tr>\n    <tr>\n      <th>3</th>\n      <td>1</td>\n      <td>20200530T120359.000Z</td>\n      <td>#9U2QJ0P</td>\n      <td>brawlBall</td>\n      <td>Backyard Bowl</td>\n      <td>1</td>\n      <td>#VGR0CJ29</td>\n      <td>PIPER</td>\n      <td>PIPER</td>\n      <td>#VGR0CJ29</td>\n      <td>BEA</td>\n      <td>#9U2QJ0P</td>\n      <td>GENE</td>\n      <td>#9UR09Q80Y</td>\n      <td>JACKY</td>\n      <td>#2UPURLUG2</td>\n      <td>FRANK</td>\n      <td>#2UCV2R0LV</td>\n      <td>POCO</td>\n      <td>#22RURYRV0</td>\n    </tr>\n    <tr>\n      <th>4</th>\n      <td>1</td>\n      <td>20200530T120028.000Z</td>\n      <td>#9U2QJ0P</td>\n      <td>brawlBall</td>\n      <td>Backyard Bowl</td>\n      <td>1</td>\n      <td>#VGR0CJ29</td>\n      <td>PIPER</td>\n      <td>PIPER</td>\n      <td>#VGR0CJ29</td>\n      <td>BEA</td>\n      <td>#9U2QJ0P</td>\n      <td>GENE</td>\n      <td>#9UR09Q80Y</td>\n      <td>PIPER</td>\n      <td>#PUG8CR80</td>\n      <td>BROCK</td>\n      <td>#98JQVGLP9</td>\n      <td>JACKY</td>\n      <td>#8822ULJ9Q</td>\n    </tr>\n  </tbody>\n</table>\n</div>"
     },
     "execution_count": 79,
     "metadata": {},
     "output_type": "execute_result"
    }
   ],
   "source": [
    "df.head(5)"
   ],
   "metadata": {
    "collapsed": false,
    "pycharm": {
     "name": "#%%\n"
    }
   }
  },
  {
   "cell_type": "markdown",
   "source": [
    "Find frequent teams from winning teams\n",
    "\n",
    "819/1158 wins, could result from deleting duplicate matches and probably"
   ],
   "metadata": {
    "collapsed": false,
    "pycharm": {
     "name": "#%% md\n"
    }
   }
  },
  {
   "cell_type": "code",
   "execution_count": 80,
   "outputs": [],
   "source": [
    "#dfWinners = df[df[\"result\"] == 1]\n",
    "#dfWinningTeams = pd.DataFrame(columns=[\"Brawler1\", \"Brawler2\", \"Brawler3\"])\n"
   ],
   "metadata": {
    "collapsed": false,
    "pycharm": {
     "name": "#%%\n"
    }
   }
  },
  {
   "cell_type": "code",
   "execution_count": 81,
   "outputs": [],
   "source": [
    "winningTeams = []\n",
    "counter = 0\n",
    "for index, row in df.iterrows():\n",
    "    team = []\n",
    "    if row[\"WinningTeam\"] == 1 and row[\"result\"] != 0:\n",
    "        team.append(row[\"Brawler1Name\"])\n",
    "        team.append(row[\"Brawler2Name\"])\n",
    "        team.append(row[\"Brawler3Name\"])\n",
    "    elif row[\"result\"] != 0:\n",
    "        team.append(row[\"Brawler4Name\"])\n",
    "        team.append(row[\"Brawler5Name\"])\n",
    "        team.append(row[\"Brawler6Name\"])\n",
    "\n",
    "    if len(team) != 0:\n",
    "        winningTeams.append(team)\n",
    "\n",
    "te = TransactionEncoder()\n",
    "te_ary = te.fit(winningTeams).transform(winningTeams)\n",
    "dfFreqSetsWinner = pd.DataFrame(te_ary, columns=te.columns_)\n",
    "dfFreqSetsWinner\n",
    "\n",
    "frequent_itemsets_winner = apriori(dfFreqSetsWinner, min_support=0.01, use_colnames=True)\n",
    "frequent_itemsets_winner['length'] = frequent_itemsets_winner['itemsets'].apply(lambda x: len(x))\n",
    "frequent_itemsets_winner[ (frequent_itemsets_winner['length'] == 3) ].sort_values(by=[\"support\"], ascending=False)\n"
   ],
   "metadata": {
    "collapsed": false,
    "pycharm": {
     "name": "#%%\n"
    }
   }
  },
  {
   "cell_type": "markdown",
   "source": [
    "# Loosing Teams"
   ],
   "metadata": {
    "collapsed": false,
    "pycharm": {
     "name": "#%% md\n"
    }
   }
  },
  {
   "cell_type": "code",
   "execution_count": 85,
   "outputs": [],
   "source": [
    "#dfWinningTeams = pd.DataFrame(columns=[\"Brawler1\", \"Brawler2\", \"Brawler3\"])\n",
    "losingTeams = []"
   ],
   "metadata": {
    "collapsed": false,
    "pycharm": {
     "name": "#%%\n"
    }
   }
  },
  {
   "cell_type": "code",
   "execution_count": 86,
   "outputs": [],
   "source": [
    "counter = 0\n",
    "for index, row in df.iterrows():\n",
    "    team = []\n",
    "    if row[\"WinningTeam\"] == 2 and row[\"result\"] != 0:\n",
    "        team.append(row[\"Brawler1Name\"])\n",
    "        team.append(row[\"Brawler2Name\"])\n",
    "        team.append(row[\"Brawler3Name\"])\n",
    "    elif row[\"result\"] != 0:\n",
    "        team.append(row[\"Brawler4Name\"])\n",
    "        team.append(row[\"Brawler5Name\"])\n",
    "        team.append(row[\"Brawler6Name\"])\n",
    "\n",
    "    if len(team) != 0:\n",
    "        losingTeams.append(team)"
   ],
   "metadata": {
    "collapsed": false,
    "pycharm": {
     "name": "#%%\n"
    }
   }
  },
  {
   "cell_type": "code",
   "execution_count": 87,
   "outputs": [
    {
     "data": {
      "text/plain": "      8-BIT  BARLEY    BEA   BIBI     BO  BROCK   BULL   CARL   COLT   CROW  \\\n0     False   False   True  False  False   True  False  False  False  False   \n1     False   False  False  False  False  False  False  False  False  False   \n2     False   False  False  False  False   True  False  False  False  False   \n3     False   False  False  False  False  False  False  False  False  False   \n4     False   False  False  False  False   True  False  False  False  False   \n...     ...     ...    ...    ...    ...    ...    ...    ...    ...    ...   \n1120  False   False  False  False  False   True  False  False   True  False   \n1121  False   False  False   True   True  False  False  False  False  False   \n1122  False   False   True  False  False  False  False  False  False  False   \n1123  False   False  False  False  False  False  False  False  False  False   \n1124  False   False   True  False  False  False  False  False  False  False   \n\n      ...  PIPER   POCO   RICO   ROSA  SANDY  SHELLY  SPIKE  SPROUT   TARA  \\\n0     ...  False  False  False  False  False   False  False   False  False   \n1     ...  False  False  False  False  False   False  False   False  False   \n2     ...  False  False  False  False  False   False   True   False  False   \n3     ...  False   True  False  False  False   False  False   False  False   \n4     ...   True  False  False  False  False   False  False   False  False   \n...   ...    ...    ...    ...    ...    ...     ...    ...     ...    ...   \n1120  ...  False  False  False  False  False   False  False   False  False   \n1121  ...  False  False  False  False  False   False  False   False  False   \n1122  ...  False  False  False  False  False   False  False    True   True   \n1123  ...  False  False  False  False  False   False  False   False  False   \n1124  ...  False   True  False  False  False   False  False   False  False   \n\n       TICK  \n0     False  \n1     False  \n2     False  \n3     False  \n4     False  \n...     ...  \n1120  False  \n1121  False  \n1122  False  \n1123  False  \n1124  False  \n\n[1125 rows x 36 columns]",
      "text/html": "<div>\n<style scoped>\n    .dataframe tbody tr th:only-of-type {\n        vertical-align: middle;\n    }\n\n    .dataframe tbody tr th {\n        vertical-align: top;\n    }\n\n    .dataframe thead th {\n        text-align: right;\n    }\n</style>\n<table border=\"1\" class=\"dataframe\">\n  <thead>\n    <tr style=\"text-align: right;\">\n      <th></th>\n      <th>8-BIT</th>\n      <th>BARLEY</th>\n      <th>BEA</th>\n      <th>BIBI</th>\n      <th>BO</th>\n      <th>BROCK</th>\n      <th>BULL</th>\n      <th>CARL</th>\n      <th>COLT</th>\n      <th>CROW</th>\n      <th>...</th>\n      <th>PIPER</th>\n      <th>POCO</th>\n      <th>RICO</th>\n      <th>ROSA</th>\n      <th>SANDY</th>\n      <th>SHELLY</th>\n      <th>SPIKE</th>\n      <th>SPROUT</th>\n      <th>TARA</th>\n      <th>TICK</th>\n    </tr>\n  </thead>\n  <tbody>\n    <tr>\n      <th>0</th>\n      <td>False</td>\n      <td>False</td>\n      <td>True</td>\n      <td>False</td>\n      <td>False</td>\n      <td>True</td>\n      <td>False</td>\n      <td>False</td>\n      <td>False</td>\n      <td>False</td>\n      <td>...</td>\n      <td>False</td>\n      <td>False</td>\n      <td>False</td>\n      <td>False</td>\n      <td>False</td>\n      <td>False</td>\n      <td>False</td>\n      <td>False</td>\n      <td>False</td>\n      <td>False</td>\n    </tr>\n    <tr>\n      <th>1</th>\n      <td>False</td>\n      <td>False</td>\n      <td>False</td>\n      <td>False</td>\n      <td>False</td>\n      <td>False</td>\n      <td>False</td>\n      <td>False</td>\n      <td>False</td>\n      <td>False</td>\n      <td>...</td>\n      <td>False</td>\n      <td>False</td>\n      <td>False</td>\n      <td>False</td>\n      <td>False</td>\n      <td>False</td>\n      <td>False</td>\n      <td>False</td>\n      <td>False</td>\n      <td>False</td>\n    </tr>\n    <tr>\n      <th>2</th>\n      <td>False</td>\n      <td>False</td>\n      <td>False</td>\n      <td>False</td>\n      <td>False</td>\n      <td>True</td>\n      <td>False</td>\n      <td>False</td>\n      <td>False</td>\n      <td>False</td>\n      <td>...</td>\n      <td>False</td>\n      <td>False</td>\n      <td>False</td>\n      <td>False</td>\n      <td>False</td>\n      <td>False</td>\n      <td>True</td>\n      <td>False</td>\n      <td>False</td>\n      <td>False</td>\n    </tr>\n    <tr>\n      <th>3</th>\n      <td>False</td>\n      <td>False</td>\n      <td>False</td>\n      <td>False</td>\n      <td>False</td>\n      <td>False</td>\n      <td>False</td>\n      <td>False</td>\n      <td>False</td>\n      <td>False</td>\n      <td>...</td>\n      <td>False</td>\n      <td>True</td>\n      <td>False</td>\n      <td>False</td>\n      <td>False</td>\n      <td>False</td>\n      <td>False</td>\n      <td>False</td>\n      <td>False</td>\n      <td>False</td>\n    </tr>\n    <tr>\n      <th>4</th>\n      <td>False</td>\n      <td>False</td>\n      <td>False</td>\n      <td>False</td>\n      <td>False</td>\n      <td>True</td>\n      <td>False</td>\n      <td>False</td>\n      <td>False</td>\n      <td>False</td>\n      <td>...</td>\n      <td>True</td>\n      <td>False</td>\n      <td>False</td>\n      <td>False</td>\n      <td>False</td>\n      <td>False</td>\n      <td>False</td>\n      <td>False</td>\n      <td>False</td>\n      <td>False</td>\n    </tr>\n    <tr>\n      <th>...</th>\n      <td>...</td>\n      <td>...</td>\n      <td>...</td>\n      <td>...</td>\n      <td>...</td>\n      <td>...</td>\n      <td>...</td>\n      <td>...</td>\n      <td>...</td>\n      <td>...</td>\n      <td>...</td>\n      <td>...</td>\n      <td>...</td>\n      <td>...</td>\n      <td>...</td>\n      <td>...</td>\n      <td>...</td>\n      <td>...</td>\n      <td>...</td>\n      <td>...</td>\n      <td>...</td>\n    </tr>\n    <tr>\n      <th>1120</th>\n      <td>False</td>\n      <td>False</td>\n      <td>False</td>\n      <td>False</td>\n      <td>False</td>\n      <td>True</td>\n      <td>False</td>\n      <td>False</td>\n      <td>True</td>\n      <td>False</td>\n      <td>...</td>\n      <td>False</td>\n      <td>False</td>\n      <td>False</td>\n      <td>False</td>\n      <td>False</td>\n      <td>False</td>\n      <td>False</td>\n      <td>False</td>\n      <td>False</td>\n      <td>False</td>\n    </tr>\n    <tr>\n      <th>1121</th>\n      <td>False</td>\n      <td>False</td>\n      <td>False</td>\n      <td>True</td>\n      <td>True</td>\n      <td>False</td>\n      <td>False</td>\n      <td>False</td>\n      <td>False</td>\n      <td>False</td>\n      <td>...</td>\n      <td>False</td>\n      <td>False</td>\n      <td>False</td>\n      <td>False</td>\n      <td>False</td>\n      <td>False</td>\n      <td>False</td>\n      <td>False</td>\n      <td>False</td>\n      <td>False</td>\n    </tr>\n    <tr>\n      <th>1122</th>\n      <td>False</td>\n      <td>False</td>\n      <td>True</td>\n      <td>False</td>\n      <td>False</td>\n      <td>False</td>\n      <td>False</td>\n      <td>False</td>\n      <td>False</td>\n      <td>False</td>\n      <td>...</td>\n      <td>False</td>\n      <td>False</td>\n      <td>False</td>\n      <td>False</td>\n      <td>False</td>\n      <td>False</td>\n      <td>False</td>\n      <td>True</td>\n      <td>True</td>\n      <td>False</td>\n    </tr>\n    <tr>\n      <th>1123</th>\n      <td>False</td>\n      <td>False</td>\n      <td>False</td>\n      <td>False</td>\n      <td>False</td>\n      <td>False</td>\n      <td>False</td>\n      <td>False</td>\n      <td>False</td>\n      <td>False</td>\n      <td>...</td>\n      <td>False</td>\n      <td>False</td>\n      <td>False</td>\n      <td>False</td>\n      <td>False</td>\n      <td>False</td>\n      <td>False</td>\n      <td>False</td>\n      <td>False</td>\n      <td>False</td>\n    </tr>\n    <tr>\n      <th>1124</th>\n      <td>False</td>\n      <td>False</td>\n      <td>True</td>\n      <td>False</td>\n      <td>False</td>\n      <td>False</td>\n      <td>False</td>\n      <td>False</td>\n      <td>False</td>\n      <td>False</td>\n      <td>...</td>\n      <td>False</td>\n      <td>True</td>\n      <td>False</td>\n      <td>False</td>\n      <td>False</td>\n      <td>False</td>\n      <td>False</td>\n      <td>False</td>\n      <td>False</td>\n      <td>False</td>\n    </tr>\n  </tbody>\n</table>\n<p>1125 rows × 36 columns</p>\n</div>"
     },
     "execution_count": 87,
     "metadata": {},
     "output_type": "execute_result"
    }
   ],
   "source": [
    "te_2 = TransactionEncoder()\n",
    "te_ary_2 = te_2.fit(losingTeams).transform(losingTeams)\n",
    "dfFreqSetsLoser = pd.DataFrame(te_ary_2, columns=te.columns_)\n",
    "dfFreqSetsLoser"
   ],
   "metadata": {
    "collapsed": false,
    "pycharm": {
     "name": "#%%\n"
    }
   }
  },
  {
   "cell_type": "code",
   "execution_count": 88,
   "outputs": [],
   "source": [
    "frequent_itemsets_loser = apriori(dfFreqSetsLoser, min_support=0.01, use_colnames=True)\n",
    "frequent_itemsets_loser['length'] = frequent_itemsets_loser['itemsets'].apply(lambda x: len(x))"
   ],
   "metadata": {
    "collapsed": false,
    "pycharm": {
     "name": "#%%\n"
    }
   }
  },
  {
   "cell_type": "code",
   "execution_count": 89,
   "outputs": [
    {
     "data": {
      "text/plain": "Empty DataFrame\nColumns: [support, itemsets, length]\nIndex: []",
      "text/html": "<div>\n<style scoped>\n    .dataframe tbody tr th:only-of-type {\n        vertical-align: middle;\n    }\n\n    .dataframe tbody tr th {\n        vertical-align: top;\n    }\n\n    .dataframe thead th {\n        text-align: right;\n    }\n</style>\n<table border=\"1\" class=\"dataframe\">\n  <thead>\n    <tr style=\"text-align: right;\">\n      <th></th>\n      <th>support</th>\n      <th>itemsets</th>\n      <th>length</th>\n    </tr>\n  </thead>\n  <tbody>\n  </tbody>\n</table>\n</div>"
     },
     "execution_count": 89,
     "metadata": {},
     "output_type": "execute_result"
    }
   ],
   "source": [
    "frequent_itemsets_loser[ (frequent_itemsets_loser['length'] == 3) ].sort_values(by=[\"support\"], ascending=False)"
   ],
   "metadata": {
    "collapsed": false,
    "pycharm": {
     "name": "#%%\n"
    }
   }
  },
  {
   "cell_type": "markdown",
   "source": [
    "# All Teams"
   ],
   "metadata": {
    "collapsed": false
   }
  },
  {
   "cell_type": "code",
   "execution_count": 90,
   "outputs": [],
   "source": [
    "#dfWinningTeams = pd.DataFrame(columns=[\"Brawler1\", \"Brawler2\", \"Brawler3\"])\n",
    "Teams = []"
   ],
   "metadata": {
    "collapsed": false,
    "pycharm": {
     "name": "#%%\n"
    }
   }
  },
  {
   "cell_type": "code",
   "execution_count": 91,
   "outputs": [],
   "source": [
    "counter = 0\n",
    "for index, row in df.iterrows():\n",
    "    team1 = []\n",
    "    team2 = []\n",
    "\n",
    "    team1.append(row[\"Brawler1Name\"])\n",
    "    team1.append(row[\"Brawler2Name\"])\n",
    "    team1.append(row[\"Brawler3Name\"])\n",
    "\n",
    "    team2.append(row[\"Brawler4Name\"])\n",
    "    team2.append(row[\"Brawler5Name\"])\n",
    "    team2.append(row[\"Brawler6Name\"])\n",
    "\n",
    "\n",
    "    Teams.append(team1)\n",
    "    Teams.append(team2)"
   ],
   "metadata": {
    "collapsed": false,
    "pycharm": {
     "name": "#%%\n"
    }
   }
  },
  {
   "cell_type": "code",
   "execution_count": 92,
   "outputs": [
    {
     "data": {
      "text/plain": "      8-BIT  BARLEY    BEA   BIBI     BO  BROCK   BULL   CARL   COLT   CROW  \\\n0     False   False   True  False  False  False  False  False  False  False   \n1     False   False   True  False  False   True  False  False  False  False   \n2     False   False   True  False  False  False  False  False  False  False   \n3     False   False  False  False  False  False  False  False  False  False   \n4     False   False   True  False  False  False  False  False  False  False   \n...     ...     ...    ...    ...    ...    ...    ...    ...    ...    ...   \n2311  False   False   True  False  False  False  False  False  False  False   \n2312  False   False  False  False   True  False  False   True  False  False   \n2313  False   False  False  False  False  False  False  False  False  False   \n2314  False   False  False  False   True  False  False   True  False  False   \n2315  False   False   True  False  False  False  False  False  False  False   \n\n      ...  PIPER   POCO   RICO   ROSA  SANDY  SHELLY  SPIKE  SPROUT   TARA  \\\n0     ...   True  False  False  False  False   False  False   False  False   \n1     ...  False  False  False  False  False   False  False   False  False   \n2     ...   True  False  False  False  False   False  False   False  False   \n3     ...  False  False  False  False  False   False  False   False  False   \n4     ...   True  False  False  False  False   False  False   False  False   \n...   ...    ...    ...    ...    ...    ...     ...    ...     ...    ...   \n2311  ...  False  False  False  False  False   False  False    True   True   \n2312  ...   True  False  False  False  False   False  False   False  False   \n2313  ...  False  False  False  False  False   False  False   False  False   \n2314  ...   True  False  False  False  False   False  False   False  False   \n2315  ...  False   True  False  False  False   False  False   False  False   \n\n       TICK  \n0     False  \n1     False  \n2     False  \n3     False  \n4     False  \n...     ...  \n2311  False  \n2312  False  \n2313  False  \n2314  False  \n2315  False  \n\n[2316 rows x 36 columns]",
      "text/html": "<div>\n<style scoped>\n    .dataframe tbody tr th:only-of-type {\n        vertical-align: middle;\n    }\n\n    .dataframe tbody tr th {\n        vertical-align: top;\n    }\n\n    .dataframe thead th {\n        text-align: right;\n    }\n</style>\n<table border=\"1\" class=\"dataframe\">\n  <thead>\n    <tr style=\"text-align: right;\">\n      <th></th>\n      <th>8-BIT</th>\n      <th>BARLEY</th>\n      <th>BEA</th>\n      <th>BIBI</th>\n      <th>BO</th>\n      <th>BROCK</th>\n      <th>BULL</th>\n      <th>CARL</th>\n      <th>COLT</th>\n      <th>CROW</th>\n      <th>...</th>\n      <th>PIPER</th>\n      <th>POCO</th>\n      <th>RICO</th>\n      <th>ROSA</th>\n      <th>SANDY</th>\n      <th>SHELLY</th>\n      <th>SPIKE</th>\n      <th>SPROUT</th>\n      <th>TARA</th>\n      <th>TICK</th>\n    </tr>\n  </thead>\n  <tbody>\n    <tr>\n      <th>0</th>\n      <td>False</td>\n      <td>False</td>\n      <td>True</td>\n      <td>False</td>\n      <td>False</td>\n      <td>False</td>\n      <td>False</td>\n      <td>False</td>\n      <td>False</td>\n      <td>False</td>\n      <td>...</td>\n      <td>True</td>\n      <td>False</td>\n      <td>False</td>\n      <td>False</td>\n      <td>False</td>\n      <td>False</td>\n      <td>False</td>\n      <td>False</td>\n      <td>False</td>\n      <td>False</td>\n    </tr>\n    <tr>\n      <th>1</th>\n      <td>False</td>\n      <td>False</td>\n      <td>True</td>\n      <td>False</td>\n      <td>False</td>\n      <td>True</td>\n      <td>False</td>\n      <td>False</td>\n      <td>False</td>\n      <td>False</td>\n      <td>...</td>\n      <td>False</td>\n      <td>False</td>\n      <td>False</td>\n      <td>False</td>\n      <td>False</td>\n      <td>False</td>\n      <td>False</td>\n      <td>False</td>\n      <td>False</td>\n      <td>False</td>\n    </tr>\n    <tr>\n      <th>2</th>\n      <td>False</td>\n      <td>False</td>\n      <td>True</td>\n      <td>False</td>\n      <td>False</td>\n      <td>False</td>\n      <td>False</td>\n      <td>False</td>\n      <td>False</td>\n      <td>False</td>\n      <td>...</td>\n      <td>True</td>\n      <td>False</td>\n      <td>False</td>\n      <td>False</td>\n      <td>False</td>\n      <td>False</td>\n      <td>False</td>\n      <td>False</td>\n      <td>False</td>\n      <td>False</td>\n    </tr>\n    <tr>\n      <th>3</th>\n      <td>False</td>\n      <td>False</td>\n      <td>False</td>\n      <td>False</td>\n      <td>False</td>\n      <td>False</td>\n      <td>False</td>\n      <td>False</td>\n      <td>False</td>\n      <td>False</td>\n      <td>...</td>\n      <td>False</td>\n      <td>False</td>\n      <td>False</td>\n      <td>False</td>\n      <td>False</td>\n      <td>False</td>\n      <td>False</td>\n      <td>False</td>\n      <td>False</td>\n      <td>False</td>\n    </tr>\n    <tr>\n      <th>4</th>\n      <td>False</td>\n      <td>False</td>\n      <td>True</td>\n      <td>False</td>\n      <td>False</td>\n      <td>False</td>\n      <td>False</td>\n      <td>False</td>\n      <td>False</td>\n      <td>False</td>\n      <td>...</td>\n      <td>True</td>\n      <td>False</td>\n      <td>False</td>\n      <td>False</td>\n      <td>False</td>\n      <td>False</td>\n      <td>False</td>\n      <td>False</td>\n      <td>False</td>\n      <td>False</td>\n    </tr>\n    <tr>\n      <th>...</th>\n      <td>...</td>\n      <td>...</td>\n      <td>...</td>\n      <td>...</td>\n      <td>...</td>\n      <td>...</td>\n      <td>...</td>\n      <td>...</td>\n      <td>...</td>\n      <td>...</td>\n      <td>...</td>\n      <td>...</td>\n      <td>...</td>\n      <td>...</td>\n      <td>...</td>\n      <td>...</td>\n      <td>...</td>\n      <td>...</td>\n      <td>...</td>\n      <td>...</td>\n      <td>...</td>\n    </tr>\n    <tr>\n      <th>2311</th>\n      <td>False</td>\n      <td>False</td>\n      <td>True</td>\n      <td>False</td>\n      <td>False</td>\n      <td>False</td>\n      <td>False</td>\n      <td>False</td>\n      <td>False</td>\n      <td>False</td>\n      <td>...</td>\n      <td>False</td>\n      <td>False</td>\n      <td>False</td>\n      <td>False</td>\n      <td>False</td>\n      <td>False</td>\n      <td>False</td>\n      <td>True</td>\n      <td>True</td>\n      <td>False</td>\n    </tr>\n    <tr>\n      <th>2312</th>\n      <td>False</td>\n      <td>False</td>\n      <td>False</td>\n      <td>False</td>\n      <td>True</td>\n      <td>False</td>\n      <td>False</td>\n      <td>True</td>\n      <td>False</td>\n      <td>False</td>\n      <td>...</td>\n      <td>True</td>\n      <td>False</td>\n      <td>False</td>\n      <td>False</td>\n      <td>False</td>\n      <td>False</td>\n      <td>False</td>\n      <td>False</td>\n      <td>False</td>\n      <td>False</td>\n    </tr>\n    <tr>\n      <th>2313</th>\n      <td>False</td>\n      <td>False</td>\n      <td>False</td>\n      <td>False</td>\n      <td>False</td>\n      <td>False</td>\n      <td>False</td>\n      <td>False</td>\n      <td>False</td>\n      <td>False</td>\n      <td>...</td>\n      <td>False</td>\n      <td>False</td>\n      <td>False</td>\n      <td>False</td>\n      <td>False</td>\n      <td>False</td>\n      <td>False</td>\n      <td>False</td>\n      <td>False</td>\n      <td>False</td>\n    </tr>\n    <tr>\n      <th>2314</th>\n      <td>False</td>\n      <td>False</td>\n      <td>False</td>\n      <td>False</td>\n      <td>True</td>\n      <td>False</td>\n      <td>False</td>\n      <td>True</td>\n      <td>False</td>\n      <td>False</td>\n      <td>...</td>\n      <td>True</td>\n      <td>False</td>\n      <td>False</td>\n      <td>False</td>\n      <td>False</td>\n      <td>False</td>\n      <td>False</td>\n      <td>False</td>\n      <td>False</td>\n      <td>False</td>\n    </tr>\n    <tr>\n      <th>2315</th>\n      <td>False</td>\n      <td>False</td>\n      <td>True</td>\n      <td>False</td>\n      <td>False</td>\n      <td>False</td>\n      <td>False</td>\n      <td>False</td>\n      <td>False</td>\n      <td>False</td>\n      <td>...</td>\n      <td>False</td>\n      <td>True</td>\n      <td>False</td>\n      <td>False</td>\n      <td>False</td>\n      <td>False</td>\n      <td>False</td>\n      <td>False</td>\n      <td>False</td>\n      <td>False</td>\n    </tr>\n  </tbody>\n</table>\n<p>2316 rows × 36 columns</p>\n</div>"
     },
     "execution_count": 92,
     "metadata": {},
     "output_type": "execute_result"
    }
   ],
   "source": [
    "te_all = TransactionEncoder()\n",
    "te_ary_all = te_all.fit(Teams).transform(Teams)\n",
    "dfFreqSetsAll = pd.DataFrame(te_ary_all, columns=te.columns_)\n",
    "dfFreqSetsAll"
   ],
   "metadata": {
    "collapsed": false,
    "pycharm": {
     "name": "#%%\n"
    }
   }
  },
  {
   "cell_type": "code",
   "execution_count": 93,
   "outputs": [],
   "source": [
    "frequent_itemsets_all = apriori(dfFreqSetsAll, min_support=0.01, use_colnames=True)\n",
    "frequent_itemsets_all['length'] = frequent_itemsets_all['itemsets'].apply(lambda x: len(x))"
   ],
   "metadata": {
    "collapsed": false,
    "pycharm": {
     "name": "#%%\n"
    }
   }
  },
  {
   "cell_type": "code",
   "execution_count": 94,
   "outputs": [
    {
     "data": {
      "text/plain": "      support             itemsets  length\n105  0.016408  (BROCK, BEA, PENNY)       3\n104  0.012953    (BROCK, BEA, PAM)       3\n107  0.012090  (BROCK, PIPER, PAM)       3\n106  0.010363  (BROCK, PIPER, BEA)       3",
      "text/html": "<div>\n<style scoped>\n    .dataframe tbody tr th:only-of-type {\n        vertical-align: middle;\n    }\n\n    .dataframe tbody tr th {\n        vertical-align: top;\n    }\n\n    .dataframe thead th {\n        text-align: right;\n    }\n</style>\n<table border=\"1\" class=\"dataframe\">\n  <thead>\n    <tr style=\"text-align: right;\">\n      <th></th>\n      <th>support</th>\n      <th>itemsets</th>\n      <th>length</th>\n    </tr>\n  </thead>\n  <tbody>\n    <tr>\n      <th>105</th>\n      <td>0.016408</td>\n      <td>(BROCK, BEA, PENNY)</td>\n      <td>3</td>\n    </tr>\n    <tr>\n      <th>104</th>\n      <td>0.012953</td>\n      <td>(BROCK, BEA, PAM)</td>\n      <td>3</td>\n    </tr>\n    <tr>\n      <th>107</th>\n      <td>0.012090</td>\n      <td>(BROCK, PIPER, PAM)</td>\n      <td>3</td>\n    </tr>\n    <tr>\n      <th>106</th>\n      <td>0.010363</td>\n      <td>(BROCK, PIPER, BEA)</td>\n      <td>3</td>\n    </tr>\n  </tbody>\n</table>\n</div>"
     },
     "execution_count": 94,
     "metadata": {},
     "output_type": "execute_result"
    }
   ],
   "source": [
    "frequent_itemsets_all[ (frequent_itemsets_all['length'] == 3) ].sort_values(by=[\"support\"], ascending=False)\n"
   ],
   "metadata": {
    "collapsed": false,
    "pycharm": {
     "name": "#%%\n"
    }
   }
  }
 ],
 "metadata": {
  "kernelspec": {
   "display_name": "Python 3",
   "language": "python",
   "name": "python3"
  },
  "language_info": {
   "codemirror_mode": {
    "name": "ipython",
    "version": 2
   },
   "file_extension": ".py",
   "mimetype": "text/x-python",
   "name": "python",
   "nbconvert_exporter": "python",
   "pygments_lexer": "ipython2",
   "version": "2.7.6"
  }
 },
 "nbformat": 4,
 "nbformat_minor": 0
}