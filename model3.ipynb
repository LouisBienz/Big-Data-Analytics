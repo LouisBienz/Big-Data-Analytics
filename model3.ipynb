{
 "cells": [
  {
   "cell_type": "code",
   "execution_count": 59,
   "metadata": {},
   "outputs": [],
   "source": [
    "import pandas as pd\n",
    "from sklearn import tree\n",
    "from sklearn.preprocessing import LabelEncoder\n",
    "from sklearn.model_selection import cross_val_score\n",
    "import numpy as np\n",
    "from sklearn.ensemble import RandomForestClassifier\n",
    "\n",
    "from operator import itemgetter"
   ]
  },
  {
   "cell_type": "markdown",
   "metadata": {},
   "source": [
    "The goal of this task is to predict the \"StarPlayerBrawler\" of the WinningTeam in the mode \"BrawlBall\". \n",
    "\n",
    "1. We will read out the winning team (The Starplayer can only come from the Winning Team). \n",
    "2. The Attributes \"WinningTeam\", \"map\", the 3 \"Winners\" and the \"StarPlayerBrawler\" of the match should be visualised as a table.\n",
    "3. We will create a model to predict the \"StarPlayerBrawler\" out of the 3 players of the WInningTeam"
   ]
  },
  {
   "cell_type": "markdown",
   "metadata": {},
   "source": [
    "# Reading the Dataset"
   ]
  },
  {
   "cell_type": "code",
   "execution_count": 5,
   "metadata": {},
   "outputs": [
    {
     "data": {
      "text/html": [
       "<div>\n",
       "<style scoped>\n",
       "    .dataframe tbody tr th:only-of-type {\n",
       "        vertical-align: middle;\n",
       "    }\n",
       "\n",
       "    .dataframe tbody tr th {\n",
       "        vertical-align: top;\n",
       "    }\n",
       "\n",
       "    .dataframe thead th {\n",
       "        text-align: right;\n",
       "    }\n",
       "</style>\n",
       "<table border=\"1\" class=\"dataframe\">\n",
       "  <thead>\n",
       "    <tr style=\"text-align: right;\">\n",
       "      <th></th>\n",
       "      <th>WinningTeam</th>\n",
       "      <th>BattleTime</th>\n",
       "      <th>playerTag</th>\n",
       "      <th>mode</th>\n",
       "      <th>map</th>\n",
       "      <th>result</th>\n",
       "      <th>StarPlayerTag</th>\n",
       "      <th>StarPlayerBrawler</th>\n",
       "      <th>Brawler1Name</th>\n",
       "      <th>Brawler1Tag</th>\n",
       "      <th>Brawler2Name</th>\n",
       "      <th>Brawler2Tag</th>\n",
       "      <th>Brawler3Name</th>\n",
       "      <th>Brawler3Tag</th>\n",
       "      <th>Brawler4Name</th>\n",
       "      <th>Brawler4Tag</th>\n",
       "      <th>Brawler5Name</th>\n",
       "      <th>Brawler5Tag</th>\n",
       "      <th>Brawler6Name</th>\n",
       "      <th>Brawler6Tag</th>\n",
       "    </tr>\n",
       "  </thead>\n",
       "  <tbody>\n",
       "    <tr>\n",
       "      <th>0</th>\n",
       "      <td>1</td>\n",
       "      <td>20200530T122433.000Z</td>\n",
       "      <td>#9U2QJ0P</td>\n",
       "      <td>brawlBall</td>\n",
       "      <td>Backyard Bowl</td>\n",
       "      <td>1</td>\n",
       "      <td>#9U2QJ0P</td>\n",
       "      <td>BEA</td>\n",
       "      <td>PIPER</td>\n",
       "      <td>#VGR0CJ29</td>\n",
       "      <td>BEA</td>\n",
       "      <td>#9U2QJ0P</td>\n",
       "      <td>GENE</td>\n",
       "      <td>#9UR09Q80Y</td>\n",
       "      <td>BEA</td>\n",
       "      <td>#222VJU0CU</td>\n",
       "      <td>BROCK</td>\n",
       "      <td>#20C2RRRGY</td>\n",
       "      <td>EMZ</td>\n",
       "      <td>#Y220JJJ9</td>\n",
       "    </tr>\n",
       "    <tr>\n",
       "      <th>1</th>\n",
       "      <td>1</td>\n",
       "      <td>20200530T121808.000Z</td>\n",
       "      <td>#9U2QJ0P</td>\n",
       "      <td>brawlBall</td>\n",
       "      <td>Backyard Bowl</td>\n",
       "      <td>1</td>\n",
       "      <td>#9U2QJ0P</td>\n",
       "      <td>BEA</td>\n",
       "      <td>PIPER</td>\n",
       "      <td>#VGR0CJ29</td>\n",
       "      <td>BEA</td>\n",
       "      <td>#9U2QJ0P</td>\n",
       "      <td>GENE</td>\n",
       "      <td>#9UR09Q80Y</td>\n",
       "      <td>GENE</td>\n",
       "      <td>#2R9YVLQY</td>\n",
       "      <td>MAX</td>\n",
       "      <td>#22L8CLYQU</td>\n",
       "      <td>PENNY</td>\n",
       "      <td>#28U009JPY</td>\n",
       "    </tr>\n",
       "    <tr>\n",
       "      <th>2</th>\n",
       "      <td>1</td>\n",
       "      <td>20200530T121207.000Z</td>\n",
       "      <td>#9U2QJ0P</td>\n",
       "      <td>brawlBall</td>\n",
       "      <td>Backyard Bowl</td>\n",
       "      <td>1</td>\n",
       "      <td>#9U2QJ0P</td>\n",
       "      <td>BEA</td>\n",
       "      <td>PIPER</td>\n",
       "      <td>#VGR0CJ29</td>\n",
       "      <td>BEA</td>\n",
       "      <td>#9U2QJ0P</td>\n",
       "      <td>GENE</td>\n",
       "      <td>#9UR09Q80Y</td>\n",
       "      <td>GENE</td>\n",
       "      <td>#8YVQRQP</td>\n",
       "      <td>BROCK</td>\n",
       "      <td>#9QJP9LP</td>\n",
       "      <td>SPIKE</td>\n",
       "      <td>#98VJCL2PQ</td>\n",
       "    </tr>\n",
       "    <tr>\n",
       "      <th>3</th>\n",
       "      <td>1</td>\n",
       "      <td>20200530T120359.000Z</td>\n",
       "      <td>#9U2QJ0P</td>\n",
       "      <td>brawlBall</td>\n",
       "      <td>Backyard Bowl</td>\n",
       "      <td>1</td>\n",
       "      <td>#VGR0CJ29</td>\n",
       "      <td>PIPER</td>\n",
       "      <td>PIPER</td>\n",
       "      <td>#VGR0CJ29</td>\n",
       "      <td>BEA</td>\n",
       "      <td>#9U2QJ0P</td>\n",
       "      <td>GENE</td>\n",
       "      <td>#9UR09Q80Y</td>\n",
       "      <td>JACKY</td>\n",
       "      <td>#2UPURLUG2</td>\n",
       "      <td>FRANK</td>\n",
       "      <td>#2UCV2R0LV</td>\n",
       "      <td>POCO</td>\n",
       "      <td>#22RURYRV0</td>\n",
       "    </tr>\n",
       "    <tr>\n",
       "      <th>4</th>\n",
       "      <td>1</td>\n",
       "      <td>20200530T120028.000Z</td>\n",
       "      <td>#9U2QJ0P</td>\n",
       "      <td>brawlBall</td>\n",
       "      <td>Backyard Bowl</td>\n",
       "      <td>1</td>\n",
       "      <td>#VGR0CJ29</td>\n",
       "      <td>PIPER</td>\n",
       "      <td>PIPER</td>\n",
       "      <td>#VGR0CJ29</td>\n",
       "      <td>BEA</td>\n",
       "      <td>#9U2QJ0P</td>\n",
       "      <td>GENE</td>\n",
       "      <td>#9UR09Q80Y</td>\n",
       "      <td>PIPER</td>\n",
       "      <td>#PUG8CR80</td>\n",
       "      <td>BROCK</td>\n",
       "      <td>#98JQVGLP9</td>\n",
       "      <td>JACKY</td>\n",
       "      <td>#8822ULJ9Q</td>\n",
       "    </tr>\n",
       "  </tbody>\n",
       "</table>\n",
       "</div>"
      ],
      "text/plain": [
       "   WinningTeam            BattleTime playerTag       mode            map  \\\n",
       "0            1  20200530T122433.000Z  #9U2QJ0P  brawlBall  Backyard Bowl   \n",
       "1            1  20200530T121808.000Z  #9U2QJ0P  brawlBall  Backyard Bowl   \n",
       "2            1  20200530T121207.000Z  #9U2QJ0P  brawlBall  Backyard Bowl   \n",
       "3            1  20200530T120359.000Z  #9U2QJ0P  brawlBall  Backyard Bowl   \n",
       "4            1  20200530T120028.000Z  #9U2QJ0P  brawlBall  Backyard Bowl   \n",
       "\n",
       "   result StarPlayerTag StarPlayerBrawler Brawler1Name Brawler1Tag  \\\n",
       "0       1      #9U2QJ0P               BEA        PIPER   #VGR0CJ29   \n",
       "1       1      #9U2QJ0P               BEA        PIPER   #VGR0CJ29   \n",
       "2       1      #9U2QJ0P               BEA        PIPER   #VGR0CJ29   \n",
       "3       1     #VGR0CJ29             PIPER        PIPER   #VGR0CJ29   \n",
       "4       1     #VGR0CJ29             PIPER        PIPER   #VGR0CJ29   \n",
       "\n",
       "  Brawler2Name Brawler2Tag Brawler3Name Brawler3Tag Brawler4Name Brawler4Tag  \\\n",
       "0          BEA    #9U2QJ0P         GENE  #9UR09Q80Y          BEA  #222VJU0CU   \n",
       "1          BEA    #9U2QJ0P         GENE  #9UR09Q80Y         GENE   #2R9YVLQY   \n",
       "2          BEA    #9U2QJ0P         GENE  #9UR09Q80Y         GENE    #8YVQRQP   \n",
       "3          BEA    #9U2QJ0P         GENE  #9UR09Q80Y        JACKY  #2UPURLUG2   \n",
       "4          BEA    #9U2QJ0P         GENE  #9UR09Q80Y        PIPER   #PUG8CR80   \n",
       "\n",
       "  Brawler5Name Brawler5Tag Brawler6Name Brawler6Tag  \n",
       "0        BROCK  #20C2RRRGY          EMZ   #Y220JJJ9  \n",
       "1          MAX  #22L8CLYQU        PENNY  #28U009JPY  \n",
       "2        BROCK    #9QJP9LP        SPIKE  #98VJCL2PQ  \n",
       "3        FRANK  #2UCV2R0LV         POCO  #22RURYRV0  \n",
       "4        BROCK  #98JQVGLP9        JACKY  #8822ULJ9Q  "
      ]
     },
     "execution_count": 5,
     "metadata": {},
     "output_type": "execute_result"
    }
   ],
   "source": [
    "df = pd.read_csv(\"rawdata.csv\")\n",
    "df.head(5)"
   ]
  },
  {
   "cell_type": "markdown",
   "metadata": {},
   "source": [
    "# Appending Winners"
   ]
  },
  {
   "cell_type": "markdown",
   "metadata": {},
   "source": [
    "Since Brawlball is 3 vs 3 mode, we only need the Winners. For each row, i will append the BrawlerNames only of the Winner group:"
   ]
  },
  {
   "cell_type": "code",
   "execution_count": 115,
   "metadata": {},
   "outputs": [
    {
     "name": "stdout",
     "output_type": "stream",
     "text": [
      "(1113, 513)\n"
     ]
    }
   ],
   "source": [
    "WinnerTeam = []\n",
    "\n",
    "for index, row in df.iterrows():\n",
    "    winners = []\n",
    "    \n",
    "    if row[\"WinningTeam\"] == 1 and row[\"result\"] != 0:\n",
    "        winners.append(row[\"Brawler1Name\"])\n",
    "        winners.append(row[\"Brawler2Name\"])\n",
    "        winners.append(row[\"Brawler3Name\"])\n",
    "        \n",
    "    \n",
    "    elif row[\"result\"] != 0:\n",
    "        winners.append(row[\"Brawler4Name\"])\n",
    "        winners.append(row[\"Brawler5Name\"])\n",
    "        winners.append(row[\"Brawler6Name\"])\n",
    "    \n",
    "    if len(winners) != 0:\n",
    "        winners = sorted(winners)\n",
    "        WinnerTeam.append(winners)\n",
    "\n",
    "combinedWinnerTeam = []\n",
    "    \n",
    "for i in range(len(WinnerTeam)):\n",
    "    winners = \"\"\n",
    "    winners = winners + WinnerTeam[i][0]\n",
    "    winners = winners + WinnerTeam[i][1]\n",
    "    winners = winners + WinnerTeam[i][2]\n",
    "    combinedWinnerTeam.append(winners)\n",
    "    \n",
    "print(dfFinal.shape)"
   ]
  },
  {
   "cell_type": "markdown",
   "metadata": {},
   "source": [
    "# Creating Table (WinningTeam, map, 3 Winners, Starplayer)"
   ]
  },
  {
   "cell_type": "code",
   "execution_count": 120,
   "metadata": {},
   "outputs": [
    {
     "name": "stdout",
     "output_type": "stream",
     "text": [
      "        WinnerTeam             map StarPlayerBrawler\n",
      "0     BEAGENEPIPER   Backyard Bowl               BEA\n",
      "1     BEAGENEPIPER   Backyard Bowl               BEA\n",
      "2     BEAGENEPIPER   Backyard Bowl               BEA\n",
      "3     BEAGENEPIPER   Backyard Bowl             PIPER\n",
      "4     BEAGENEPIPER   Backyard Bowl             PIPER\n",
      "5     BEAGENEPIPER   Backyard Bowl              GENE\n",
      "6     BEAGENEPIPER   Backyard Bowl             PIPER\n",
      "7     BEAGENEPIPER   Backyard Bowl             PIPER\n",
      "8     BEAGENEPIPER   Backyard Bowl              GENE\n",
      "9   GENESANDYSPIKE  Triple Dribble             SANDY\n",
      "10     MAXPAMPIPER  Triple Dribble               BEA\n",
      "11   BEABROCKMR. P   Backyard Bowl               PAM\n",
      "12   BEAMR. PSPIKE   Backyard Bowl               BEA\n",
      "13   BEABROCKMR. P   Backyard Bowl             MR. P\n",
      "14   BEABROCKMR. P   Backyard Bowl             MR. P\n",
      "498\n",
      "14\n"
     ]
    },
    {
     "data": {
      "text/html": [
       "<div>\n",
       "<style scoped>\n",
       "    .dataframe tbody tr th:only-of-type {\n",
       "        vertical-align: middle;\n",
       "    }\n",
       "\n",
       "    .dataframe tbody tr th {\n",
       "        vertical-align: top;\n",
       "    }\n",
       "\n",
       "    .dataframe thead th {\n",
       "        text-align: right;\n",
       "    }\n",
       "</style>\n",
       "<table border=\"1\" class=\"dataframe\">\n",
       "  <thead>\n",
       "    <tr style=\"text-align: right;\">\n",
       "      <th></th>\n",
       "      <th>WinnerTeam_BEAGENEPIPER</th>\n",
       "      <th>map_Backyard Bowl</th>\n",
       "      <th>StarPlayerBrawler</th>\n",
       "    </tr>\n",
       "  </thead>\n",
       "  <tbody>\n",
       "    <tr>\n",
       "      <th>0</th>\n",
       "      <td>1</td>\n",
       "      <td>1</td>\n",
       "      <td>BEA</td>\n",
       "    </tr>\n",
       "    <tr>\n",
       "      <th>1</th>\n",
       "      <td>1</td>\n",
       "      <td>1</td>\n",
       "      <td>BEA</td>\n",
       "    </tr>\n",
       "    <tr>\n",
       "      <th>2</th>\n",
       "      <td>1</td>\n",
       "      <td>1</td>\n",
       "      <td>BEA</td>\n",
       "    </tr>\n",
       "    <tr>\n",
       "      <th>3</th>\n",
       "      <td>1</td>\n",
       "      <td>1</td>\n",
       "      <td>PIPER</td>\n",
       "    </tr>\n",
       "    <tr>\n",
       "      <th>4</th>\n",
       "      <td>1</td>\n",
       "      <td>1</td>\n",
       "      <td>PIPER</td>\n",
       "    </tr>\n",
       "    <tr>\n",
       "      <th>5</th>\n",
       "      <td>1</td>\n",
       "      <td>1</td>\n",
       "      <td>GENE</td>\n",
       "    </tr>\n",
       "    <tr>\n",
       "      <th>6</th>\n",
       "      <td>1</td>\n",
       "      <td>1</td>\n",
       "      <td>PIPER</td>\n",
       "    </tr>\n",
       "    <tr>\n",
       "      <th>7</th>\n",
       "      <td>1</td>\n",
       "      <td>1</td>\n",
       "      <td>PIPER</td>\n",
       "    </tr>\n",
       "    <tr>\n",
       "      <th>8</th>\n",
       "      <td>1</td>\n",
       "      <td>1</td>\n",
       "      <td>GENE</td>\n",
       "    </tr>\n",
       "    <tr>\n",
       "      <th>9</th>\n",
       "      <td>0</td>\n",
       "      <td>0</td>\n",
       "      <td>SANDY</td>\n",
       "    </tr>\n",
       "  </tbody>\n",
       "</table>\n",
       "</div>"
      ],
      "text/plain": [
       "   WinnerTeam_BEAGENEPIPER  map_Backyard Bowl StarPlayerBrawler\n",
       "0                        1                  1               BEA\n",
       "1                        1                  1               BEA\n",
       "2                        1                  1               BEA\n",
       "3                        1                  1             PIPER\n",
       "4                        1                  1             PIPER\n",
       "5                        1                  1              GENE\n",
       "6                        1                  1             PIPER\n",
       "7                        1                  1             PIPER\n",
       "8                        1                  1              GENE\n",
       "9                        0                  0             SANDY"
      ]
     },
     "execution_count": 120,
     "metadata": {},
     "output_type": "execute_result"
    }
   ],
   "source": [
    "dfFinal = pd.DataFrame(columns=[\"WinnerTeam\", \"map\"])\n",
    "dfFinal[\"WinnerTeam\"] = combinedWinnerTeam\n",
    "dfFinal[\"map\"] =df[\"map\"]\n",
    "dfFinal[\"StarPlayerBrawler\"] = df[\"StarPlayerBrawler\"]\n",
    "\n",
    "print(dfFinal.head(15))\n",
    "print(dfFinal[\"WinnerTeam\"].nunique())\n",
    "print(dfFinal[\"map\"].nunique())\n",
    "target = dfFinal.loc[:,\"StarPlayerBrawler\"].copy()\n",
    "dfFinal = pd.get_dummies(dfFinal.loc[:,[\"WinnerTeam\", \"map\"]], dtype = \"uint8\")\n",
    "\n",
    "dfFinal[\"StarPlayerBrawler\"] = target\n",
    "\n",
    "dfFinal[[\"WinnerTeam_BEAGENEPIPER\", \"map_Backyard Bowl\", \"StarPlayerBrawler\"]].head(10)"
   ]
  },
  {
   "cell_type": "markdown",
   "metadata": {},
   "source": [
    "# Creating Model to somehow predict, who's going to be StarPlayer out of the 3 winning players (maybe with stats like accurays, recall and precision?) "
   ]
  },
  {
   "cell_type": "code",
   "execution_count": 104,
   "metadata": {},
   "outputs": [],
   "source": [
    "x_features = dfFinal.loc[:,[x for x in dfFinal.columns if x.startswith(\"WinnerTeam\") or x.startswith(\"map\")]]"
   ]
  },
  {
   "cell_type": "code",
   "execution_count": 121,
   "metadata": {},
   "outputs": [
    {
     "name": "stdout",
     "output_type": "stream",
     "text": [
      "(1113, 512)\n",
      "PAM         128\n",
      "BEA         124\n",
      "BROCK        87\n",
      "EMZ          61\n",
      "SANDY        53\n",
      "PIPER        51\n",
      "MORTIS       46\n",
      "PENNY        45\n",
      "SPROUT       44\n",
      "COLT         44\n",
      "POCO         42\n",
      "BIBI         39\n",
      "GALE         32\n",
      "JACKY        28\n",
      "BO           27\n",
      "MAX          27\n",
      "MR. P        25\n",
      "CROW         25\n",
      "GENE         24\n",
      "SPIKE        21\n",
      "FRANK        19\n",
      "CARL         17\n",
      "NITA         15\n",
      "JESSIE       15\n",
      "TARA         15\n",
      "RICO         15\n",
      "8-BIT        10\n",
      "EL PRIMO      8\n",
      "DARRYL        7\n",
      "LEON          5\n",
      "BULL          5\n",
      "ROSA          4\n",
      "DYNAMIKE      3\n",
      "SHELLY        2\n",
      "Name: StarPlayerBrawler, dtype: int64\n"
     ]
    }
   ],
   "source": [
    "x_features = dfFinal.loc[:,[x for x in dfFinal.columns if x.startswith(\"WinnerTeam\") or x.startswith(\"map\")]]\n",
    "print(x_features.shape)\n",
    "winners = dfFinal.loc[:,[\"StarPlayerBrawler\"]].values.reshape(-1,)\n",
    "\n",
    "print(dfFinal.loc[:,\"StarPlayerBrawler\"].value_counts())"
   ]
  },
  {
   "cell_type": "code",
   "execution_count": 122,
   "metadata": {},
   "outputs": [],
   "source": [
    "tree1 = tree.DecisionTreeClassifier()\n",
    "tree1 = tree1.fit(x_features, winners)"
   ]
  },
  {
   "cell_type": "code",
   "execution_count": 123,
   "metadata": {},
   "outputs": [],
   "source": [
    "tree2 = RandomForestClassifier()\n",
    "tree2 = tree2.fit(x_features, winners)"
   ]
  },
  {
   "cell_type": "code",
   "execution_count": 124,
   "metadata": {},
   "outputs": [
    {
     "name": "stderr",
     "output_type": "stream",
     "text": [
      "C:\\Users\\Sajan\\anaconda3\\lib\\site-packages\\sklearn\\model_selection\\_split.py:667: UserWarning: The least populated class in y has only 2 members, which is less than n_splits=5.\n",
      "  % (min_groups, self.n_splits)), UserWarning)\n"
     ]
    },
    {
     "data": {
      "text/plain": [
       "0.12671999353613703"
      ]
     },
     "execution_count": 124,
     "metadata": {},
     "output_type": "execute_result"
    }
   ],
   "source": [
    "scores = cross_val_score(tree2, x_features, winners, scoring='accuracy')\n",
    "np.mean(scores)"
   ]
  },
  {
   "cell_type": "markdown",
   "metadata": {},
   "source": [
    "Shelly only twice in dataset --> which is less than 5 splits "
   ]
  }
 ],
 "metadata": {
  "kernelspec": {
   "display_name": "Python 3",
   "language": "python",
   "name": "python3"
  },
  "language_info": {
   "codemirror_mode": {
    "name": "ipython",
    "version": 3
   },
   "file_extension": ".py",
   "mimetype": "text/x-python",
   "name": "python",
   "nbconvert_exporter": "python",
   "pygments_lexer": "ipython3",
   "version": "3.7.6"
  }
 },
 "nbformat": 4,
 "nbformat_minor": 4
}
