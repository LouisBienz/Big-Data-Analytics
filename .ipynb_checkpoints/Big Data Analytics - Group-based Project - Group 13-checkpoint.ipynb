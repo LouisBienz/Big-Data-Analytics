{
 "cells": [
  {
   "cell_type": "markdown",
   "metadata": {},
   "source": [
    "# Preleminaries\n",
    "\n",
    "- write intro or I don't know\n",
    "- cell below used for preleminaries, resp. import of possible libraries used in this project\n",
    "- maybe note what our \"analysis question is\""
   ]
  },
  {
   "cell_type": "code",
   "execution_count": 1,
   "metadata": {},
   "outputs": [],
   "source": [
    "import os\n",
    "import pandas as pd # for data stuff\n",
    "import numpy as np # for importing data i think, not sure anymore\n",
    "import matplotlib.pyplot as plt #for plotting\n",
    "\n",
    "# the modules below are used in \"Analys Models\" section\n",
    "from sklearn import svm, datasets\n",
    "from sklearn.model_selection import train_test_split\n",
    "from sklearn.metrics import plot_confusion_matrix\n"
   ]
  },
  {
   "cell_type": "markdown",
   "metadata": {},
   "source": [
    "Install Brawl Stars API with pip\n",
    " - https://brawlstats.readthedocs.io/en/latest/index.html"
   ]
  },
  {
   "cell_type": "code",
   "execution_count": 2,
   "metadata": {},
   "outputs": [
    {
     "name": "stdout",
     "output_type": "stream",
     "text": [
      "Requirement already satisfied: brawlstats in c:\\users\\louis\\anaconda3\\lib\\site-packages (4.0.3)\n",
      "Requirement already satisfied: python-box in c:\\users\\louis\\anaconda3\\lib\\site-packages (from brawlstats) (4.2.3)\n",
      "Requirement already satisfied: requests in c:\\users\\louis\\anaconda3\\lib\\site-packages (from brawlstats) (2.22.0)\n",
      "Requirement already satisfied: cachetools>=3.1.0 in c:\\users\\louis\\anaconda3\\lib\\site-packages (from brawlstats) (4.1.0)\n",
      "Requirement already satisfied: aiohttp<3.7.0,>=3.6.0 in c:\\users\\louis\\anaconda3\\lib\\site-packages (from brawlstats) (3.6.2)\n",
      "Requirement already satisfied: ruamel.yaml in c:\\users\\louis\\anaconda3\\lib\\site-packages (from python-box->brawlstats) (0.16.10)\n",
      "Requirement already satisfied: toml in c:\\users\\louis\\anaconda3\\lib\\site-packages (from python-box->brawlstats) (0.10.1)\n",
      "Requirement already satisfied: chardet<3.1.0,>=3.0.2 in c:\\users\\louis\\anaconda3\\lib\\site-packages (from requests->brawlstats) (3.0.4)\n",
      "Requirement already satisfied: idna<2.9,>=2.5 in c:\\users\\louis\\anaconda3\\lib\\site-packages (from requests->brawlstats) (2.8)\n",
      "Requirement already satisfied: certifi>=2017.4.17 in c:\\users\\louis\\anaconda3\\lib\\site-packages (from requests->brawlstats) (2019.11.28)\n",
      "Requirement already satisfied: urllib3!=1.25.0,!=1.25.1,<1.26,>=1.21.1 in c:\\users\\louis\\anaconda3\\lib\\site-packages (from requests->brawlstats) (1.25.8)\n",
      "Requirement already satisfied: multidict<5.0,>=4.5 in c:\\users\\louis\\anaconda3\\lib\\site-packages (from aiohttp<3.7.0,>=3.6.0->brawlstats) (4.7.6)\n",
      "Requirement already satisfied: yarl<2.0,>=1.0 in c:\\users\\louis\\anaconda3\\lib\\site-packages (from aiohttp<3.7.0,>=3.6.0->brawlstats) (1.4.2)\n",
      "Requirement already satisfied: async-timeout<4.0,>=3.0 in c:\\users\\louis\\anaconda3\\lib\\site-packages (from aiohttp<3.7.0,>=3.6.0->brawlstats) (3.0.1)\n",
      "Requirement already satisfied: attrs>=17.3.0 in c:\\users\\louis\\anaconda3\\lib\\site-packages (from aiohttp<3.7.0,>=3.6.0->brawlstats) (19.3.0)\n",
      "Requirement already satisfied: ruamel.yaml.clib>=0.1.2; platform_python_implementation == \"CPython\" and python_version < \"3.9\" in c:\\users\\louis\\anaconda3\\lib\\site-packages (from ruamel.yaml->python-box->brawlstats) (0.2.0)\n"
     ]
    }
   ],
   "source": [
    "!pip install brawlstats"
   ]
  },
  {
   "cell_type": "markdown",
   "metadata": {},
   "source": [
    "Import brawlstats "
   ]
  },
  {
   "cell_type": "code",
   "execution_count": 3,
   "metadata": {},
   "outputs": [],
   "source": [
    "import brawlstats\n",
    "import time"
   ]
  },
  {
   "cell_type": "markdown",
   "metadata": {},
   "source": [
    "Establish connection with token to Brawl Stars API\n",
    "- create account at: https://developer.brawlstars.com/#/\n",
    "- get ip with: https://www.whatismyip.org/\n",
    "- create API Key on https://developer.brawlstars.com/#/ for your account and your API Key\n",
    "- save API key locally in a file at: ../token_brawlstats.txt (so it is not part of this git repository)"
   ]
  },
  {
   "cell_type": "code",
   "execution_count": 4,
   "metadata": {},
   "outputs": [],
   "source": [
    "path = os.getcwd()\n",
    "os.chdir(\"..\")\n",
    "path_one_up = os.getcwd()\n",
    "os.chdir(path)\n",
    "\n",
    "token_file =  open(os.path.join(path_one_up, \"token_brawlstats.txt\"), 'r')\n",
    "token = token_file.read()\n",
    "\n",
    "client = brawlstats.Client(token)"
   ]
  },
  {
   "cell_type": "code",
   "execution_count": 5,
   "metadata": {
    "scrolled": true
   },
   "outputs": [
    {
     "name": "stdout",
     "output_type": "stream",
     "text": [
      "↻さー͛が↺￤Puu!! (#9U2QJ0P)\n"
     ]
    }
   ],
   "source": [
    "tags_top_200_players = [player[\"tag\"] for player in client.get_rankings(ranking='players', limit=200)]\n",
    "top_200_players = [client.get_player(tag) for tag in tags_top_200_players]\n",
    "\n",
    "    "
   ]
  },
  {
   "cell_type": "code",
   "execution_count": 6,
   "metadata": {},
   "outputs": [
    {
     "name": "stdout",
     "output_type": "stream",
     "text": [
      "[{'id': 16000000, 'name': 'SHELLY', 'power': 10, 'rank': 30, 'trophies': 1001, 'highest_trophies': 1001, 'star_powers': [{'id': 23000076, 'name': 'Shell Shock'}, {'id': 23000135, 'name': 'Band-Aid'}], 'gadgets': [{'id': 23000255, 'name': 'Fast Forward'}]}, {'id': 16000001, 'name': 'COLT', 'power': 10, 'rank': 32, 'trophies': 1102, 'highest_trophies': 1102, 'star_powers': [{'id': 23000077, 'name': 'Slick Boots'}, {'id': 23000138, 'name': 'Magnum Special'}], 'gadgets': [{'id': 23000273, 'name': 'Speedloader'}]}, {'id': 16000002, 'name': 'BULL', 'power': 10, 'rank': 30, 'trophies': 1005, 'highest_trophies': 1005, 'star_powers': [{'id': 23000078, 'name': 'Berserker'}, {'id': 23000137, 'name': 'Tough Guy'}], 'gadgets': [{'id': 23000272, 'name': 'T-Bone Injector'}]}, {'id': 16000003, 'name': 'BROCK', 'power': 10, 'rank': 32, 'trophies': 1101, 'highest_trophies': 1101, 'star_powers': [{'id': 23000079, 'name': 'Incendiary'}, {'id': 23000150, 'name': 'Rocket No. Four'}], 'gadgets': [{'id': 23000245, 'name': 'Rocket Laces'}]}, {'id': 16000004, 'name': 'RICO', 'power': 10, 'rank': 30, 'trophies': 1000, 'highest_trophies': 1008, 'star_powers': [{'id': 23000080, 'name': 'Super Bouncy'}, {'id': 23000156, 'name': 'Robo Retreat'}], 'gadgets': [{'id': 23000246, 'name': 'Multiball Launcher'}]}, {'id': 16000005, 'name': 'SPIKE', 'power': 10, 'rank': 30, 'trophies': 1002, 'highest_trophies': 1002, 'star_powers': [{'id': 23000081, 'name': 'Fertilize'}, {'id': 23000151, 'name': 'Curveball'}], 'gadgets': [{'id': 23000247, 'name': 'Popping Pincushion'}]}, {'id': 16000006, 'name': 'BARLEY', 'power': 10, 'rank': 30, 'trophies': 1005, 'highest_trophies': 1005, 'star_powers': [{'id': 23000082, 'name': 'Medical Use'}, {'id': 23000158, 'name': 'Extra Noxious'}], 'gadgets': [{'id': 23000250, 'name': 'Sticky Syrup Mixer'}]}, {'id': 16000007, 'name': 'JESSIE', 'power': 10, 'rank': 30, 'trophies': 952, 'highest_trophies': 1003, 'star_powers': [{'id': 23000083, 'name': 'Energize'}, {'id': 23000149, 'name': 'Shocky'}], 'gadgets': [{'id': 23000251, 'name': 'Spark Plug'}]}, {'id': 16000008, 'name': 'NITA', 'power': 10, 'rank': 30, 'trophies': 1004, 'highest_trophies': 1004, 'star_powers': [{'id': 23000084, 'name': 'Bear With Me'}, {'id': 23000136, 'name': 'Hyper Bear'}], 'gadgets': [{'id': 23000249, 'name': 'Bear Paws'}]}, {'id': 16000009, 'name': 'DYNAMIKE', 'power': 10, 'rank': 30, 'trophies': 1004, 'highest_trophies': 1004, 'star_powers': [{'id': 23000085, 'name': 'Dyna-Jump'}, {'id': 23000155, 'name': 'Demolition'}], 'gadgets': [{'id': 23000258, 'name': 'Fidget Spinner'}]}, {'id': 16000010, 'name': 'EL PRIMO', 'power': 10, 'rank': 30, 'trophies': 1000, 'highest_trophies': 1000, 'star_powers': [{'id': 23000086, 'name': 'El Fuego'}, {'id': 23000140, 'name': 'Meteor Rush'}], 'gadgets': [{'id': 23000264, 'name': 'Suplex Supplement'}]}, {'id': 16000011, 'name': 'MORTIS', 'power': 10, 'rank': 31, 'trophies': 1020, 'highest_trophies': 1054, 'star_powers': [{'id': 23000087, 'name': 'Creepy Harvest'}, {'id': 23000154, 'name': 'Coiled Snake'}], 'gadgets': [{'id': 23000265, 'name': 'Combo Spinner'}]}, {'id': 16000012, 'name': 'CROW', 'power': 10, 'rank': 30, 'trophies': 924, 'highest_trophies': 1005, 'star_powers': [{'id': 23000088, 'name': 'Extra Toxic'}, {'id': 23000143, 'name': 'Carrion Crow'}], 'gadgets': [{'id': 23000243, 'name': 'Defense Booster'}]}, {'id': 16000013, 'name': 'POCO', 'power': 10, 'rank': 30, 'trophies': 1004, 'highest_trophies': 1004, 'star_powers': [{'id': 23000089, 'name': 'Da Capo!'}, {'id': 23000144, 'name': 'Screeching Solo'}], 'gadgets': [{'id': 23000267, 'name': 'Tuning Fork'}]}, {'id': 16000014, 'name': 'BO', 'power': 10, 'rank': 30, 'trophies': 967, 'highest_trophies': 1000, 'star_powers': [{'id': 23000090, 'name': 'Circling Eagle'}, {'id': 23000148, 'name': 'Snare a Bear'}], 'gadgets': [{'id': 23000263, 'name': 'Super Totem'}]}, {'id': 16000015, 'name': 'PIPER', 'power': 10, 'rank': 32, 'trophies': 1040, 'highest_trophies': 1148, 'star_powers': [{'id': 23000091, 'name': 'Ambush'}, {'id': 23000152, 'name': 'Snappy Sniping'}], 'gadgets': [{'id': 23000268, 'name': 'Auto Aimer'}]}, {'id': 16000016, 'name': 'PAM', 'power': 10, 'rank': 30, 'trophies': 1003, 'highest_trophies': 1003, 'star_powers': [{'id': 23000092, 'name': \"Mama's Hug\"}, {'id': 23000139, 'name': \"Mama's Squeeze\"}], 'gadgets': [{'id': 23000257, 'name': 'Pulse Modulator'}]}, {'id': 16000017, 'name': 'TARA', 'power': 10, 'rank': 30, 'trophies': 1002, 'highest_trophies': 1005, 'star_powers': [{'id': 23000093, 'name': 'Black Portal'}, {'id': 23000160, 'name': 'Healing Shade'}], 'gadgets': [{'id': 23000266, 'name': 'Psychic Enhancer'}]}, {'id': 16000018, 'name': 'DARRYL', 'power': 10, 'rank': 30, 'trophies': 1005, 'highest_trophies': 1010, 'star_powers': [{'id': 23000094, 'name': 'Steel Hoops'}, {'id': 23000157, 'name': 'Rolling Reload'}], 'gadgets': [{'id': 23000260, 'name': 'Recoiling Rotator'}]}, {'id': 16000019, 'name': 'PENNY', 'power': 10, 'rank': 32, 'trophies': 1100, 'highest_trophies': 1100, 'star_powers': [{'id': 23000099, 'name': 'Last Blast'}, {'id': 23000142, 'name': 'Balls of Fire'}], 'gadgets': [{'id': 23000248, 'name': 'Pocket Detonator'}]}, {'id': 16000020, 'name': 'FRANK', 'power': 10, 'rank': 30, 'trophies': 912, 'highest_trophies': 1005, 'star_powers': [{'id': 23000104, 'name': 'Power Grab'}, {'id': 23000153, 'name': 'Sponge'}], 'gadgets': [{'id': 23000261, 'name': 'Active Noise Canceling'}]}, {'id': 16000021, 'name': 'GENE', 'power': 10, 'rank': 32, 'trophies': 1104, 'highest_trophies': 1104, 'star_powers': [{'id': 23000109, 'name': 'Magic Puffs'}, {'id': 23000159, 'name': 'Spirit Slap'}], 'gadgets': [{'id': 23000252, 'name': 'Lamp Blowout'}]}, {'id': 16000022, 'name': 'TICK', 'power': 10, 'rank': 30, 'trophies': 910, 'highest_trophies': 1002, 'star_powers': [{'id': 23000114, 'name': 'Well Oiled'}, {'id': 23000161, 'name': 'Automa-Tick Reload'}], 'gadgets': [{'id': 23000253, 'name': 'Backup Mine'}]}, {'id': 16000023, 'name': 'LEON', 'power': 10, 'rank': 30, 'trophies': 1002, 'highest_trophies': 1002, 'star_powers': [{'id': 23000119, 'name': 'Smoke Trails'}, {'id': 23000141, 'name': 'Invisiheal'}], 'gadgets': [{'id': 23000276, 'name': 'Clone Projector'}]}, {'id': 16000024, 'name': 'ROSA', 'power': 10, 'rank': 30, 'trophies': 1003, 'highest_trophies': 1003, 'star_powers': [{'id': 23000124, 'name': 'Plant Life'}, {'id': 23000147, 'name': 'Thorny Gloves'}], 'gadgets': [{'id': 23000242, 'name': 'Grow Light'}]}, {'id': 16000025, 'name': 'CARL', 'power': 10, 'rank': 30, 'trophies': 905, 'highest_trophies': 1003, 'star_powers': [{'id': 23000129, 'name': 'Power Throw'}, {'id': 23000145, 'name': 'Protective Pirouette'}], 'gadgets': [{'id': 23000262, 'name': 'Heat Ejector'}]}, {'id': 16000026, 'name': 'BIBI', 'power': 10, 'rank': 32, 'trophies': 1101, 'highest_trophies': 1101, 'star_powers': [{'id': 23000134, 'name': 'Home Run'}, {'id': 23000146, 'name': 'Batting Stance'}], 'gadgets': [{'id': 23000275, 'name': 'Vitamin Booster'}]}, {'id': 16000027, 'name': '8-BIT', 'power': 10, 'rank': 30, 'trophies': 1005, 'highest_trophies': 1005, 'star_powers': [{'id': 23000168, 'name': 'Boosted Booster'}, {'id': 23000181, 'name': 'Extra Life'}], 'gadgets': [{'id': 23000259, 'name': 'Cheat Cartridge'}]}, {'id': 16000028, 'name': 'SANDY', 'power': 10, 'rank': 30, 'trophies': 1000, 'highest_trophies': 1000, 'star_powers': [{'id': 23000186, 'name': 'Rude Sands'}, {'id': 23000187, 'name': 'Healing Winds'}], 'gadgets': [{'id': 23000270, 'name': 'Sleep Stimulator'}]}, {'id': 16000029, 'name': 'BEA', 'power': 10, 'rank': 30, 'trophies': 916, 'highest_trophies': 1004, 'star_powers': [{'id': 23000192, 'name': 'Insta Beeload'}, {'id': 23000193, 'name': 'Honey Coat'}], 'gadgets': [{'id': 23000271, 'name': 'Honey Molasses'}]}, {'id': 16000030, 'name': 'EMZ', 'power': 10, 'rank': 32, 'trophies': 1141, 'highest_trophies': 1141, 'star_powers': [{'id': 23000198, 'name': 'Bad Karma'}, {'id': 23000199, 'name': 'Hype'}], 'gadgets': [{'id': 23000274, 'name': 'Friendzoner'}]}, {'id': 16000031, 'name': 'MR. P', 'power': 10, 'rank': 30, 'trophies': 905, 'highest_trophies': 1000, 'star_powers': [{'id': 23000204, 'name': 'Handle With Care'}, {'id': 23000205, 'name': 'Tin Can'}], 'gadgets': [{'id': 23000269, 'name': 'Service Bell'}]}, {'id': 16000032, 'name': 'MAX', 'power': 10, 'rank': 30, 'trophies': 1005, 'highest_trophies': 1016, 'star_powers': [{'id': 23000210, 'name': 'Super Charged'}, {'id': 23000211, 'name': \"Run n' Gun\"}], 'gadgets': [{'id': 23000254, 'name': 'Phase Shifter'}]}, {'id': 16000034, 'name': 'JACKY', 'power': 10, 'rank': 33, 'trophies': 1005, 'highest_trophies': 1151, 'star_powers': [{'id': 23000222, 'name': 'COUNTER CRUSH'}, {'id': 23000223, 'name': 'HARDY HARD HAT'}], 'gadgets': [{'id': 23000256, 'name': 'Pneumatic Booster'}]}, {'id': 16000035, 'name': 'GALE', 'power': 10, 'rank': 28, 'trophies': 930, 'highest_trophies': 930, 'star_powers': [{'id': 23000228, 'name': 'Blustery Blow'}], 'gadgets': [{'id': 23000277, 'name': 'Spring Ejector'}]}, {'id': 16000037, 'name': 'SPROUT', 'power': 10, 'rank': 33, 'trophies': 1160, 'highest_trophies': 1160, 'star_powers': [{'id': 23000240, 'name': 'OVERGROWTH'}, {'id': 23000241, 'name': 'PHOTOSYNTHESIS'}], 'gadgets': [{'id': 23000244, 'name': 'Garden Mulcher'}]}]\n"
     ]
    }
   ],
   "source": [
    "print(top_200_players[0].brawlers)"
   ]
  },
  {
   "cell_type": "markdown",
   "metadata": {},
   "source": [
    "# Data Collection\n",
    "\n",
    "- write here what we did for data collection"
   ]
  },
  {
   "cell_type": "code",
   "execution_count": null,
   "metadata": {},
   "outputs": [],
   "source": [
    "print(\"Todo: import data etc.\")"
   ]
  },
  {
   "cell_type": "markdown",
   "metadata": {},
   "source": [
    "# Data Processing\n",
    "- maybe just plot the data, see if there is somethin weird"
   ]
  },
  {
   "cell_type": "code",
   "execution_count": null,
   "metadata": {},
   "outputs": [],
   "source": [
    "print(\"whatever this is\")"
   ]
  },
  {
   "cell_type": "markdown",
   "metadata": {},
   "source": [
    "# Data Cleaning\n",
    "\n",
    "- maybe write down what we figured out and how we got rid of it"
   ]
  },
  {
   "cell_type": "code",
   "execution_count": null,
   "metadata": {},
   "outputs": [],
   "source": [
    "print(\"Is e dreckig, musse putze\")"
   ]
  },
  {
   "cell_type": "markdown",
   "metadata": {},
   "source": [
    "# Preparation for Model Building\n",
    "\n",
    "- do some stratification perhaps"
   ]
  },
  {
   "cell_type": "code",
   "execution_count": null,
   "metadata": {},
   "outputs": [],
   "source": [
    "print(\"stratify data for training purposes\")"
   ]
  },
  {
   "cell_type": "markdown",
   "metadata": {},
   "source": [
    "# Train Model"
   ]
  },
  {
   "cell_type": "code",
   "execution_count": null,
   "metadata": {},
   "outputs": [],
   "source": [
    "print(\"run code which uses train data to train the model\")"
   ]
  },
  {
   "cell_type": "markdown",
   "metadata": {},
   "source": [
    "# Test Model"
   ]
  },
  {
   "cell_type": "code",
   "execution_count": null,
   "metadata": {},
   "outputs": [],
   "source": [
    "print(\"run code to test the model\")"
   ]
  },
  {
   "cell_type": "markdown",
   "metadata": {},
   "source": [
    "# Analyse Model\n",
    "\n",
    "- probably some plots will be excpected"
   ]
  },
  {
   "cell_type": "code",
   "execution_count": null,
   "metadata": {},
   "outputs": [],
   "source": [
    "\n",
    "\n",
    "\n",
    "# import some data to play with\n",
    "iris = datasets.load_iris()\n",
    "X = iris.data\n",
    "y = iris.target\n",
    "class_names = iris.target_names\n",
    "\n",
    "# Split the data into a training set and a test set\n",
    "X_train, X_test, y_train, y_test = train_test_split(X, y, random_state=0)\n",
    "\n",
    "# Run classifier, using a model that is too regularized (C too low) to see\n",
    "# the impact on the results\n",
    "classifier = svm.SVC(kernel='linear', C=0.01).fit(X_train, y_train)\n",
    "\n",
    "np.set_printoptions(precision=2)\n",
    "\n",
    "# Plot non-normalized confusion matrix\n",
    "titles_options = [(\"Confusion matrix, without normalization\", None),\n",
    "                  (\"Normalized confusion matrix\", 'true')]\n",
    "for title, normalize in titles_options:\n",
    "    disp = plot_confusion_matrix(classifier, X_test, y_test,\n",
    "                                 display_labels=class_names,\n",
    "                                 cmap=plt.cm.Blues,\n",
    "                                 normalize=normalize)\n",
    "    disp.ax_.set_title(title)\n",
    "\n",
    "    print(title)\n",
    "    print(disp.confusion_matrix)\n",
    "\n",
    "plt.show()"
   ]
  },
  {
   "cell_type": "markdown",
   "metadata": {},
   "source": [
    "# Visualize results"
   ]
  },
  {
   "cell_type": "code",
   "execution_count": null,
   "metadata": {},
   "outputs": [],
   "source": [
    "print(\"some very nice plots like the ones above\")"
   ]
  },
  {
   "cell_type": "markdown",
   "metadata": {},
   "source": [
    "# Discussion or whatever\n",
    "\n",
    "- write down our insights or maybe do some further coding in the cell below"
   ]
  },
  {
   "cell_type": "code",
   "execution_count": null,
   "metadata": {},
   "outputs": [],
   "source": [
    "print(\"finally, done with this\")"
   ]
  },
  {
   "cell_type": "code",
   "execution_count": null,
   "metadata": {},
   "outputs": [],
   "source": []
  }
 ],
 "metadata": {
  "kernelspec": {
   "display_name": "Python 3",
   "language": "python",
   "name": "python3"
  },
  "language_info": {
   "codemirror_mode": {
    "name": "ipython",
    "version": 3
   },
   "file_extension": ".py",
   "mimetype": "text/x-python",
   "name": "python",
   "nbconvert_exporter": "python",
   "pygments_lexer": "ipython3",
   "version": "3.7.6"
  }
 },
 "nbformat": 4,
 "nbformat_minor": 4
}
