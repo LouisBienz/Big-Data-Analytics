{
 "cells": [
  {
   "cell_type": "markdown",
   "metadata": {},
   "source": [
    "# Model 3: Who is going to be the Starplayer of the WinningTeam in Brawlball matches?"
   ]
  },
  {
   "cell_type": "markdown",
   "metadata": {},
   "source": [
    "The goal of this task is to predict the \"StarPlayerBrawler\" of the WinningTeam in the mode \"BrawlBall\". \n",
    "\n",
    "- 1. We need to read out the Brawlers of the winning team, since the Starplayer can only come from the winning team\n",
    "- 2. The attributes \"WinnerTeam\", \"map\" and the \"StarPlayerBrawler\" of the match needs to to be encoded to perform a classification. The idea is that \"WinnerTeam\" and \"map\" defines the target attribute \"StarPlayerBrawler\"\n",
    "- 3. We will try to predict the \"StarPlayerBrawler\" of the match with a RandomForestClassifier and interpret the result"
   ]
  },
  {
   "cell_type": "code",
   "execution_count": 2,
   "metadata": {},
   "outputs": [],
   "source": [
    "import pandas as pd\n",
    "from sklearn import tree\n",
    "from sklearn.preprocessing import LabelEncoder\n",
    "from sklearn.model_selection import cross_val_score\n",
    "import numpy as np\n",
    "from sklearn.ensemble import RandomForestClassifier\n",
    "from operator import itemgetter"
   ]
  },
  {
   "cell_type": "markdown",
   "metadata": {},
   "source": [
    "# Reading the Dataset"
   ]
  },
  {
   "cell_type": "code",
   "execution_count": 3,
   "metadata": {},
   "outputs": [],
   "source": [
    "df = pd.read_csv(\"rawdata.csv\")"
   ]
  },
  {
   "cell_type": "markdown",
   "metadata": {},
   "source": [
    "# Appending Winners"
   ]
  },
  {
   "cell_type": "markdown",
   "metadata": {},
   "source": [
    "As mentioned, Brawlball is 3 vs 3 player mode. Since the \"StarplayerBrawler\" can only come from the WinnerTeam, we only need to consider the Winners. \n",
    "As a first step, we will append the BrawlerNames of the Winner group of each row in a list:"
   ]
  },
  {
   "cell_type": "code",
   "execution_count": 4,
   "metadata": {},
   "outputs": [
    {
     "name": "stdout",
     "output_type": "stream",
     "text": [
      "[['BEA', 'GENE', 'PIPER'], ['BEA', 'GENE', 'PIPER'], ['BEA', 'GENE', 'PIPER'], ['BEA', 'GENE', 'PIPER'], ['BEA', 'GENE', 'PIPER'], ['BEA', 'GENE', 'PIPER'], ['BEA', 'GENE', 'PIPER'], ['BEA', 'GENE', 'PIPER'], ['BEA', 'GENE', 'PIPER'], ['GENE', 'SANDY', 'SPIKE']]\n",
      "['BEAGENEPIPER', 'BEAGENEPIPER', 'BEAGENEPIPER', 'BEAGENEPIPER', 'BEAGENEPIPER', 'BEAGENEPIPER', 'BEAGENEPIPER', 'BEAGENEPIPER', 'BEAGENEPIPER', 'GENESANDYSPIKE']\n"
     ]
    }
   ],
   "source": [
    "WinnerTeam = []\n",
    "\n",
    "for index, row in df.iterrows():\n",
    "    winners = []\n",
    "    \n",
    "    if row[\"WinningTeam\"] == 1 and row[\"result\"] != 0:\n",
    "        winners.append(row[\"Brawler1Name\"])\n",
    "        winners.append(row[\"Brawler2Name\"])\n",
    "        winners.append(row[\"Brawler3Name\"])\n",
    "        \n",
    "    \n",
    "    elif row[\"result\"] != 0:\n",
    "        winners.append(row[\"Brawler4Name\"])\n",
    "        winners.append(row[\"Brawler5Name\"])\n",
    "        winners.append(row[\"Brawler6Name\"])\n",
    "    \n",
    "    if len(winners) != 0:\n",
    "        winners = sorted(winners)\n",
    "        WinnerTeam.append(winners)\n",
    "\n",
    "print(WinnerTeam[:10])\n",
    "\n",
    "combinedWinnerTeam = []\n",
    "    \n",
    "for i in range(len(WinnerTeam)):\n",
    "    winners = \"\"\n",
    "    winners = winners + WinnerTeam[i][0]\n",
    "    winners = winners + WinnerTeam[i][1]\n",
    "    winners = winners + WinnerTeam[i][2]\n",
    "    combinedWinnerTeam.append(winners)\n",
    "    \n",
    "print(combinedWinnerTeam[:10])"
   ]
  },
  {
   "cell_type": "markdown",
   "metadata": {},
   "source": [
    "# Creating a binary classification table"
   ]
  },
  {
   "cell_type": "markdown",
   "metadata": {},
   "source": [
    "In order to predict the \"StarPlayerBrawler\", we need to transform the data to numerical type since sklearn cannot handle nominal input values properly. This will be done by converting the input data to a binary table. For each team and map constellation, there is 0 (false) or 1 (true) label. "
   ]
  },
  {
   "cell_type": "code",
   "execution_count": 5,
   "metadata": {},
   "outputs": [
    {
     "name": "stdout",
     "output_type": "stream",
     "text": [
      "       WinnerTeam             map StarPlayerBrawler\n",
      "0    BEAGENEPIPER   Backyard Bowl               BEA\n",
      "1    BEAGENEPIPER   Backyard Bowl               BEA\n",
      "2    BEAGENEPIPER   Backyard Bowl               BEA\n",
      "3    BEAGENEPIPER   Backyard Bowl             PIPER\n",
      "4    BEAGENEPIPER   Backyard Bowl             PIPER\n",
      "5    BEAGENEPIPER   Backyard Bowl              GENE\n",
      "6    BEAGENEPIPER   Backyard Bowl             PIPER\n",
      "7    BEAGENEPIPER   Backyard Bowl             PIPER\n",
      "8    BEAGENEPIPER   Backyard Bowl              GENE\n",
      "9  GENESANDYSPIKE  Triple Dribble             SANDY\n"
     ]
    },
    {
     "data": {
      "text/html": [
       "<div>\n",
       "<style scoped>\n",
       "    .dataframe tbody tr th:only-of-type {\n",
       "        vertical-align: middle;\n",
       "    }\n",
       "\n",
       "    .dataframe tbody tr th {\n",
       "        vertical-align: top;\n",
       "    }\n",
       "\n",
       "    .dataframe thead th {\n",
       "        text-align: right;\n",
       "    }\n",
       "</style>\n",
       "<table border=\"1\" class=\"dataframe\">\n",
       "  <thead>\n",
       "    <tr style=\"text-align: right;\">\n",
       "      <th></th>\n",
       "      <th>WinnerTeam_BEAGENEPIPER</th>\n",
       "      <th>map_Backyard Bowl</th>\n",
       "      <th>StarPlayerBrawler</th>\n",
       "    </tr>\n",
       "  </thead>\n",
       "  <tbody>\n",
       "    <tr>\n",
       "      <th>0</th>\n",
       "      <td>1</td>\n",
       "      <td>1</td>\n",
       "      <td>BEA</td>\n",
       "    </tr>\n",
       "    <tr>\n",
       "      <th>1</th>\n",
       "      <td>1</td>\n",
       "      <td>1</td>\n",
       "      <td>BEA</td>\n",
       "    </tr>\n",
       "    <tr>\n",
       "      <th>2</th>\n",
       "      <td>1</td>\n",
       "      <td>1</td>\n",
       "      <td>BEA</td>\n",
       "    </tr>\n",
       "    <tr>\n",
       "      <th>3</th>\n",
       "      <td>1</td>\n",
       "      <td>1</td>\n",
       "      <td>PIPER</td>\n",
       "    </tr>\n",
       "    <tr>\n",
       "      <th>4</th>\n",
       "      <td>1</td>\n",
       "      <td>1</td>\n",
       "      <td>PIPER</td>\n",
       "    </tr>\n",
       "    <tr>\n",
       "      <th>5</th>\n",
       "      <td>1</td>\n",
       "      <td>1</td>\n",
       "      <td>GENE</td>\n",
       "    </tr>\n",
       "    <tr>\n",
       "      <th>6</th>\n",
       "      <td>1</td>\n",
       "      <td>1</td>\n",
       "      <td>PIPER</td>\n",
       "    </tr>\n",
       "    <tr>\n",
       "      <th>7</th>\n",
       "      <td>1</td>\n",
       "      <td>1</td>\n",
       "      <td>PIPER</td>\n",
       "    </tr>\n",
       "    <tr>\n",
       "      <th>8</th>\n",
       "      <td>1</td>\n",
       "      <td>1</td>\n",
       "      <td>GENE</td>\n",
       "    </tr>\n",
       "    <tr>\n",
       "      <th>9</th>\n",
       "      <td>0</td>\n",
       "      <td>0</td>\n",
       "      <td>SANDY</td>\n",
       "    </tr>\n",
       "  </tbody>\n",
       "</table>\n",
       "</div>"
      ],
      "text/plain": [
       "   WinnerTeam_BEAGENEPIPER  map_Backyard Bowl StarPlayerBrawler\n",
       "0                        1                  1               BEA\n",
       "1                        1                  1               BEA\n",
       "2                        1                  1               BEA\n",
       "3                        1                  1             PIPER\n",
       "4                        1                  1             PIPER\n",
       "5                        1                  1              GENE\n",
       "6                        1                  1             PIPER\n",
       "7                        1                  1             PIPER\n",
       "8                        1                  1              GENE\n",
       "9                        0                  0             SANDY"
      ]
     },
     "execution_count": 5,
     "metadata": {},
     "output_type": "execute_result"
    }
   ],
   "source": [
    "dfFinal = pd.DataFrame(columns=[\"WinnerTeam\", \"map\"])\n",
    "dfFinal[\"WinnerTeam\"] = combinedWinnerTeam\n",
    "dfFinal[\"map\"] =df[\"map\"]\n",
    "dfFinal[\"StarPlayerBrawler\"] = df[\"StarPlayerBrawler\"]\n",
    "\n",
    "print(dfFinal.head(10))\n",
    "#print(dfFinal[\"WinnerTeam\"].nunique())\n",
    "#print(dfFinal[\"map\"].nunique())\n",
    "\n",
    "target = dfFinal.loc[:,\"StarPlayerBrawler\"].copy()\n",
    "dfFinal = pd.get_dummies(dfFinal.loc[:,[\"WinnerTeam\", \"map\"]], dtype = \"uint8\")\n",
    "\n",
    "dfFinal[\"StarPlayerBrawler\"] = target\n",
    "\n",
    "dfFinal[[\"WinnerTeam_BEAGENEPIPER\", \"map_Backyard Bowl\", \"StarPlayerBrawler\"]].head(10)"
   ]
  },
  {
   "cell_type": "markdown",
   "metadata": {},
   "source": [
    "This table returns only a small subset of the whole table. The full table consists of 1113 rows and 513 columns, since every team constellation needs to be represented in this binary classification table. This will be used to create a model in the next part. "
   ]
  },
  {
   "cell_type": "markdown",
   "metadata": {},
   "source": [
    "# Model Creation "
   ]
  },
  {
   "cell_type": "code",
   "execution_count": 6,
   "metadata": {},
   "outputs": [],
   "source": [
    "x_features = dfFinal.loc[:,[x for x in dfFinal.columns if x.startswith(\"WinnerTeam\") or x.startswith(\"map\")]]\n",
    "winners = dfFinal.loc[:,[\"StarPlayerBrawler\"]].values.reshape(-1,)"
   ]
  },
  {
   "cell_type": "code",
   "execution_count": 7,
   "metadata": {},
   "outputs": [],
   "source": [
    "tree1 = tree.DecisionTreeClassifier()\n",
    "tree1 = tree1.fit(x_features, winners)"
   ]
  },
  {
   "cell_type": "code",
   "execution_count": 8,
   "metadata": {},
   "outputs": [],
   "source": [
    "tree2 = RandomForestClassifier()\n",
    "tree2 = tree2.fit(x_features, winners)"
   ]
  },
  {
   "cell_type": "code",
   "execution_count": 9,
   "metadata": {},
   "outputs": [
    {
     "name": "stderr",
     "output_type": "stream",
     "text": [
      "C:\\Users\\Sajan\\anaconda3\\lib\\site-packages\\sklearn\\model_selection\\_split.py:667: UserWarning: The least populated class in y has only 2 members, which is less than n_splits=5.\n",
      "  % (min_groups, self.n_splits)), UserWarning)\n"
     ]
    },
    {
     "data": {
      "text/plain": [
       "0.12132670787379307"
      ]
     },
     "execution_count": 9,
     "metadata": {},
     "output_type": "execute_result"
    }
   ],
   "source": [
    "scores = cross_val_score(tree1, x_features, winners, scoring='accuracy')\n",
    "np.mean(scores)"
   ]
  },
  {
   "cell_type": "code",
   "execution_count": 10,
   "metadata": {},
   "outputs": [
    {
     "name": "stderr",
     "output_type": "stream",
     "text": [
      "C:\\Users\\Sajan\\anaconda3\\lib\\site-packages\\sklearn\\model_selection\\_split.py:667: UserWarning: The least populated class in y has only 2 members, which is less than n_splits=5.\n",
      "  % (min_groups, self.n_splits)), UserWarning)\n"
     ]
    },
    {
     "data": {
      "text/plain": [
       "0.1213347877025007"
      ]
     },
     "execution_count": 10,
     "metadata": {},
     "output_type": "execute_result"
    }
   ],
   "source": [
    "scores = cross_val_score(tree2, x_features, winners, scoring='accuracy')\n",
    "np.mean(scores)"
   ]
  },
  {
   "cell_type": "markdown",
   "metadata": {},
   "source": [
    "The accuracy of our model is around 12.5% with a RandomForestClassifier, which is rather bad. \n",
    "\n",
    "To analyse the cause of this warning, we need to have a look on the number of Starplayer counts for each character: "
   ]
  },
  {
   "cell_type": "code",
   "execution_count": 14,
   "metadata": {},
   "outputs": [
    {
     "name": "stdout",
     "output_type": "stream",
     "text": [
      "PAM         128\n",
      "BEA         124\n",
      "BROCK        87\n",
      "EMZ          61\n",
      "SANDY        53\n",
      "PIPER        51\n",
      "MORTIS       46\n",
      "PENNY        45\n",
      "SPROUT       44\n",
      "COLT         44\n",
      "POCO         42\n",
      "BIBI         39\n",
      "GALE         32\n",
      "JACKY        28\n",
      "BO           27\n",
      "MAX          27\n",
      "MR. P        25\n",
      "CROW         25\n",
      "GENE         24\n",
      "SPIKE        21\n",
      "FRANK        19\n",
      "CARL         17\n",
      "NITA         15\n",
      "JESSIE       15\n",
      "TARA         15\n",
      "RICO         15\n",
      "8-BIT        10\n",
      "EL PRIMO      8\n",
      "DARRYL        7\n",
      "LEON          5\n",
      "BULL          5\n",
      "ROSA          4\n",
      "DYNAMIKE      3\n",
      "SHELLY        2\n",
      "Name: StarPlayerBrawler, dtype: int64\n"
     ]
    }
   ],
   "source": [
    "print(dfFinal.loc[:,\"StarPlayerBrawler\"].value_counts())"
   ]
  },
  {
   "cell_type": "markdown",
   "metadata": {},
   "source": [
    "Three Brawlers (class) in y have less than 5 occurences, which is less than n_splits=5 for the RandomForestClassifier. As an optimization problem, one could try to set a minimum occurence (e.g. 10). This could help to get a better performance & accurracy"
   ]
  }
 ],
 "metadata": {
  "kernelspec": {
   "display_name": "Python 3",
   "language": "python",
   "name": "python3"
  },
  "language_info": {
   "codemirror_mode": {
    "name": "ipython",
    "version": 3
   },
   "file_extension": ".py",
   "mimetype": "text/x-python",
   "name": "python",
   "nbconvert_exporter": "python",
   "pygments_lexer": "ipython3",
   "version": "3.7.6"
  }
 },
 "nbformat": 4,
 "nbformat_minor": 4
}
